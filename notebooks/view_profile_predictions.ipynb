{
 "cells": [
  {
   "cell_type": "code",
   "execution_count": 1,
   "metadata": {},
   "outputs": [],
   "source": [
    "import sys\n",
    "import os\n",
    "sys.path.append(os.path.abspath(\"../src/\"))\n",
    "import extract.data_loading as data_loading\n",
    "import extract.compute_predictions as compute_predictions\n",
    "import extract.compute_shap as compute_shap\n",
    "import extract.compute_ism as compute_ism\n",
    "import model.util as model_util\n",
    "import model.profile_models as profile_models\n",
    "import model.train_profile_model as train_profile_model\n",
    "import plot.viz_sequence as viz_sequence\n",
    "import torch\n",
    "import numpy as np\n",
    "import matplotlib.pyplot as plt\n",
    "import json"
   ]
  },
  {
   "cell_type": "markdown",
   "metadata": {},
   "source": [
    "### Define paths for the model and data of interest"
   ]
  },
  {
   "cell_type": "code",
   "execution_count": 6,
   "metadata": {},
   "outputs": [],
   "source": [
    "# Shared paths/constants\n",
    "reference_fasta = \"/users/amtseng/genomes/hg38.fasta\"\n",
    "chrom_sizes = \"/users/amtseng/genomes/hg38.canon.chrom.sizes\"\n",
    "data_base_path = \"/users/amtseng/att_priors/data/processed/\"\n",
    "model_base_path = \"/users/amtseng/att_priors/models/trained_models/profile/\"\n",
    "chrom_set = [\"chr1\"]\n",
    "input_length = 1346\n",
    "profile_length = 1000\n",
    "fourier_att_prior_freq_limit = 200\n",
    "fourier_att_prior_freq_limit_softness = 0.2\n",
    "att_prior_grad_smooth_sigma = 3"
   ]
  },
  {
   "cell_type": "code",
   "execution_count": null,
   "metadata": {},
   "outputs": [],
   "source": [
    "# SPI1\n",
    "files_spec_path = os.path.join(data_base_path, \"ENCODE_TFChIP/profile/config/SPI1/SPI1_training_paths.json\")\n",
    "num_tasks = 4\n",
    "num_strands = 2\n",
    "controls = \"matched\"\n",
    "model_class = profile_models.ProfilePredictorWithMatchedControls\n",
    "noprior_model_path = os.path.join(model_base_path, \"SPI1_keep1/20/model_ckpt_epoch_20.pt\")\n",
    "prior_model_path = os.path.join(model_base_path, \"SPI1_prior_keep1/15/model_ckpt_epoch_20.pt\")"
   ]
  },
  {
   "cell_type": "code",
   "execution_count": 7,
   "metadata": {},
   "outputs": [],
   "source": [
    "# SPI1\n",
    "files_spec_path = os.path.join(data_base_path, \"ENCODE_TFChIP/profile/config/SPI1/SPI1_training_paths.json\")\n",
    "num_tasks = 4\n",
    "num_strands = 2\n",
    "controls = \"matched\"\n",
    "model_class = profile_models.ProfilePredictorWithMatchedControls\n",
    "noprior_model_path = os.path.join(model_base_path, \"SPI1_keep05/1/model_ckpt_epoch_20.pt\")\n",
    "prior_model_path = os.path.join(model_base_path, \"SPI1_prior_keep05/1/model_ckpt_epoch_20.pt\")"
   ]
  },
  {
   "cell_type": "code",
   "execution_count": null,
   "metadata": {},
   "outputs": [],
   "source": [
    "# GATA2\n",
    "files_spec_path = os.path.join(data_base_path, \"ENCODE_TFChIP/profile/config/GATA2/GATA2_training_paths.json\")\n",
    "num_tasks = 3\n",
    "num_strands = 2\n",
    "controls = \"matched\"\n",
    "model_class = profile_models.ProfilePredictorWithMatchedControls\n",
    "noprior_model_path = os.path.join(model_base_path, \"GATA2/1/model_ckpt_epoch_13.pt\")\n",
    "prior_model_path = os.path.join(model_base_path, \"GATA2_prior/5/model_ckpt_epoch_17.pt\")"
   ]
  },
  {
   "cell_type": "code",
   "execution_count": null,
   "metadata": {},
   "outputs": [],
   "source": [
    "# GATA2\n",
    "files_spec_path = os.path.join(data_base_path, \"ENCODE_TFChIP/profile/config/GATA2/GATA2_training_paths.json\")\n",
    "num_tasks = 3\n",
    "num_strands = 2\n",
    "controls = \"matched\"\n",
    "model_class = profile_models.ProfilePredictorWithMatchedControls\n",
    "noprior_model_path = os.path.join(model_base_path, \"GATA2_keep1/23/model_ckpt_epoch_15.pt\")\n",
    "prior_model_path = os.path.join(model_base_path, \"GATA2_prior_keep1/26/model_ckpt_epoch_20.pt\")"
   ]
  },
  {
   "cell_type": "code",
   "execution_count": null,
   "metadata": {},
   "outputs": [],
   "source": [
    "# K562\n",
    "files_spec_path = os.path.join(data_base_path, \"ENCODE_DNase/profile/config/K562/K562_training_paths.json\")\n",
    "num_tasks = 1\n",
    "num_strands = 1\n",
    "controls = \"shared\"\n",
    "model_class = profile_models.ProfilePredictorWithSharedControls\n",
    "noprior_model_path = os.path.join(model_base_path, \"K562/1/model_ckpt_epoch_9.pt\")\n",
    "prior_model_path = os.path.join(model_base_path, \"K562_prior/2/model_ckpt_epoch_10.pt\")"
   ]
  },
  {
   "cell_type": "code",
   "execution_count": 4,
   "metadata": {},
   "outputs": [],
   "source": [
    "torch.set_grad_enabled(True)\n",
    "device = torch.device(\"cuda\") if torch.cuda.is_available() else torch.device(\"cpu\")\n",
    "def restore_model(model_path):\n",
    "    model = model_util.restore_model(model_class, model_path)\n",
    "    model.eval()\n",
    "    model = model.to(device)\n",
    "    return model"
   ]
  },
  {
   "cell_type": "code",
   "execution_count": 8,
   "metadata": {},
   "outputs": [],
   "source": [
    "# Import the model without priors\n",
    "noprior_model = restore_model(noprior_model_path)"
   ]
  },
  {
   "cell_type": "code",
   "execution_count": 9,
   "metadata": {},
   "outputs": [],
   "source": [
    "# Import the model with priors\n",
    "prior_model = restore_model(prior_model_path)"
   ]
  },
  {
   "cell_type": "markdown",
   "metadata": {},
   "source": [
    "### Data preparation\n",
    "Create an input data loader, that maps coordinates to data needed for the model"
   ]
  },
  {
   "cell_type": "code",
   "execution_count": 10,
   "metadata": {},
   "outputs": [],
   "source": [
    "input_func = data_loading.get_profile_input_func(\n",
    "    files_spec_path, input_length, profile_length, reference_fasta\n",
    ")\n",
    "pos_coords = data_loading.get_positive_profile_coords(\n",
    "    files_spec_path, chrom_set=chrom_set\n",
    ")"
   ]
  },
  {
   "cell_type": "markdown",
   "metadata": {},
   "source": [
    "### SHAP explainers\n",
    "Create DeepSHAP explainers"
   ]
  },
  {
   "cell_type": "code",
   "execution_count": 11,
   "metadata": {},
   "outputs": [],
   "source": [
    "noprior_shap_explainer = compute_shap.create_profile_explainer(\n",
    "    noprior_model, input_length, profile_length, num_tasks, num_strands, controls\n",
    ")"
   ]
  },
  {
   "cell_type": "code",
   "execution_count": 12,
   "metadata": {},
   "outputs": [],
   "source": [
    "prior_shap_explainer = compute_shap.create_profile_explainer(\n",
    "    prior_model, input_length, profile_length, num_tasks, num_strands, controls\n",
    ")"
   ]
  },
  {
   "cell_type": "markdown",
   "metadata": {},
   "source": [
    "### Compute loss values over test set"
   ]
  },
  {
   "cell_type": "code",
   "execution_count": 13,
   "metadata": {},
   "outputs": [],
   "source": [
    "# Sample a subset of peaks randomly to compute predictions for\n",
    "num_samples = 1000\n",
    "sample_coords = pos_coords[np.random.choice(len(pos_coords), size=num_samples, replace=False)]"
   ]
  },
  {
   "cell_type": "code",
   "execution_count": 14,
   "metadata": {},
   "outputs": [
    {
     "name": "stderr",
     "output_type": "stream",
     "text": [
      "100%|██████████| 8/8 [00:19<00:00,  2.49s/it]\n"
     ]
    }
   ],
   "source": [
    "noprior_preds = compute_predictions.get_profile_model_predictions(                                              \n",
    "    noprior_model, sample_coords, num_tasks, input_func, controls=controls,                        \n",
    "    fourier_att_prior_freq_limit=fourier_att_prior_freq_limit,\n",
    "    fourier_att_prior_freq_limit_softness=fourier_att_prior_freq_limit_softness,\n",
    "    att_prior_grad_smooth_sigma=att_prior_grad_smooth_sigma,\n",
    "    return_losses=True, return_gradients=True, show_progress=True                                         \n",
    ")"
   ]
  },
  {
   "cell_type": "code",
   "execution_count": 15,
   "metadata": {},
   "outputs": [
    {
     "name": "stderr",
     "output_type": "stream",
     "text": [
      "100%|██████████| 8/8 [00:19<00:00,  2.42s/it]\n"
     ]
    }
   ],
   "source": [
    "prior_preds = compute_predictions.get_profile_model_predictions(                                              \n",
    "    prior_model, sample_coords, num_tasks, input_func, controls=controls,                        \n",
    "    fourier_att_prior_freq_limit=fourier_att_prior_freq_limit,\n",
    "    fourier_att_prior_freq_limit_softness=fourier_att_prior_freq_limit_softness,\n",
    "    att_prior_grad_smooth_sigma=att_prior_grad_smooth_sigma,\n",
    "    return_losses=True, return_gradients=True, show_progress=True                                         \n",
    ")"
   ]
  },
  {
   "cell_type": "code",
   "execution_count": 16,
   "metadata": {},
   "outputs": [
    {
     "data": {
      "image/png": "[encoded data removed]",
      "text/plain": [
       "<Figure size 1440x360 with 2 Axes>"
      ]
     },
     "metadata": {
      "needs_background": "light"
     },
     "output_type": "display_data"
    }
   ],
   "source": [
    "# Plot histogram of profile loss and prior loss over these conditions\n",
    "bin_num = 20\n",
    "fig, ax = plt.subplots(1, 2, figsize=(20, 5))\n",
    "ax[0].hist(\n",
    "    [noprior_preds[\"prof_losses\"], prior_preds[\"prof_losses\"]],\n",
    "    bin_num, histtype=\"bar\",\n",
    "    label=[\"No prior\", \"With prior\"], color=[\"red\", \"blue\"])\n",
    "ax[0].set_title(\"Histogram of profile loss over a subset of examples\")\n",
    "ax[0].set_xlabel(\"Profile loss\")\n",
    "ax[0].legend()\n",
    "ax[1].hist(\n",
    "    [noprior_preds[\"att_losses\"], prior_preds[\"att_losses\"]],\n",
    "    bin_num, histtype=\"bar\",\n",
    "    label=[\"No prior\", \"With prior\"], color=[\"red\", \"blue\"])\n",
    "ax[1].set_title(\"Histogram of attribution prior loss over a subset of examples\")\n",
    "ax[1].set_xlabel(\"Attribution prior loss\")\n",
    "ax[1].legend()\n",
    "plt.tight_layout()"
   ]
  },
  {
   "cell_type": "code",
   "execution_count": null,
   "metadata": {},
   "outputs": [],
   "source": [
    "# The coordinates that show the most improvement in prior loss\n",
    "sample_coords[np.flip(np.argsort(noprior_preds[\"att_losses\"] - prior_preds[\"att_losses\"]))][:10]"
   ]
  },
  {
   "cell_type": "markdown",
   "metadata": {},
   "source": [
    "### Plotting functions"
   ]
  },
  {
   "cell_type": "code",
   "execution_count": null,
   "metadata": {},
   "outputs": [],
   "source": [
    "def plot_profiles(pred_profs, true_profs, title=None):\n",
    "    \"\"\"\n",
    "    Plots the given profiles.\n",
    "    Both arguments should be T x O x S NumPy arrays, where the subarrays are the\n",
    "    tracks for the plus and minus strand (or unstranded), for each task.\n",
    "    If `normalize` is True, normalize the profiles to be probabilities (i.e.\n",
    "    each track sums to 1)\n",
    "    \"\"\"\n",
    "    num_tasks, prof_length, num_strands = pred_profs.shape\n",
    "    fig, ax = plt.subplots(num_tasks, figsize=(15, num_tasks * 2 * num_strands))\n",
    "    if num_tasks == 1:\n",
    "        ax = [ax]\n",
    "    for i in range(num_tasks):\n",
    "        ax[i].plot(true_profs[i,:,0], color=\"royalblue\", alpha=0.5)\n",
    "        ax[i].plot(pred_profs[i,:,0], color=\"darkslateblue\")\n",
    "        if num_strands == 2:\n",
    "            ax[i].plot(-true_profs[i,:,1], color=\"goldenrod\", alpha=0.5)\n",
    "            ax[i].plot(-pred_profs[i,:,1], color=\"darkorange\")\n",
    "    if title:\n",
    "        fig.suptitle(title)\n",
    "    plt.show()"
   ]
  },
  {
   "cell_type": "code",
   "execution_count": null,
   "metadata": {},
   "outputs": [],
   "source": [
    "def dft(signal):\n",
    "    fourier_coeffs = np.fft.fft(signal)\n",
    "    fourier_freqs = 2 * np.pi * np.fft.fftfreq(signal.size)\n",
    "    fourier_freqs = fourier_freqs[:int(len(fourier_freqs) / 2)]  # Only the positive frequencies\n",
    "    mags = np.abs(fourier_coeffs)[:int(len(fourier_coeffs) / 2)]  # Frequency magnitudes are symmetric\n",
    "    return fourier_freqs, mags\n",
    "\n",
    "def plot_fft(signal, include_dc=False, pos_limit=None, title=None):\n",
    "    abs_signal = np.abs(signal)\n",
    "    \n",
    "    freqs, mags = dft(abs_signal)\n",
    "    if not include_dc:\n",
    "        freqs, mags = freqs[1:], mags[1:]\n",
    "        \n",
    "    plt.figure(figsize=(20, 2))\n",
    "    plt.plot(freqs, mags, color=\"red\")\n",
    "    plt.xlabel(\"Frequency (radians)\")\n",
    "    plt.ylabel(\"|Frequency component|\")\n",
    "    if pos_limit is not None:\n",
    "        pos_limit_radians = pos_limit * 2 * np.pi / len(signal)\n",
    "        plt.axvline(x=pos_limit_radians, color=\"black\")\n",
    "    if title:\n",
    "        plt.title(title)\n",
    "    plt.show()"
   ]
  },
  {
   "cell_type": "code",
   "execution_count": null,
   "metadata": {},
   "outputs": [],
   "source": [
    "def plot_signal(signal, title=None):\n",
    "    plt.figure(figsize=(20, 2))\n",
    "    plt.plot(signal)\n",
    "    if title:\n",
    "        plt.title(title)\n",
    "    plt.show()"
   ]
  },
  {
   "cell_type": "markdown",
   "metadata": {},
   "source": [
    "### View predictions"
   ]
  },
  {
   "cell_type": "code",
   "execution_count": null,
   "metadata": {},
   "outputs": [],
   "source": [
    "def predict_and_plot(model, shap_explainer, chrom, start, end, show_sequences=True, seq_slice=slice(650, 750)):\n",
    "    results = compute_predictions.get_profile_model_predictions(                                              \n",
    "        model, [(chrom, start, end)] * 50, num_tasks, input_func, controls=controls,                        \n",
    "        return_losses=False, return_gradients=True, show_progress=False                                         \n",
    "    )\n",
    "    true_profs = results[\"true_profs\"]\n",
    "    log_pred_profs = results[\"log_pred_profs\"]\n",
    "    input_seqs = results[\"input_seqs\"]\n",
    "    input_grads = results[\"input_grads\"]\n",
    "\n",
    "    pred_prof_probs = np.exp(log_pred_profs)\n",
    "    true_prof_probs = true_profs / np.sum(true_profs, axis=2, keepdims=True)\n",
    "    \n",
    "    # plot_profiles(pred_prof_probs[0], true_prof_probs[0])\n",
    "    \n",
    "    if not seq_slice:\n",
    "        seq_slice = slice(None, None)\n",
    "    \n",
    "    print(\"Input gradients and Fourier transform\")\n",
    "    plot_signal(np.sum(input_grads[0] * input_seqs[0], axis=1), title=\"Input gradients\")\n",
    "    plot_fft(np.sum(input_grads[0] * input_seqs[0], axis=1), pos_limit=200, title=\"Fourier transform of input gradients\")\n",
    "    if show_sequences:\n",
    "        viz_sequence.plot_weights(input_grads[0][seq_slice])\n",
    "        viz_sequence.plot_weights((input_grads[0] * input_seqs[0])[seq_slice])\n",
    "    \n",
    "    print(\"SHAP scores\")\n",
    "    input_seqs, profiles = input_func([(chrom, start, end)] * 5)\n",
    "    hyp_shap_scores = shap_explainer(\n",
    "        input_seqs, cont_profs=profiles[:, num_tasks:], hide_shap_output=True\n",
    "    )\n",
    "    plot_signal(np.sum(hyp_shap_scores[0] * input_seqs[0], axis=1), title=\"SHAP scores\")\n",
    "    if show_sequences:\n",
    "        viz_sequence.plot_weights(hyp_shap_scores[0][seq_slice])\n",
    "        viz_sequence.plot_weights((hyp_shap_scores[0] * input_seqs[0])[seq_slice])\n",
    "    \n",
    "    print(\"ISM scores\")\n",
    "    hyp_ism_scores = compute_ism.get_profile_model_ism(\n",
    "        model, input_seqs, cont_profs=profiles[:, num_tasks:]\n",
    "    )\n",
    "    plot_signal(np.sum(hyp_ism_scores[0] * input_seqs[0], axis=1), title=\"ISM scores\")\n",
    "    if show_sequences:\n",
    "        viz_sequence.plot_weights(hyp_ism_scores[0][seq_slice])\n",
    "        viz_sequence.plot_weights((hyp_ism_scores[0] * input_seqs[0])[seq_slice])"
   ]
  },
  {
   "cell_type": "code",
   "execution_count": null,
   "metadata": {},
   "outputs": [],
   "source": [
    "# Sample some random peaks\n",
    "pos_coords[np.random.choice(len(pos_coords), size=10, replace=False)]"
   ]
  },
  {
   "cell_type": "code",
   "execution_count": null,
   "metadata": {
    "scrolled": true
   },
   "outputs": [],
   "source": [
    "# SPI1\n",
    "chrom, start, end = 'chr1', 232544442, 232544846\n",
    "seq_slice = slice(650, 700)\n",
    "show_sequences = False\n",
    "predict_and_plot(noprior_model, noprior_shap_explainer, chrom, start, end, show_sequences, seq_slice)\n",
    "predict_and_plot(prior_model, prior_shap_explainer, chrom, start, end, show_sequences, seq_slice)"
   ]
  },
  {
   "cell_type": "code",
   "execution_count": null,
   "metadata": {
    "scrolled": false
   },
   "outputs": [],
   "source": [
    "# GATA2\n",
    "chrom, start, end = 'chr1', 244113481, 244113921\n",
    "seq_slice = slice(650, 700)\n",
    "show_sequences = True\n",
    "predict_and_plot(noprior_model, noprior_shap_explainer, chrom, start, end, show_sequences, seq_slice)\n",
    "predict_and_plot(prior_model, prior_shap_explainer, chrom, start, end, show_sequences, seq_slice)"
   ]
  },
  {
   "cell_type": "code",
   "execution_count": null,
   "metadata": {
    "scrolled": true
   },
   "outputs": [],
   "source": [
    "# GATA2\n",
    "chrom, start, end = 'chr1', 21204857, 21205261\n",
    "seq_slice = slice(650, 700)\n",
    "show_sequences = True\n",
    "predict_and_plot(noprior_model, noprior_shap_explainer, chrom, start, end, show_sequences, seq_slice)\n",
    "predict_and_plot(prior_model, prior_shap_explainer, chrom, start, end, show_sequences, seq_slice)"
   ]
  }
 ],
 "metadata": {
  "kernelspec": {
   "display_name": "Python 3",
   "language": "python",
   "name": "python3"
  },
  "language_info": {
   "codemirror_mode": {
    "name": "ipython",
    "version": 3
   },
   "file_extension": ".py",
   "mimetype": "text/x-python",
   "name": "python",
   "nbconvert_exporter": "python",
   "pygments_lexer": "ipython3",
   "version": "3.7.4"
  }
 },
 "nbformat": 4,
 "nbformat_minor": 2
}

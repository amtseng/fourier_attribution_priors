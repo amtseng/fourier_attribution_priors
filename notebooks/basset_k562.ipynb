{
 "cells": [
  {
   "cell_type": "code",
   "execution_count": null,
   "metadata": {},
   "outputs": [],
   "source": [
    "%load_ext autoreload\n",
    "%autoreload 2\n",
    "import sys\n",
    "import os\n",
    "sys.path.append(os.path.abspath(\"../src/\"))\n",
    "import model.basset_model as basset_model\n",
    "import model.binary_performance as binary_performance\n",
    "import feature.make_binary_dataset as make_binary_dataset\n",
    "import torch\n",
    "import numpy as np\n",
    "import scipy.stats\n",
    "import tqdm\n",
    "tqdm.tqdm_notebook()  # It is necessary to call this before the tqdm.notebook submodule is available"
   ]
  },
  {
   "cell_type": "code",
   "execution_count": null,
   "metadata": {},
   "outputs": [],
   "source": [
    "# Constants and paths\n",
    "basset_weights_path = \"/users/amtseng/att_priors/data/processed/basset/pretrained_model_reloaded_th.pth\"\n",
    "k562_index = 120  # From https://github.com/kipoi/models/blob/master/Basset/target_labels.txt\n",
    "\n",
    "labels_hdf5_path = \"/users/amtseng/att_priors/data/processed/ENCODE_DNase/binary/labels/K562/K562_labels.h5\"\n",
    "bin_labels_npy_path = \"/users/amtseng/att_priors/data/processed/ENCODE_DNase/binary/labels/K562/K562_bin_labels.npy\"\n",
    "\n",
    "reference_fasta_path = \"/users/amtseng/genomes/hg38.fasta\"\n",
    "chrom_set = [\"chr1\"]\n",
    "input_length = 600"
   ]
  },
  {
   "cell_type": "markdown",
   "metadata": {},
   "source": [
    "### Import the Basset model\n",
    "And restore its weights"
   ]
  },
  {
   "cell_type": "code",
   "execution_count": null,
   "metadata": {},
   "outputs": [],
   "source": [
    "basset = basset_model.get_model()"
   ]
  },
  {
   "cell_type": "code",
   "execution_count": null,
   "metadata": {},
   "outputs": [],
   "source": [
    "state_dict = torch.load(basset_weights_path)\n",
    "basset.load_state_dict(state_dict)"
   ]
  },
  {
   "cell_type": "code",
   "execution_count": null,
   "metadata": {},
   "outputs": [],
   "source": [
    "basset = basset.cuda()"
   ]
  },
  {
   "cell_type": "markdown",
   "metadata": {},
   "source": [
    "### Create data loader for K562\n",
    "Basset takes in input sequences of length 600. Our input sequences are 1000, and labeled as a positive if at least half of the central 400 bp overlaps with an IDR-optimal peak. The 600-bp central region should be a reasonably approximated."
   ]
  },
  {
   "cell_type": "code",
   "execution_count": null,
   "metadata": {},
   "outputs": [],
   "source": [
    "batch_size = 128\n",
    "revcomp = True\n",
    "\n",
    "loader = make_binary_dataset.create_data_loader(\n",
    "    labels_hdf5_path, bin_labels_npy_path, batch_size, reference_fasta_path,\n",
    "    simulate_seqs=False, motif_path=None, motif_bound=0, gc_prob=0.5,\n",
    "    input_length=input_length, negative_ratio=1, peak_retention=None,\n",
    "    num_workers=10, revcomp=revcomp, negative_seed=None, shuffle_seed=None,\n",
    "    peak_signals_npy_or_array=None, chrom_set=chrom_set, shuffle=True,\n",
    "    return_coords=True\n",
    ")\n",
    "loader.dataset.on_epoch_start()"
   ]
  },
  {
   "cell_type": "markdown",
   "metadata": {},
   "source": [
    "### Compute predictions for the test set"
   ]
  },
  {
   "cell_type": "code",
   "execution_count": null,
   "metadata": {
    "scrolled": false
   },
   "outputs": [],
   "source": [
    "# Allocate arrays to store results\n",
    "num_expected = batch_size * len(loader.dataset) * (2 if revcomp else 1)\n",
    "all_seqs = np.empty((num_expected, input_length, 4))\n",
    "all_true_vals = np.empty((num_expected, 1))\n",
    "all_pred_vals = np.empty((num_expected, 1))\n",
    "all_coords = np.empty((num_expected, 3), dtype=object)\n",
    "\n",
    "num_actual = 0\n",
    "for batch in tqdm.notebook.tqdm(loader, total=len(loader.dataset)):\n",
    "    seqs, vals, statuses, coords = batch\n",
    "    \n",
    "    # Input to Basset must be shape B x 4 x 600 x 1\n",
    "    input_seqs = torch.tensor(\n",
    "        np.swapaxes(np.expand_dims(seqs, axis=3), 1, 2)\n",
    "    ).float().cuda()\n",
    "    preds = basset(input_seqs)[:, k562_index : k562_index + 1]\n",
    "    preds = preds.detach().cpu().numpy()\n",
    "    \n",
    "    num_in_batch = len(seqs)\n",
    "    batch_slice = slice(num_actual, num_actual + num_in_batch)\n",
    "    all_seqs[batch_slice] = seqs\n",
    "    all_true_vals[batch_slice] = vals\n",
    "    all_pred_vals[batch_slice] = preds\n",
    "    all_coords[batch_slice] = coords\n",
    "    num_actual += num_in_batch\n",
    "\n",
    "# Cut off excess\n",
    "all_seqs = all_seqs[:num_actual]\n",
    "all_true_vals = all_true_vals[:num_actual]\n",
    "all_pred_vals = all_pred_vals[:num_actual]\n",
    "all_coords = all_coords[:num_actual]"
   ]
  },
  {
   "cell_type": "markdown",
   "metadata": {},
   "source": [
    "### Compute performance metrics"
   ]
  },
  {
   "cell_type": "code",
   "execution_count": null,
   "metadata": {},
   "outputs": [],
   "source": [
    "perf_metrics = binary_performance.compute_performance_metrics(\n",
    "    all_true_vals, all_pred_vals,\n",
    "    loader.dataset.bins_batcher.neg_to_pos_imbalance\n",
    ")"
   ]
  },
  {
   "cell_type": "code",
   "execution_count": null,
   "metadata": {},
   "outputs": [],
   "source": [
    "for key in perf_metrics:\n",
    "    print(\"%s: %.6f\" % (key, perf_metrics[key][0]))"
   ]
  }
 ],
 "metadata": {
  "kernelspec": {
   "display_name": "Python 3",
   "language": "python",
   "name": "python3"
  },
  "language_info": {
   "codemirror_mode": {
    "name": "ipython",
    "version": 3
   },
   "file_extension": ".py",
   "mimetype": "text/x-python",
   "name": "python",
   "nbconvert_exporter": "python",
   "pygments_lexer": "ipython3",
   "version": "3.7.4"
  }
 },
 "nbformat": 4,
 "nbformat_minor": 4
}

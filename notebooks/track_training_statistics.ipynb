{
 "cells": [
  {
   "cell_type": "code",
   "execution_count": null,
   "metadata": {},
   "outputs": [],
   "source": [
    "import json\n",
    "import os\n",
    "import numpy as np\n",
    "import scipy.ndimage\n",
    "import matplotlib.pyplot as plt"
   ]
  },
  {
   "cell_type": "code",
   "execution_count": null,
   "metadata": {},
   "outputs": [],
   "source": [
    "def import_metrics_json(models_path, run_num):\n",
    "    \"\"\"\n",
    "    Looks in `{models_path}/{run_num}/metrics.json` and returns the contents as a\n",
    "    Python dictionary. Returns None if the path does not exist.\n",
    "    \"\"\"\n",
    "    path = os.path.join(models_path, str(run_num), \"metrics.json\")\n",
    "    if not os.path.exists(path):\n",
    "        return None\n",
    "    with open(path, \"r\") as f:\n",
    "        return json.load(f)"
   ]
  },
  {
   "cell_type": "code",
   "execution_count": null,
   "metadata": {},
   "outputs": [],
   "source": [
    "def import_all_metrics_json(models_path):\n",
    "    \"\"\"\n",
    "    Looks in `models_path` and finds all instances of\n",
    "    `{models_path}/{run_num}/metrics.json`, returning a dictionary that maps\n",
    "    `{run_num}` to the metrics dictionary.\n",
    "    \"\"\"\n",
    "    all_metrics = {run_num : import_metrics_json(models_path, run_num) for run_num in os.listdir(models_path)}\n",
    "    all_metrics = {key : val for key, val in all_metrics.items() if val}  # Remove empties\n",
    "    return all_metrics"
   ]
  },
  {
   "cell_type": "code",
   "execution_count": null,
   "metadata": {},
   "outputs": [],
   "source": [
    "def import_config_json(models_path, run_num):\n",
    "    \"\"\"\n",
    "    Looks in `{models_path}/{run_num}/config.json` and returns the contents as a\n",
    "    Python dictionary. Returns None if the path does not exist.\n",
    "    \"\"\"\n",
    "    path = os.path.join(models_path, str(run_num), \"config.json\")\n",
    "    if not os.path.exists(path):\n",
    "        return None\n",
    "    with open(path, \"r\") as f:\n",
    "        return json.load(f)"
   ]
  },
  {
   "cell_type": "code",
   "execution_count": null,
   "metadata": {},
   "outputs": [],
   "source": [
    "def import_all_config_json(models_path):\n",
    "    \"\"\"\n",
    "    Looks in `models_path` and finds all instances of\n",
    "    `{models_path}/{run_num}/config.json`, returning a dictionary that maps\n",
    "    `{run_num}` to the config dictionary.\n",
    "    \"\"\"\n",
    "    all_config = {run_num : import_config_json(models_path, run_num) for run_num in os.listdir(models_path)}\n",
    "    all_config = {key : val for key, val in all_config.items() if val}  # Remove empties\n",
    "    return all_config"
   ]
  },
  {
   "cell_type": "code",
   "execution_count": null,
   "metadata": {},
   "outputs": [],
   "source": [
    "def extract_metrics_values(metrics, key):\n",
    "    \"\"\"\n",
    "    From a single metrics dictionary (i.e. the imported metrics.json for a\n",
    "    single run), extracts the set of values with the given key.\n",
    "    \"\"\"\n",
    "    return metrics[key][\"values\"]"
   ]
  },
  {
   "cell_type": "code",
   "execution_count": null,
   "metadata": {},
   "outputs": [],
   "source": [
    "def extract_metrics_values_at_best_val(metrics, key):\n",
    "    \"\"\"\n",
    "    From a single metrics dictionary (i.e. the imported metrics.json for a\n",
    "    single run), extracts the set of values with the given key, but only for\n",
    "    the epoch that yielded the minimal validation loss. It is assumed that\n",
    "    the requested key is saved once per epoch.\n",
    "    \"\"\"\n",
    "    best_epoch = np.argmin(extract_metrics_values(metrics, \"val_epoch_loss\"))\n",
    "    return extract_metrics_values(metrics, key)[best_epoch]"
   ]
  },
  {
   "cell_type": "code",
   "execution_count": null,
   "metadata": {},
   "outputs": [],
   "source": [
    "def smooth_signal(signal, sigma, axis=-1):\n",
    "    \"\"\"\n",
    "    Smooths a signal along the given axis using a Gaussian weight vector.\n",
    "    Smooths to 1 sigma (unless sigma is 0, and then it does no smoothing).\n",
    "    \"\"\"\n",
    "    if sigma == 0:\n",
    "        return scipy.ndimage.gaussian_filter1d(signal, 1, axis=axis, truncate=0)\n",
    "    else:\n",
    "        return scipy.ndimage.gaussian_filter1d(signal, sigma, axis=axis, truncate=1)"
   ]
  },
  {
   "cell_type": "code",
   "execution_count": null,
   "metadata": {},
   "outputs": [],
   "source": [
    "noprior_models_path = \"/users/amtseng/att_priors/models/trained_models/binary_models/HepG2_keep1/\"\n",
    "noprior_metrics = import_all_metrics_json(noprior_models_path)\n",
    "noprior_config = import_all_config_json(noprior_models_path)"
   ]
  },
  {
   "cell_type": "code",
   "execution_count": null,
   "metadata": {},
   "outputs": [],
   "source": [
    "prior_models_path = \"/users/amtseng/att_priors/models/trained_models/binary_models/HepG2_prior_keep1/\"\n",
    "prior_metrics = import_all_metrics_json(prior_models_path)\n",
    "prior_config = import_all_config_json(prior_models_path)"
   ]
  },
  {
   "cell_type": "code",
   "execution_count": null,
   "metadata": {},
   "outputs": [],
   "source": [
    "# Plot validation correctness losses with and without prior\n",
    "noprior_val_corr_losses = {key : extract_metrics_values(m, \"val_corr_losses\") for key, m in noprior_metrics.items()}\n",
    "prior_val_corr_losses = {key : extract_metrics_values(m, \"val_corr_losses\") for key, m in prior_metrics.items()}\n",
    "plt.figure()\n",
    "for key, corr_losses in noprior_val_corr_losses.items():\n",
    "    line = np.nanmean(corr_losses, axis=1)\n",
    "    noprior_line, = plt.plot(line, color=\"red\")\n",
    "for key, corr_losses in prior_val_corr_losses.items():\n",
    "    line = np.nanmean(corr_losses, axis=1)\n",
    "    prior_line, = plt.plot(line, color=\"blue\")\n",
    "plt.legend([noprior_line, prior_line], [\"No prior\", \"With prior\"])\n",
    "plt.title(\"Validation correctness losses with and without prior\")\n",
    "plt.ylabel(\"Validation correctness loss\")\n",
    "plt.xlabel(\"Epoch\")"
   ]
  },
  {
   "cell_type": "code",
   "execution_count": null,
   "metadata": {
    "scrolled": false
   },
   "outputs": [],
   "source": [
    "# Plot validation profile losses with and without prior\n",
    "noprior_val_prof_corr_losses = {key : extract_metrics_values(m, \"val_prof_corr_losses\") for key, m in noprior_metrics.items()}\n",
    "prior_val_prof_corr_losses = {key : extract_metrics_values(m, \"val_prof_corr_losses\") for key, m in prior_metrics.items()}\n",
    "plt.figure()\n",
    "for key, prof_corr_losses in noprior_val_prof_corr_losses.items():\n",
    "    line = smooth_signal(np.log(np.nanmean(prof_corr_losses, axis=1)), 3)\n",
    "    noprior_line, = plt.plot(line, color=\"red\")\n",
    "for key, prof_corr_losses in prior_val_prof_corr_losses.items():\n",
    "    line = smooth_signal(np.log(np.nanmean(prof_corr_losses, axis=1)), 3)\n",
    "    prior_line, = plt.plot(line, color=\"blue\")\n",
    "plt.legend([noprior_line, prior_line], [\"without prior\", \"with prior\"])\n",
    "plt.title(\"Validation profile correctness losses with and without prior\")"
   ]
  },
  {
   "cell_type": "code",
   "execution_count": null,
   "metadata": {},
   "outputs": [],
   "source": [
    "# Plot training correctness losses with and without prior\n",
    "noprior_train_corr_losses = {key : extract_metrics_values(m, \"train_corr_losses\") for key, m in noprior_metrics.items()}\n",
    "prior_train_corr_losses = {key : extract_metrics_values(m, \"train_corr_losses\") for key, m in prior_metrics.items()}\n",
    "plt.figure(figsize=(10, 10))\n",
    "for key, corr_losses in noprior_train_corr_losses.items():\n",
    "    line = smooth_signal(np.log(corr_losses[0][:10000]), 50)\n",
    "    noprior_line, = plt.plot(line, color=\"red\")\n",
    "for key, corr_losses in prior_train_corr_losses.items():\n",
    "    line = smooth_signal(np.log(corr_losses[0][:10000]), 50)\n",
    "    prior_line, = plt.plot(line, color=(\"green\" if key == \"3\" else \"blue\"))\n",
    "plt.legend([noprior_line, prior_line], [\"without prior\", \"with prior\"])\n",
    "plt.title(\"Training correctness losses with and without prior, first 100 batches of epoch 1\")"
   ]
  }
 ],
 "metadata": {
  "kernelspec": {
   "display_name": "Python 3",
   "language": "python",
   "name": "python3"
  },
  "language_info": {
   "codemirror_mode": {
    "name": "ipython",
    "version": 3
   },
   "file_extension": ".py",
   "mimetype": "text/x-python",
   "name": "python",
   "nbconvert_exporter": "python",
   "pygments_lexer": "ipython3",
   "version": "3.7.4"
  }
 },
 "nbformat": 4,
 "nbformat_minor": 2
}

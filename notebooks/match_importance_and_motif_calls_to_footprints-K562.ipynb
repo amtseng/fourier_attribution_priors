{
 "cells": [
  {
   "cell_type": "code",
   "execution_count": null,
   "metadata": {},
   "outputs": [],
   "source": [
    "%load_ext autoreload\n",
    "%autoreload 2\n",
    "import sys\n",
    "import os\n",
    "sys.path.append(os.path.abspath(\"../src/\"))\n",
    "import model.util as model_util\n",
    "import model.profile_models as profile_models\n",
    "import model.binary_models as binary_models\n",
    "import extract.data_loading as data_loading\n",
    "import extract.compute_predictions as compute_predictions\n",
    "import extract.compute_shap as compute_shap\n",
    "import plot.viz_sequence as viz_sequence\n",
    "import pyBigWig\n",
    "import torch\n",
    "import numpy as np\n",
    "import pandas as pd\n",
    "import matplotlib.pyplot as plt\n",
    "import matplotlib.font_manager as font_manager\n",
    "import scipy.stats\n",
    "import json\n",
    "import tqdm\n",
    "import h5py\n",
    "import sklearn.metrics\n",
    "tqdm.tqdm_notebook()  # It is necessary to call this before the tqdm.notebook submodule is available"
   ]
  },
  {
   "cell_type": "code",
   "execution_count": null,
   "metadata": {},
   "outputs": [],
   "source": [
    "# Plotting defaults\n",
    "font_manager.fontManager.ttflist.extend(\n",
    "    font_manager.createFontList(\n",
    "        font_manager.findSystemFonts(fontpaths=\"/users/amtseng/modules/fonts\")\n",
    "    )\n",
    ")\n",
    "plot_params = {\n",
    "    \"figure.titlesize\": 22,\n",
    "    \"axes.titlesize\": 22,\n",
    "    \"axes.labelsize\": 20,\n",
    "    \"legend.fontsize\": 18,\n",
    "    \"xtick.labelsize\": 16,\n",
    "    \"ytick.labelsize\": 16,\n",
    "    \"font.family\": \"Roboto\",\n",
    "    \"font.weight\": \"bold\"\n",
    "}\n",
    "plt.rcParams.update(plot_params)"
   ]
  },
  {
   "cell_type": "markdown",
   "metadata": {},
   "source": [
    "### Define paths for the model and data of interest"
   ]
  },
  {
   "cell_type": "code",
   "execution_count": null,
   "metadata": {},
   "outputs": [],
   "source": [
    "model_type = \"binary\""
   ]
  },
  {
   "cell_type": "code",
   "execution_count": null,
   "metadata": {},
   "outputs": [],
   "source": [
    "# Shared paths/constants\n",
    "raw_data_base_path = \"/users/amtseng/att_priors/data/raw/\"\n",
    "interim_data_base_path = \"/users/amtseng/att_priors/data/interim/\"\n",
    "proc_data_base_path = \"/users/amtseng/att_priors/data/processed/\"\n",
    "model_base_path = \"/users/amtseng/att_priors/models/trained_models/%s/\" % model_type\n",
    "results_path = \"/users/amtseng/att_priors/results/\"\n",
    "chrom_set = [\"chr1\"]\n",
    "input_length = 1346 if model_type == \"profile\" else 1000\n",
    "profile_length = 1000\n",
    "reference_fasta = \"/users/amtseng/genomes/hg38.fasta\"\n",
    "chrom_sizes = \"/users/amtseng/genomes/hg38.canon.chrom.sizes\""
   ]
  },
  {
   "cell_type": "code",
   "execution_count": null,
   "metadata": {},
   "outputs": [],
   "source": [
    "# K562\n",
    "condition_name = \"K562\"\n",
    "files_spec_path = os.path.join(proc_data_base_path, \"ENCODE_DNase/%s/config/K562/K562_training_paths.json\" % model_type)\n",
    "num_tasks = 1\n",
    "num_strands = 1\n",
    "if model_type == \"profile\":\n",
    "    controls = \"shared\"\n",
    "    model_class = profile_models.ProfilePredictorWithSharedControls\n",
    "else:\n",
    "    model_class = binary_models.BinaryPredictor\n",
    "\n",
    "task_index = None\n",
    "footprints_paths = [os.path.join(proc_data_base_path, \"DNase_footprints/K562_tencol.bed.gz\")]\n",
    "# noprior_model_path = os.path.join(model_base_path, \"K562/19/model_ckpt_epoch_19.pt\")\n",
    "# prior_model_path = os.path.join(model_base_path, \"K562_prior/16/model_ckpt_epoch_20.pt\")\n",
    "noprior_model_path = os.path.join(model_base_path, \"K562/18/model_ckpt_epoch_1.pt\")\n",
    "prior_model_path = os.path.join(model_base_path, \"K562_prior/12/model_ckpt_epoch_6.pt\")\n",
    "\n",
    "tf_names = [\"CTCF\", \"GATA2\", \"JUN\", \"KLF1\"]\n",
    "fimo_results_paths = [\n",
    "    os.path.join(results_path, \"K562_motifs/FIMO_chr1_calls/motif%d_fimo_out/fimo.tsv\" % i) for i in range(1, 5)\n",
    "]\n",
    "chipseq_peak_paths = [\n",
    "    os.path.join(results_path, \"K562_motifs/peaks_of_matched_tfs/motif%d_peaks.bed.gz\" % i) for i in range(1, 5)\n",
    "]"
   ]
  },
  {
   "cell_type": "code",
   "execution_count": null,
   "metadata": {},
   "outputs": [],
   "source": [
    "torch.set_grad_enabled(True)\n",
    "device = torch.device(\"cuda\") if torch.cuda.is_available() else torch.device(\"cpu\")\n",
    "def restore_model(model_path):\n",
    "    model = model_util.restore_model(model_class, model_path)\n",
    "    model.eval()\n",
    "    model = model.to(device)\n",
    "    return model"
   ]
  },
  {
   "cell_type": "code",
   "execution_count": null,
   "metadata": {},
   "outputs": [],
   "source": [
    "# Import the model without priors\n",
    "noprior_model = restore_model(noprior_model_path)"
   ]
  },
  {
   "cell_type": "code",
   "execution_count": null,
   "metadata": {},
   "outputs": [],
   "source": [
    "# Import the model with priors\n",
    "prior_model = restore_model(prior_model_path)"
   ]
  },
  {
   "cell_type": "markdown",
   "metadata": {},
   "source": [
    "### Import footprints, ChIP-seq peaks, and motif predictions"
   ]
  },
  {
   "cell_type": "code",
   "execution_count": null,
   "metadata": {},
   "outputs": [],
   "source": [
    "footprints = [\n",
    "    pd.read_csv(\n",
    "        path, sep=\"\\t\", header=None,\n",
    "        names=[\n",
    "            \"chrom\", \"peak_start\", \"peak_end\", \"name\", \"score\", \"strand\",\n",
    "            \"signal\", \"pval\", \"qval\", \"summit_offset\"\n",
    "        ]\n",
    "    ) for path in footprints_paths\n",
    "]\n",
    "footprints = pd.concat(footprints)\n",
    "footprints = footprints[footprints[\"chrom\"].isin(chrom_set)]"
   ]
  },
  {
   "cell_type": "code",
   "execution_count": null,
   "metadata": {},
   "outputs": [],
   "source": [
    "fimo_results = [\n",
    "    pd.read_csv(\n",
    "        path, sep=\"\\t\", header=0, index_col=None\n",
    "    ).dropna() for path in fimo_results_paths\n",
    "]\n",
    "for table in fimo_results:\n",
    "    table[\"start\"] = table[\"start\"].astype(int)\n",
    "    table[\"stop\"] = table[\"stop\"].astype(int)"
   ]
  },
  {
   "cell_type": "code",
   "execution_count": null,
   "metadata": {},
   "outputs": [],
   "source": [
    "chipseq_peaks = [\n",
    "    pd.read_csv(\n",
    "        path, sep=\"\\t\", header=None,\n",
    "        names=[\n",
    "            \"chrom\", \"peak_start\", \"peak_end\", \"name\", \"score\", \"strand\",\n",
    "            \"signal\", \"pval\", \"qval\", \"summit_offset\"\n",
    "        ]\n",
    "    ) for path in chipseq_peak_paths\n",
    "]"
   ]
  },
  {
   "cell_type": "code",
   "execution_count": null,
   "metadata": {},
   "outputs": [],
   "source": [
    "fimo_results_limited = [\n",
    "    table.sort_values(\"q-value\").reset_index(drop=True)[:int(0.1 * len(table))]\n",
    "    for table in fimo_results\n",
    "]"
   ]
  },
  {
   "cell_type": "markdown",
   "metadata": {},
   "source": [
    "### Data preparation\n",
    "Create an input data loader, that maps coordinates or bin indices to data needed for the model"
   ]
  },
  {
   "cell_type": "code",
   "execution_count": null,
   "metadata": {},
   "outputs": [],
   "source": [
    "if model_type == \"profile\":\n",
    "    input_func = data_loading.get_profile_input_func(\n",
    "        files_spec_path, input_length, profile_length, reference_fasta\n",
    "    )\n",
    "    pos_set = data_loading.get_positive_profile_coords(\n",
    "        files_spec_path, task_ind=task_index, chrom_set=chrom_set\n",
    "    )\n",
    "else:\n",
    "    input_func = data_loading.get_binary_input_func(\n",
    "        files_spec_path, input_length, reference_fasta\n",
    "    )\n",
    "    pos_set = data_loading.get_positive_binary_bins(\n",
    "        files_spec_path, task_ind=task_index, chrom_set=chrom_set\n",
    "    )"
   ]
  },
  {
   "cell_type": "markdown",
   "metadata": {},
   "source": [
    "### Compute importances"
   ]
  },
  {
   "cell_type": "code",
   "execution_count": null,
   "metadata": {},
   "outputs": [],
   "source": [
    "def compute_gradients(model, sample):\n",
    "    \"\"\"\n",
    "    Given an array of N coordinates or bins, computes the input gradients\n",
    "    for the model, returning an N x I x 4 array of gradient values and an\n",
    "    N x I x 4 array of one-hot encoded sequence.\n",
    "    \"\"\"\n",
    "    if model_type == \"profile\":\n",
    "        results = compute_predictions.get_profile_model_predictions(                                              \n",
    "            model, sample, num_tasks, input_func, controls=controls,                        \n",
    "            return_losses=False, return_gradients=True, show_progress=True                                         \n",
    "        )\n",
    "    else:\n",
    "        results = compute_predictions.get_binary_model_predictions(                                              \n",
    "            model, sample, input_func,                      \n",
    "            return_losses=False, return_gradients=True, show_progress=True                                         \n",
    "        )\n",
    "    return results[\"input_grads\"], results[\"input_seqs\"]"
   ]
  },
  {
   "cell_type": "code",
   "execution_count": null,
   "metadata": {},
   "outputs": [],
   "source": [
    "def compute_shap_scores(model, sample, batch_size=128):\n",
    "    \"\"\"\n",
    "    Given an array of N coordinates or bins, computes the SHAP scores\n",
    "    for the model, returning an N x I x 4 array of SHAP scores and an\n",
    "    N x I x 4 array of one-hot encoded sequence.\n",
    "    \"\"\"\n",
    "    num_samples = len(sample)\n",
    "    num_batches = int(np.ceil(num_samples / batch_size))\n",
    "    \n",
    "    all_shap_scores = np.empty((num_samples, input_length, 4))\n",
    "    all_one_hot_seqs = np.empty((num_samples, input_length, 4))\n",
    "        \n",
    "    if model_type == \"profile\":\n",
    "        shap_explainer = compute_shap.create_profile_explainer(\n",
    "            model, input_length, profile_length, num_tasks, num_strands, controls,\n",
    "            task_index=task_index\n",
    "        )\n",
    "    else:\n",
    "        shap_explainer = compute_shap.create_binary_explainer(\n",
    "            model, input_length, task_index=task_index\n",
    "        )\n",
    "\n",
    "    for i in tqdm.notebook.trange(num_batches):\n",
    "        batch_slice = slice(i * batch_size, (i + 1) * batch_size)\n",
    "        batch = sample[batch_slice]\n",
    "\n",
    "        if model_type == \"profile\":\n",
    "            input_seqs, profiles = input_func(batch)\n",
    "            shap_scores = shap_explainer(\n",
    "                input_seqs, cont_profs=profiles[:, num_tasks:], hide_shap_output=True\n",
    "            )\n",
    "        else:\n",
    "            input_seqs, _, _ = input_func(batch)\n",
    "            shap_scores = shap_explainer(\n",
    "                input_seqs, hide_shap_output=True\n",
    "            )\n",
    "\n",
    "        all_shap_scores[batch_slice] = shap_scores\n",
    "        all_one_hot_seqs[batch_slice] = input_seqs\n",
    "    return all_shap_scores, all_one_hot_seqs"
   ]
  },
  {
   "cell_type": "code",
   "execution_count": null,
   "metadata": {},
   "outputs": [],
   "source": [
    "num_samples = 1000\n",
    "rng = np.random.RandomState(20200318)\n",
    "sample = pos_set[rng.choice(len(pos_set), size=num_samples, replace=False)]"
   ]
  },
  {
   "cell_type": "code",
   "execution_count": null,
   "metadata": {},
   "outputs": [],
   "source": [
    "# Get coordinates for the sample\n",
    "if model_type == \"profile\":\n",
    "    # For profile models, add a random jitter to avoid center-bias\n",
    "    jitters = np.random.randint(-128, 128 + 1, size=len(sample))\n",
    "    sample[:, 1] = sample[:, 1] + jitters\n",
    "    sample[:, 2] = sample[:, 2] + jitters\n",
    "    sample_coords = sample\n",
    "else:\n",
    "    sample_coords = input_func(sample)[2]"
   ]
  },
  {
   "cell_type": "code",
   "execution_count": null,
   "metadata": {},
   "outputs": [],
   "source": [
    "# Compute the importance scores and 1-hot seqs\n",
    "imp_type = (\"DeepSHAP scores\", \"input gradients\")[0]\n",
    "imp_func = compute_shap_scores if imp_type == \"DeepSHAP scores\" else compute_gradients\n",
    "noprior_imp_scores, sample_input_seqs = imp_func(\n",
    "    noprior_model, sample\n",
    ")\n",
    "prior_imp_scores, _ = imp_func(\n",
    "    prior_model, sample\n",
    ")"
   ]
  },
  {
   "cell_type": "code",
   "execution_count": null,
   "metadata": {},
   "outputs": [],
   "source": [
    "# Pad the coordinates on both sides symmetrically to make them `input_length` \n",
    "centers = (sample_coords[:, 1] + sample_coords[:, 2]) // 2\n",
    "starts = centers - (input_length // 2)\n",
    "ends = starts + input_length\n",
    "sample_coords[:, 1] = starts\n",
    "sample_coords[:, 2] = ends"
   ]
  },
  {
   "cell_type": "code",
   "execution_count": null,
   "metadata": {
    "scrolled": true
   },
   "outputs": [],
   "source": [
    "# Plot out a few examples\n",
    "for i in np.random.choice(num_samples, size=3, replace=False):\n",
    "    print(i, sample[i])\n",
    "    print(\"=========================\")\n",
    "    print(\"Without priors:\")\n",
    "    plt.figure(figsize=(20, 2))\n",
    "    plt.plot(np.sum(noprior_imp_scores[i] * sample_input_seqs[i], axis=1))\n",
    "    plt.show()\n",
    "    print(\"With priors:\")\n",
    "    plt.figure(figsize=(20, 2))\n",
    "    plt.plot(np.sum(prior_imp_scores[i] * sample_input_seqs[i], axis=1))\n",
    "    plt.show()"
   ]
  },
  {
   "cell_type": "markdown",
   "metadata": {},
   "source": [
    "### Quantify agreement of importances with footprints using overlap\n",
    "In each importance score track (over the entire input region), do the importances tend to be elevated more in known footprints?"
   ]
  },
  {
   "cell_type": "code",
   "execution_count": null,
   "metadata": {},
   "outputs": [],
   "source": [
    "def compute_footprint_overlap_amount(coords, score_tracks, footprints):\n",
    "    \"\"\"\n",
    "    From an N x 3 object array of coordinates, a parallel N x I x 4 array\n",
    "    of score tracks, and a table of imported footprints, this function computes\n",
    "    and returns the overlap amount for each of the N examples, where the overlap\n",
    "    for an example is the fraction of score magnitudes in its track that fall\n",
    "    within a footprint. An overlap will be NaN if there are no footprints in the\n",
    "    coordinate. Returns an N-array.\n",
    "    \"\"\"\n",
    "    score_tracks = np.abs(score_tracks)  # Take absolute value of score tracks\n",
    "    overlaps = np.empty(len(coords))\n",
    "    for i in tqdm.notebook.trange(len(coords)):\n",
    "        chrom, start, end = coords[i]\n",
    "        # Filter down the set of footprints to only those that overlap with the\n",
    "        # coordinate\n",
    "        fps = footprints[\n",
    "            (footprints[\"chrom\"] == chrom) & (footprints[\"peak_start\"] <= end) & \\\n",
    "            (start <= footprints[\"peak_end\"])\n",
    "        ]\n",
    "        mask = np.zeros(end - start, dtype=bool)\n",
    "        intervals = fps[[\"peak_start\", \"peak_end\"]].values - start\n",
    "        for interval in intervals:\n",
    "            mask[interval[0]:interval[1]] = True\n",
    "        if not np.sum(mask):\n",
    "            overlaps[i] = np.nan\n",
    "        else:\n",
    "            overlaps[i] = np.sum(score_tracks[i][mask]) / np.sum(score_tracks[i])\n",
    "    return overlaps"
   ]
  },
  {
   "cell_type": "code",
   "execution_count": null,
   "metadata": {},
   "outputs": [],
   "source": [
    "noprior_imp_fp_overlaps = compute_footprint_overlap_amount(\n",
    "    sample_coords, noprior_imp_scores * sample_input_seqs, footprints\n",
    ")\n",
    "prior_imp_fp_overlaps = compute_footprint_overlap_amount(\n",
    "    sample_coords, prior_imp_scores * sample_input_seqs, footprints\n",
    ")\n",
    "\n",
    "# Remove the NaNs, which is where no footprint was in the coordinate\n",
    "noprior_imp_fp_overlaps = noprior_imp_fp_overlaps[np.isfinite(noprior_imp_fp_overlaps)]\n",
    "prior_imp_fp_overlaps = prior_imp_fp_overlaps[np.isfinite(prior_imp_fp_overlaps)]"
   ]
  },
  {
   "cell_type": "code",
   "execution_count": null,
   "metadata": {},
   "outputs": [],
   "source": [
    "bin_num = 30\n",
    "all_vals = np.concatenate([noprior_imp_fp_overlaps, prior_imp_fp_overlaps])\n",
    "bins = np.linspace(np.min(all_vals), np.max(all_vals), bin_num)\n",
    "fig, ax = plt.subplots(figsize=(16, 8))\n",
    "ax.hist(noprior_imp_fp_overlaps, bins=bins, color=\"coral\", label=\"No prior\", alpha=0.7)\n",
    "ax.hist(prior_imp_fp_overlaps, bins=bins, color=\"slateblue\", label=\"With Fourier prior\", alpha=0.7)\n",
    "plt.legend()\n",
    "title = \"Histogram of %s overlap with %s footprints\" % (imp_type, condition_name)\n",
    "title += \"\\n%s %s models\" % (condition_name, model_type)\n",
    "title += \"\\nComputed on %d randomly drawn test peaks\" % num_samples\n",
    "plt.title(title)\n",
    "plt.xlabel(\"Proportion of importance in footprints\")\n",
    "\n",
    "print(\"Average score without priors: %f\" % np.nanmean(noprior_imp_fp_overlaps))\n",
    "print(\"Average score with priors: %f\" % np.nanmean(prior_imp_fp_overlaps))\n",
    "print(\"Standard error without priors: %f\" % scipy.stats.sem(noprior_imp_fp_overlaps))\n",
    "print(\"Standard error with priors: %f\" % scipy.stats.sem(prior_imp_fp_overlaps))\n",
    "w, p = scipy.stats.wilcoxon(prior_imp_fp_overlaps, noprior_imp_fp_overlaps, alternative=\"greater\")\n",
    "print(\"One-sided Wilcoxon test: W = %f, p = %f\" % (w, p))"
   ]
  },
  {
   "cell_type": "code",
   "execution_count": null,
   "metadata": {},
   "outputs": [],
   "source": [
    "fig, ax = plt.subplots(figsize=(8, 8))\n",
    "ax.scatter(noprior_imp_fp_overlaps, prior_imp_fp_overlaps, color=\"mediumorchid\", alpha=0.5)\n",
    "title = \"Pairwise comparison of %s overlap with %s footprints\" % (imp_type, condition_name)\n",
    "title += \"\\n%s %s models\" % (condition_name, model_type)\n",
    "title += \"\\nComputed on %d randomly drawn test peaks\" % num_samples\n",
    "plt.title(title)\n",
    "limits = [\n",
    "    np.min([ax.get_xlim(), ax.get_ylim()]),\n",
    "    np.max([ax.get_xlim(), ax.get_ylim()]),\n",
    "]\n",
    "ax.plot(limits, limits, \"--\", alpha=0.5, color=\"black\")\n",
    "ax.set_aspect(\"equal\")\n",
    "ax.set_xlim(limits)\n",
    "ax.set_ylim(limits)\n",
    "plt.xlabel(\"Proportion of importance in footprints without prior\")\n",
    "plt.ylabel(\"Proportion of importance in footprints with Fourier prior\")"
   ]
  },
  {
   "cell_type": "markdown",
   "metadata": {},
   "source": [
    "### Quantify agreement of importance windows with footprints using ranks\n",
    "Rank all of the windows by importance; do the windows at the top tend to overlap with footprints?"
   ]
  },
  {
   "cell_type": "code",
   "execution_count": null,
   "metadata": {},
   "outputs": [],
   "source": [
    "def compute_single_footprint_overlap_mask(chrom, start, end, footprints):\n",
    "    \"\"\"\n",
    "    Given a coordinate, returns a boolean mask for that coordinate\n",
    "    for which bases lie within a footprint\n",
    "    \"\"\"\n",
    "    mask = np.zeros(end - start, dtype=bool)\n",
    "    for peak_bed in peak_beds:\n",
    "        rows = footprints[\n",
    "            (footprints[\"chrom\"] == chrom) & (footprints[\"peak_start\"] <= end) & \\\n",
    "            (start <= footprints[\"peak_end\"])\n",
    "        ]\n",
    "        intervals = rows[[\"peak_start\", \"peak_end\"]].values - start\n",
    "        for interval in intervals:\n",
    "            mask[interval[0]:interval[1]] = True\n",
    "    return mask"
   ]
  },
  {
   "cell_type": "code",
   "execution_count": null,
   "metadata": {},
   "outputs": [],
   "source": [
    "def compute_single_footprint_overlap_mask(chrom, start, end, footprints):\n",
    "    \"\"\"\n",
    "    Given a coordinate, returns a boolean mask for that coordinate\n",
    "    for which bases lie within a footprint\n",
    "    \"\"\"\n",
    "    mask = np.zeros(end - start, dtype=bool)\n",
    "    rows = footprints[\n",
    "        (footprints[\"chrom\"] == chrom) & (footprints[\"peak_start\"] <= end) & \\\n",
    "        (start <= footprints[\"peak_end\"])\n",
    "    ]\n",
    "    intervals = rows[[\"peak_start\", \"peak_end\"]].values - start\n",
    "    for interval in intervals:\n",
    "        mask[interval[0]:interval[1]] = True\n",
    "    return mask\n",
    "\n",
    "def compute_footprint_overlap_mask(coords, footprints):\n",
    "    \"\"\"\n",
    "    Given a sample of N coordinates or bins, extracts a boolean mask\n",
    "    denoting which locations in each sample overlap a footprint.\n",
    "    Returns an N x I boolean array, where each subarray is a boolean mask\n",
    "    for which bases in that coordinate lie within a footprint.\n",
    "    \"\"\"\n",
    "    masks = []\n",
    "    for coord in tqdm.notebook.tqdm(coords):\n",
    "        # Pad to profile length\n",
    "        masks.append(compute_single_footprint_overlap_mask(coord[0], coord[1], coord[2], footprints))\n",
    "    return np.stack(masks, axis=0)"
   ]
  },
  {
   "cell_type": "code",
   "execution_count": null,
   "metadata": {},
   "outputs": [],
   "source": [
    "def compute_windowed_footprint_overlap_mask(scores, one_hot_seqs, seq_footprint_masks, window_size=10):\n",
    "    \"\"\"\n",
    "    Windowing by `window_size`, computes the total importance magnitude for the\n",
    "    actual importance in each window, and identifies which windows overlap a footprint.\n",
    "    Returns a boolean NumPy array denoting which windows overlap a peak, sorted in\n",
    "    descending order of window importance, and the indices of each window. This requires\n",
    "    a mask of whether or not each base in each input sequence overlaps a footprint,\n",
    "    computed by `compute_footprint_overlap_mask`.\n",
    "    \"\"\"\n",
    "    num_samples = len(scores)\n",
    "    all_window_imps, all_footprint_masks = [], []\n",
    "    all_window_inds = []\n",
    "    for i in tqdm.notebook.trange(num_samples):\n",
    "        score_track = np.sum(np.abs(scores[i] * one_hot_seqs[i]), axis=1)  # Actual importance\n",
    "        num_windows = len(score_track) - window_size + 1\n",
    "        \n",
    "        # Compute windowed peak mask\n",
    "        window_locs = np.arange(num_windows) + ((len(score_track) - num_windows) / 2)\n",
    "        windowed_footprint_mask = seq_footprint_masks[i][window_locs.astype(int)]\n",
    "        \n",
    "        # Compute sum of importance in each window\n",
    "        importances = np.empty(num_windows)\n",
    "        for j in range(num_windows):\n",
    "            importances[j] = np.sum(score_track[j : j + window_size])\n",
    "            all_window_inds.append([i, j])\n",
    "        \n",
    "        all_window_imps.append(importances)\n",
    "        all_footprint_masks.append(windowed_footprint_mask)\n",
    "    \n",
    "    window_imps, all_footprint_masks = np.concatenate(all_window_imps), np.concatenate(all_footprint_masks)\n",
    "    all_window_inds = np.stack(all_window_inds)\n",
    "    return all_footprint_masks[np.flip(np.argsort(window_imps))], all_window_inds[np.flip(np.argsort(window_imps))]"
   ]
  },
  {
   "cell_type": "code",
   "execution_count": null,
   "metadata": {},
   "outputs": [],
   "source": [
    "def normed_rank_enrichment(ordered_mask):\n",
    "    \"\"\"\n",
    "    From a binary mask array (in order from best to worst thresholds), computes\n",
    "    the rank enrichment at each threshold. Specifically, this computes a\n",
    "    normalized CDF of how many 1s are seen in the first k instances.\n",
    "    \"\"\"\n",
    "    cdf = np.cumsum(ordered_mask)\n",
    "    # To normalize, divide by the expectation if there all 1s were spread\n",
    "    # out evenly across the instances\n",
    "    expectation = np.sum(ordered_mask) / len(ordered_mask) * np.arange(1, len(cdf) + 1)\n",
    "    return cdf / expectation"
   ]
  },
  {
   "cell_type": "code",
   "execution_count": null,
   "metadata": {},
   "outputs": [],
   "source": [
    "window_size = 1"
   ]
  },
  {
   "cell_type": "code",
   "execution_count": null,
   "metadata": {},
   "outputs": [],
   "source": [
    "footprint_masks = compute_footprint_overlap_mask(sample_coords, footprints)\n",
    "noprior_window_overlap_mask, noprior_windows = compute_windowed_footprint_overlap_mask(\n",
    "    noprior_imp_scores, sample_input_seqs, footprint_masks, window_size=window_size\n",
    ")\n",
    "prior_window_overlap_mask, prior_windows = compute_windowed_footprint_overlap_mask(\n",
    "    prior_imp_scores, sample_input_seqs, footprint_masks, window_size=window_size\n",
    ")\n",
    "noprior_window_overlap_cdf = normed_rank_enrichment(noprior_window_overlap_mask)\n",
    "prior_window_overlap_cdf = normed_rank_enrichment(prior_window_overlap_mask)"
   ]
  },
  {
   "cell_type": "code",
   "execution_count": null,
   "metadata": {},
   "outputs": [],
   "source": [
    "def show(indexes):\n",
    "    i, j = indexes\n",
    "    print(j)\n",
    "    print(sample_coords[i])\n",
    "    plt.figure(figsize=(20, 3))\n",
    "    plt.plot(np.sum(prior_imp_scores[i] * sample_input_seqs[i], axis=1))\n",
    "    plt.show()\n",
    "    viz_sequence.plot_weights(prior_imp_scores[i][j - 10: j + 10])\n",
    "    viz_sequence.plot_weights((prior_imp_scores[i] * sample_input_seqs[i])[j - 10: j + 10])\n",
    "    \n",
    "    plt.figure(figsize=(20, 3))\n",
    "    plt.plot(np.sum(noprior_imp_scores[i] * sample_input_seqs[i], axis=1))\n",
    "    plt.show()\n",
    "    viz_sequence.plot_weights(noprior_imp_scores[i][j - 10: j + 10])\n",
    "    viz_sequence.plot_weights((noprior_imp_scores[i] * sample_input_seqs[i])[j - 10: j + 10])"
   ]
  },
  {
   "cell_type": "code",
   "execution_count": null,
   "metadata": {},
   "outputs": [],
   "source": [
    "inds = np.where(~prior_window_overlap_mask[:1000])[0]\n",
    "print(inds)\n",
    "# show(prior_windows[845])\n",
    "# show(prior_windows[783])"
   ]
  },
  {
   "cell_type": "code",
   "execution_count": null,
   "metadata": {},
   "outputs": [],
   "source": [
    "# Save all the missed sequences\n",
    "save_file = \"/users/amtseng/att_priors/results/missed_seqlets/%s_%s_missed_seqlets.h5\" % (condition_name, model_type)\n",
    "with h5py.File(save_file, \"w\") as f:\n",
    "    f.create_dataset(\"input_seqs\", data=sample_input_seqs)\n",
    "    f.create_dataset(\"prior_hyp_scores\", data=prior_imp_scores)\n",
    "    f.create_dataset(\"noprior_hyp_scores\", data=noprior_imp_scores)\n",
    "    f.create_dataset(\"prior_ranked_bases\", data=prior_windows)\n",
    "    f.create_dataset(\"noprior_ranked_bases\", data=noprior_windows)\n",
    "    f.create_dataset(\"prior_missed_inds\", data=np.where(~prior_window_overlap_mask)[0])\n",
    "    f.create_dataset(\"noprior_missed_inds\", data=np.where(~noprior_window_overlap_mask)[0])"
   ]
  },
  {
   "cell_type": "code",
   "execution_count": null,
   "metadata": {},
   "outputs": [],
   "source": [
    "fig, ax = plt.subplots(2, 1, figsize=(20, 10), sharex=True)\n",
    "title = \"Cumulative footprint overlap over bases ranked by %s\" % imp_type\n",
    "title += \"\\n%s %s models\" % (condition_name, model_type)\n",
    "title += \"\\nComputed on %d randomly drawn test peaks\" % num_samples\n",
    "fig.suptitle(title)\n",
    "ax[0].plot(np.cumsum(noprior_window_overlap_mask), label=\"No prior\", color=\"coral\")\n",
    "ax[0].plot(np.cumsum(prior_window_overlap_mask), label=\"With Fourier prior\", color=\"slateblue\")\n",
    "ax[0].set_ylabel(\"Number of bases in footprints (x1000)\")\n",
    "ax[0].set_yticklabels((ax[0].get_yticks() / 1000).astype(int))\n",
    "ax[1].plot(noprior_window_overlap_cdf, label=\"No prior\", color=\"coral\")\n",
    "ax[1].plot(prior_window_overlap_cdf, label=\"With Fourier prior\", color=\"slateblue\")\n",
    "ax[1].set_ylabel(\"Enrichment of number of bases\")\n",
    "fig.text(0.45, 0.05, \"Top k bases by importance\", fontsize=18)\n",
    "plt.legend()"
   ]
  },
  {
   "cell_type": "code",
   "execution_count": null,
   "metadata": {},
   "outputs": [],
   "source": [
    "noprior_precis, noprior_recall, _ = sklearn.metrics.precision_recall_curve(\n",
    "    noprior_window_overlap_mask.astype(int),\n",
    "    np.flip(np.arange(len(noprior_window_overlap_mask))) / len(noprior_window_overlap_mask)\n",
    ")\n",
    "prior_precis, prior_recall, _ = sklearn.metrics.precision_recall_curve(\n",
    "    prior_window_overlap_mask.astype(int),\n",
    "    np.flip(np.arange(len(prior_window_overlap_mask))) / len(prior_window_overlap_mask)\n",
    ")"
   ]
  },
  {
   "cell_type": "code",
   "execution_count": null,
   "metadata": {},
   "outputs": [],
   "source": [
    "fig, ax = plt.subplots(figsize=(20, 5))\n",
    "title = \"Precision - Recall of footprint overlap in top bases by %s\" % imp_type\n",
    "title += \"\\n%s %s models\" % (condition_name, model_type)\n",
    "title += \"\\nComputed on %d randomly drawn test peaks\" % num_samples\n",
    "plt.title(title)\n",
    "plt.plot(noprior_recall[:-1], noprior_precis[:-1], color=\"coral\", label=\"No prior\")\n",
    "plt.plot(prior_recall[:-1], prior_precis[:-1], color=\"slateblue\", label=\"With Fourier prior\")\n",
    "plt.xlabel(\"Recall\")\n",
    "plt.ylabel(\"Precision\")\n",
    "plt.legend()\n",
    "\n",
    "print(\"auPRC without priors: %f\" % sklearn.metrics.auc(noprior_recall[:-1], noprior_precis[:-1]))\n",
    "print(\"auPRC with priors: %f\" % sklearn.metrics.auc(prior_recall[:-1], prior_precis[:-1]))"
   ]
  },
  {
   "cell_type": "markdown",
   "metadata": {},
   "source": [
    "### Obtain motif instance calls\n",
    "Subset to the coordinates we are looking at currently"
   ]
  },
  {
   "cell_type": "code",
   "execution_count": null,
   "metadata": {},
   "outputs": [],
   "source": [
    "def get_motif_instances_in_sample(coords, imp_scores, fimo_table):\n",
    "    \"\"\"\n",
    "    From an N x 3 object array of coordinates, and an imported FIMO results\n",
    "    table, fetches the coordinates of the motif calls that overlap `coord`,\n",
    "    ordered by total actual importance in `imp_scores`, an N x I x 4 array.\n",
    "    \"\"\"\n",
    "    fimo_table_uniq = fimo_table.drop_duplicates([\"sequence_name\", \"start\", \"stop\"])\n",
    "    motif_coords, scores = [], []\n",
    "    for i, coord in tqdm.notebook.tqdm(enumerate(coords), total=len(coords)):\n",
    "        chrom, start, end = coord\n",
    "        rows = fimo_table_uniq[\n",
    "            (fimo_table_uniq[\"sequence_name\"] == chrom) & (fimo_table_uniq[\"start\"] >= start) & \\\n",
    "            (fimo_table_uniq[\"stop\"] <= end)  # Take motif calls that lie entirely in the coordinate\n",
    "        ]\n",
    "        for _, row in rows.iterrows():\n",
    "            motif_coords.append([row[\"sequence_name\"], row[\"start\"], row[\"stop\"]])\n",
    "            seq_start = row[\"start\"] - start\n",
    "            seq_end = row[\"stop\"] - end\n",
    "            scores.append(np.sum(np.abs(imp_scores[i][seq_start:seq_end])))\n",
    "            \n",
    "    motif_coords = np.array(motif_coords, dtype=object)\n",
    "    scores = np.array(scores)\n",
    "    \n",
    "    inds = np.flip(np.argsort(scores))\n",
    "    return motif_coords[inds]"
   ]
  },
  {
   "cell_type": "code",
   "execution_count": null,
   "metadata": {
    "scrolled": true
   },
   "outputs": [],
   "source": [
    "noprior_motif_coords, prior_motif_coords = [], []\n",
    "for i in range(len(tf_names)):\n",
    "    noprior_motif_coords.append(\n",
    "        get_motif_instances_in_sample(\n",
    "            sample_coords, (noprior_imp_scores * sample_input_seqs), fimo_results[i]\n",
    "        )\n",
    "    )\n",
    "    prior_motif_coords.append(\n",
    "        get_motif_instances_in_sample(\n",
    "            sample_coords, (prior_imp_scores * sample_input_seqs), fimo_results[i]\n",
    "        )\n",
    "    )"
   ]
  },
  {
   "cell_type": "markdown",
   "metadata": {},
   "source": [
    "### Quantify agreement of motif instances with footprints using ranks\n",
    "This is done over all footprints in conjunction."
   ]
  },
  {
   "cell_type": "code",
   "execution_count": null,
   "metadata": {},
   "outputs": [],
   "source": [
    "def compute_footprint_overlap(coords, footprints):\n",
    "    \"\"\"\n",
    "    From an N x 3 object array of coordinates and a table of imported footprints,\n",
    "    this function determines which coordinates overlap with a footprint.\n",
    "    Returns a N-array binary mask, denoting which coordinates overlap with a\n",
    "    footprint.\n",
    "    \"\"\"\n",
    "    mask = np.zeros(len(coords), dtype=int)\n",
    "    for i in tqdm.notebook.trange(len(coords)):\n",
    "        chrom, start, end = coords[i]\n",
    "        fps = footprints[\n",
    "            (footprints[\"chrom\"] == chrom) & (footprints[\"peak_start\"] <= end) & \\\n",
    "            (start <= footprints[\"peak_end\"])\n",
    "        ]\n",
    "        if len(fps):\n",
    "            mask[i] = 1\n",
    "    return mask"
   ]
  },
  {
   "cell_type": "code",
   "execution_count": null,
   "metadata": {
    "scrolled": true
   },
   "outputs": [],
   "source": [
    "noprior_motif_overlap_masks, prior_motif_overlap_masks = [], []\n",
    "noprior_motif_overlap_cdfs, prior_motif_overlap_cdfs = [], []\n",
    "for i in range(len(tf_names)):\n",
    "    noprior_motif_overlap_mask = compute_footprint_overlap(\n",
    "        noprior_motif_coords[i][:10000], footprints\n",
    "    )\n",
    "    prior_motif_overlap_mask = compute_footprint_overlap(\n",
    "        prior_motif_coords[i][:10000], footprints\n",
    "    )\n",
    "    noprior_motif_overlap_cdf = normed_rank_enrichment(noprior_motif_overlap_mask)\n",
    "    prior_motif_overlap_cdf = normed_rank_enrichment(prior_motif_overlap_mask)\n",
    "    noprior_motif_overlap_masks.append(noprior_motif_overlap_mask)\n",
    "    prior_motif_overlap_masks.append(prior_motif_overlap_mask)\n",
    "    noprior_motif_overlap_cdfs.append(noprior_motif_overlap_cdf)\n",
    "    prior_motif_overlap_cdfs.append(prior_motif_overlap_cdf)"
   ]
  },
  {
   "cell_type": "code",
   "execution_count": null,
   "metadata": {
    "scrolled": false
   },
   "outputs": [],
   "source": [
    "for i in range(len(tf_names)):\n",
    "    top_limit = 10000\n",
    "    fig, ax = plt.subplots(1, 3, figsize=(20, 6))\n",
    "    title = \"Cumulative %s footprint overlap in top motif calls for %s by %s\" % (condition_name, tf_names[i], imp_type)\n",
    "    title += \"\\n%s %s models\" % (condition_name, model_type)\n",
    "    title += \"\\nOver %d random test peaks\" % len(sample)\n",
    "    fig.suptitle(title)\n",
    "    ax[0].plot(np.cumsum(noprior_motif_overlap_masks[i][:top_limit]), label=\"No prior\", color=\"red\")\n",
    "    ax[0].plot(np.cumsum(prior_motif_overlap_masks[i][:top_limit]), label=\"With Fourier prior\", color=\"blue\")\n",
    "    ax[0].set_ylabel(\"Number of overlapping motif calls\")\n",
    "    ax[1].plot(np.cumsum(noprior_motif_overlap_masks[i]), label=\"No prior\", color=\"red\")\n",
    "    ax[1].plot(np.cumsum(prior_motif_overlap_masks[i]), label=\"With Fourier prior\", color=\"blue\")\n",
    "    ax[1].set_ylabel(\"Number of overlapping motif calls\")\n",
    "    ax[2].plot(noprior_motif_overlap_cdfs[i], label=\"No prior\", color=\"red\")\n",
    "    ax[2].plot(prior_motif_overlap_cdfs[i], label=\"With Fourier prior\", color=\"blue\")\n",
    "    ax[2].set_ylabel(\"Hypergeometric enrichment of number of overlapping motif calls\")\n",
    "    fig.text(0.45, 0.05, \"Top k motifs calls by importance\")\n",
    "    plt.legend()"
   ]
  },
  {
   "cell_type": "code",
   "execution_count": null,
   "metadata": {},
   "outputs": [],
   "source": [
    "noprior_prs, prior_prs = [], []\n",
    "for i in range(len(tf_names)):\n",
    "    noprior_prs.append(\n",
    "        sklearn.metrics.precision_recall_curve(\n",
    "            noprior_motif_overlap_masks[i].astype(int),\n",
    "            np.flip(np.arange(len(noprior_motif_overlap_masks[i]))) / len(noprior_motif_overlap_masks[i])\n",
    "        )\n",
    "    )\n",
    "    prior_prs.append(\n",
    "        sklearn.metrics.precision_recall_curve(\n",
    "            prior_motif_overlap_masks[i].astype(int),\n",
    "            np.flip(np.arange(len(prior_motif_overlap_masks[i]))) / len(prior_motif_overlap_masks[i])\n",
    "        )\n",
    "    )"
   ]
  },
  {
   "cell_type": "code",
   "execution_count": null,
   "metadata": {
    "scrolled": false
   },
   "outputs": [],
   "source": [
    "for i in range(len(tf_names)):\n",
    "    plt.figure()\n",
    "    title = \"Precision - Recall of %s footprint overlap in top motif calls for %s by %s\" % (condition_name, tf_names[i], imp_type)\n",
    "    title += \"\\n%s %s models\" % (condition_name, model_type)\n",
    "    title += \"\\nOver %d random test peaks\" % len(sample)\n",
    "    plt.title(title)\n",
    "    plt.plot(noprior_prs[i][1], noprior_prs[i][0], color=\"red\", label=\"No prior\")\n",
    "    plt.plot(prior_prs[i][1], prior_prs[i][0], color=\"blue\", label=\"With Fourier prior\")\n",
    "    plt.xlabel(\"Recall\")\n",
    "    plt.ylabel(\"Precision\")\n",
    "    plt.legend()"
   ]
  },
  {
   "cell_type": "markdown",
   "metadata": {},
   "source": [
    "### Quantify agreement of motif instances with ChIP-seq peaks using ranks"
   ]
  },
  {
   "cell_type": "code",
   "execution_count": null,
   "metadata": {},
   "outputs": [],
   "source": [
    "noprior_motif_overlap_masks, prior_motif_overlap_masks = [], []\n",
    "noprior_motif_overlap_cdfs, prior_motif_overlap_cdfs = [], []\n",
    "for i in range(len(tf_names)):\n",
    "    noprior_motif_overlap_mask = compute_footprint_overlap(\n",
    "        noprior_motif_coords[i][:10000], chipseq_peaks[i]\n",
    "    )\n",
    "    prior_motif_overlap_mask = compute_footprint_overlap(\n",
    "        prior_motif_coords[i][:10000], chipseq_peaks[i]\n",
    "    )\n",
    "    noprior_motif_overlap_cdf = normed_rank_enrichment(noprior_motif_overlap_mask)\n",
    "    prior_motif_overlap_cdf = normed_rank_enrichment(prior_motif_overlap_mask)\n",
    "    noprior_motif_overlap_masks.append(noprior_motif_overlap_mask)\n",
    "    prior_motif_overlap_masks.append(prior_motif_overlap_mask)\n",
    "    noprior_motif_overlap_cdfs.append(noprior_motif_overlap_cdf)\n",
    "    prior_motif_overlap_cdfs.append(prior_motif_overlap_cdf)"
   ]
  },
  {
   "cell_type": "code",
   "execution_count": null,
   "metadata": {},
   "outputs": [],
   "source": [
    "for i in range(len(tf_names)):\n",
    "    top_limit = 10000\n",
    "    fig, ax = plt.subplots(1, 3, figsize=(20, 6))\n",
    "    title = \"Cumulative %s ChIP-seq peak overlap in top motif calls for %s by %s\" % (condition_name, tf_names[i], imp_type)\n",
    "    title += \"\\n%s %s models\" % (condition_name, model_type)\n",
    "    title += \"\\nOver %d random test peaks\" % len(sample)\n",
    "    fig.suptitle(title)\n",
    "    ax[0].plot(np.cumsum(noprior_motif_overlap_masks[i][:top_limit]), label=\"No prior\", color=\"red\")\n",
    "    ax[0].plot(np.cumsum(prior_motif_overlap_masks[i][:top_limit]), label=\"With Fourier prior\", color=\"blue\")\n",
    "    ax[0].set_ylabel(\"Number of overlapping motif calls\")\n",
    "    ax[1].plot(np.cumsum(noprior_motif_overlap_masks[i]), label=\"No prior\", color=\"red\")\n",
    "    ax[1].plot(np.cumsum(prior_motif_overlap_masks[i]), label=\"With Fourier prior\", color=\"blue\")\n",
    "    ax[1].set_ylabel(\"Number of overlapping motif calls\")\n",
    "    ax[2].plot(noprior_motif_overlap_cdfs[i], label=\"No prior\", color=\"red\")\n",
    "    ax[2].plot(prior_motif_overlap_cdfs[i], label=\"With Fourier prior\", color=\"blue\")\n",
    "    ax[2].set_ylabel(\"Hypergeometric enrichment of number of overlapping motif calls\")\n",
    "    fig.text(0.45, 0.05, \"Top k motifs calls by importance\")\n",
    "    plt.legend()"
   ]
  },
  {
   "cell_type": "code",
   "execution_count": null,
   "metadata": {},
   "outputs": [],
   "source": [
    "noprior_prs, prior_prs = [], []\n",
    "for i in range(len(tf_names)):\n",
    "    noprior_prs.append(\n",
    "        sklearn.metrics.precision_recall_curve(\n",
    "            noprior_motif_overlap_masks[i].astype(int),\n",
    "            np.flip(np.arange(len(noprior_motif_overlap_masks[i]))) / len(noprior_motif_overlap_masks[i])\n",
    "        )\n",
    "    )\n",
    "    prior_prs.append(\n",
    "        sklearn.metrics.precision_recall_curve(\n",
    "            prior_motif_overlap_masks[i].astype(int),\n",
    "            np.flip(np.arange(len(prior_motif_overlap_masks[i]))) / len(prior_motif_overlap_masks[i])\n",
    "        )\n",
    "    )"
   ]
  },
  {
   "cell_type": "code",
   "execution_count": null,
   "metadata": {},
   "outputs": [],
   "source": [
    "for i in range(len(tf_names)):\n",
    "    plt.figure()\n",
    "    title = \"Precision - Recall of %s ChIP-seq peak overlap in top motif calls for %s by %s\" % (condition_name, tf_names[i], imp_type)\n",
    "    title += \"\\n%s %s models\" % (condition_name, model_type)\n",
    "    title += \"\\nOver %d random test peaks\" % len(sample)\n",
    "    plt.title(title)\n",
    "    plt.plot(noprior_prs[i][1], noprior_prs[i][0], color=\"red\", label=\"No prior\")\n",
    "    plt.plot(prior_prs[i][1], prior_prs[i][0], color=\"blue\", label=\"With Fourier prior\")\n",
    "    plt.xlabel(\"Recall\")\n",
    "    plt.ylabel(\"Precision\")\n",
    "    plt.legend()"
   ]
  }
 ],
 "metadata": {
  "kernelspec": {
   "display_name": "Python 3",
   "language": "python",
   "name": "python3"
  },
  "language_info": {
   "codemirror_mode": {
    "name": "ipython",
    "version": 3
   },
   "file_extension": ".py",
   "mimetype": "text/x-python",
   "name": "python",
   "nbconvert_exporter": "python",
   "pygments_lexer": "ipython3",
   "version": "3.7.4"
  }
 },
 "nbformat": 4,
 "nbformat_minor": 2
}

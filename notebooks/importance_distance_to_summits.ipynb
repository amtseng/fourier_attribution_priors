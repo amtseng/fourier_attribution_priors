{
 "cells": [
  {
   "cell_type": "code",
   "execution_count": 2,
   "metadata": {},
   "outputs": [
    {
     "name": "stderr",
     "output_type": "stream",
     "text": [
      "/users/amtseng/miniconda3/envs/att-priors/lib/python3.7/site-packages/ipykernel_launcher.py:19: TqdmDeprecationWarning: This function will be removed in tqdm==5.0.0\n",
      "Please use `tqdm.notebook.tqdm` instead of `tqdm.tqdm_notebook`\n"
     ]
    },
    {
     "data": {
      "application/vnd.jupyter.widget-view+json": {
       "model_id": "10cb666f30cd44aabbdaf8853ee023e1",
       "version_major": 2,
       "version_minor": 0
      },
      "text/plain": [
       "HBox(children=(FloatProgress(value=1.0, bar_style='info', max=1.0), HTML(value='')))"
      ]
     },
     "metadata": {},
     "output_type": "display_data"
    },
    {
     "data": {
      "text/plain": [
       "|<bar/>| 0/? [00:00<?, ?it/s]"
      ]
     },
     "execution_count": 2,
     "metadata": {},
     "output_type": "execute_result"
    }
   ],
   "source": [
    "import sys\n",
    "import os\n",
    "sys.path.append(os.path.abspath(\"../src/\"))\n",
    "import extract.data_loading as data_loading\n",
    "import extract.compute_predictions as compute_predictions\n",
    "import extract.compute_shap as compute_shap\n",
    "import extract.compute_ism as compute_ism\n",
    "import model.util as model_util\n",
    "import model.profile_models as profile_models\n",
    "import model.binary_models as binary_models\n",
    "import plot.viz_sequence as viz_sequence\n",
    "import torch\n",
    "import numpy as np\n",
    "import scipy.stats\n",
    "import pandas as pd\n",
    "import matplotlib.pyplot as plt\n",
    "import json\n",
    "import tqdm\n",
    "tqdm.tqdm_notebook()  # It is necessary to call this before the tqdm.notebook submodule is available"
   ]
  },
  {
   "cell_type": "markdown",
   "metadata": {},
   "source": [
    "### Define paths for the model and data of interest"
   ]
  },
  {
   "cell_type": "code",
   "execution_count": 48,
   "metadata": {},
   "outputs": [],
   "source": [
    "model_type = \"binary\""
   ]
  },
  {
   "cell_type": "code",
   "execution_count": 49,
   "metadata": {},
   "outputs": [],
   "source": [
    "# Shared paths/constants\n",
    "reference_fasta = \"/users/amtseng/genomes/hg38.fasta\"\n",
    "chrom_sizes = \"/users/amtseng/genomes/hg38.canon.chrom.sizes\"\n",
    "data_base_path = \"/users/amtseng/att_priors/data/processed/\"\n",
    "model_base_path = \"/users/amtseng/att_priors/models/trained_models/%s/\" % model_type\n",
    "chrom_set = [\"chr1\"]\n",
    "input_length = 1346 if model_type == \"profile\" else 1000\n",
    "profile_length = 1000"
   ]
  },
  {
   "cell_type": "code",
   "execution_count": 50,
   "metadata": {},
   "outputs": [],
   "source": [
    "# SPI1\n",
    "files_spec_path = os.path.join(data_base_path, \"ENCODE_TFChIP/%s/config/SPI1/SPI1_training_paths.json\" % model_type)\n",
    "num_tasks = 4\n",
    "num_strands = 2\n",
    "controls = \"matched\"\n",
    "if model_type == \"profile\":\n",
    "    model_class = profile_models.ProfilePredictorWithMatchedControls\n",
    "else:\n",
    "    model_class = binary_models.BinaryPredictor\n",
    "noprior_model_path = os.path.join(model_base_path, \"SPI1/2/model_ckpt_epoch_2.pt\")\n",
    "prior_model_path = os.path.join(model_base_path, \"SPI1_prior/3/model_ckpt_epoch_7.pt\")\n",
    "# noprior_model_path = os.path.join(model_base_path, \"SPI1/4/model_ckpt_epoch_19.pt\")\n",
    "# prior_model_path = os.path.join(model_base_path, \"SPI1_prior/1/model_ckpt_epoch_12.pt\")"
   ]
  },
  {
   "cell_type": "code",
   "execution_count": 24,
   "metadata": {},
   "outputs": [],
   "source": [
    "# GATA2\n",
    "files_spec_path = os.path.join(data_base_path, \"ENCODE_TFChIP/%s/config/GATA2/GATA2_training_paths.json\" % model_type)\n",
    "num_tasks = 3\n",
    "num_strands = 2\n",
    "controls = \"matched\"\n",
    "if model_type == \"profile\":\n",
    "    model_class = profile_models.ProfilePredictorWithMatchedControls\n",
    "else:\n",
    "    model_class = binary_models.BinaryPredictor\n",
    "noprior_model_path = os.path.join(model_base_path, \"GATA2/4/model_ckpt_epoch_1.pt\")\n",
    "prior_model_path = os.path.join(model_base_path, \"GATA2_prior/3/model_ckpt_epoch_4.pt\")"
   ]
  },
  {
   "cell_type": "code",
   "execution_count": 32,
   "metadata": {},
   "outputs": [],
   "source": [
    "# Extract the set of peak BEDs; this is hacky way to do it\n",
    "profile_files_spec_path = files_spec_path.replace(\"binary\", \"profile\")\n",
    "with open(profile_files_spec_path, \"r\") as f:\n",
    "    spec = json.load(f)\n",
    "    peak_bed_paths = spec[\"peak_beds\"]"
   ]
  },
  {
   "cell_type": "code",
   "execution_count": 51,
   "metadata": {},
   "outputs": [],
   "source": [
    "# Import the peak BEDs; in the meantime, add a column for the actual\n",
    "# summit position, not just the offset with respect to the peak\n",
    "peak_beds = []\n",
    "for peak_bed_path in peak_bed_paths:\n",
    "    table = pd.read_csv(\n",
    "        peak_bed_path, sep=\"\\t\", header=None,  # Infer compression\n",
    "        names=[\n",
    "            \"chrom\", \"peak_start\", \"peak_end\", \"name\", \"score\",\n",
    "            \"strand\", \"signal\", \"pval\", \"qval\", \"summit_offset\"\n",
    "        ]\n",
    "    )\n",
    "    table = table[table[\"chrom\"].isin(chrom_set)]\n",
    "    table[\"summit_pos\"] = table[\"peak_start\"] + table[\"summit_offset\"]\n",
    "    peak_beds.append(table)"
   ]
  },
  {
   "cell_type": "code",
   "execution_count": 10,
   "metadata": {},
   "outputs": [],
   "source": [
    "torch.set_grad_enabled(True)\n",
    "device = torch.device(\"cuda\") if torch.cuda.is_available() else torch.device(\"cpu\")"
   ]
  },
  {
   "cell_type": "code",
   "execution_count": 11,
   "metadata": {},
   "outputs": [],
   "source": [
    "def restore_model(model_path):\n",
    "    model = model_util.restore_model(model_class, model_path)\n",
    "    model.eval()\n",
    "    model = model.to(device)\n",
    "    return model"
   ]
  },
  {
   "cell_type": "code",
   "execution_count": 52,
   "metadata": {},
   "outputs": [],
   "source": [
    "# Import the model without priors\n",
    "noprior_model = restore_model(noprior_model_path)"
   ]
  },
  {
   "cell_type": "code",
   "execution_count": 53,
   "metadata": {},
   "outputs": [],
   "source": [
    "# Import the model with priors\n",
    "prior_model = restore_model(prior_model_path)"
   ]
  },
  {
   "cell_type": "markdown",
   "metadata": {},
   "source": [
    "### Data preparation\n",
    "Create an input data loader, that maps coordinates or bin indices to data needed for the model. We'll also need to be able to determine the location of the summit for each coordinate. This is a little more tricky for binary models."
   ]
  },
  {
   "cell_type": "code",
   "execution_count": 54,
   "metadata": {},
   "outputs": [],
   "source": [
    "if model_type == \"profile\":\n",
    "    input_func = data_loading.get_profile_input_func(\n",
    "        files_spec_path, input_length, profile_length, reference_fasta\n",
    "    )\n",
    "    pos_examples = data_loading.get_positive_profile_coords(\n",
    "        files_spec_path, chrom_set=chrom_set\n",
    "    )\n",
    "else:\n",
    "    input_func = data_loading.get_binary_input_func(\n",
    "        files_spec_path, input_length, reference_fasta\n",
    "    )\n",
    "    pos_examples = data_loading.get_positive_binary_bins(\n",
    "        files_spec_path, chrom_set=chrom_set\n",
    "    )"
   ]
  },
  {
   "cell_type": "code",
   "execution_count": 15,
   "metadata": {},
   "outputs": [],
   "source": [
    "def get_summit_location(chrom, start, end):\n",
    "    \"\"\"\n",
    "    Gets the locations of all summits that overlap this interval,\n",
    "    relative to the given start and end.\n",
    "    \"\"\"\n",
    "    summits = []\n",
    "    for peak_bed in peak_beds:\n",
    "        rows = peak_bed[\n",
    "            (peak_bed[\"chrom\"] == chrom) & \\\n",
    "            (peak_bed[\"summit_pos\"] >= start) & \\\n",
    "            (peak_bed[\"summit_pos\"] < end)\n",
    "        ]\n",
    "        if not len(rows):\n",
    "            continue\n",
    "        summits.extend(list(rows[\"summit_pos\"] - start))\n",
    "    return summits"
   ]
  },
  {
   "cell_type": "markdown",
   "metadata": {},
   "source": [
    "### Compute importances"
   ]
  },
  {
   "cell_type": "code",
   "execution_count": 55,
   "metadata": {},
   "outputs": [],
   "source": [
    "# Pick a sample of 100 random coordinates/bins\n",
    "num_samples = 100\n",
    "sample = pos_examples[np.random.choice(len(pos_examples), size=num_samples, replace=False)]"
   ]
  },
  {
   "cell_type": "code",
   "execution_count": 17,
   "metadata": {},
   "outputs": [],
   "source": [
    "def compute_summits(sample):\n",
    "    \"\"\"\n",
    "    Given a sample of N coordinates or bins, extracts the set of summit\n",
    "    as offsets to the sample coordinates. Returns an N x 3 object array\n",
    "    of coordinates (may just be `sample`), and a list of N sublists, with\n",
    "    each sublist being the set of overlapping summit offsets.\n",
    "    \"\"\"\n",
    "    summits = []\n",
    "    if model_type == \"profile\":\n",
    "        for coord in tqdm.notebook.tqdm(sample):\n",
    "            # Pad to profile length\n",
    "            start = ((coord[1] + coord[2]) // 2) - (profile_length // 2)\n",
    "            end = start + profile_length\n",
    "            summits.append(get_summit_location(coord[0], start, end))\n",
    "        return sample, summits\n",
    "    else:\n",
    "        coords = np.empty((len(sample), 3), dtype=object)\n",
    "        for i in tqdm.notebook.trange(len(sample)):\n",
    "            coord = input_func(np.array([sample[i]]))[2][0]\n",
    "            coords[i] = coord\n",
    "            summits.append(get_summit_location(coord[0], coord[1], coord[2]))\n",
    "        return coords, summits"
   ]
  },
  {
   "cell_type": "code",
   "execution_count": 18,
   "metadata": {},
   "outputs": [],
   "source": [
    "def compute_gradients(model, sample):\n",
    "    \"\"\"\n",
    "    Given an array of N coordinates or bins, computes the input gradients\n",
    "    for the model, returning an N x I x 4 array of gradient values and an\n",
    "    N x I x 4 array of one-hot encoded sequence.\n",
    "    \"\"\"\n",
    "    if model_type == \"profile\":\n",
    "        results = compute_predictions.get_profile_model_predictions(                                              \n",
    "            model, sample, num_tasks, input_func, controls=controls,                        \n",
    "            return_losses=False, return_gradients=True, show_progress=True                                         \n",
    "        )\n",
    "    else:\n",
    "        results = compute_predictions.get_binary_model_predictions(                                              \n",
    "            model, sample, input_func,                      \n",
    "            return_losses=False, return_gradients=True, show_progress=True                                         \n",
    "        )\n",
    "    return results[\"input_grads\"], results[\"input_seqs\"]"
   ]
  },
  {
   "cell_type": "code",
   "execution_count": 42,
   "metadata": {},
   "outputs": [],
   "source": [
    "def compute_shap_scores(model, sample, batch_size=128):\n",
    "    \"\"\"\n",
    "    Given an array of N coordinates or bins, computes the SHAP scores\n",
    "    for the model, returning an N x I x 4 array of SHAP scores and an\n",
    "    N x I x 4 array of one-hot encoded sequence.\n",
    "    \"\"\"\n",
    "    num_samples = len(sample)\n",
    "    num_batches = int(np.ceil(num_samples / batch_size))\n",
    "    \n",
    "    all_shap_scores = np.empty((num_samples, input_length, 4))\n",
    "    all_one_hot_seqs = np.empty((num_samples, input_length, 4))\n",
    "        \n",
    "    if model_type == \"profile\":\n",
    "        shap_explainer = compute_shap.create_profile_explainer(\n",
    "            model, input_length, profile_length, num_tasks, num_strands, controls\n",
    "        )\n",
    "    else:\n",
    "        shap_explainer = compute_shap.create_binary_explainer(\n",
    "            model, input_length, num_tasks\n",
    "        )\n",
    "\n",
    "    for i in tqdm.notebook.trange(num_batches):\n",
    "        batch_slice = slice(i * batch_size, (i + 1) * batch_size)\n",
    "        batch = sample[batch_slice]\n",
    "\n",
    "        if model_type == \"profile\":\n",
    "            input_seqs, profiles = input_func(batch)\n",
    "            shap_scores = shap_explainer(\n",
    "                input_seqs, cont_profs=profiles[:, num_tasks:], hide_shap_output=True\n",
    "            )\n",
    "        else:\n",
    "            input_seqs, _, _ = input_func(batch)\n",
    "            shap_scores = shap_explainer(\n",
    "                input_seqs, hide_shap_output=True\n",
    "            )\n",
    "\n",
    "        all_shap_scores[batch_slice] = shap_scores\n",
    "        all_one_hot_seqs[batch_slice] = input_seqs\n",
    "    return all_shap_scores, all_one_hot_seqs"
   ]
  },
  {
   "cell_type": "code",
   "execution_count": 56,
   "metadata": {},
   "outputs": [
    {
     "data": {
      "application/vnd.jupyter.widget-view+json": {
       "model_id": "e218022948ec4271a7aa2afe75ea63fa",
       "version_major": 2,
       "version_minor": 0
      },
      "text/plain": [
       "HBox(children=(FloatProgress(value=0.0), HTML(value='')))"
      ]
     },
     "metadata": {},
     "output_type": "display_data"
    },
    {
     "name": "stdout",
     "output_type": "stream",
     "text": [
      "\n"
     ]
    }
   ],
   "source": [
    "# Compute the summits\n",
    "coords, summit_offsets = compute_summits(sample)"
   ]
  },
  {
   "cell_type": "code",
   "execution_count": 57,
   "metadata": {},
   "outputs": [
    {
     "data": {
      "application/vnd.jupyter.widget-view+json": {
       "model_id": "187b0a5124fc46b1b3cb80a6d265d8d6",
       "version_major": 2,
       "version_minor": 0
      },
      "text/plain": [
       "HBox(children=(FloatProgress(value=0.0, max=1.0), HTML(value='')))"
      ]
     },
     "metadata": {},
     "output_type": "display_data"
    },
    {
     "name": "stdout",
     "output_type": "stream",
     "text": [
      "\n"
     ]
    },
    {
     "data": {
      "application/vnd.jupyter.widget-view+json": {
       "model_id": "097bffde19c04f32a622e9056abebf56",
       "version_major": 2,
       "version_minor": 0
      },
      "text/plain": [
       "HBox(children=(FloatProgress(value=0.0, max=1.0), HTML(value='')))"
      ]
     },
     "metadata": {},
     "output_type": "display_data"
    },
    {
     "name": "stdout",
     "output_type": "stream",
     "text": [
      "\n"
     ]
    }
   ],
   "source": [
    "# Compute the importance scores and 1-hot seqs\n",
    "noprior_scores, _ = compute_shap_scores(noprior_model, sample)\n",
    "prior_scores, one_hot_seqs = compute_shap_scores(prior_model, sample)"
   ]
  },
  {
   "cell_type": "code",
   "execution_count": null,
   "metadata": {
    "scrolled": true
   },
   "outputs": [],
   "source": [
    "# Plot out a few examples\n",
    "center_slice = slice(600, 700)\n",
    "for i in np.random.choice(num_samples, size=3, replace=False):\n",
    "    print(sample[i])\n",
    "    print(\"=========================\")\n",
    "    print(\"Without priors:\")\n",
    "    viz_sequence.plot_weights(noprior_scores[i, center_slice] * one_hot_seqs[i, center_slice])\n",
    "    print(\"With priors:\")\n",
    "    viz_sequence.plot_weights(prior_scores[i, center_slice] * one_hot_seqs[i, center_slice])"
   ]
  },
  {
   "cell_type": "markdown",
   "metadata": {},
   "source": [
    "### Relate importances to distance from summit(s)"
   ]
  },
  {
   "cell_type": "code",
   "execution_count": 58,
   "metadata": {},
   "outputs": [],
   "source": [
    "def compute_distance_corr(scores, one_hot_seqs, summit_offsets, window_size=1):\n",
    "    \"\"\"\n",
    "    Windowing by `window_size`, computes the total importance magnitude for the\n",
    "    actual importance in each window, and correlates that to the distance from\n",
    "    the summit. If there are multiple summits, then the closest one is used.\n",
    "    Returns a NumPy array of correlation values, one for each sequence (where\n",
    "    each correlation is done over the windows of the sequence).\n",
    "    \"\"\"\n",
    "    num_samples = len(scores)\n",
    "    corr_vals = np.empty(num_samples)\n",
    "    for i in tqdm.notebook.trange(num_samples):\n",
    "        score_track = np.sum(np.abs(scores[i] * one_hot_seqs[i]), axis=1)  # Actual importance\n",
    "        offsets = summit_offsets[i]\n",
    "        if not offsets:\n",
    "            print(\"Warning: found a sequence with no captured summit\")\n",
    "            continue\n",
    "        num_windows = len(score_track) - window_size + 1\n",
    "        \n",
    "        # Compute distances to summits\n",
    "        distances = np.empty((len(offsets), num_windows))\n",
    "        window_locs = np.arange(num_windows) + ((len(score_track) - num_windows) / 2)\n",
    "        for j, offset in enumerate(offsets):\n",
    "            distances[j] = np.abs(window_locs - offset)\n",
    "        closest_distances = np.amin(distances, axis=0)\n",
    "        \n",
    "        # Compute sum of importance in each window\n",
    "        importances = np.empty(num_windows)\n",
    "        for j in range(num_windows):\n",
    "            importances[j] = np.sum(score_track[j : j + window_size])\n",
    "            \n",
    "        corr_vals[i] = scipy.stats.spearmanr(importances, closest_distances)[0]\n",
    "    return corr_vals"
   ]
  },
  {
   "cell_type": "code",
   "execution_count": 59,
   "metadata": {},
   "outputs": [
    {
     "data": {
      "application/vnd.jupyter.widget-view+json": {
       "model_id": "43d3b93995ad4d2983f185aa93f0a3e0",
       "version_major": 2,
       "version_minor": 0
      },
      "text/plain": [
       "HBox(children=(FloatProgress(value=0.0), HTML(value='')))"
      ]
     },
     "metadata": {},
     "output_type": "display_data"
    },
    {
     "name": "stdout",
     "output_type": "stream",
     "text": [
      "\n"
     ]
    },
    {
     "data": {
      "application/vnd.jupyter.widget-view+json": {
       "model_id": "57e17c103d4342a8894a5ca2ca8cba34",
       "version_major": 2,
       "version_minor": 0
      },
      "text/plain": [
       "HBox(children=(FloatProgress(value=0.0), HTML(value='')))"
      ]
     },
     "metadata": {},
     "output_type": "display_data"
    },
    {
     "name": "stdout",
     "output_type": "stream",
     "text": [
      "\n"
     ]
    }
   ],
   "source": [
    "noprior_corrs = compute_distance_corr(noprior_scores, one_hot_seqs, summit_offsets, window_size=1)\n",
    "prior_corrs = compute_distance_corr(prior_scores, one_hot_seqs, summit_offsets, window_size=1)"
   ]
  },
  {
   "cell_type": "code",
   "execution_count": 65,
   "metadata": {},
   "outputs": [
    {
     "name": "stdout",
     "output_type": "stream",
     "text": [
      "Average correlation without priors: -0.429727\n",
      "Average correlation with priors: -0.459708\n",
      "Test of difference of means: t = 2.268467, p = 0.012190\n"
     ]
    },
    {
     "data": {
      "image/png": "[encoded data removed]",
      "text/plain": [
       "<Figure size 576x288 with 1 Axes>"
      ]
     },
     "metadata": {
      "needs_background": "light"
     },
     "output_type": "display_data"
    }
   ],
   "source": [
    "bin_num = 40\n",
    "plt.figure(figsize=(8, 4))\n",
    "plt.hist(\n",
    "    [noprior_corrs, prior_corrs],\n",
    "    bin_num, histtype=\"bar\",\n",
    "    label=[\"No prior\", \"With prior\"], color=[\"red\", \"blue\"]\n",
    ")\n",
    "plt.title(\n",
    "    \"Spearman correlation of SHAP scores to distance from peak summit\\n\" +\n",
    "    \"SPI1\" +\n",
    "    (\"\\nComputed on %d randomly drawn test peaks\" % len(sample))\n",
    ")\n",
    "plt.xlabel(\"Spearman correlation\")\n",
    "\n",
    "print(\"Average correlation without priors: %f\" % np.mean(noprior_corrs))\n",
    "print(\"Average correlation with priors: %f\" % np.mean(prior_corrs))\n",
    "t, p = scipy.stats.ttest_ind(noprior_corrs, prior_corrs)\n",
    "print(\"Test of difference of means: t = %f, p = %f\" % (t, p / 2))"
   ]
  }
 ],
 "metadata": {
  "kernelspec": {
   "display_name": "Python 3",
   "language": "python",
   "name": "python3"
  },
  "language_info": {
   "codemirror_mode": {
    "name": "ipython",
    "version": 3
   },
   "file_extension": ".py",
   "mimetype": "text/x-python",
   "name": "python",
   "nbconvert_exporter": "python",
   "pygments_lexer": "ipython3",
   "version": "3.7.4"
  }
 },
 "nbformat": 4,
 "nbformat_minor": 2
}

{
 "cells": [
  {
   "cell_type": "code",
   "execution_count": 2,
   "metadata": {},
   "outputs": [
    {
     "name": "stderr",
     "output_type": "stream",
     "text": [
      "/users/amtseng/miniconda3/envs/att-priors/lib/python3.7/site-packages/ipykernel_launcher.py:18: TqdmDeprecationWarning: This function will be removed in tqdm==5.0.0\n",
      "Please use `tqdm.notebook.tqdm` instead of `tqdm.tqdm_notebook`\n"
     ]
    },
    {
     "data": {
      "application/vnd.jupyter.widget-view+json": {
       "model_id": "713f6c6a60a744e786b8e4f1500bb0cc",
       "version_major": 2,
       "version_minor": 0
      },
      "text/plain": [
       "HBox(children=(FloatProgress(value=1.0, bar_style='info', max=1.0), HTML(value='')))"
      ]
     },
     "metadata": {},
     "output_type": "display_data"
    },
    {
     "data": {
      "text/plain": [
       "|<bar/>| 0/? [00:00<?, ?it/s]"
      ]
     },
     "execution_count": 2,
     "metadata": {},
     "output_type": "execute_result"
    }
   ],
   "source": [
    "import sys\n",
    "import os\n",
    "sys.path.append(os.path.abspath(\"../src/\"))\n",
    "import extract.data_loading as data_loading\n",
    "import extract.compute_predictions as compute_predictions\n",
    "import extract.compute_shap as compute_shap\n",
    "import extract.compute_ism as compute_ism\n",
    "import model.util as model_util\n",
    "import model.profile_models as profile_models\n",
    "import model.binary_models as binary_models\n",
    "import plot.viz_sequence as viz_sequence\n",
    "import torch\n",
    "import numpy as np\n",
    "import scipy.stats\n",
    "import matplotlib.pyplot as plt\n",
    "import json\n",
    "import tqdm\n",
    "tqdm.tqdm_notebook()  # It is necessary to call this before the tqdm.notebook submodule is available"
   ]
  },
  {
   "cell_type": "markdown",
   "metadata": {},
   "source": [
    "### Define paths for the model and data of interest"
   ]
  },
  {
   "cell_type": "code",
   "execution_count": 3,
   "metadata": {},
   "outputs": [],
   "source": [
    "model_type = \"binary\""
   ]
  },
  {
   "cell_type": "code",
   "execution_count": 4,
   "metadata": {},
   "outputs": [],
   "source": [
    "# Shared paths/constants\n",
    "reference_fasta = \"/users/amtseng/genomes/hg38.fasta\"\n",
    "chrom_sizes = \"/users/amtseng/genomes/hg38.canon.chrom.sizes\"\n",
    "data_base_path = \"/users/amtseng/att_priors/data/processed/\"\n",
    "model_base_path = \"/users/amtseng/att_priors/models/trained_models/%s/\" % model_type\n",
    "chrom_set = [\"chr1\"]\n",
    "input_length = 1346 if model_type == \"profile\" else 1000\n",
    "profile_length = 1000"
   ]
  },
  {
   "cell_type": "code",
   "execution_count": 5,
   "metadata": {},
   "outputs": [],
   "source": [
    "# SPI1\n",
    "files_spec_path = os.path.join(data_base_path, \"ENCODE_TFChIP/%s/config/SPI1/SPI1_training_paths.json\" % model_type)\n",
    "num_tasks = 4\n",
    "num_strands = 2\n",
    "controls = \"matched\"\n",
    "if model_type == \"profile\":\n",
    "    model_class = profile_models.ProfilePredictorWithMatchedControls\n",
    "else:\n",
    "    model_class = binary_models.BinaryPredictor\n",
    "noprior_model_base_path = os.path.join(model_base_path, \"SPI1/\")\n",
    "prior_model_base_path = os.path.join(model_base_path, \"SPI1_prior/\")"
   ]
  },
  {
   "cell_type": "code",
   "execution_count": 29,
   "metadata": {},
   "outputs": [],
   "source": [
    "# GATA2\n",
    "files_spec_path = os.path.join(data_base_path, \"ENCODE_TFChIP/%s/config/GATA2/GATA2_training_paths.json\" % model_type)\n",
    "num_tasks = 3\n",
    "num_strands = 2\n",
    "controls = \"matched\"\n",
    "if model_type == \"profile\":\n",
    "    model_class = profile_models.ProfilePredictorWithMatchedControls\n",
    "else:\n",
    "    model_class = binary_models.BinaryPredictor\n",
    "noprior_model_base_path = os.path.join(model_base_path, \"GATA2/\")\n",
    "prior_model_base_path = os.path.join(model_base_path, \"GATA2_prior/\")"
   ]
  },
  {
   "cell_type": "code",
   "execution_count": null,
   "metadata": {},
   "outputs": [],
   "source": [
    "# K562\n",
    "files_spec_path = os.path.join(data_base_path, \"ENCODE_DNase/%s/config/K562/K562_training_paths.json\" % model_type)\n",
    "num_tasks = 1\n",
    "controls = \"shared\"\n",
    "if model_type == \"profile\":\n",
    "    model_class = profile_models.ProfilePredictorWithSharedControls\n",
    "else:\n",
    "    model_class = binary_models.BinaryPredictor\n",
    "noprior_model_base_path = os.path.join(model_base_path, \"K562_keep1/\")\n",
    "prior_model_base_path = os.path.join(model_base_path, \"K562_prior_keep1/\")"
   ]
  },
  {
   "cell_type": "code",
   "execution_count": 33,
   "metadata": {},
   "outputs": [],
   "source": [
    "# BPNet\n",
    "reference_fasta = \"/users/amtseng/genomes/mm10.fasta\"\n",
    "chrom_sizes = \"/users/amtseng/genomes/mm10.canon.chrom.sizes\"\n",
    "files_spec_path = os.path.join(data_base_path, \"BPNet_ChIPseq/%s/config/BPNet_training_paths.json\" % model_type)\n",
    "num_tasks = 1\n",
    "controls = \"shared\"\n",
    "if model_type == \"profile\":\n",
    "    model_class = profile_models.ProfilePredictorWithSharedControls\n",
    "else:\n",
    "    model_class = binary_models.BinaryPredictor\n",
    "noprior_model_base_path = os.path.join(model_base_path, \"BPNet/\")\n",
    "prior_model_base_path = os.path.join(model_base_path, \"BPNet_prior/\")"
   ]
  },
  {
   "cell_type": "code",
   "execution_count": 6,
   "metadata": {},
   "outputs": [],
   "source": [
    "torch.set_grad_enabled(True)\n",
    "device = torch.device(\"cuda\") if torch.cuda.is_available() else torch.device(\"cpu\")"
   ]
  },
  {
   "cell_type": "code",
   "execution_count": 7,
   "metadata": {},
   "outputs": [],
   "source": [
    "def import_metrics_json(model_base_path, run_num):\n",
    "    \"\"\"\n",
    "    Looks in {model_base_path}/{run_num}/metrics.json and returns the contents as a\n",
    "    Python dictionary. Returns None if the path does not exist.\n",
    "    \"\"\"\n",
    "    path = os.path.join(model_base_path, str(run_num), \"metrics.json\")\n",
    "    if not os.path.exists(path):\n",
    "        return None\n",
    "    with open(path, \"r\") as f:\n",
    "        return json.load(f)"
   ]
  },
  {
   "cell_type": "code",
   "execution_count": 8,
   "metadata": {},
   "outputs": [],
   "source": [
    "def get_model_paths(\n",
    "    model_base_path, metric_name=\"val_prof_corr_losses\",\n",
    "    reduce_func=(lambda values: np.mean(values)), compare_func=(lambda x, y: x < y),\n",
    "    print_found_values=True\n",
    "):\n",
    "    \"\"\"\n",
    "    Looks in `model_base_path` and for each run, returns the full path to\n",
    "    the best epoch. By default, the best epoch in a run is determined by\n",
    "    the lowest validation profile loss.\n",
    "    \"\"\"\n",
    "    # Get the metrics, ignoring empty or nonexistent metrics.json files\n",
    "    metrics = {run_num : import_metrics_json(model_base_path, run_num) for run_num in os.listdir(model_base_path)}\n",
    "    metrics = {key : val for key, val in metrics.items() if val}  # Remove empties\n",
    "    \n",
    "    model_paths = []\n",
    "    for run_num in sorted(metrics.keys(), key=lambda x: int(x)):\n",
    "        try:\n",
    "            # Find the best epoch within that run\n",
    "            best_epoch_in_run, best_val_in_run = None, None\n",
    "            for i, subarr in enumerate(metrics[run_num][metric_name][\"values\"]):\n",
    "                val = reduce_func(subarr)\n",
    "                if best_val_in_run is None or compare_func(val, best_val_in_run):\n",
    "                    best_epoch_in_run, best_val_in_run = i + 1, val\n",
    "            model_path = os.path.join(model_base_path, run_num, \"model_ckpt_epoch_%d.pt\" % best_epoch_in_run)\n",
    "            model_paths.append(model_path)\n",
    "            if print_found_values:\n",
    "                print(\"\\tRun %s, epoch %d: %6.2f\" % (run_num, best_epoch_in_run, best_val_in_run))\n",
    "        except Exception:\n",
    "            print(\"Warning: Was not able to compute values for run %s\" % run_num)\n",
    "            continue\n",
    "    return model_paths\n",
    "        "
   ]
  },
  {
   "cell_type": "code",
   "execution_count": 30,
   "metadata": {},
   "outputs": [],
   "source": [
    "metric_name = \"val_prof_corr_losses\" if model_type == \"profile\" else \"val_corr_losses\""
   ]
  },
  {
   "cell_type": "code",
   "execution_count": 34,
   "metadata": {
    "scrolled": true
   },
   "outputs": [
    {
     "name": "stdout",
     "output_type": "stream",
     "text": [
      "\tRun 1, epoch 1:   0.36\n",
      "\tRun 2, epoch 1:   0.36\n",
      "\tRun 3, epoch 1:   0.36\n",
      "\tRun 4, epoch 1:   0.37\n",
      "\tRun 5, epoch 1:   0.36\n",
      "\tRun 6, epoch 1:   0.35\n",
      "\tRun 7, epoch 1:   0.36\n",
      "\tRun 8, epoch 1:   0.35\n",
      "\tRun 9, epoch 1:   0.36\n",
      "\tRun 10, epoch 1:   0.35\n",
      "\tRun 11, epoch 1:   0.36\n",
      "\tRun 12, epoch 1:   0.36\n",
      "\tRun 13, epoch 1:   0.35\n",
      "\tRun 14, epoch 1:   0.37\n",
      "\tRun 15, epoch 1:   0.36\n",
      "\tRun 16, epoch 2:   0.36\n",
      "\tRun 17, epoch 1:   0.35\n",
      "\tRun 18, epoch 1:   0.35\n",
      "\tRun 19, epoch 1:   0.36\n",
      "\tRun 20, epoch 2:   0.36\n"
     ]
    }
   ],
   "source": [
    "noprior_model_paths = get_model_paths(noprior_model_base_path, metric_name=metric_name)"
   ]
  },
  {
   "cell_type": "code",
   "execution_count": 35,
   "metadata": {
    "scrolled": true
   },
   "outputs": [
    {
     "name": "stdout",
     "output_type": "stream",
     "text": [
      "\tRun 1, epoch 20:   0.36\n",
      "\tRun 2, epoch 10:   0.35\n",
      "\tRun 3, epoch 2:   0.37\n"
     ]
    }
   ],
   "source": [
    "prior_model_paths = get_model_paths(prior_model_base_path, metric_name=metric_name)"
   ]
  },
  {
   "cell_type": "code",
   "execution_count": 12,
   "metadata": {},
   "outputs": [],
   "source": [
    "def restore_model(model_path):\n",
    "    model = model_util.restore_model(model_class, model_path)\n",
    "    model.eval()\n",
    "    model = model.to(device)\n",
    "    return model"
   ]
  },
  {
   "cell_type": "markdown",
   "metadata": {},
   "source": [
    "### Data preparation\n",
    "Create an input data loader, that maps coordinates or bin indices to data needed for the model"
   ]
  },
  {
   "cell_type": "code",
   "execution_count": 36,
   "metadata": {},
   "outputs": [],
   "source": [
    "if model_type == \"profile\":\n",
    "    input_func = data_loading.get_profile_input_func(\n",
    "        files_spec_path, input_length, profile_length, reference_fasta\n",
    "    )\n",
    "    pos_examples = data_loading.get_positive_profile_coords(\n",
    "        files_spec_path, chrom_set=chrom_set\n",
    "    )\n",
    "else:\n",
    "    input_func = data_loading.get_binary_input_func(\n",
    "        files_spec_path, input_length, reference_fasta\n",
    "    )\n",
    "    pos_examples = data_loading.get_positive_binary_bins(\n",
    "        files_spec_path, chrom_set=chrom_set\n",
    "    )"
   ]
  },
  {
   "cell_type": "markdown",
   "metadata": {},
   "source": [
    "### Compute consistency"
   ]
  },
  {
   "cell_type": "code",
   "execution_count": 37,
   "metadata": {},
   "outputs": [],
   "source": [
    "# Pick a sample of 100 random coordinates/bins\n",
    "num_samples = 100\n",
    "sample = pos_examples[np.random.choice(len(pos_examples), size=num_samples, replace=False)]"
   ]
  },
  {
   "cell_type": "code",
   "execution_count": 15,
   "metadata": {},
   "outputs": [],
   "source": [
    "def compute_gradients(model_paths, sample):\n",
    "    \"\"\"\n",
    "    Given a list of paths to M models and a list of N coordinates or bins, computes\n",
    "    the input gradients over all models, returning an M x N x I x 4 array of\n",
    "    gradient values and an N x I x 4 array of one-hot encoded sequence.\n",
    "    \"\"\"\n",
    "    num_models, num_samples = len(model_paths), len(sample)\n",
    "    \n",
    "    all_input_grads = np.empty((num_models, num_samples, input_length, 4))\n",
    "    all_one_hot_seqs = np.empty((num_samples, input_length, 4))\n",
    "    \n",
    "    for i in tqdm.notebook.trange(num_models):\n",
    "        model = restore_model(model_paths[i])\n",
    "            \n",
    "        if model_type == \"profile\":\n",
    "            results = compute_predictions.get_profile_model_predictions(                                              \n",
    "                model, sample, num_tasks, input_func, controls=controls,                        \n",
    "                return_losses=False, return_gradients=True, show_progress=False                                         \n",
    "            )\n",
    "        else:\n",
    "            results = compute_predictions.get_binary_model_predictions(                                              \n",
    "                model, sample, input_func,                      \n",
    "                return_losses=False, return_gradients=True, show_progress=False                                         \n",
    "            )\n",
    "\n",
    "        all_input_grads[i] = results[\"input_grads\"]\n",
    "        if i == 0:\n",
    "            all_one_hot_seqs = results[\"input_seqs\"]\n",
    "    return all_input_grads, all_one_hot_seqs"
   ]
  },
  {
   "cell_type": "code",
   "execution_count": 16,
   "metadata": {},
   "outputs": [],
   "source": [
    "def compute_shap_scores(model_paths, sample, batch_size=128):\n",
    "    \"\"\"\n",
    "    Given a list of paths to M models and a list of N coordinates or bins, computes\n",
    "    the SHAP scores over all models, returning an M x N x I x 4 array of\n",
    "    SHAP scores and an N x I x 4 array of one-hot encoded sequence.\n",
    "    \"\"\"\n",
    "    num_models, num_samples = len(model_paths), len(sample)\n",
    "    \n",
    "    num_batches = int(np.ceil(num_samples / batch_size))\n",
    "    \n",
    "    all_shap_scores = np.empty((num_models, num_samples, input_length, 4))\n",
    "    all_one_hot_seqs = np.empty((num_samples, input_length, 4))\n",
    "    \n",
    "    for i in tqdm.notebook.trange(num_models):\n",
    "        model = restore_model(model_paths[i])\n",
    "        \n",
    "        if model_type == \"profile\":\n",
    "            shap_explainer = compute_shap.create_profile_explainer(\n",
    "                model, input_length, profile_length, num_tasks, num_strands, controls\n",
    "            )\n",
    "        else:\n",
    "            shap_explainer = compute_shap.create_binary_explainer(\n",
    "                model, input_length, num_tasks\n",
    "            )\n",
    "\n",
    "        for j in range(num_batches):\n",
    "            batch_slice = slice(j * batch_size, (j + 1) * batch_size)\n",
    "            batch = sample[batch_slice]\n",
    "            \n",
    "            if model_type == \"profile\":\n",
    "                input_seqs, profiles = input_func(sample)\n",
    "                shap_scores = shap_explainer(\n",
    "                    input_seqs, cont_profs=profiles[:, num_tasks:], hide_shap_output=True\n",
    "                )\n",
    "            else:\n",
    "                input_seqs, _, _ = input_func(sample)\n",
    "                shap_scores = shap_explainer(\n",
    "                    input_seqs, hide_shap_output=True\n",
    "                )\n",
    "            \n",
    "            all_shap_scores[i, batch_slice] = shap_scores\n",
    "            if i == 0:\n",
    "                all_one_hot_seqs[batch_slice] = input_seqs\n",
    "    return all_shap_scores, all_one_hot_seqs"
   ]
  },
  {
   "cell_type": "code",
   "execution_count": 42,
   "metadata": {},
   "outputs": [
    {
     "data": {
      "application/vnd.jupyter.widget-view+json": {
       "model_id": "3e228b20a4674b54b2189b6bfcca249a",
       "version_major": 2,
       "version_minor": 0
      },
      "text/plain": [
       "HBox(children=(FloatProgress(value=0.0, max=20.0), HTML(value='')))"
      ]
     },
     "metadata": {},
     "output_type": "display_data"
    },
    {
     "name": "stdout",
     "output_type": "stream",
     "text": [
      "\n"
     ]
    },
    {
     "data": {
      "application/vnd.jupyter.widget-view+json": {
       "model_id": "6b9a339ec31d4632964bc27abdc4d113",
       "version_major": 2,
       "version_minor": 0
      },
      "text/plain": [
       "HBox(children=(FloatProgress(value=0.0, max=3.0), HTML(value='')))"
      ]
     },
     "metadata": {},
     "output_type": "display_data"
    },
    {
     "name": "stdout",
     "output_type": "stream",
     "text": [
      "\n"
     ]
    }
   ],
   "source": [
    "# Compute the importance scores and 1-hot seqs\n",
    "noprior_scores, _ = compute_shap_scores(noprior_model_paths, sample)\n",
    "prior_scores, one_hot_seqs = compute_shap_scores(prior_model_paths, sample)"
   ]
  },
  {
   "cell_type": "code",
   "execution_count": null,
   "metadata": {
    "scrolled": false
   },
   "outputs": [],
   "source": [
    "# Plot out a few examples over some different models\n",
    "center_slice = slice(600, 700)\n",
    "for i in np.random.choice(num_samples, size=3, replace=False):\n",
    "    print(sample[i])\n",
    "    print(\"=========================\")\n",
    "    print(\"Without priors:\")\n",
    "    print(\"---------------\")\n",
    "    for j in np.random.choice(len(noprior_model_paths), size=3, replace=False):\n",
    "        print(\"Model %d\" % (j + 1))\n",
    "        viz_sequence.plot_weights(noprior_scores[j, i, center_slice] * one_hot_seqs[i, center_slice])\n",
    "    print(\"With priors:\")\n",
    "    print(\"------------\")\n",
    "    for j in np.random.choice(len(prior_model_paths), size=3, replace=False):\n",
    "        print(\"Model %d\" % (j + 1))\n",
    "        viz_sequence.plot_weights(prior_scores[j, i, center_slice] * one_hot_seqs[i, center_slice])"
   ]
  },
  {
   "cell_type": "code",
   "execution_count": null,
   "metadata": {},
   "outputs": [],
   "source": [
    "def cont_jaccard(seq_1, seq_2):\n",
    "    \"\"\"\n",
    "    Takes two gradient sequences (I x 4 arrays) and computes a similarity between\n",
    "    them, using a continuous Jaccard metric.\n",
    "    \"\"\"\n",
    "    ab_1, ab_2 = np.abs(seq_1), np.abs(seq_2)\n",
    "    inter = np.minimum(ab_1, ab_2) * np.sign(seq_1) * np.sign(seq_2)\n",
    "    union = np.maximum(ab_1, ab_2)\n",
    "    cont_jaccard = np.sum(inter, axis=1) / np.sum(union, axis=1)\n",
    "    return np.sum(cont_jaccard)"
   ]
  },
  {
   "cell_type": "code",
   "execution_count": 18,
   "metadata": {},
   "outputs": [],
   "source": [
    "def cosine_sim(seq_1, seq_2):\n",
    "    \"\"\"\n",
    "    Takes two gradient sequences (I x 4 arrays) and computes a similarity between\n",
    "    them, using a cosine similarity.\n",
    "    \"\"\"\n",
    "    seq_1, seq_2 = np.ravel(seq_1), np.ravel(seq_2)\n",
    "    dot = np.sum(seq_1 * seq_2)\n",
    "    mag_1, mag_2 = np.sqrt(np.sum(seq_1 * seq_1)), np.sqrt(np.sum(seq_2 * seq_2))\n",
    "    return dot / (mag_1 * mag_2)"
   ]
  },
  {
   "cell_type": "code",
   "execution_count": 19,
   "metadata": {},
   "outputs": [],
   "source": [
    "def compute_similarity_matrix(input_grads, sim_func=cosine_sim):\n",
    "    \"\"\"\n",
    "    Given the M x N x I x 4 input gradients returned by `compute_gradients`,\n",
    "    computes an N x M x M similarity matrix of similarity across models (i.e.\n",
    "    each coordinate gets a similarity matrix across different models).\n",
    "    By defaults uses the continuous Jaccard similarity score\n",
    "    \"\"\"\n",
    "    num_models, num_coords = input_grads.shape[0], input_grads.shape[1]\n",
    "    \n",
    "    sim_mats = np.empty((num_coords, num_models, num_models))\n",
    "    for i in tqdm.notebook.trange(num_coords):\n",
    "        for j in range(num_models):\n",
    "            sim_mats[i, j, j] = 0\n",
    "            for k in range(j):\n",
    "                sim_score = sim_func(input_grads[j][i], input_grads[k][i])\n",
    "                sim_mats[i, j, k] = sim_score\n",
    "                sim_mats[i, k, j] = sim_score\n",
    "    return sim_mats"
   ]
  },
  {
   "cell_type": "code",
   "execution_count": 43,
   "metadata": {},
   "outputs": [
    {
     "data": {
      "application/vnd.jupyter.widget-view+json": {
       "model_id": "4387eb7f0e9547d4b6aaaf731598cedd",
       "version_major": 2,
       "version_minor": 0
      },
      "text/plain": [
       "HBox(children=(FloatProgress(value=0.0), HTML(value='')))"
      ]
     },
     "metadata": {},
     "output_type": "display_data"
    },
    {
     "name": "stdout",
     "output_type": "stream",
     "text": [
      "\n"
     ]
    },
    {
     "data": {
      "application/vnd.jupyter.widget-view+json": {
       "model_id": "1d5865bdc4dc476794ff9deaf7876e7a",
       "version_major": 2,
       "version_minor": 0
      },
      "text/plain": [
       "HBox(children=(FloatProgress(value=0.0), HTML(value='')))"
      ]
     },
     "metadata": {},
     "output_type": "display_data"
    },
    {
     "name": "stdout",
     "output_type": "stream",
     "text": [
      "\n"
     ]
    }
   ],
   "source": [
    "noprior_sim_matrix = compute_similarity_matrix(noprior_scores, sim_func=cosine_sim)\n",
    "prior_sim_matrix = compute_similarity_matrix(prior_scores, sim_func=cosine_sim)"
   ]
  },
  {
   "cell_type": "code",
   "execution_count": 52,
   "metadata": {},
   "outputs": [
    {
     "name": "stdout",
     "output_type": "stream",
     "text": [
      "Average similarity without priors: 0.560692\n",
      "Average similarity with priors: 0.497927\n",
      "Test of difference of means: t = -3.015810, p = 0.001449\n"
     ]
    },
    {
     "data": {
      "image/png": "[encoded data removed]",
      "text/plain": [
       "<Figure size 576x288 with 1 Axes>"
      ]
     },
     "metadata": {
      "needs_background": "light"
     },
     "output_type": "display_data"
    }
   ],
   "source": [
    "noprior_avg_sims, prior_avg_sims = [], []\n",
    "bin_num = 20\n",
    "for i in range(num_samples):\n",
    "    noprior_avg_sims.append(np.median(noprior_sim_matrix[i][np.tril_indices(len(noprior_model_paths), k=-1)]))\n",
    "    prior_avg_sims.append(np.median(prior_sim_matrix[i][np.tril_indices(len(prior_model_paths), k=-1)]))\n",
    "plt.figure(figsize=(8, 4))\n",
    "plt.hist(\n",
    "    [noprior_avg_sims, prior_avg_sims],\n",
    "    bin_num, histtype=\"bar\",\n",
    "    label=[\"No prior\", \"With prior\"], color=[\"red\", \"blue\"]\n",
    ")\n",
    "plt.title(\n",
    "    \"Median pairwise similarities of SHAP scores between different models\" +\n",
    "    \"\\nTrained on different random initializations\" +\n",
    "    \"\\nComputed over %d/%d BPNet models without/with priors and %d randomly drawn test peaks\" % (len(noprior_model_paths), len(prior_model_paths), num_samples)\n",
    ")\n",
    "plt.xlabel(\"Cosine similarity\")\n",
    "\n",
    "print(\"Average similarity without priors: %f\" % np.nanmean(noprior_avg_sims))\n",
    "print(\"Average similarity with priors: %f\" % np.nanmean(prior_avg_sims))\n",
    "t, p = scipy.stats.ttest_ind(prior_avg_sims, noprior_avg_sims)\n",
    "print(\"Test of difference of means: t = %f, p = %f\" % (t, p / 2))"
   ]
  }
 ],
 "metadata": {
  "kernelspec": {
   "display_name": "Python 3",
   "language": "python",
   "name": "python3"
  },
  "language_info": {
   "codemirror_mode": {
    "name": "ipython",
    "version": 3
   },
   "file_extension": ".py",
   "mimetype": "text/x-python",
   "name": "python",
   "nbconvert_exporter": "python",
   "pygments_lexer": "ipython3",
   "version": "3.7.4"
  }
 },
 "nbformat": 4,
 "nbformat_minor": 2
}

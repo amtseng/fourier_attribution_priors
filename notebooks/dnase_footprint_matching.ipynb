{
 "cells": [
  {
   "cell_type": "code",
   "execution_count": 1,
   "metadata": {},
   "outputs": [
    {
     "name": "stderr",
     "output_type": "stream",
     "text": [
      "/users/amtseng/miniconda3/envs/att-priors/lib/python3.7/site-packages/ipykernel_launcher.py:16: TqdmDeprecationWarning: This function will be removed in tqdm==5.0.0\n",
      "Please use `tqdm.notebook.tqdm` instead of `tqdm.tqdm_notebook`\n",
      "  app.launch_new_instance()\n"
     ]
    },
    {
     "data": {
      "application/vnd.jupyter.widget-view+json": {
       "model_id": "7599f11aad954748b4d39afc6f266d09",
       "version_major": 2,
       "version_minor": 0
      },
      "text/plain": [
       "HBox(children=(FloatProgress(value=1.0, bar_style='info', max=1.0), HTML(value='')))"
      ]
     },
     "metadata": {},
     "output_type": "display_data"
    },
    {
     "data": {
      "text/plain": [
       "|<bar/>| 0/? [00:00<?, ?it/s]"
      ]
     },
     "execution_count": 1,
     "metadata": {},
     "output_type": "execute_result"
    }
   ],
   "source": [
    "import sys\n",
    "import os\n",
    "sys.path.append(os.path.abspath(\"../src/\"))\n",
    "import model.util as model_util\n",
    "import model.profile_models as profile_models\n",
    "import model.binary_models as binary_models\n",
    "import extract.compute_gradients as compute_gradients\n",
    "import plot.viz_sequence as viz_sequence\n",
    "import torch\n",
    "import numpy as np\n",
    "import pandas as pd\n",
    "import matplotlib.pyplot as plt\n",
    "import scipy.stats\n",
    "import json\n",
    "import tqdm\n",
    "tqdm.tqdm_notebook()  # It is necessary to call this before the tqdm.notebook submodule is available"
   ]
  },
  {
   "cell_type": "markdown",
   "metadata": {},
   "source": [
    "### Define paths for the model and data of interest"
   ]
  },
  {
   "cell_type": "code",
   "execution_count": 2,
   "metadata": {},
   "outputs": [],
   "source": [
    "model_type = \"binary\""
   ]
  },
  {
   "cell_type": "code",
   "execution_count": 3,
   "metadata": {},
   "outputs": [],
   "source": [
    "# Shared paths/constants\n",
    "reference_fasta = \"/users/amtseng/genomes/hg38.fasta\"\n",
    "input_length = 1000 if model_type == \"binary\" else 1346\n",
    "profile_length = 1000"
   ]
  },
  {
   "cell_type": "code",
   "execution_count": 4,
   "metadata": {},
   "outputs": [],
   "source": [
    "files_spec_path = \"/users/amtseng/att_priors/data/processed/ENCODE_DNase/binary/config/HepG2/HepG2_training_paths.json\"\n",
    "num_tasks = 2\n",
    "use_controls = True\n",
    "model_class = binary_models.BinaryPredictor if model_type == \"binary\" else profile_models.ProfilePredictorWithoutControls\n",
    "chrom_set = [\"chr1\"]\n",
    "dnase_footprint_path = \"/users/amtseng/att_priors/data/processed/DNase_footprints/HepG2.bed.gz\"\n",
    "noprior_model_path = \"/users/amtseng/att_priors/models/trained_models/binary_models/HepG2/7/model_ckpt_epoch_1.pt\"\n",
    "prior_model_path = \"/users/amtseng/att_priors/models/trained_models/binary_models/HepG2_prior/5/model_ckpt_epoch_5.pt\""
   ]
  },
  {
   "cell_type": "code",
   "execution_count": 5,
   "metadata": {},
   "outputs": [],
   "source": [
    "torch.set_grad_enabled(True)\n",
    "device = torch.device(\"cuda\") if torch.cuda.is_available() else torch.device(\"cpu\")"
   ]
  },
  {
   "cell_type": "code",
   "execution_count": 6,
   "metadata": {},
   "outputs": [],
   "source": [
    "noprior_model = model_util.restore_model(model_class, noprior_model_path)\n",
    "noprior_model.eval()\n",
    "noprior_model = noprior_model.to(device) "
   ]
  },
  {
   "cell_type": "code",
   "execution_count": 7,
   "metadata": {},
   "outputs": [],
   "source": [
    "prior_model = model_util.restore_model(model_class, prior_model_path)\n",
    "prior_model.eval()\n",
    "prior_model = prior_model.to(device) "
   ]
  },
  {
   "cell_type": "markdown",
   "metadata": {},
   "source": [
    "### Import set of DNase footprints"
   ]
  },
  {
   "cell_type": "code",
   "execution_count": 8,
   "metadata": {},
   "outputs": [],
   "source": [
    "footprints = pd.read_csv(\n",
    "    dnase_footprint_path, sep=\"\\t\", header=None,\n",
    "    names=[\"chrom\", \"start\", \"end\", \"motifs\", \"orig_coord\"]\n",
    ")\n",
    "footprints = footprints[footprints[\"chrom\"].isin(chrom_set)]"
   ]
  },
  {
   "cell_type": "markdown",
   "metadata": {},
   "source": [
    "### Compute input gradients"
   ]
  },
  {
   "cell_type": "code",
   "execution_count": 9,
   "metadata": {},
   "outputs": [
    {
     "name": "stderr",
     "output_type": "stream",
     "text": [
      "100%|██████████| 606/606 [03:59<00:00,  2.53it/s]\n"
     ]
    }
   ],
   "source": [
    "noprior_input_grads, noprior_input_seqs, noprior_coords = compute_gradients.get_input_grads(\n",
    "    noprior_model, model_type, files_spec_path, input_length, reference_fasta,\n",
    "    chrom_set=chrom_set, profile_length=profile_length,\n",
    "    use_controls=use_controls, return_coords=True\n",
    ")"
   ]
  },
  {
   "cell_type": "code",
   "execution_count": 10,
   "metadata": {},
   "outputs": [
    {
     "name": "stderr",
     "output_type": "stream",
     "text": [
      "100%|██████████| 606/606 [03:58<00:00,  2.54it/s]\n"
     ]
    }
   ],
   "source": [
    "prior_input_grads, prior_input_seqs, prior_coords = compute_gradients.get_input_grads(\n",
    "    prior_model, model_type, files_spec_path, input_length, reference_fasta,\n",
    "    chrom_set=chrom_set, profile_length=profile_length,\n",
    "    use_controls=use_controls, return_coords=True\n",
    ")"
   ]
  },
  {
   "cell_type": "code",
   "execution_count": 11,
   "metadata": {},
   "outputs": [],
   "source": [
    "assert np.all(noprior_input_seqs == prior_input_seqs)\n",
    "assert np.all(noprior_coords == prior_coords)\n",
    "input_seqs, coords = prior_input_seqs, prior_coords"
   ]
  },
  {
   "cell_type": "code",
   "execution_count": 12,
   "metadata": {},
   "outputs": [],
   "source": [
    "# Pad the coordinates on both sides symmetrically to make them `input_length` \n",
    "centers = (coords[:, 1] + coords[:, 2]) // 2\n",
    "starts = centers - (input_length // 2)\n",
    "ends = starts + input_length\n",
    "coords[:, 1] = starts\n",
    "coords[:, 2] = ends"
   ]
  },
  {
   "cell_type": "markdown",
   "metadata": {},
   "source": [
    "### Quantify agreement of gradients with footprints"
   ]
  },
  {
   "cell_type": "code",
   "execution_count": 13,
   "metadata": {},
   "outputs": [],
   "source": [
    "def score_input(chrom, start, end, grads, footprints):\n",
    "    \"\"\"\n",
    "    From a single coordinate and a list of I x 4 array of actual input gradients\n",
    "    (i.e. multiplied by input sequence) and the table of footprints, this\n",
    "    function computes and returns the agreement score, calculated as the\n",
    "    fraction of gradient magnitudes that fall within a footprint.\n",
    "    \"\"\"\n",
    "    fps = footprints[\n",
    "        (footprints[\"chrom\"] == chrom) & (footprints[\"start\"] >= start) & \\\n",
    "        (footprints[\"end\"] <= end)\n",
    "    ]\n",
    "    mask = np.zeros(end - start, dtype=bool)\n",
    "    intervals = fps[[\"start\", \"end\"]].values - start\n",
    "    for interval in intervals:\n",
    "        mask[interval[0]:interval[1]] = True\n",
    "    return [np.sum(grad[mask]) / np.sum(grad) for grad in grads]"
   ]
  },
  {
   "cell_type": "code",
   "execution_count": 14,
   "metadata": {},
   "outputs": [
    {
     "data": {
      "application/vnd.jupyter.widget-view+json": {
       "model_id": "d239feabf1f64e94969beeb19e99f091",
       "version_major": 2,
       "version_minor": 0
      },
      "text/plain": [
       "HBox(children=(FloatProgress(value=0.0, max=77477.0), HTML(value='')))"
      ]
     },
     "metadata": {},
     "output_type": "display_data"
    },
    {
     "name": "stdout",
     "output_type": "stream",
     "text": [
      "\n"
     ]
    }
   ],
   "source": [
    "noprior_scores, prior_scores = [], []\n",
    "for i in tqdm.notebook.trange(len(coords)):\n",
    "    chrom, start, end = coords[i]\n",
    "    noprior_score, prior_score = score_input(\n",
    "        chrom, start, end,\n",
    "        [\n",
    "            np.abs(noprior_input_grads[i] * input_seqs[i]),\n",
    "            np.abs(prior_input_grads[i] * input_seqs[i])\n",
    "        ],\n",
    "        footprints\n",
    "    )\n",
    "    noprior_scores.append(noprior_score)\n",
    "    prior_scores.append(prior_score)\n",
    "noprior_scores, prior_scores = np.array(noprior_scores), np.array(prior_scores)"
   ]
  },
  {
   "cell_type": "code",
   "execution_count": 15,
   "metadata": {},
   "outputs": [
    {
     "data": {
      "text/plain": [
       "<matplotlib.legend.Legend at 0x7f0fc4301250>"
      ]
     },
     "execution_count": 15,
     "metadata": {},
     "output_type": "execute_result"
    },
    {
     "data": {
      "image/png": "[encoded data removed]",
      "text/plain": [
       "<Figure size 432x288 with 1 Axes>"
      ]
     },
     "metadata": {
      "needs_background": "light"
     },
     "output_type": "display_data"
    }
   ],
   "source": [
    "bin_num = 20\n",
    "plt.figure()\n",
    "plt.hist(\n",
    "    [noprior_scores, prior_scores],\n",
    "    bin_num, histtype=\"bar\",\n",
    "    label=[\"No prior\", \"With prior\"], color=[\"red\", \"blue\"])\n",
    "title = \"Histogram of input gradient match to DNase footprints\"\n",
    "plt.title(title)\n",
    "plt.xlabel(\"Input gradient match to footprints\")\n",
    "plt.legend()"
   ]
  },
  {
   "cell_type": "code",
   "execution_count": 16,
   "metadata": {},
   "outputs": [
    {
     "name": "stdout",
     "output_type": "stream",
     "text": [
      "Average score without priors: 0.171181\n",
      "Average score with priors: 0.163951\n",
      "Test of difference of means: t = -11.976221, p = 0.000000\n"
     ]
    }
   ],
   "source": [
    "print(\"Average score without priors: %f\" % np.mean(noprior_scores))\n",
    "print(\"Average score with priors: %f\" % np.mean(prior_scores))\n",
    "t, p = scipy.stats.ttest_ind(prior_scores, noprior_scores, equal_var=False)\n",
    "print(\"Test of difference of means: t = %f, p = %f\" % (t, p / 2))"
   ]
  }
 ],
 "metadata": {
  "kernelspec": {
   "display_name": "Python 3",
   "language": "python",
   "name": "python3"
  },
  "language_info": {
   "codemirror_mode": {
    "name": "ipython",
    "version": 3
   },
   "file_extension": ".py",
   "mimetype": "text/x-python",
   "name": "python",
   "nbconvert_exporter": "python",
   "pygments_lexer": "ipython3",
   "version": "3.7.4"
  }
 },
 "nbformat": 4,
 "nbformat_minor": 2
}

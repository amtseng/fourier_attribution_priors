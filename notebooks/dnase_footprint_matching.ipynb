{
 "cells": [
  {
   "cell_type": "code",
   "execution_count": 24,
   "metadata": {},
   "outputs": [
    {
     "name": "stderr",
     "output_type": "stream",
     "text": [
      "/users/amtseng/miniconda3/envs/att-priors/lib/python3.7/site-packages/ipykernel_launcher.py:17: TqdmDeprecationWarning: This function will be removed in tqdm==5.0.0\n",
      "Please use `tqdm.notebook.tqdm` instead of `tqdm.tqdm_notebook`\n"
     ]
    },
    {
     "data": {
      "application/vnd.jupyter.widget-view+json": {
       "model_id": "32772990028b4343b66cd585df0e41e4",
       "version_major": 2,
       "version_minor": 0
      },
      "text/plain": [
       "HBox(children=(FloatProgress(value=1.0, bar_style='info', max=1.0), HTML(value='')))"
      ]
     },
     "metadata": {},
     "output_type": "display_data"
    },
    {
     "data": {
      "text/plain": [
       "|<bar/>| 0/? [00:00<?, ?it/s]"
      ]
     },
     "execution_count": 24,
     "metadata": {},
     "output_type": "execute_result"
    }
   ],
   "source": [
    "import sys\n",
    "import os\n",
    "sys.path.append(os.path.abspath(\"../src/\"))\n",
    "import model.util as model_util\n",
    "import model.profile_models as profile_models\n",
    "import model.binary_models as binary_models\n",
    "import extract.data_loading as data_loading\n",
    "import extract.compute_predictions as compute_predictions\n",
    "import plot.viz_sequence as viz_sequence\n",
    "import torch\n",
    "import numpy as np\n",
    "import pandas as pd\n",
    "import matplotlib.pyplot as plt\n",
    "import scipy.stats\n",
    "import json\n",
    "import tqdm\n",
    "tqdm.tqdm_notebook()  # It is necessary to call this before the tqdm.notebook submodule is available"
   ]
  },
  {
   "cell_type": "markdown",
   "metadata": {},
   "source": [
    "### Define paths for the model and data of interest"
   ]
  },
  {
   "cell_type": "code",
   "execution_count": 6,
   "metadata": {},
   "outputs": [],
   "source": [
    "model_type = \"binary\""
   ]
  },
  {
   "cell_type": "code",
   "execution_count": 7,
   "metadata": {},
   "outputs": [],
   "source": [
    "# Shared paths/constants\n",
    "reference_fasta = \"/users/amtseng/genomes/hg38.fasta\"\n",
    "chrom_sizes = \"/users/amtseng/genomes/hg38.canon.chrom.sizes\"\n",
    "data_base_path = \"/users/amtseng/att_priors/data/processed/\"\n",
    "model_base_path = \"/users/amtseng/att_priors/models/trained_models/%s/\" % model_type\n",
    "chrom_set = [\"chr1\"]\n",
    "input_length = 1346 if model_type == \"profile\" else 1000\n",
    "profile_length = 1000"
   ]
  },
  {
   "cell_type": "code",
   "execution_count": 18,
   "metadata": {},
   "outputs": [],
   "source": [
    "# K562\n",
    "files_spec_path = os.path.join(data_base_path, \"ENCODE_DNase/%s/config/K562/K562_training_paths.json\" % model_type)\n",
    "num_tasks = 1\n",
    "controls = \"shared\"\n",
    "if model_type == \"profile\":\n",
    "    model_class = profile_models.ProfilePredictorWithSharedControls\n",
    "else:\n",
    "    model_class = binary_models.BinaryPredictor\n",
    "dnase_footprint_path = \"/users/amtseng/att_priors/data/processed/DNase_footprints/K562.bed.gz\"\n",
    "noprior_model_path = os.path.join(model_base_path, \"K562_keep1/40/model_ckpt_epoch_1.pt\")\n",
    "prior_model_path = os.path.join(model_base_path, \"K562_prior_keep1/1/model_ckpt_epoch_1.pt\")"
   ]
  },
  {
   "cell_type": "code",
   "execution_count": 13,
   "metadata": {},
   "outputs": [],
   "source": [
    "torch.set_grad_enabled(True)\n",
    "device = torch.device(\"cuda\") if torch.cuda.is_available() else torch.device(\"cpu\")\n",
    "def restore_model(model_path):\n",
    "    model = model_util.restore_model(model_class, model_path)\n",
    "    model.eval()\n",
    "    model = model.to(device)\n",
    "    return model"
   ]
  },
  {
   "cell_type": "code",
   "execution_count": 14,
   "metadata": {},
   "outputs": [],
   "source": [
    "# Import the model without priors\n",
    "noprior_model = restore_model(noprior_model_path)"
   ]
  },
  {
   "cell_type": "code",
   "execution_count": 15,
   "metadata": {},
   "outputs": [],
   "source": [
    "# Import the model with priors\n",
    "prior_model = restore_model(prior_model_path)"
   ]
  },
  {
   "cell_type": "markdown",
   "metadata": {},
   "source": [
    "### Import set of DNase footprints"
   ]
  },
  {
   "cell_type": "code",
   "execution_count": 20,
   "metadata": {},
   "outputs": [],
   "source": [
    "footprints = pd.read_csv(\n",
    "    dnase_footprint_path, sep=\"\\t\", header=None,\n",
    "    names=[\"chrom\", \"start\", \"end\", \"motifs\", \"orig_coord\"]\n",
    ")\n",
    "footprints = footprints[footprints[\"chrom\"].isin(chrom_set)]"
   ]
  },
  {
   "cell_type": "markdown",
   "metadata": {},
   "source": [
    "### Compute input gradients"
   ]
  },
  {
   "cell_type": "code",
   "execution_count": 27,
   "metadata": {},
   "outputs": [],
   "source": [
    "def get_input_grads(model, coords_or_bins):\n",
    "    if model_type == \"profile\":\n",
    "        results = compute_predictions.get_profile_model_predictions(                                              \n",
    "            model, coords_or_bins, num_tasks, input_func, controls=controls,                        \n",
    "            return_losses=False, return_gradients=True, show_progress=True                                         \n",
    "        )\n",
    "        results[\"coords\"] = coords_or_bins\n",
    "    else:\n",
    "        results = compute_predictions.get_binary_model_predictions(                                              \n",
    "            model, coords_or_bins, input_func,                      \n",
    "            return_losses=False, return_gradients=True, show_progress=True                                         \n",
    "        )\n",
    "    return results[\"coords\"], results[\"input_seqs\"], results[\"input_grads\"]"
   ]
  },
  {
   "cell_type": "code",
   "execution_count": 29,
   "metadata": {},
   "outputs": [],
   "source": [
    "if model_type == \"profile\":\n",
    "    input_func = data_loading.get_profile_input_func(\n",
    "        files_spec_path, input_length, profile_length, reference_fasta\n",
    "    )\n",
    "    pos_set = data_loading.get_positive_profile_coords(\n",
    "        files_spec_path, chrom_set=chrom_set\n",
    "    )\n",
    "else:\n",
    "    input_func = data_loading.get_binary_input_func(\n",
    "        files_spec_path, input_length, reference_fasta\n",
    "    )\n",
    "    pos_set = data_loading.get_positive_binary_bins(\n",
    "        files_spec_path, chrom_set=chrom_set\n",
    "    )"
   ]
  },
  {
   "cell_type": "code",
   "execution_count": 31,
   "metadata": {},
   "outputs": [],
   "source": [
    "sample = pos_set[np.random.choice(len(pos_set), size=1000, replace=False)]"
   ]
  },
  {
   "cell_type": "code",
   "execution_count": 35,
   "metadata": {},
   "outputs": [
    {
     "name": "stderr",
     "output_type": "stream",
     "text": [
      "\n",
      "  0%|          | 0/8 [00:00<?, ?it/s]\u001b[A\n",
      " 12%|█▎        | 1/8 [00:00<00:03,  1.76it/s]\u001b[A\n",
      " 25%|██▌       | 2/8 [00:01<00:03,  1.80it/s]\u001b[A\n",
      " 38%|███▊      | 3/8 [00:01<00:02,  1.67it/s]\u001b[A\n",
      " 50%|█████     | 4/8 [00:02<00:02,  1.54it/s]\u001b[A\n",
      " 62%|██████▎   | 5/8 [00:03<00:01,  1.56it/s]\u001b[A\n",
      " 75%|███████▌  | 6/8 [00:03<00:01,  1.48it/s]\u001b[A\n",
      " 88%|████████▊ | 7/8 [00:04<00:00,  1.47it/s]\u001b[A\n",
      "100%|██████████| 8/8 [00:05<00:00,  1.50it/s]\u001b[A\n"
     ]
    }
   ],
   "source": [
    "noprior_coords, noprior_input_seqs, noprior_input_grads = get_input_grads(\n",
    "    noprior_model, sample\n",
    ")"
   ]
  },
  {
   "cell_type": "code",
   "execution_count": 36,
   "metadata": {},
   "outputs": [
    {
     "name": "stderr",
     "output_type": "stream",
     "text": [
      "\n",
      "  0%|          | 0/8 [00:00<?, ?it/s]\u001b[A\n",
      " 12%|█▎        | 1/8 [00:00<00:04,  1.53it/s]\u001b[A\n",
      " 25%|██▌       | 2/8 [00:01<00:04,  1.43it/s]\u001b[A\n",
      " 38%|███▊      | 3/8 [00:02<00:03,  1.29it/s]\u001b[A\n",
      " 50%|█████     | 4/8 [00:03<00:03,  1.33it/s]\u001b[A\n",
      " 62%|██████▎   | 5/8 [00:03<00:02,  1.37it/s]\u001b[A\n",
      " 75%|███████▌  | 6/8 [00:04<00:01,  1.41it/s]\u001b[A\n",
      " 88%|████████▊ | 7/8 [00:05<00:00,  1.44it/s]\u001b[A\n",
      "100%|██████████| 8/8 [00:05<00:00,  1.38it/s]\u001b[A\n"
     ]
    }
   ],
   "source": [
    "prior_coords, prior_input_seqs, prior_input_grads = get_input_grads(\n",
    "    prior_model, sample\n",
    ")"
   ]
  },
  {
   "cell_type": "code",
   "execution_count": 37,
   "metadata": {},
   "outputs": [],
   "source": [
    "assert np.all(noprior_input_seqs == prior_input_seqs)\n",
    "assert np.all(noprior_coords == prior_coords)\n",
    "input_seqs, coords = prior_input_seqs, prior_coords"
   ]
  },
  {
   "cell_type": "code",
   "execution_count": 38,
   "metadata": {},
   "outputs": [],
   "source": [
    "# Pad the coordinates on both sides symmetrically to make them `input_length` \n",
    "centers = (coords[:, 1] + coords[:, 2]) // 2\n",
    "starts = centers - (input_length // 2)\n",
    "ends = starts + input_length\n",
    "coords[:, 1] = starts\n",
    "coords[:, 2] = ends"
   ]
  },
  {
   "cell_type": "markdown",
   "metadata": {},
   "source": [
    "### Quantify agreement of gradients with footprints"
   ]
  },
  {
   "cell_type": "code",
   "execution_count": 39,
   "metadata": {},
   "outputs": [],
   "source": [
    "def score_input(chrom, start, end, grads, footprints):\n",
    "    \"\"\"\n",
    "    From a single coordinate and a list of I x 4 array of actual input gradients\n",
    "    (i.e. multiplied by input sequence) and the table of footprints, this\n",
    "    function computes and returns the agreement score, calculated as the\n",
    "    fraction of gradient magnitudes that fall within a footprint.\n",
    "    \"\"\"\n",
    "    fps = footprints[\n",
    "        (footprints[\"chrom\"] == chrom) & (footprints[\"start\"] >= start) & \\\n",
    "        (footprints[\"end\"] <= end)\n",
    "    ]\n",
    "    mask = np.zeros(end - start, dtype=bool)\n",
    "    intervals = fps[[\"start\", \"end\"]].values - start\n",
    "    for interval in intervals:\n",
    "        mask[interval[0]:interval[1]] = True\n",
    "    return [np.sum(grad[mask]) / np.sum(grad) for grad in grads]"
   ]
  },
  {
   "cell_type": "code",
   "execution_count": 40,
   "metadata": {},
   "outputs": [
    {
     "data": {
      "application/vnd.jupyter.widget-view+json": {
       "model_id": "041c6e9eca3a44b89aa2c4cc2289b662",
       "version_major": 2,
       "version_minor": 0
      },
      "text/plain": [
       "HBox(children=(FloatProgress(value=0.0, max=1000.0), HTML(value='')))"
      ]
     },
     "metadata": {},
     "output_type": "display_data"
    },
    {
     "name": "stdout",
     "output_type": "stream",
     "text": [
      "\n"
     ]
    }
   ],
   "source": [
    "noprior_scores, prior_scores = [], []\n",
    "for i in tqdm.notebook.trange(len(coords)):\n",
    "    chrom, start, end = coords[i]\n",
    "    noprior_score, prior_score = score_input(\n",
    "        chrom, start, end,\n",
    "        [\n",
    "            np.abs(noprior_input_grads[i] * input_seqs[i]),\n",
    "            np.abs(prior_input_grads[i] * input_seqs[i])\n",
    "        ],\n",
    "        footprints\n",
    "    )\n",
    "    noprior_scores.append(noprior_score)\n",
    "    prior_scores.append(prior_score)\n",
    "noprior_scores, prior_scores = np.array(noprior_scores), np.array(prior_scores)"
   ]
  },
  {
   "cell_type": "code",
   "execution_count": 41,
   "metadata": {},
   "outputs": [
    {
     "data": {
      "text/plain": [
       "<matplotlib.legend.Legend at 0x7f0cd0c25250>"
      ]
     },
     "execution_count": 41,
     "metadata": {},
     "output_type": "execute_result"
    },
    {
     "data": {
      "image/png": "[encoded data removed]",
      "text/plain": [
       "<Figure size 432x288 with 1 Axes>"
      ]
     },
     "metadata": {
      "needs_background": "light"
     },
     "output_type": "display_data"
    }
   ],
   "source": [
    "bin_num = 20\n",
    "plt.figure()\n",
    "plt.hist(\n",
    "    [noprior_scores, prior_scores],\n",
    "    bin_num, histtype=\"bar\",\n",
    "    label=[\"No prior\", \"With prior\"], color=[\"red\", \"blue\"])\n",
    "title = \"Histogram of input gradient match to DNase footprints\"\n",
    "title += \"\\nTrained only on 1% of peaks\"\n",
    "plt.title(title)\n",
    "plt.xlabel(\"Input gradient match to footprints\")\n",
    "plt.legend()"
   ]
  },
  {
   "cell_type": "code",
   "execution_count": 42,
   "metadata": {},
   "outputs": [
    {
     "name": "stdout",
     "output_type": "stream",
     "text": [
      "Average score without priors: 0.118483\n",
      "Average score with priors: 0.137377\n",
      "Test of difference of means: t = 3.865105, p = 0.000057\n"
     ]
    }
   ],
   "source": [
    "print(\"Average score without priors: %f\" % np.mean(noprior_scores))\n",
    "print(\"Average score with priors: %f\" % np.mean(prior_scores))\n",
    "t, p = scipy.stats.ttest_ind(prior_scores, noprior_scores, equal_var=False)\n",
    "print(\"Test of difference of means: t = %f, p = %f\" % (t, p / 2))"
   ]
  }
 ],
 "metadata": {
  "kernelspec": {
   "display_name": "Python 3",
   "language": "python",
   "name": "python3"
  },
  "language_info": {
   "codemirror_mode": {
    "name": "ipython",
    "version": 3
   },
   "file_extension": ".py",
   "mimetype": "text/x-python",
   "name": "python",
   "nbconvert_exporter": "python",
   "pygments_lexer": "ipython3",
   "version": "3.7.4"
  }
 },
 "nbformat": 4,
 "nbformat_minor": 2
}

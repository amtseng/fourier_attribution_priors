{
 "cells": [
  {
   "cell_type": "code",
   "execution_count": null,
   "metadata": {},
   "outputs": [],
   "source": [
    "import sys\n",
    "import os\n",
    "sys.path.append(os.path.abspath(\"../src/\"))\n",
    "import plot.viz_sequence as viz_sequence\n",
    "import h5py\n",
    "import numpy as np\n",
    "import tqdm\n",
    "tqdm.tqdm_notebook()"
   ]
  },
  {
   "cell_type": "code",
   "execution_count": null,
   "metadata": {},
   "outputs": [],
   "source": [
    "# Path to SHAP scores and TF-MoDISco results\n",
    "shap_scores_path = \"/users/amtseng/att_priors/results/shap_scores/profile/BPNet/BPNet_prior_r25_e17_task2_all_shap_scores.h5\"\n",
    "tfm_results_path = \"/users/amtseng/att_priors/results/tfmodisco/profile/BPNet/BPNet_prior_r25_e17_task0_all_tfm.h5\""
   ]
  },
  {
   "cell_type": "code",
   "execution_count": null,
   "metadata": {},
   "outputs": [],
   "source": [
    "with h5py.File(shap_scores_path, \"r\") as f:\n",
    "    hyp_scores = f[\"hyp_scores\"][:]\n",
    "    input_seqs = f[\"one_hot_seqs\"][:]"
   ]
  },
  {
   "cell_type": "code",
   "execution_count": null,
   "metadata": {},
   "outputs": [],
   "source": [
    "def find_motifs(input_seqs, query_seq, center_slice):\n",
    "    base_dict = {\"A\": 0, \"C\": 1, \"G\": 2, \"T\": 3}\n",
    "    rc_base_dict = {\"A\": 3, \"C\": 2, \"G\": 1, \"T\": 0}\n",
    "    found = []\n",
    "    seq = np.array([base_dict[base] for base in query_seq])\n",
    "    rc_seq = np.array([rc_base_dict[base] for base in query_seq])\n",
    "    for i in tqdm.notebook.trange(len(input_seqs)):\n",
    "        input_seq = np.where(input_seqs[i][center_slice] == 1)[1]\n",
    "        for j in range(0, len(input_seq) - len(seq)):\n",
    "            if np.all(seq == input_seq[j : j + len(seq)]) or np.all(rc_seq == input_seq[j : j + len(seq)]):\n",
    "                found.append(i)\n",
    "                break\n",
    "    return found"
   ]
  },
  {
   "cell_type": "code",
   "execution_count": null,
   "metadata": {},
   "outputs": [],
   "source": [
    "for index in np.random.choice(hyp_scores.shape[0], size=5, replace=False):\n",
    "    viz_sequence.plot_weights((hyp_scores[index] * input_seqs[index])[570:770], subticks_frequency=100)"
   ]
  },
  {
   "cell_type": "code",
   "execution_count": null,
   "metadata": {},
   "outputs": [],
   "source": [
    "background_freqs = np.array([0.27, 0.23, 0.23, 0.27])\n",
    "def pfm_info_content(pfm, pseudocount=0.001):\n",
    "    \"\"\"\n",
    "    Given an L x 4 PFM, computes information content for each base and\n",
    "    returns it as an L-array.\n",
    "    \"\"\"\n",
    "    num_bases = pfm.shape[1]\n",
    "    # Normalize track to probabilities along base axis\n",
    "    pfm_norm = (pfm + pseudocount) / (np.sum(pfm, axis=1, keepdims=True) + (num_bases * pseudocount))\n",
    "    ic = pfm_norm * np.log2(pfm_norm / np.expand_dims(background_freqs, axis=0))\n",
    "    return np.sum(ic, axis=1)\n",
    "\n",
    "def pfm_to_pwm(pfm, pseudocount=0.001):\n",
    "    \"\"\"\n",
    "    Converts and L x 4 PFM into an L x 4 PWM.\n",
    "    \"\"\"\n",
    "    num_bases = pfm.shape[1]\n",
    "    # Incorporate pseudocount by adding it to every element and renormalizing\n",
    "    pfm_norm = (pfm + pseudocount) / (np.sum(pfm, axis=1, keepdims=True) + (num_bases * pseudocount))\n",
    "    return np.log2(pfm_norm / np.expand_dims(background_freqs, axis=0))"
   ]
  },
  {
   "cell_type": "code",
   "execution_count": null,
   "metadata": {
    "scrolled": false
   },
   "outputs": [],
   "source": [
    "def import_tfmodisco_motifs(\n",
    "    tfm_results_hdf5, min_seqlets=0, min_ic=0.6, ic_window=6, trim_flank_ic_frac=0.2,\n",
    "    max_length=20, plot_all_motifs=False, plot_passed_motifs=True\n",
    "):\n",
    "    \"\"\"\n",
    "    Imports the TF-MoDISco motifs, and a final set of motifs, trimmed by info content.\n",
    "    The motifs returned must have at least `min_seqlets` supporting them, and there must\n",
    "    be a window of size `ic_window` with at IC at least `min_ic`. Finally, the resulting\n",
    "    motifs are trimmed by cutting off flanks whose base-level IC is below\n",
    "    `trim_flank_ic_frac` of the highest IC of the motif. If the remaining motif is over\n",
    "    `max_length`, it is also deemed to not pass, because IC is not concentrated enough.\n",
    "    This also only keeps motifs with overall positive contributions (i.e. no negative\n",
    "    seqlets).\n",
    "    Returns 2 parallel lists: a list of motif CWMs, and a list of motif PWMs.\n",
    "    \"\"\"\n",
    "    cwms, pwms = [], []\n",
    "    num_seqlets = []\n",
    "    with h5py.File(tfm_results_hdf5, \"r\") as f:\n",
    "        metaclusters = f[\"metacluster_idx_to_submetacluster_results\"]\n",
    "        num_metaclusters = len(metaclusters.keys())\n",
    "        for metacluster_i, metacluster_key in enumerate(list(metaclusters.keys())):\n",
    "            metacluster = metaclusters[metacluster_key]\n",
    "            if plot_all_motifs:\n",
    "                print(\"Metacluster: %s (%d/%d)\" % (metacluster_key, metacluster_i + 1, num_metaclusters))\n",
    "                print(\"==========================================\")\n",
    "            patterns = metacluster[\"seqlets_to_patterns_result\"][\"patterns\"]\n",
    "            num_patterns = len(patterns[\"all_pattern_names\"][:])\n",
    "            for pattern_i, pattern_name in enumerate(patterns[\"all_pattern_names\"]):\n",
    "                pattern_name = pattern_name.decode()\n",
    "                pattern = patterns[pattern_name]\n",
    "                seqlets = pattern[\"seqlets_and_alnmts\"][\"seqlets\"]\n",
    "                x = np.array([int(s.split(\",\")[0].split(\":\")[1]) for s in seqlets[:].astype(str)])\n",
    "                print(np.max(x))\n",
    "                \n",
    "                if plot_all_motifs:\n",
    "                    print(\"Pattern: %s (%d/%d)\" % (pattern_name, pattern_i + 1, num_patterns))\n",
    "                    print(\"--------------------------------------\")\n",
    "\n",
    "                    print(\"%d seqlets\" % len(seqlets))\n",
    "                    print(\"Sequence\")\n",
    "                    viz_sequence.plot_weights(pattern[\"sequence\"][\"fwd\"][:])\n",
    "                    print(\"Hypothetical contributions\")\n",
    "                    viz_sequence.plot_weights(pattern[\"task0_hypothetical_contribs\"][\"fwd\"][:])\n",
    "                    print(\"Contribution_scores\")\n",
    "                    viz_sequence.plot_weights(pattern[\"task0_contrib_scores\"][\"fwd\"][:])\n",
    "                \n",
    "                pfm = pattern[\"sequence\"][\"fwd\"][:]\n",
    "                act_contribs = pattern[\"task0_contrib_scores\"][\"fwd\"][:]\n",
    "                \n",
    "                # Check that the contribution scores are overall positive\n",
    "                if np.sum(act_contribs) < 0:\n",
    "                    continue\n",
    "                \n",
    "                # Check number of seqlets and IC\n",
    "                if len(seqlets) < min_seqlets:\n",
    "                    continue\n",
    "                \n",
    "                pwm = pfm_to_pwm(pfm)\n",
    "                pwm_ic = pfm_info_content(pfm)\n",
    "                max_windowed_ic = max(\n",
    "                    np.sum(pwm_ic[i : (i + ic_window)]) for i in range(len(pwm_ic) - ic_window + 1)\n",
    "                )\n",
    "                if max_windowed_ic / ic_window < min_ic:\n",
    "                    continue\n",
    "                    \n",
    "                # Cut off flanks from actual contribution scores and PWM based on IC of PWM\n",
    "                ic_trim_thresh = np.max(pwm_ic) * trim_flank_ic_frac\n",
    "                pass_inds = np.where(pwm_ic >= ic_trim_thresh)[0]\n",
    "                trimmed_cwm = act_contribs[np.min(pass_inds): np.max(pass_inds) + 1]\n",
    "                trimmed_pwm = pwm[np.min(pass_inds): np.max(pass_inds) + 1]\n",
    "                \n",
    "                # If too long after trimming, IC is not concentrated enough; toss out;\n",
    "                # it is almost certainly a homopolymer repeat\n",
    "                if len(trimmed_cwm) > max_length:\n",
    "                    continue\n",
    "                \n",
    "                # Last check to make sure motif is overall positive\n",
    "                if np.sum(trimmed_cwm) < 0:\n",
    "                    continue\n",
    "\n",
    "                cwms.append(trimmed_cwm)\n",
    "                pwms.append(trimmed_pwm)\n",
    "                num_seqlets.append(len(seqlets))\n",
    "\n",
    "    if plot_passed_motifs:\n",
    "        print(\"Final motifs: %d total\" % len(cwms))\n",
    "        print(\"==========================================\")\n",
    "        for i in range(len(cwms)):\n",
    "            print(\"Motif %d (%d seqlets)\" % (i + 1, num_seqlets[i]))\n",
    "            viz_sequence.plot_weights(cwms[i])\n",
    "            viz_sequence.plot_weights(pwms[i])\n",
    "    return cwms, pwms"
   ]
  },
  {
   "cell_type": "code",
   "execution_count": null,
   "metadata": {
    "scrolled": true
   },
   "outputs": [],
   "source": [
    "motifs = import_tfmodisco_motifs(tfm_results_path, plot_all_motifs=True, plot_passed_motifs=True)"
   ]
  },
  {
   "cell_type": "code",
   "execution_count": null,
   "metadata": {
    "scrolled": false
   },
   "outputs": [],
   "source": [
    "motifs = import_tfmodisco_motifs(tfm_results_path, min_seqlets=0, min_ic=0.6, trim_flank_ic_frac=0, max_length=100, plot_all_motifs=False, plot_passed_motifs=True)"
   ]
  },
  {
   "cell_type": "code",
   "execution_count": null,
   "metadata": {},
   "outputs": [],
   "source": [
    "# viz_sequence.plot_weights(np.flip(motifs[0][9], axis=(0, 1)))"
   ]
  }
 ],
 "metadata": {
  "kernelspec": {
   "display_name": "Python 3",
   "language": "python",
   "name": "python3"
  },
  "language_info": {
   "codemirror_mode": {
    "name": "ipython",
    "version": 3
   },
   "file_extension": ".py",
   "mimetype": "text/x-python",
   "name": "python",
   "nbconvert_exporter": "python",
   "pygments_lexer": "ipython3",
   "version": "3.7.4"
  }
 },
 "nbformat": 4,
 "nbformat_minor": 4
}

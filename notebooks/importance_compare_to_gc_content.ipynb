{
 "cells": [
  {
   "cell_type": "code",
   "execution_count": 1,
   "metadata": {},
   "outputs": [
    {
     "name": "stderr",
     "output_type": "stream",
     "text": [
      "/users/amtseng/miniconda3/envs/att-priors/lib/python3.7/site-packages/ipykernel_launcher.py:20: TqdmDeprecationWarning: This function will be removed in tqdm==5.0.0\n",
      "Please use `tqdm.notebook.tqdm` instead of `tqdm.tqdm_notebook`\n"
     ]
    },
    {
     "data": {
      "application/vnd.jupyter.widget-view+json": {
       "model_id": "17b07b27b3d5445a972a9eb7a0c551e0",
       "version_major": 2,
       "version_minor": 0
      },
      "text/plain": [
       "HBox(children=(FloatProgress(value=1.0, bar_style='info', max=1.0), HTML(value='')))"
      ]
     },
     "metadata": {},
     "output_type": "display_data"
    },
    {
     "data": {
      "text/plain": [
       "|<bar/>| 0/? [00:00<?, ?it/s]"
      ]
     },
     "execution_count": 1,
     "metadata": {},
     "output_type": "execute_result"
    }
   ],
   "source": [
    "import sys\n",
    "import os\n",
    "sys.path.append(os.path.abspath(\"../src/\"))\n",
    "import extract.data_loading as data_loading\n",
    "import extract.compute_predictions as compute_predictions\n",
    "import extract.compute_shap as compute_shap\n",
    "import extract.compute_ism as compute_ism\n",
    "import model.util as model_util\n",
    "import model.profile_models as profile_models\n",
    "import model.binary_models as binary_models\n",
    "import plot.viz_sequence as viz_sequence\n",
    "import pyBigWig\n",
    "import torch\n",
    "import numpy as np\n",
    "import scipy.stats\n",
    "import pandas as pd\n",
    "import matplotlib.pyplot as plt\n",
    "import json\n",
    "import tqdm\n",
    "tqdm.tqdm_notebook()  # It is necessary to call this before the tqdm.notebook submodule is available"
   ]
  },
  {
   "cell_type": "markdown",
   "metadata": {},
   "source": [
    "### Define paths for the model and data of interest"
   ]
  },
  {
   "cell_type": "code",
   "execution_count": 2,
   "metadata": {},
   "outputs": [],
   "source": [
    "model_type = \"binary\""
   ]
  },
  {
   "cell_type": "code",
   "execution_count": 3,
   "metadata": {},
   "outputs": [],
   "source": [
    "# Shared paths/constants\n",
    "reference_fasta = \"/users/amtseng/genomes/hg38.fasta\"\n",
    "chrom_sizes = \"/users/amtseng/genomes/hg38.canon.chrom.sizes\"\n",
    "raw_data_base_path = \"/users/amtseng/att_priors/data/raw/\"\n",
    "proc_data_base_path = \"/users/amtseng/att_priors/data/processed/\"\n",
    "model_base_path = \"/users/amtseng/att_priors/models/trained_models/%s/\" % model_type\n",
    "tfm_results_path = \"/users/amtseng/att_priors/results/tfmodisco/%s/\" % model_type\n",
    "chrom_set = [\"chr1\"]\n",
    "input_length = 1346 if model_type == \"profile\" else 1000\n",
    "profile_length = 1000"
   ]
  },
  {
   "cell_type": "code",
   "execution_count": 9,
   "metadata": {},
   "outputs": [],
   "source": [
    "# GC content track\n",
    "gc_content_track = \"/users/amtseng/att_priors/data/raw/gc_content/hg38_1000bp_gc_content.bw\""
   ]
  },
  {
   "cell_type": "code",
   "execution_count": 4,
   "metadata": {},
   "outputs": [],
   "source": [
    "# K562\n",
    "condition_name = \"K562\"\n",
    "files_spec_path = os.path.join(proc_data_base_path, \"ENCODE_DNase/%s/config/K562/K562_training_paths.json\" % model_type)\n",
    "num_tasks = 1\n",
    "num_strands = 1\n",
    "controls = \"shared\"\n",
    "if model_type == \"profile\":\n",
    "    model_class = profile_models.ProfilePredictorWithSharedControls\n",
    "else:\n",
    "    model_class = binary_models.BinaryPredictor\n",
    "task_index = None\n",
    "noprior_model_path = os.path.join(model_base_path, \"K562/18/model_ckpt_epoch_1.pt\")\n",
    "prior_model_path = os.path.join(model_base_path, \"K562_prior/9/model_ckpt_epoch_8.pt\")"
   ]
  },
  {
   "cell_type": "code",
   "execution_count": null,
   "metadata": {},
   "outputs": [],
   "source": [
    "# BPNet\n",
    "condition_name = \"BPNet\"\n",
    "reference_fasta = \"/users/amtseng/genomes/mm10.fasta\"\n",
    "chrom_sizes = \"/users/amtseng/genomes/mm10.canon.chrom.sizes\"\n",
    "files_spec_path = os.path.join(proc_data_base_path, \"BPNet_ChIPseq/%s/config/BPNet_training_paths.json\" % model_type)\n",
    "num_tasks = 3\n",
    "num_strands = 2\n",
    "if model_type == \"profile\":\n",
    "    controls = \"shared\"\n",
    "    model_class = profile_models.ProfilePredictorWithSharedControls\n",
    "else:\n",
    "    model_class = binary_models.BinaryPredictor\n",
    "\n",
    "bpnet_tasks = [\"Nanog\", \"Oct4\", \"Sox2\"]\n",
    "task_index = None\n",
    "noprior_model_path = os.path.join(model_base_path, \"BPNet/22/model_ckpt_epoch_1.pt\")\n",
    "prior_model_path = os.path.join(model_base_path, \"BPNet_prior/16/model_ckpt_epoch_11.pt\")"
   ]
  },
  {
   "cell_type": "code",
   "execution_count": 5,
   "metadata": {},
   "outputs": [],
   "source": [
    "torch.set_grad_enabled(True)\n",
    "device = torch.device(\"cuda\") if torch.cuda.is_available() else torch.device(\"cpu\")\n",
    "def restore_model(model_path):\n",
    "    model = model_util.restore_model(model_class, model_path)\n",
    "    model.eval()\n",
    "    model = model.to(device)\n",
    "    return model"
   ]
  },
  {
   "cell_type": "code",
   "execution_count": 6,
   "metadata": {},
   "outputs": [],
   "source": [
    "# Import the model without priors\n",
    "noprior_model = restore_model(noprior_model_path)"
   ]
  },
  {
   "cell_type": "code",
   "execution_count": 7,
   "metadata": {},
   "outputs": [],
   "source": [
    "# Import the model with priors\n",
    "prior_model = restore_model(prior_model_path)"
   ]
  },
  {
   "cell_type": "markdown",
   "metadata": {},
   "source": [
    "### Data preparation\n",
    "Create an input data loader, that maps coordinates or bin indices to data needed for the model. We also create a loader for the GC content"
   ]
  },
  {
   "cell_type": "code",
   "execution_count": 8,
   "metadata": {},
   "outputs": [],
   "source": [
    "if model_type == \"profile\":\n",
    "    input_func = data_loading.get_profile_input_func(\n",
    "        files_spec_path, input_length, profile_length, reference_fasta\n",
    "    )\n",
    "    pos_examples = data_loading.get_positive_profile_coords(\n",
    "        files_spec_path, chrom_set=chrom_set\n",
    "    )\n",
    "else:\n",
    "    input_func = data_loading.get_binary_input_func(\n",
    "        files_spec_path, input_length, reference_fasta\n",
    "    )\n",
    "    pos_examples = data_loading.get_positive_binary_bins(\n",
    "        files_spec_path, chrom_set=chrom_set\n",
    "    )"
   ]
  },
  {
   "cell_type": "code",
   "execution_count": 10,
   "metadata": {},
   "outputs": [],
   "source": [
    "def fetch_gc_content(chrom, pos):\n",
    "    \"\"\"\n",
    "    Fetches GC content centered at this position.\n",
    "    \"\"\"\n",
    "    with pyBigWig.open(gc_content_track, \"r\") as f:\n",
    "        return np.nan_to_num(f.values(chrom, pos, pos + 1))[0]"
   ]
  },
  {
   "cell_type": "markdown",
   "metadata": {},
   "source": [
    "### Compute importances"
   ]
  },
  {
   "cell_type": "code",
   "execution_count": null,
   "metadata": {},
   "outputs": [],
   "source": [
    "def compute_gradients(model, sample):\n",
    "    \"\"\"\n",
    "    Given an array of N coordinates or bins, computes the input gradients\n",
    "    for the model, returning an N x I x 4 array of gradient values and an\n",
    "    N x I x 4 array of one-hot encoded sequence.\n",
    "    \"\"\"\n",
    "    if model_type == \"profile\":\n",
    "        results = compute_predictions.get_profile_model_predictions(                                              \n",
    "            model, sample, num_tasks, input_func, controls=controls,                        \n",
    "            return_losses=False, return_gradients=True, show_progress=True                                         \n",
    "        )\n",
    "    else:\n",
    "        results = compute_predictions.get_binary_model_predictions(                                              \n",
    "            model, sample, input_func,                      \n",
    "            return_losses=False, return_gradients=True, show_progress=True                                         \n",
    "        )\n",
    "    return results[\"input_grads\"], results[\"input_seqs\"]"
   ]
  },
  {
   "cell_type": "code",
   "execution_count": 11,
   "metadata": {},
   "outputs": [],
   "source": [
    "def compute_shap_scores(model, sample, batch_size=128):\n",
    "    \"\"\"\n",
    "    Given an array of N coordinates or bins, computes the SHAP scores\n",
    "    for the model, returning an N x I x 4 array of SHAP scores and an\n",
    "    N x I x 4 array of one-hot encoded sequence.\n",
    "    \"\"\"\n",
    "    num_samples = len(sample)\n",
    "    num_batches = int(np.ceil(num_samples / batch_size))\n",
    "    \n",
    "    all_shap_scores = np.empty((num_samples, input_length, 4))\n",
    "    all_one_hot_seqs = np.empty((num_samples, input_length, 4))\n",
    "        \n",
    "    if model_type == \"profile\":\n",
    "        shap_explainer = compute_shap.create_profile_explainer(\n",
    "            model, input_length, profile_length, num_tasks, num_strands, controls,\n",
    "            task_index=task_index\n",
    "        )\n",
    "    else:\n",
    "        shap_explainer = compute_shap.create_binary_explainer(\n",
    "            model, input_length, task_index=task_index\n",
    "        )\n",
    "\n",
    "    for i in tqdm.notebook.trange(num_batches):\n",
    "        batch_slice = slice(i * batch_size, (i + 1) * batch_size)\n",
    "        batch = sample[batch_slice]\n",
    "\n",
    "        if model_type == \"profile\":\n",
    "            input_seqs, profiles = input_func(batch)\n",
    "            shap_scores = shap_explainer(\n",
    "                input_seqs, cont_profs=profiles[:, num_tasks:], hide_shap_output=True\n",
    "            )\n",
    "        else:\n",
    "            input_seqs, _, _ = input_func(batch)\n",
    "            shap_scores = shap_explainer(\n",
    "                input_seqs, hide_shap_output=True\n",
    "            )\n",
    "\n",
    "        all_shap_scores[batch_slice] = shap_scores\n",
    "        all_one_hot_seqs[batch_slice] = input_seqs\n",
    "    return all_shap_scores, all_one_hot_seqs"
   ]
  },
  {
   "cell_type": "code",
   "execution_count": 12,
   "metadata": {},
   "outputs": [],
   "source": [
    "# Pick a sample of 1000 random coordinates/bins\n",
    "num_samples = 1000\n",
    "sample = pos_examples[np.random.choice(len(pos_examples), size=num_samples, replace=False)]"
   ]
  },
  {
   "cell_type": "code",
   "execution_count": 13,
   "metadata": {},
   "outputs": [],
   "source": [
    "# Get coordinates for the sample\n",
    "if model_type == \"profile\":\n",
    "    # For profile models, add a random jitter to avoid center-bias\n",
    "    jitters = np.random.randint(-128, 128 + 1, size=len(sample))\n",
    "    sample[:, 1] = sample[:, 1] + jitters\n",
    "    sample[:, 2] = sample[:, 2] + jitters\n",
    "    sample_coords = sample\n",
    "else:\n",
    "    sample_coords = input_func(sample)[2]"
   ]
  },
  {
   "cell_type": "code",
   "execution_count": 14,
   "metadata": {
    "scrolled": true
   },
   "outputs": [
    {
     "data": {
      "application/vnd.jupyter.widget-view+json": {
       "model_id": "599b2751abe24717b3397bb0c539e301",
       "version_major": 2,
       "version_minor": 0
      },
      "text/plain": [
       "HBox(children=(FloatProgress(value=0.0, max=8.0), HTML(value='')))"
      ]
     },
     "metadata": {},
     "output_type": "display_data"
    },
    {
     "name": "stdout",
     "output_type": "stream",
     "text": [
      "\n"
     ]
    },
    {
     "data": {
      "application/vnd.jupyter.widget-view+json": {
       "model_id": "aeb4ec4825a040fa84c6706657b439eb",
       "version_major": 2,
       "version_minor": 0
      },
      "text/plain": [
       "HBox(children=(FloatProgress(value=0.0, max=8.0), HTML(value='')))"
      ]
     },
     "metadata": {},
     "output_type": "display_data"
    },
    {
     "name": "stdout",
     "output_type": "stream",
     "text": [
      "\n"
     ]
    }
   ],
   "source": [
    "# Compute the importance scores and 1-hot seqs\n",
    "imp_type = (\"SHAP scores\", \"input gradients\")[0]\n",
    "imp_func = compute_shap_scores if imp_type == \"SHAP scores\" else compute_gradients\n",
    "noprior_scores, _ = imp_func(noprior_model, sample)\n",
    "prior_scores, one_hot_seqs = imp_func(prior_model, sample)"
   ]
  },
  {
   "cell_type": "markdown",
   "metadata": {},
   "source": [
    "### Compare importance tracks to GC content"
   ]
  },
  {
   "cell_type": "code",
   "execution_count": 23,
   "metadata": {},
   "outputs": [],
   "source": [
    "noprior_frac_gc = np.sum(np.abs(noprior_scores[:, :, 1:3]), axis=(1, 2)) / np.sum(np.abs(noprior_scores), axis=(1, 2))\n",
    "prior_frac_gc = np.sum(np.abs(prior_scores[:, :, 1:3]), axis=(1, 2)) / np.sum(np.abs(prior_scores), axis=(1, 2))"
   ]
  },
  {
   "cell_type": "code",
   "execution_count": 24,
   "metadata": {},
   "outputs": [
    {
     "name": "stdout",
     "output_type": "stream",
     "text": [
      "Average fraction without priors: 0.525104\n",
      "Average fraction with priors: 0.525258\n",
      "One-sided paired t-test p: 0.356556\n"
     ]
    },
    {
     "data": {
      "image/png": "[encoded data removed]",
      "text/plain": [
       "<Figure size 576x288 with 1 Axes>"
      ]
     },
     "metadata": {
      "needs_background": "light"
     },
     "output_type": "display_data"
    }
   ],
   "source": [
    "bin_num = 20\n",
    "plt.figure(figsize=(8, 4))\n",
    "plt.hist(\n",
    "    [noprior_frac_gc, prior_frac_gc],\n",
    "    bin_num, histtype=\"bar\",\n",
    "    label=[\"No prior\", \"With prior\"], color=[\"red\", \"blue\"]\n",
    ")\n",
    "plt.title(\n",
    "    (\"Fraction of %s assigned to GC\" % imp_type) +\n",
    "    (\"\\n%s %s models\" % (condition_name, model_type)) +\n",
    "    (\"\\nComputed on %d randomly drawn test peaks\" % len(sample))\n",
    ")\n",
    "plt.xlabel(\"Fraction of hypothetical importance assigned to GC\")\n",
    "\n",
    "print(\"Average fraction without priors: %f\" % np.mean(noprior_frac_gc))\n",
    "print(\"Average fraction with priors: %f\" % np.mean(prior_frac_gc))\n",
    "t, p = scipy.stats.ttest_rel(noprior_frac_gc, prior_frac_gc)\n",
    "print(\"One-sided paired t-test p: %f\" % (p / 2))"
   ]
  },
  {
   "cell_type": "code",
   "execution_count": null,
   "metadata": {},
   "outputs": [],
   "source": [
    "# Plot out a few examples\n",
    "center_slice = slice(400, 600)\n",
    "for i in np.random.choice(num_samples, size=3, replace=False):\n",
    "    print(i, sample[i])\n",
    "    print(\"=========================\")\n",
    "    print(\"Without priors:\")\n",
    "    viz_sequence.plot_weights(noprior_scores[i][center_slice] * one_hot_seqs[i][center_slice], subticks_frequency=10)\n",
    "    print(\"With priors:\")\n",
    "    viz_sequence.plot_weights(prior_scores[i][center_slice] * one_hot_seqs[i][center_slice], subticks_frequency=10)"
   ]
  },
  {
   "cell_type": "code",
   "execution_count": 21,
   "metadata": {},
   "outputs": [],
   "source": [
    "gc_counts = np.sum(one_hot_seqs[:, :, 1:3], axis=(1, 2))"
   ]
  },
  {
   "cell_type": "code",
   "execution_count": 25,
   "metadata": {},
   "outputs": [],
   "source": [
    "noprior_frac_gc = np.mean(noprior_scores[:, :, 1:3], axis=(1, 2)) / np.mean(noprior_scores, axis=(1, 2))\n",
    "prior_frac_gc = np.mean(prior_scores[:, :, 1:3], axis=(1, 2)) / np.mean(prior_scores, axis=(1, 2))"
   ]
  },
  {
   "cell_type": "code",
   "execution_count": 31,
   "metadata": {},
   "outputs": [
    {
     "data": {
      "text/plain": [
       "array([ 6.27901941e+00, -3.07411998e+00,  1.16883981e+01, -1.17101842e+00,\n",
       "        9.07797908e+01,  4.52423457e+00,  5.75973889e+00,  8.53753764e+00,\n",
       "       -1.10493471e+01,  1.56044845e+01,  8.42040353e+01,  2.18494262e+00,\n",
       "        6.61881879e-02,  2.00552312e+01, -1.29954674e+01,  1.54967177e-01,\n",
       "        1.05666568e+01,  7.05241819e+00, -2.87086509e+02,  3.24276038e+00,\n",
       "        7.05228807e-01,  3.21222378e+00, -2.31165994e+01,  4.12574417e+00,\n",
       "       -2.23207669e+03, -1.43833289e-01, -2.10952729e+00,  2.79300170e+00,\n",
       "       -1.36873522e-01,  1.27504934e+01,  1.17833211e+00, -7.61451771e-01,\n",
       "        4.45884402e+00,  6.14340031e+00,  5.30849900e-01, -7.16877541e-01,\n",
       "        3.86613091e+00, -1.34246261e+01,  2.80598711e+01,  4.88614933e-01,\n",
       "        5.88284053e-01, -2.96749338e+00,  5.11860571e+01,  1.30018609e+00,\n",
       "       -1.32760364e+00,  3.39406128e-01, -5.89725583e-01,  3.15564329e+00,\n",
       "       -6.18866617e+00,  3.96695162e+00,  2.49740509e+00,  1.76876424e+00,\n",
       "        3.88597417e-01, -3.84656286e-01,  1.30206946e+01, -2.07654899e+00,\n",
       "        2.10523648e+01, -3.02649719e+00,  2.62182617e-01, -6.63374773e+00,\n",
       "        5.97542405e+00, -2.87280076e+01,  6.91842134e+00, -3.65211224e+00,\n",
       "       -1.64566721e+00,  6.89552942e+00,  1.04814157e+00, -1.14862129e+01,\n",
       "       -8.61636106e+00,  4.30459892e+00,  6.01541524e+00,  4.34572464e+00,\n",
       "        1.09936888e+01, -1.30782721e+00,  1.07995781e+01,  4.70848951e+00,\n",
       "       -1.25534612e+01, -1.24435577e+01,  3.41638664e+00,  5.62832858e+00,\n",
       "        1.18750768e-01, -1.41488532e+01,  7.04659641e+00,  3.64112753e+00,\n",
       "        3.44490844e+00, -1.21904341e+01,  6.12280081e+00,  2.46770603e-01,\n",
       "        2.49265032e+01, -2.64777755e-01,  1.72992165e+00,  8.10741122e+00,\n",
       "       -1.57100164e+00,  7.84492866e+00,  7.68752719e+00, -1.21232662e+01,\n",
       "       -1.87419358e+00, -1.04868383e+01,  2.74399169e+01,  6.53116045e+00,\n",
       "        6.09175711e+00, -1.38487369e+00,  9.76511769e+01,  4.59199982e+01,\n",
       "        4.31102147e+00,  4.83153336e+00,  1.59592879e+01, -1.12864877e+01,\n",
       "        9.24358747e+00,  3.68244649e+00,  8.55658344e+00,  2.49120624e+00,\n",
       "        6.39804776e-02,  1.79863515e+00,  1.23806904e+00,  5.96345240e+00,\n",
       "        2.68788113e+01,  4.48935459e+00, -8.31695467e+00,  5.37909274e+00,\n",
       "       -2.49210943e+00, -1.38322838e+00,  3.44177936e+00,  1.57777733e+01,\n",
       "        4.36192036e+00, -3.67760847e+00,  4.93969067e+00,  1.30331268e+01,\n",
       "       -7.62722973e+01, -1.21433190e+00, -1.39126955e-01,  4.60983358e+00,\n",
       "        1.05943389e+00,  2.68382691e+00,  6.24177720e+00, -5.68973578e-01,\n",
       "        3.42027336e+01,  5.70272375e+00,  7.66091648e+00, -1.88620633e+00,\n",
       "        3.97287442e-01, -2.78067474e+01,  5.25045456e+00,  4.19645519e+00,\n",
       "        2.08468444e+00,  1.15382274e+01, -1.72620370e+00, -1.13357225e+00,\n",
       "        4.94206751e+00,  5.94813606e+00, -8.12803174e+00, -5.26994557e+00,\n",
       "       -2.21716405e+00,  6.22705037e+00,  3.68801832e+00, -6.95644016e-01,\n",
       "       -6.63790847e-01, -3.21357130e+02,  8.64431553e+00, -8.80666547e+00,\n",
       "       -7.75940270e-02,  1.09317498e+01,  2.24358813e+00, -9.14621393e+00,\n",
       "        1.71771668e+01,  1.28444919e+01, -5.74654614e-01,  6.10014887e+00,\n",
       "       -9.05706686e+00,  1.71584718e-01,  8.73035462e-01,  5.05812485e+00,\n",
       "       -1.94069807e+00,  9.32412474e-01,  7.12049646e-01, -4.88341663e+00,\n",
       "        2.72123931e+01, -4.91111071e-01, -1.49264658e+00, -3.15086255e+00,\n",
       "       -7.20311853e-01,  5.19276012e+00,  1.04175226e+00,  2.73187843e+00,\n",
       "       -7.96415072e+00,  3.37283540e+00, -2.36756809e+01, -7.36480969e+00,\n",
       "        6.77342517e+00,  5.90535000e+00,  5.52924126e+00, -2.73468738e+04,\n",
       "        4.25448734e+00, -6.39585843e-01, -1.33916288e+00,  3.78690258e+00,\n",
       "        1.58946999e+00, -1.62038397e+00,  3.62734874e+00,  7.51809441e+00,\n",
       "        7.52141710e+00,  5.06682990e+00,  8.62810510e+02,  4.94675769e+00,\n",
       "       -2.91736543e+01,  6.16116714e+01,  9.21840785e+00, -7.25112613e+00,\n",
       "        3.11405429e+00, -2.11850930e+01,  4.59771108e-01, -4.63247087e+00,\n",
       "        3.26122120e+00,  5.62147745e+00, -7.25608167e-01, -6.08237904e+00,\n",
       "       -1.42053399e-01, -2.41570406e+01,  1.92209282e+00, -1.50685668e+00,\n",
       "       -5.68695052e-01,  6.59291294e+00, -1.44160251e+01,  5.23305886e+00,\n",
       "       -7.28421355e+00, -1.13511832e+01, -1.66115583e+00,  1.19478194e+01,\n",
       "        1.75669191e+00,  4.20290034e+00,  7.21750703e-01, -3.56378673e+00,\n",
       "       -6.24652569e+00,  5.65983276e+00,  1.15006770e+01, -1.26420488e+02,\n",
       "       -1.45077963e+00,  5.79679053e+00,  5.19852127e-01,  2.76069909e+00,\n",
       "        3.68242199e+00,  4.70715709e+00, -3.92761333e+00, -1.21673260e+01,\n",
       "        4.77918033e+01,  1.05337813e+01,  1.80213880e+01,  3.30884546e+00,\n",
       "       -1.96930722e+00,  8.30883672e+00, -5.28364369e+01, -2.61748438e+01,\n",
       "        2.46387102e+00,  7.43605138e+00,  5.37273504e+00, -7.62882643e-01,\n",
       "       -3.69320990e+00,  1.15677893e+01, -4.88661171e-01, -1.60516523e+00,\n",
       "       -9.25784303e-01,  3.65648522e+01, -3.30276390e+00,  4.24436856e-02,\n",
       "       -5.40565055e+01, -3.37171194e+01, -1.64467027e+02,  5.60936915e-01,\n",
       "        9.91627186e-01,  2.53518291e+00,  4.07148919e+00,  6.02606878e-01,\n",
       "       -9.10016687e-02,  7.25251156e+00,  3.91284678e+02,  6.77611716e+00,\n",
       "        3.64881981e-01,  4.38891855e+00,  4.79343247e+00,  3.77768159e+00,\n",
       "       -8.44336630e+00, -3.78707248e+00, -3.01510395e+01, -1.37320812e-01,\n",
       "        2.10615092e+01,  1.66181488e+01,  2.34726557e-02,  3.24879659e+01,\n",
       "       -5.60031469e+01, -4.17533226e+00,  1.07470932e+01,  5.73361040e-02,\n",
       "        3.80990888e+00,  9.73289677e+00,  3.89328746e+00,  6.95389071e+00,\n",
       "       -4.76537144e+00,  1.92845608e+01,  2.92645682e+00, -2.26722004e-01,\n",
       "        4.14787712e+00, -6.93524342e-01,  8.65534094e+00, -1.98278162e+00,\n",
       "       -1.77745590e+00,  2.22276954e+00,  5.75616733e+00, -4.60830578e+00,\n",
       "        5.78563005e+00, -1.73535746e-01, -1.55539654e+01,  5.30974875e+00,\n",
       "       -8.29640858e+00,  4.72105191e-01,  7.25260453e-01, -2.98681453e+00,\n",
       "        1.90217302e+01,  3.60585694e+01,  1.98266980e+00, -9.31783046e-01,\n",
       "       -3.35434657e+00,  8.32463196e+00, -1.44810036e-01, -1.02014828e+00,\n",
       "       -4.05520780e+00, -5.54098697e-01, -6.85478370e-01,  1.28928264e+01,\n",
       "       -7.45674235e-01,  7.38766896e+00, -4.67611464e+00, -8.12033507e+00,\n",
       "        2.01776687e+00,  1.05884785e+00, -4.92706553e-01, -5.05702212e+00,\n",
       "       -8.22857306e-02,  7.98492013e+00,  1.03639737e-01,  2.13415381e+01,\n",
       "        1.38737133e+00, -1.11409423e+00,  6.01495621e+00, -1.64968515e+00,\n",
       "        9.70533500e+00, -1.69656628e+01,  2.99344375e+00,  6.33046052e+00,\n",
       "        1.34274297e+01, -1.23046564e+00,  5.30935498e+00,  1.09198210e+01,\n",
       "        4.56015695e+00,  2.44116429e+00,  5.90831329e+00,  4.33056810e+00,\n",
       "       -6.56310134e-01, -1.42568165e+02,  3.55190586e-01,  5.54169945e+00,\n",
       "        5.83651057e+00, -8.60779752e+00, -1.30823596e+01, -2.95453709e-01,\n",
       "       -3.06059967e+00,  2.44133964e-01, -1.09200826e+02, -1.51833371e+01,\n",
       "       -1.05473296e+00,  2.86926800e+00,  8.25788774e+00,  1.97581661e+01,\n",
       "        5.54334920e+00,  2.28984098e+00,  3.46919282e+00,  2.10162258e+01,\n",
       "        7.70865825e+00,  9.18595299e+00, -1.40226719e+01, -6.91591424e+00,\n",
       "       -1.07396251e+00,  1.00531084e+02,  1.40745864e+00,  1.01462624e+01,\n",
       "        6.46020480e+00, -1.06155556e+01,  8.29938447e+00,  1.11460166e+03,\n",
       "       -1.76773257e+00,  9.08219165e-01, -3.44276196e+00,  4.50509735e+00,\n",
       "        7.62038671e+00,  2.41982905e+00, -3.13449867e+00,  1.94798194e+00,\n",
       "        5.78804594e+00, -1.37320570e+00,  4.14123509e+00,  9.13318185e+00,\n",
       "        3.84744467e+01,  6.25456257e+00,  4.54036869e+00,  4.12638896e+01,\n",
       "       -3.07255631e-01,  3.96949749e+00,  1.06943911e+00,  4.07803801e+00,\n",
       "       -2.17539632e+00,  5.20836579e+01,  5.68896344e+01, -1.01732687e+01,\n",
       "       -3.43750447e+01, -5.45544055e+01, -2.33282128e+01,  2.88545049e+00,\n",
       "       -2.92968771e+01,  3.69709969e+01,  7.21086473e-01, -2.44639785e-01,\n",
       "       -7.64010240e+01,  2.59432178e+00, -1.39451437e+00,  4.62082103e+00,\n",
       "        2.83656368e+03,  5.13859292e+00,  2.45304404e+00, -1.59585345e+01,\n",
       "        3.60509873e+00, -6.66639158e-01, -3.26538012e+00,  1.81993599e+00,\n",
       "        6.21729282e+00,  4.26958475e+00, -9.09261839e-01,  6.31742323e+02,\n",
       "        5.98612030e+00,  8.73715584e+00,  6.98760494e+00,  2.61744231e+01,\n",
       "        4.08665537e+00,  2.15909273e+01, -9.24229333e-01,  6.88949257e-01,\n",
       "       -1.12991293e+01,  7.63902320e+00, -2.45114016e+00, -3.50243854e+00,\n",
       "        2.61020968e+00, -2.89077754e+00, -3.30083360e+00,  3.68079202e+01,\n",
       "       -2.06043780e+00,  4.11405550e+00, -1.14689411e+00,  3.51878652e+00,\n",
       "       -1.11736126e-01,  2.50443762e+00,  1.18070971e-01,  7.82938253e+00,\n",
       "       -1.63949266e+00,  4.55979272e+00,  6.89355746e+00,  1.38972606e+00,\n",
       "       -3.20087866e-01,  7.62654001e-02,  1.34467159e+01,  8.42139213e-01,\n",
       "        3.39761730e+00,  5.05269847e+00,  3.05275150e+00,  3.04013494e+02,\n",
       "        4.62917747e+00, -3.45221514e+01, -1.25233100e+01,  3.58415115e+00,\n",
       "       -8.88778956e-01,  6.20895366e+00,  3.29175737e+00,  1.09925978e+01,\n",
       "        4.59801124e+00, -3.44454767e+00,  8.00074255e-01, -8.34993993e+02,\n",
       "       -6.68600768e+00,  3.24050713e+00,  4.00161177e+00,  1.36241988e+00,\n",
       "       -3.48568378e+00, -1.66736421e+01,  6.50628421e+00,  2.17454632e+00,\n",
       "        1.84796758e+00,  2.17718277e+00,  1.28319113e+01,  6.02988911e+00,\n",
       "        2.66656007e+01,  7.22663741e+00,  4.30408769e+00,  5.36641506e+00,\n",
       "        1.91021269e+01, -4.00126939e+01,  1.43083131e+01, -3.24653722e-01,\n",
       "        5.07883207e+00, -6.13470390e+00,  5.80018838e+00,  1.45922670e+01,\n",
       "        4.68523369e+00, -6.83941976e+00,  5.08225925e+00, -3.67844181e+00,\n",
       "        8.66028335e+00,  1.00369589e+01,  6.46116877e+00, -5.45251927e+00,\n",
       "        8.34518830e+00,  5.92884158e+00,  1.45620613e+00,  6.12062441e+00,\n",
       "        1.28506086e+01,  4.29565583e+03,  4.34113088e+00, -1.71183032e+02,\n",
       "        4.34812981e+00,  2.44075833e+00, -5.34010222e-01, -9.10906567e+02,\n",
       "        9.38445936e+00, -1.03560178e+01, -1.00146044e+01, -1.72219365e+01,\n",
       "        1.10555605e+01,  4.95337981e+00,  5.07615805e+00,  3.58527938e+00,\n",
       "       -4.50711179e-02,  9.43220151e+00,  3.60845453e+01,  5.61264837e+00,\n",
       "        8.02983859e+00, -1.02377938e+00, -4.90853622e+00, -5.17365851e-02,\n",
       "        1.41283739e+01, -1.95491123e+00,  1.32385386e+00, -2.42938772e+00,\n",
       "       -4.84095377e-01, -1.44931314e+00,  2.71407538e+00, -3.55960862e+02,\n",
       "       -2.22783890e+00,  4.34783352e+00, -4.78125781e-01,  1.31047659e+00,\n",
       "        5.60972906e+00, -6.76230966e-01,  3.13568429e+00, -1.24234514e+01,\n",
       "       -1.75293028e+00,  3.43622025e+00,  6.00263235e+00, -4.06981242e+00,\n",
       "        2.37956307e+00,  2.71263971e+00,  2.01106429e+01,  3.27690929e+00,\n",
       "       -2.18016385e+00,  5.45958993e+00,  2.55507579e+00,  4.20142275e+00,\n",
       "        4.18378373e+00,  6.42671946e+00,  6.71176206e+00,  2.43660955e-01,\n",
       "        4.55125372e+00, -1.14956827e+00, -4.52880761e+01,  1.57252523e+01,\n",
       "        1.01776614e+01, -1.13039872e+01,  4.24227891e+00, -1.34008971e+01,\n",
       "        3.99898646e+00,  5.31532777e+00,  1.36837534e+01,  4.04688296e+00,\n",
       "        1.14154992e+01,  3.59938748e+00,  1.65220147e+01,  1.16418333e+01,\n",
       "       -2.70825633e+00,  2.52761046e+00,  3.30474063e+00, -4.51643346e+00,\n",
       "        4.93158408e+00,  3.78840605e+00,  1.22681102e+01,  8.58312689e+00,\n",
       "       -1.82474062e+00,  1.95325279e+00, -9.19054121e+00,  5.62678605e+00,\n",
       "        4.41248345e-01,  2.65193223e+01, -1.52826726e+01, -5.08273182e+00,\n",
       "        4.86433192e+00,  1.04089981e+02,  1.18532706e+01,  3.96270240e+00,\n",
       "       -2.07792408e+00,  1.46811286e+00,  7.31303993e+00,  7.59333524e-01,\n",
       "        7.86936536e-01, -2.92640168e+00, -4.77062174e+00,  2.15854920e+00,\n",
       "       -6.10631096e+00,  3.85548895e+01, -1.07221980e+00,  6.02807094e+00,\n",
       "        3.22880872e-01, -8.12049686e-01, -4.54333351e+01,  4.25154522e+00,\n",
       "        6.47378713e-01, -5.05438774e+00,  6.85003547e+00,  3.31016024e+00,\n",
       "       -1.68364104e+00,  3.06113936e+00, -4.51341379e-01,  3.99131111e+00,\n",
       "        5.63782037e+00,  3.75870272e+00,  2.91078080e+00,  1.23137897e+00,\n",
       "        3.65375073e+00,  1.20756236e+00,  9.38757132e+00, -2.53212715e+01,\n",
       "       -4.71495441e-01, -1.50027470e+02,  5.44028803e+00, -5.65925097e+00,\n",
       "       -8.17318195e+01,  3.44355259e+00, -4.79544046e+02,  4.54164076e+00,\n",
       "       -5.12507670e+00,  4.38468248e-01,  6.61091926e+00, -2.79027958e+00,\n",
       "       -2.11182493e+01, -1.97624478e+00,  6.87391385e+00, -7.82473084e+01,\n",
       "       -4.56746700e-01,  1.87166624e+00,  1.25976318e+01,  5.43241523e+00,\n",
       "       -4.43463692e+00,  1.30684367e+01,  5.63107259e+00,  1.45060592e+01,\n",
       "       -1.46672984e+00, -2.08912923e+01,  3.93077706e+00, -4.93469337e+00,\n",
       "       -3.81562332e+00,  5.67395817e+00, -1.15546518e+01,  5.06343295e+00,\n",
       "       -1.16439412e+01,  6.01605924e+00, -2.25540906e+00,  5.75541391e+00,\n",
       "       -1.83716236e+00,  1.27829565e+00,  1.59906619e+01,  7.69942485e+00,\n",
       "       -3.53625751e+00,  4.18675141e+00,  7.47848037e+00,  4.24872882e+00,\n",
       "       -5.48714524e-01, -1.16942628e+00,  3.53187102e+00, -2.93976465e+00,\n",
       "       -1.62532108e+00,  1.16135863e+01, -5.26075344e-01, -1.63443650e+00,\n",
       "        3.78118576e+02, -3.19477042e+00,  3.16910339e+00,  7.05266233e-02,\n",
       "       -9.03875429e+00, -9.17306364e-01, -2.03652984e+01,  7.13085202e+00,\n",
       "        4.72232482e+00, -4.03637889e+00,  2.46515071e+01,  4.44834164e+00,\n",
       "        2.18735881e+01,  5.95773492e+00, -5.76518659e+00,  5.70896998e-01,\n",
       "       -5.86762662e-01,  5.86507815e+00, -1.92944009e+00, -1.09432015e+01,\n",
       "       -4.79261962e+00,  2.28136400e+00,  2.63062654e-01, -2.28866075e+00,\n",
       "        2.34396480e-01,  5.57729817e+01, -2.31892430e+00,  1.99775364e+01,\n",
       "        2.11594624e+01,  6.15661848e+00,  2.28367831e+01,  3.87226206e+00,\n",
       "        7.25554650e+00,  2.08792645e+00,  8.60380961e+00,  1.71912734e+00,\n",
       "        2.70683623e+01,  1.49710918e+00,  1.40106770e+01, -5.72382257e+00,\n",
       "       -2.15711690e+01, -2.67493287e-01,  8.07759116e+00, -1.66214702e-01,\n",
       "        6.46546001e+00,  9.62809710e+00, -1.95750232e+00, -2.58368076e+00,\n",
       "       -9.08807773e+00, -3.22894640e+02, -2.02732211e+00, -1.43187647e+00,\n",
       "       -3.70630028e-01,  1.48960799e+01, -5.09714365e-01,  6.56053504e+00,\n",
       "       -1.12057746e+00,  7.19266043e+00,  5.11605151e+00, -4.53494783e+00,\n",
       "        5.24070893e+00,  1.22361663e+01,  2.76552408e+00, -6.27959196e+00,\n",
       "        3.98426706e+00,  2.20633056e+01,  7.33084515e-01, -7.33879628e-01,\n",
       "       -3.36921363e+00, -1.26964531e+01,  9.75836244e+00, -3.29852761e-01,\n",
       "       -5.46131359e+00, -2.76318822e-01, -6.79616798e-02,  3.90686451e+00,\n",
       "        1.48819902e+01,  8.45942711e+00, -1.17439089e+00,  1.94448709e+01,\n",
       "        3.02368087e+00,  8.33393965e+00,  3.00699842e+00, -8.99782225e-01,\n",
       "       -2.47979635e+01, -4.49993960e+00,  4.04441734e+00,  2.58067329e+01,\n",
       "       -4.05725328e+00,  8.19209691e+00, -2.84665392e+00,  3.27560122e+00,\n",
       "        3.04672157e+00,  5.51436828e+00, -5.90904779e+00,  3.43090094e+00,\n",
       "        8.81790434e+00, -3.18278212e+01, -6.85147023e+00, -1.10598958e+01,\n",
       "        1.82589724e-01, -1.57812991e+01, -1.86600234e+00, -1.37067367e+01,\n",
       "       -2.05938558e+00, -1.02108212e+00,  1.20283241e+01,  1.54096468e+00,\n",
       "        2.00474693e+00, -1.27360375e+00,  3.40134241e+00,  1.65644804e+02,\n",
       "       -3.18873315e+00,  1.05939746e+00, -4.64510575e+00,  6.93163264e-01,\n",
       "        6.63565975e+00,  6.66189679e+00,  5.32041861e+00, -3.57021292e+00,\n",
       "        2.21637810e+01, -2.19029723e+00,  1.24988533e+01,  5.21764843e+01,\n",
       "       -3.97802112e+01, -6.36741130e+00,  3.24318401e+00, -4.26848833e+00,\n",
       "        4.48642671e+00, -9.29839896e-01,  4.99056955e-01, -6.72945332e-02,\n",
       "       -1.06451424e+00,  2.71073255e+00,  3.64406074e+00,  6.67375453e+00,\n",
       "        9.72238042e+02, -2.53276453e+00,  4.16521042e+01,  3.29194599e+00,\n",
       "       -2.19734298e+00, -4.73417441e+00, -1.09540435e+00,  1.50798193e+01,\n",
       "        8.01546820e+00,  7.60690866e+00,  1.80532584e+00, -4.73058120e+00,\n",
       "        7.66659077e-01, -3.70280909e+00,  6.80127768e+00, -4.57767498e-01,\n",
       "       -6.30319518e+01,  1.02352820e+01, -1.97191565e+00, -8.93770493e+00,\n",
       "        2.48232342e+00,  1.15806963e+00,  6.40613757e+00,  4.05533497e+00,\n",
       "       -1.36659632e+00, -1.59470970e+01,  1.34949456e+00,  3.50873318e+00,\n",
       "        1.88286324e+01, -7.96073945e+00,  9.26809748e+00,  1.00951700e+01,\n",
       "       -2.95515302e+01, -2.29714971e+00, -7.14308249e+01,  6.02196527e+00,\n",
       "        6.87037452e+00, -2.07237697e-01,  4.48891799e+00, -1.40578088e-01,\n",
       "        6.62100303e+00,  5.52515478e+00, -7.15299535e+00,  5.64324946e+00,\n",
       "        4.60292036e+00, -7.33974496e+00,  5.79967555e+00,  4.28788301e+01,\n",
       "        7.39656342e+00,  4.47100467e+00,  3.88309838e+00,  2.09522046e+00,\n",
       "        2.31414934e+00, -3.65197678e+00, -3.74237057e+00, -3.35919855e+00,\n",
       "        2.74807155e-01, -1.65938183e+00,  9.38019187e-01,  2.74463832e+01,\n",
       "       -3.62266535e+01, -9.26573574e+00,  7.34384484e+00,  8.36511488e+00,\n",
       "       -1.52714247e+02, -2.06944306e+00,  5.71546031e+00, -1.96743443e+00,\n",
       "       -2.09654733e-02,  1.21439839e+01,  1.09318577e+01, -9.91321844e-01,\n",
       "        1.55097987e+02,  7.64781722e+00, -4.71512545e+01,  1.78065465e-01,\n",
       "       -6.90550284e+00, -3.21242061e+02, -1.04882123e+00, -8.78836912e+00,\n",
       "        1.24807215e+01,  5.82883131e+00,  2.84070587e-01,  1.71816145e+01,\n",
       "        3.66278155e+01,  5.64171756e+00,  7.19154307e+00,  4.43855979e+00,\n",
       "        2.24050332e+00,  6.67238036e+00, -5.75917587e+00, -5.24970712e+01,\n",
       "       -2.55445562e+00,  3.75914774e+00,  4.76449184e-01,  1.18274651e+01,\n",
       "       -9.23545370e-01, -8.95706623e+00,  6.76265314e+00, -1.60177065e+00,\n",
       "        2.55374745e+00,  7.22270503e+00, -6.59154638e+00,  6.12215008e+00,\n",
       "       -1.00499725e+01, -1.83683838e+00, -7.95404064e+01,  3.08314801e+00,\n",
       "       -4.34840099e+00, -2.10353279e+01,  2.13511986e+00,  1.51980444e+00,\n",
       "        5.86750426e+00,  6.08772983e+00, -2.02490783e+00,  2.11387862e+01,\n",
       "       -4.33884588e-01,  4.28997282e+00, -9.78603371e+00, -2.81264945e-01,\n",
       "       -1.55120503e+00, -1.61903808e+01, -1.28328912e+01,  8.70024360e+00,\n",
       "        7.89632583e+00,  4.80675234e+00, -4.55723865e+00, -2.70481751e+02,\n",
       "       -1.93478784e+00, -2.68792085e+01, -4.71791030e+00,  4.53598256e-01,\n",
       "        5.05838640e+00,  6.59980965e+00,  6.40339804e+00, -1.23302212e+00,\n",
       "        6.36180689e+00, -1.69620084e+01, -5.91296904e+00, -9.61818943e+00,\n",
       "        7.29579426e+01, -8.77777819e-02,  1.98477404e+01, -1.41298069e+01,\n",
       "        8.08996964e+00,  1.42039856e+04,  5.20191858e-01,  2.97659403e+01,\n",
       "       -7.51661536e-01,  1.50369076e+00,  2.76069972e+00, -2.08525038e+00,\n",
       "        9.01817418e+00, -1.18844415e+01, -1.58559757e+00, -3.51979069e+00,\n",
       "       -2.36702885e+00, -1.48234512e+01, -1.39181859e+00,  2.95341606e+00,\n",
       "       -1.70509230e+00,  2.03828239e+00,  9.35810438e+00,  1.74472249e+00,\n",
       "        2.07821020e+00,  5.86330030e+00,  9.67106597e+00,  6.14709694e+00])"
      ]
     },
     "execution_count": 31,
     "metadata": {},
     "output_type": "execute_result"
    }
   ],
   "source": [
    "prior_frac_gc"
   ]
  },
  {
   "cell_type": "code",
   "execution_count": 29,
   "metadata": {},
   "outputs": [
    {
     "data": {
      "text/plain": [
       "<matplotlib.collections.PathCollection at 0x7f263472b950>"
      ]
     },
     "execution_count": 29,
     "metadata": {},
     "output_type": "execute_result"
    },
    {
     "data": {
      "image/png": "[encoded data removed]",
      "text/plain": [
       "<Figure size 864x576 with 2 Axes>"
      ]
     },
     "metadata": {
      "needs_background": "light"
     },
     "output_type": "display_data"
    }
   ],
   "source": [
    "fig, ax = plt.subplots(1, 2, figsize=(12, 8))\n",
    "ax[0].scatter(noprior_frac_gc, gc_counts)\n",
    "ax[1].scatter(prior_frac_gc, gc_counts)"
   ]
  }
 ],
 "metadata": {
  "kernelspec": {
   "display_name": "Python 3",
   "language": "python",
   "name": "python3"
  },
  "language_info": {
   "codemirror_mode": {
    "name": "ipython",
    "version": 3
   },
   "file_extension": ".py",
   "mimetype": "text/x-python",
   "name": "python",
   "nbconvert_exporter": "python",
   "pygments_lexer": "ipython3",
   "version": "3.7.4"
  }
 },
 "nbformat": 4,
 "nbformat_minor": 2
}

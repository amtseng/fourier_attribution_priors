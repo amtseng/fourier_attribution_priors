{
 "cells": [
  {
   "cell_type": "code",
   "execution_count": 4,
   "metadata": {},
   "outputs": [
    {
     "name": "stderr",
     "output_type": "stream",
     "text": [
      "/users/amtseng/miniconda3/envs/att-priors/lib/python3.7/site-packages/ipykernel_launcher.py:20: TqdmDeprecationWarning: This function will be removed in tqdm==5.0.0\n",
      "Please use `tqdm.notebook.tqdm` instead of `tqdm.tqdm_notebook`\n"
     ]
    },
    {
     "data": {
      "application/vnd.jupyter.widget-view+json": {
       "model_id": "de44c01d9381426a9e37eddfd8ba29fa",
       "version_major": 2,
       "version_minor": 0
      },
      "text/plain": [
       "HBox(children=(FloatProgress(value=1.0, bar_style='info', max=1.0), HTML(value='')))"
      ]
     },
     "metadata": {},
     "output_type": "display_data"
    },
    {
     "data": {
      "text/plain": [
       "|<bar/>| 0/? [00:00<?, ?it/s]"
      ]
     },
     "execution_count": 4,
     "metadata": {},
     "output_type": "execute_result"
    }
   ],
   "source": [
    "import sys\n",
    "import os\n",
    "sys.path.append(os.path.abspath(\"../src/\"))\n",
    "import extract.data_loading as data_loading\n",
    "import extract.compute_predictions as compute_predictions\n",
    "import extract.compute_shap as compute_shap\n",
    "import extract.compute_ism as compute_ism\n",
    "import model.util as model_util\n",
    "import model.profile_models as profile_models\n",
    "import model.binary_models as binary_models\n",
    "import plot.viz_sequence as viz_sequence\n",
    "import pyBigWig\n",
    "import torch\n",
    "import numpy as np\n",
    "import scipy.stats\n",
    "import pandas as pd\n",
    "import matplotlib.pyplot as plt\n",
    "import json\n",
    "import tqdm\n",
    "tqdm.tqdm_notebook()  # It is necessary to call this before the tqdm.notebook submodule is available"
   ]
  },
  {
   "cell_type": "markdown",
   "metadata": {},
   "source": [
    "### Define paths for the model and data of interest"
   ]
  },
  {
   "cell_type": "code",
   "execution_count": 2,
   "metadata": {},
   "outputs": [],
   "source": [
    "model_type = \"binary\""
   ]
  },
  {
   "cell_type": "code",
   "execution_count": 3,
   "metadata": {},
   "outputs": [],
   "source": [
    "# Shared paths/constants\n",
    "reference_fasta = \"/users/amtseng/genomes/hg38.fasta\"\n",
    "chrom_sizes = \"/users/amtseng/genomes/hg38.canon.chrom.sizes\"\n",
    "data_base_path = \"/users/amtseng/att_priors/data/processed/\"\n",
    "model_base_path = \"/users/amtseng/att_priors/models/trained_models/%s/\" % model_type\n",
    "chrom_set = [\"chr1\"]\n",
    "input_length = 1346 if model_type == \"profile\" else 1000\n",
    "profile_length = 1000"
   ]
  },
  {
   "cell_type": "code",
   "execution_count": 5,
   "metadata": {},
   "outputs": [],
   "source": [
    "# GC content track\n",
    "gc_content_track = \"/users/amtseng/att_priors/data/raw/gc_content/hg38_1000bp_gc_content.bw\""
   ]
  },
  {
   "cell_type": "code",
   "execution_count": 4,
   "metadata": {},
   "outputs": [],
   "source": [
    "# SPI1\n",
    "files_spec_path = os.path.join(data_base_path, \"ENCODE_TFChIP/%s/config/SPI1/SPI1_training_paths.json\" % model_type)\n",
    "num_tasks = 4\n",
    "num_strands = 2\n",
    "controls = \"matched\"\n",
    "if model_type == \"profile\":\n",
    "    model_class = profile_models.ProfilePredictorWithMatchedControls\n",
    "else:\n",
    "    model_class = binary_models.BinaryPredictor\n",
    "noprior_model_path = os.path.join(model_base_path, \"SPI1/17/model_ckpt_epoch_2.pt\")\n",
    "prior_model_path = os.path.join(model_base_path, \"SPI1_prior/1/model_ckpt_epoch_4.pt\")"
   ]
  },
  {
   "cell_type": "code",
   "execution_count": 24,
   "metadata": {},
   "outputs": [],
   "source": [
    "# GATA2\n",
    "files_spec_path = os.path.join(data_base_path, \"ENCODE_TFChIP/%s/config/GATA2/GATA2_training_paths.json\" % model_type)\n",
    "num_tasks = 3\n",
    "num_strands = 2\n",
    "controls = \"matched\"\n",
    "if model_type == \"profile\":\n",
    "    model_class = profile_models.ProfilePredictorWithMatchedControls\n",
    "else:\n",
    "    model_class = binary_models.BinaryPredictor\n",
    "noprior_model_path = os.path.join(model_base_path, \"GATA2/4/model_ckpt_epoch_1.pt\")\n",
    "prior_model_path = os.path.join(model_base_path, \"GATA2_prior/3/model_ckpt_epoch_4.pt\")"
   ]
  },
  {
   "cell_type": "code",
   "execution_count": 6,
   "metadata": {},
   "outputs": [],
   "source": [
    "# K562\n",
    "files_spec_path = os.path.join(data_base_path, \"ENCODE_DNase/%s/config/K562/K562_training_paths.json\" % model_type)\n",
    "num_tasks = 1\n",
    "controls = \"shared\"\n",
    "if model_type == \"profile\":\n",
    "    model_class = profile_models.ProfilePredictorWithSharedControls\n",
    "else:\n",
    "    model_class = binary_models.BinaryPredictor\n",
    "task_ind = None\n",
    "footprint_path = \"/users/amtseng/att_priors/data/processed/DNase_footprints/K562.bed.gz\"\n",
    "noprior_model_path = os.path.join(model_base_path, \"K562_keep1/29/model_ckpt_epoch_1.pt\")\n",
    "prior_model_path = os.path.join(model_base_path, \"K562_prior_keep1/16/model_ckpt_epoch_1.pt\")"
   ]
  },
  {
   "cell_type": "code",
   "execution_count": 27,
   "metadata": {},
   "outputs": [],
   "source": [
    "# BPNet\n",
    "reference_fasta = \"/users/amtseng/genomes/mm10.fasta\"\n",
    "chrom_sizes = \"/users/amtseng/genomes/mm10.canon.chrom.sizes\"\n",
    "files_spec_path = os.path.join(data_base_path, \"BPNet_ChIPseq/%s/config/BPNet_training_paths.json\" % model_type)\n",
    "num_tasks = 1\n",
    "controls = \"shared\"\n",
    "if model_type == \"profile\":\n",
    "    model_class = profile_models.ProfilePredictorWithSharedControls\n",
    "else:\n",
    "    model_class = binary_models.BinaryPredictor\n",
    "task_ind = 0  # Only Nanog for now\n",
    "footprint_path = \"/users/amtseng/att_priors/data/raw/BPNet_ChIPnexus/BPNet_NANOG_footprints.bed.gz\"\n",
    "pos_bigwig = \"/users/amtseng/att_priors/data/raw/BPNet_ChIPnexus/BPNet_NANOG_pos.bw\"\n",
    "neg_bigwig = \"/users/amtseng/att_priors/data/raw/BPNet_ChIPnexus/BPNet_NANOG_neg.bw\"\n",
    "noprior_model_path = os.path.join(model_base_path, \"BPNet/17/model_ckpt_epoch_1.pt\")\n",
    "prior_model_path = os.path.join(model_base_path, \"BPNet_prior/2/model_ckpt_epoch_10.pt\")"
   ]
  },
  {
   "cell_type": "code",
   "execution_count": 7,
   "metadata": {},
   "outputs": [],
   "source": [
    "torch.set_grad_enabled(True)\n",
    "device = torch.device(\"cuda\") if torch.cuda.is_available() else torch.device(\"cpu\")"
   ]
  },
  {
   "cell_type": "code",
   "execution_count": 8,
   "metadata": {},
   "outputs": [],
   "source": [
    "def restore_model(model_path):\n",
    "    model = model_util.restore_model(model_class, model_path)\n",
    "    model.eval()\n",
    "    model = model.to(device)\n",
    "    return model"
   ]
  },
  {
   "cell_type": "code",
   "execution_count": 28,
   "metadata": {},
   "outputs": [],
   "source": [
    "# Import the model without priors\n",
    "noprior_model = restore_model(noprior_model_path)"
   ]
  },
  {
   "cell_type": "code",
   "execution_count": 29,
   "metadata": {},
   "outputs": [],
   "source": [
    "# Import the model with priors\n",
    "prior_model = restore_model(prior_model_path)"
   ]
  },
  {
   "cell_type": "markdown",
   "metadata": {},
   "source": [
    "### Data preparation\n",
    "Create an input data loader, that maps coordinates or bin indices to data needed for the model. We also create a loader for the GC content"
   ]
  },
  {
   "cell_type": "code",
   "execution_count": 30,
   "metadata": {},
   "outputs": [],
   "source": [
    "if model_type == \"profile\":\n",
    "    input_func = data_loading.get_profile_input_func(\n",
    "        files_spec_path, input_length, profile_length, reference_fasta\n",
    "    )\n",
    "    pos_examples = data_loading.get_positive_profile_coords(\n",
    "        files_spec_path, chrom_set=chrom_set\n",
    "    )\n",
    "else:\n",
    "    input_func = data_loading.get_binary_input_func(\n",
    "        files_spec_path, input_length, reference_fasta\n",
    "    )\n",
    "    pos_examples = data_loading.get_positive_binary_bins(\n",
    "        files_spec_path, chrom_set=chrom_set\n",
    "    )"
   ]
  },
  {
   "cell_type": "code",
   "execution_count": 12,
   "metadata": {},
   "outputs": [],
   "source": [
    "def fetch_gc_content(chrom, pos):\n",
    "    \"\"\"\n",
    "    Fetches GC content centered at this position.\n",
    "    \"\"\"\n",
    "    with pyBigWig.open(gc_content_track, \"r\") as f:\n",
    "        return np.nan_to_num(f.values(chrom, pos, pos + 1))[0]"
   ]
  },
  {
   "cell_type": "markdown",
   "metadata": {},
   "source": [
    "### Compute importances"
   ]
  },
  {
   "cell_type": "code",
   "execution_count": 31,
   "metadata": {},
   "outputs": [],
   "source": [
    "# Pick a sample of 1000 random coordinates/bins\n",
    "num_samples = 1000\n",
    "sample = pos_examples[np.random.choice(len(pos_examples), size=num_samples, replace=False)]"
   ]
  },
  {
   "cell_type": "code",
   "execution_count": 16,
   "metadata": {},
   "outputs": [],
   "source": [
    "def compute_gradients(model, sample):\n",
    "    \"\"\"\n",
    "    Given an array of N coordinates or bins, computes the input gradients\n",
    "    for the model, returning an N x I x 4 array of gradient values and an\n",
    "    N x I x 4 array of one-hot encoded sequence.\n",
    "    \"\"\"\n",
    "    if model_type == \"profile\":\n",
    "        results = compute_predictions.get_profile_model_predictions(                                              \n",
    "            model, sample, num_tasks, input_func, controls=controls,                        \n",
    "            return_losses=False, return_gradients=True, show_progress=True                                         \n",
    "        )\n",
    "    else:\n",
    "        results = compute_predictions.get_binary_model_predictions(                                              \n",
    "            model, sample, input_func,                      \n",
    "            return_losses=False, return_gradients=True, show_progress=True                                         \n",
    "        )\n",
    "    return results[\"input_grads\"], results[\"input_seqs\"]"
   ]
  },
  {
   "cell_type": "code",
   "execution_count": 17,
   "metadata": {},
   "outputs": [],
   "source": [
    "def compute_shap_scores(model, sample, batch_size=128):\n",
    "    \"\"\"\n",
    "    Given an array of N coordinates or bins, computes the SHAP scores\n",
    "    for the model, returning an N x I x 4 array of SHAP scores and an\n",
    "    N x I x 4 array of one-hot encoded sequence.\n",
    "    \"\"\"\n",
    "    num_samples = len(sample)\n",
    "    num_batches = int(np.ceil(num_samples / batch_size))\n",
    "    \n",
    "    all_shap_scores = np.empty((num_samples, input_length, 4))\n",
    "    all_one_hot_seqs = np.empty((num_samples, input_length, 4))\n",
    "        \n",
    "    if model_type == \"profile\":\n",
    "        shap_explainer = compute_shap.create_profile_explainer(\n",
    "            model, input_length, profile_length, num_tasks, num_strands, controls\n",
    "        )\n",
    "    else:\n",
    "        shap_explainer = compute_shap.create_binary_explainer(\n",
    "            model, input_length, num_tasks\n",
    "        )\n",
    "\n",
    "    for i in tqdm.notebook.trange(num_batches):\n",
    "        batch_slice = slice(i * batch_size, (i + 1) * batch_size)\n",
    "        batch = sample[batch_slice]\n",
    "\n",
    "        if model_type == \"profile\":\n",
    "            input_seqs, profiles = input_func(sample)\n",
    "            shap_scores = shap_explainer(\n",
    "                input_seqs, cont_profs=profiles[:, num_tasks:], hide_shap_output=True\n",
    "            )\n",
    "        else:\n",
    "            input_seqs, _, _ = input_func(sample)\n",
    "            shap_scores = shap_explainer(\n",
    "                input_seqs, hide_shap_output=True\n",
    "            )\n",
    "\n",
    "        all_shap_scores[batch_slice] = shap_scores\n",
    "        all_one_hot_seqs[batch_slice] = input_seqs\n",
    "    return all_shap_scores, all_one_hot_seqs"
   ]
  },
  {
   "cell_type": "code",
   "execution_count": 32,
   "metadata": {},
   "outputs": [
    {
     "name": "stderr",
     "output_type": "stream",
     "text": [
      "100%|██████████| 8/8 [00:04<00:00,  1.79it/s]\n",
      "100%|██████████| 8/8 [00:06<00:00,  1.33it/s]\n"
     ]
    }
   ],
   "source": [
    "# Compute the importance scores and 1-hot seqs\n",
    "noprior_scores, _ = compute_gradients(noprior_model, sample)\n",
    "prior_scores, one_hot_seqs = compute_gradients(prior_model, sample)"
   ]
  },
  {
   "cell_type": "markdown",
   "metadata": {},
   "source": [
    "### Compare importance tracks to GC content"
   ]
  },
  {
   "cell_type": "code",
   "execution_count": 33,
   "metadata": {},
   "outputs": [],
   "source": [
    "noprior_frac_gc = np.sum(np.abs(noprior_scores[:, :, 1:3]), axis=(1, 2)) / np.sum(np.abs(noprior_scores), axis=(1, 2))\n",
    "prior_frac_gc = np.sum(np.abs(prior_scores[:, :, 1:3]), axis=(1, 2)) / np.sum(np.abs(prior_scores), axis=(1, 2))"
   ]
  },
  {
   "cell_type": "code",
   "execution_count": 35,
   "metadata": {},
   "outputs": [
    {
     "name": "stdout",
     "output_type": "stream",
     "text": [
      "Average fraction without priors: 0.518166\n",
      "Average fraction with priors: 0.499964\n",
      "Test of difference of means: t = 33.761199, p = 0.000000\n"
     ]
    },
    {
     "data": {
      "image/png": "[encoded data removed]",
      "text/plain": [
       "<Figure size 576x288 with 1 Axes>"
      ]
     },
     "metadata": {
      "needs_background": "light"
     },
     "output_type": "display_data"
    }
   ],
   "source": [
    "bin_num = 20\n",
    "plt.figure(figsize=(8, 4))\n",
    "plt.hist(\n",
    "    [noprior_frac_gc, prior_frac_gc],\n",
    "    bin_num, histtype=\"bar\",\n",
    "    label=[\"No prior\", \"With prior\"], color=[\"red\", \"blue\"]\n",
    ")\n",
    "plt.title(\n",
    "    \"Fraction of gradients assigned to GC\\n\" +\n",
    "    \"BPNet\" +\n",
    "    \"\\nComputed on 1000 randomly drawn test peaks\"\n",
    ")\n",
    "plt.xlabel(\"Fraction of hypothetical importance assigned to GC\")\n",
    "\n",
    "print(\"Average fraction without priors: %f\" % np.mean(noprior_frac_gc))\n",
    "print(\"Average fraction with priors: %f\" % np.mean(prior_frac_gc))\n",
    "t, p = scipy.stats.ttest_ind(noprior_frac_gc, prior_frac_gc)\n",
    "print(\"Test of difference of means: t = %f, p = %f\" % (t, p / 2))"
   ]
  }
 ],
 "metadata": {
  "kernelspec": {
   "display_name": "Python 3",
   "language": "python",
   "name": "python3"
  },
  "language_info": {
   "codemirror_mode": {
    "name": "ipython",
    "version": 3
   },
   "file_extension": ".py",
   "mimetype": "text/x-python",
   "name": "python",
   "nbconvert_exporter": "python",
   "pygments_lexer": "ipython3",
   "version": "3.7.4"
  }
 },
 "nbformat": 4,
 "nbformat_minor": 2
}

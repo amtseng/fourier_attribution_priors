{
 "cells": [
  {
   "cell_type": "code",
   "execution_count": 1,
   "metadata": {},
   "outputs": [],
   "source": [
    "import json\n",
    "import os\n",
    "import numpy as np\n",
    "import matplotlib.pyplot as plt\n",
    "import scipy.stats"
   ]
  },
  {
   "cell_type": "code",
   "execution_count": 2,
   "metadata": {},
   "outputs": [],
   "source": [
    "def import_metrics_json(models_path, run_num):\n",
    "    \"\"\"\n",
    "    Looks in {models_path}/{run_num}/metrics.json and returns the contents as a\n",
    "    Python dictionary. Returns None if the path does not exist.\n",
    "    \"\"\"\n",
    "    path = os.path.join(models_path, str(run_num), \"metrics.json\")\n",
    "    if not os.path.exists(path):\n",
    "        return None\n",
    "    with open(path, \"r\") as f:\n",
    "        return json.load(f)"
   ]
  },
  {
   "cell_type": "code",
   "execution_count": 3,
   "metadata": {},
   "outputs": [],
   "source": [
    "def get_best_metric(models_path, metric_name, reduce_func, compare_func):\n",
    "    \"\"\"\n",
    "    Given the path to a set of runs, determines the run with the best metric value,\n",
    "    for the given `metric_name`. For each run, the function `reduce_func` must take\n",
    "    the array of all values for that metric and return a (scalar) value to use for\n",
    "    comparison. The best metric value is determined by `metric_compare_func`, which\n",
    "    must take in two arguments, and return whether or not the _first_ one is better.\n",
    "    Returns the number of the run, the value associated with that run, and a dict of\n",
    "    all the values used for comparison.\n",
    "    \"\"\"\n",
    "    # Get the metrics, ignoring empty or nonexistent metrics.json files\n",
    "    metrics = {run_num : import_metrics_json(models_path, run_num) for run_num in os.listdir(models_path)}\n",
    "    metrics = {key : val for key, val in metrics.items() if val}  # Remove empties\n",
    "    \n",
    "    # Get the best value\n",
    "    best_run, best_val, all_vals = None, None, {}\n",
    "    for run_num in metrics.keys():\n",
    "        try:\n",
    "            val = reduce_func(metrics[run_num][metric_name][\"values\"])\n",
    "            all_vals[run_num] = val\n",
    "            if best_val is None or compare_func(val, best_val):\n",
    "                best_val, best_run = val, run_num\n",
    "        except Exception:\n",
    "            print(\"Warning: Was not able to compute values for run %s\" % run_num)\n",
    "            continue\n",
    "    return best_run, best_val, all_vals"
   ]
  },
  {
   "cell_type": "code",
   "execution_count": 4,
   "metadata": {},
   "outputs": [],
   "source": [
    "def get_best_metric_at_best_epoch(models_path, metric_name, reduce_func, compare_func):\n",
    "    \"\"\"\n",
    "    Given the path to a set of runs, determines the run with the best metric value,\n",
    "    for the given `metric_name`. For each run, the function `reduce_func` must take\n",
    "    the array of all values for that metric and return a (scalar) value FOR EACH\n",
    "    SUBARRAY/VALUE in the value array to use for comparison. The best metric value\n",
    "    is determined by `metric_compare_func`, which must take in two arguments, and\n",
    "    return whether or not the _first_ one is better.\n",
    "    Returns the number of the run, the (one-indexed) number of the epch, the value\n",
    "    associated with that run and epoch, and a dict of all the values used for\n",
    "    comparison (mapping pair of run number and epoch number to value).\n",
    "    \"\"\"\n",
    "    # Get the metrics, ignoring empty or nonexistent metrics.json files\n",
    "    metrics = {run_num : import_metrics_json(models_path, run_num) for run_num in os.listdir(models_path)}\n",
    "    metrics = {key : val for key, val in metrics.items() if val}  # Remove empties\n",
    "    \n",
    "    # Get the best value\n",
    "    best_run, best_epoch, best_val, all_vals = None, None, None, {}\n",
    "    for run_num in metrics.keys():\n",
    "        try:\n",
    "            # Find the best epoch within that run\n",
    "            best_epoch_in_run, best_val_in_run = None, None\n",
    "            for i, subarr in enumerate(metrics[run_num][metric_name][\"values\"]):\n",
    "                val = reduce_func(subarr)\n",
    "                if best_val_in_run is None or compare_func(val, best_val_in_run):\n",
    "                    best_epoch_in_run, best_val_in_run = i + 1, val\n",
    "            all_vals[(run_num, best_epoch_in_run)] = best_val_in_run\n",
    "            \n",
    "            # If the best value in the best epoch of the run is best so far, update\n",
    "            if best_val is None or compare_func(best_val_in_run, best_val):\n",
    "                best_run, best_epoch, best_val = run_num, best_epoch_in_run, best_val_in_run\n",
    "        except Exception:\n",
    "            print(\"Warning: Was not able to compute values for run %s\" % run_num)\n",
    "            continue\n",
    "    return best_run, best_epoch, best_val, all_vals"
   ]
  },
  {
   "cell_type": "code",
   "execution_count": 5,
   "metadata": {
    "scrolled": true
   },
   "outputs": [],
   "source": [
    "def print_validation_profile_and_prior_losses(condition):\n",
    "    models_path = \"/users/amtseng/att_priors/models/trained_models/profile_models/%s/\" % condition\n",
    "    \n",
    "    print(\"Best profile loss overall:\")\n",
    "    best_run, best_epoch, best_val, all_vals = get_best_metric_at_best_epoch(\n",
    "        models_path,\n",
    "        \"val_prof_corr_losses\",\n",
    "        lambda values: np.mean(values),\n",
    "        lambda x, y: x < y\n",
    "    )\n",
    "    print(\"\\tBest run: %s\" % best_run)\n",
    "    print(\"\\tBest epoch in run: %d\" % best_epoch)\n",
    "    print(\"\\tAssociated value: %s\" % best_val)\n",
    "    \n",
    "    print(\"Best epoch in each run:\")\n",
    "    for key in sorted(all_vals.keys(), key=lambda p: int(p[0])):\n",
    "        print(\"\\tRun %s, epoch %d: %6.2f\" % (key[0], key[1], all_vals[key]))\n",
    "        \n",
    "    print(\"All validation profile and prior losses:\")\n",
    "    for key in sorted(all_vals.keys(), key=lambda p: int(p[0])):\n",
    "        print(key[0])\n",
    "        metrics = import_metrics_json(models_path, key[0])\n",
    "        print(\"\\t\" + \" \".join([\"%6.2f\" % i for i in np.mean(metrics[\"train_prof_corr_losses\"][\"values\"], axis=1)]))\n",
    "        print(\"\\t\" + \" \".join([\"%6.2f\" % i for i in np.mean(metrics[\"val_prof_corr_losses\"][\"values\"], axis=1)]))\n",
    "        print(\"\\t\" + \" \".join([\"%6.4f\" % i for i in np.mean(metrics[\"val_att_losses\"][\"values\"], axis=1)]))\n",
    "    return all_vals"
   ]
  },
  {
   "cell_type": "code",
   "execution_count": 12,
   "metadata": {
    "scrolled": true
   },
   "outputs": [
    {
     "name": "stdout",
     "output_type": "stream",
     "text": [
      "Best profile loss overall:\n",
      "Warning: Was not able to compute values for run 8\n",
      "\tBest run: 4\n",
      "\tBest epoch in run: 10\n",
      "\tAssociated value: 179.99440738677978\n",
      "Best epoch in each run:\n",
      "\tRun 1, epoch 10: 180.97\n",
      "\tRun 2, epoch 8: 180.73\n",
      "\tRun 3, epoch 7: 180.46\n",
      "\tRun 4, epoch 10: 179.99\n",
      "\tRun 5, epoch 10: 180.05\n",
      "\tRun 6, epoch 10: 180.81\n",
      "\tRun 7, epoch 8: 181.37\n",
      "All validation profile and prior losses:\n",
      "1\n",
      "\t200.36 194.65 193.33 192.59 192.15 191.83 191.66 191.52 191.40 191.25\n",
      "\t184.69 182.63 181.86 181.45 181.32 181.37 181.15 181.13 181.09 180.97\n",
      "\t0.0000 0.0000 0.0000 0.0000 0.0000 0.0000 0.0000 0.0000 0.0000 0.0000\n",
      "2\n",
      "\t199.41 194.43 193.20 192.45 192.04 191.73 191.50 191.35 191.22 191.14\n",
      "\t184.60 182.48 181.70 181.30 180.91 180.93 180.88 180.73 180.80 180.90\n",
      "\t0.0000 0.0000 0.0000 0.0000 0.0000 0.0000 0.0000 0.0000 0.0000 0.0000\n",
      "3\n",
      "\t198.70 193.95 192.49 191.83 191.42 191.19 191.02 190.83 190.75 190.59\n",
      "\t183.93 181.95 181.27 180.81 180.70 180.67 180.46 180.62 180.62 180.83\n",
      "\t0.0000 0.0000 0.0000 0.0000 0.0000 0.0000 0.0000 0.0000 0.0000 0.0000\n",
      "4\n",
      "\t199.55 194.49 193.11 192.40 192.02 191.76 191.54 191.44 191.29 191.18\n",
      "\t183.14 181.38 180.75 180.37 180.14 180.17 180.15 180.13 180.12 179.99\n",
      "\t0.0000 0.0000 0.0000 0.0000 0.0000 0.0000 0.0000 0.0000 0.0000 0.0000\n",
      "5\n",
      "\t199.47 194.07 192.71 192.03 191.62 191.33 191.18 190.99 190.88 190.73\n",
      "\t183.18 181.80 180.95 180.63 180.28 180.08 180.09 180.15 180.07 180.05\n",
      "\t0.0000 0.0000 0.0000 0.0000 0.0000 0.0000 0.0000 0.0000 0.0000 0.0000\n",
      "6\n",
      "\t199.59 194.77 193.26 192.50 192.12 191.79 191.54 191.40 191.29 191.13\n",
      "\t185.22 182.60 181.85 181.65 181.38 181.22 180.95 180.89 180.83 180.81\n",
      "\t0.0000 0.0000 0.0000 0.0000 0.0000 0.0000 0.0000 0.0000 0.0000 0.0000\n",
      "7\n",
      "\t199.76 194.27 193.10 192.46 192.05 191.71 191.50 191.36 191.27 191.15\n",
      "\t185.97 183.34 182.55 182.00 181.74 181.56 181.67 181.37 181.43 181.50\n",
      "\t0.0000 0.0000 0.0000 0.0000 0.0000 0.0000 0.0000 0.0000 0.0000 0.0000\n"
     ]
    }
   ],
   "source": [
    "noprior_vals = print_validation_profile_and_prior_losses(\"HepG2\")"
   ]
  },
  {
   "cell_type": "code",
   "execution_count": 14,
   "metadata": {
    "scrolled": true
   },
   "outputs": [
    {
     "name": "stdout",
     "output_type": "stream",
     "text": [
      "Best profile loss overall:\n",
      "\tBest run: 3\n",
      "\tBest epoch in run: 7\n",
      "\tAssociated value: 181.0568891398112\n",
      "Best epoch in each run:\n",
      "\tRun 1, epoch 9: 181.77\n",
      "\tRun 2, epoch 9: 181.86\n",
      "\tRun 3, epoch 7: 181.06\n",
      "\tRun 4, epoch 10: 181.13\n",
      "\tRun 5, epoch 9: 181.66\n",
      "\tRun 6, epoch 6: 182.12\n",
      "All validation profile and prior losses:\n",
      "1\n",
      "\t199.37 194.95 194.05 193.47 193.14 192.86 192.67 192.56 192.45 192.38\n",
      "\t184.64 183.46 182.80 182.50 182.20 182.05 182.10 182.17 181.77 182.11\n",
      "\t0.1124 0.0946 0.0776 0.0777 0.0766 0.0789 0.0812 0.0818 0.0797 0.0826\n",
      "2\n",
      "\t199.63 195.21 194.34 193.89 193.69 193.50 193.34 193.15 193.09 192.99\n",
      "\t184.50 183.09 183.09 182.21 182.38 182.05 182.14 182.13 181.86 181.90\n",
      "\t0.1013 0.0823 0.0744 0.0758 0.0762 0.0742 0.0755 0.0810 0.0776 0.0781\n",
      "3\n",
      "\t199.85 195.26 194.04 193.39 193.00 192.85 192.69 192.56 192.47 192.40\n",
      "\t184.08 182.69 182.14 181.53 181.53 181.49 181.06 181.22 181.28 181.22\n",
      "\t0.0980 0.0929 0.0930 0.0843 0.0784 0.0846 0.0813 0.0852 0.0845 0.0822\n",
      "4\n",
      "\t199.82 195.20 194.24 193.80 193.51 193.30 193.10 192.91 192.76 192.65\n",
      "\t183.96 182.62 182.11 181.85 181.70 181.50 181.43 181.22 181.40 181.13\n",
      "\t0.1094 0.0794 0.0788 0.0754 0.0791 0.0749 0.0783 0.0785 0.0795 0.0749\n",
      "5\n",
      "\t199.23 195.12 193.82 193.27 192.83 192.68 192.59 192.59 192.52 192.41\n",
      "\t184.73 183.14 182.46 181.99 182.13 181.96 181.82 182.02 181.66 181.94\n",
      "\t0.0954 0.0972 0.0842 0.0771 0.0815 0.0758 0.0910 0.0878 0.0840 0.0783\n",
      "6\n",
      "\t200.37 195.37 194.50 193.93 193.57 193.32\n",
      "\t184.55 183.42 182.78 182.41 182.35 182.12\n",
      "\t0.0857 0.0778 0.0786 0.0783 0.0748 0.0782\n"
     ]
    }
   ],
   "source": [
    "prior_vals = print_validation_profile_and_prior_losses(\"HepG2_prior\")"
   ]
  },
  {
   "cell_type": "code",
   "execution_count": 9,
   "metadata": {},
   "outputs": [],
   "source": [
    "def print_validation_and_prior_losses(condition):\n",
    "    models_path = \"/users/amtseng/att_priors/models/trained_models/binary_models/%s/\" % condition\n",
    "    \n",
    "    print(\"Best validation loss overall:\")\n",
    "    best_run, best_epoch, best_val, all_vals = get_best_metric_at_best_epoch(\n",
    "        models_path,\n",
    "        \"val_corr_losses\",\n",
    "        lambda values: np.mean(values),\n",
    "        lambda x, y: x < y\n",
    "    )\n",
    "    print(\"\\tBest run: %s\" % best_run)\n",
    "    print(\"\\tBest epoch in run: %d\" % best_epoch)\n",
    "    print(\"\\tAssociated value: %s\" % best_val)\n",
    "    \n",
    "    print(\"Best epoch in each run:\")\n",
    "    for key in sorted(all_vals.keys(), key=lambda p: int(p[0])):\n",
    "        print(\"\\tRun %s, epoch %d: %6.3f\" % (key[0], key[1], all_vals[key]))\n",
    "        \n",
    "    print(\"All validation profile and prior losses:\")\n",
    "    for key in sorted(all_vals.keys(), key=lambda p: int(p[0])):\n",
    "        print(key[0])\n",
    "        metrics = import_metrics_json(models_path, key[0])\n",
    "        print(\"\\t\" + \" \".join([\"%6.3f\" % i for i in np.mean(metrics[\"train_corr_losses\"][\"values\"], axis=1)]))\n",
    "        print(\"\\t\" + \" \".join([\"%6.3f\" % i for i in np.mean(metrics[\"val_corr_losses\"][\"values\"], axis=1)]))\n",
    "        print(\"\\t\" + \" \".join([\"%6.3f\" % i for i in np.mean(metrics[\"val_att_losses\"][\"values\"], axis=1)]))\n",
    "    return all_vals"
   ]
  },
  {
   "cell_type": "code",
   "execution_count": 33,
   "metadata": {
    "scrolled": true
   },
   "outputs": [
    {
     "name": "stdout",
     "output_type": "stream",
     "text": [
      "Best validation loss overall:\n",
      "\tBest run: 6\n",
      "\tBest epoch in run: 4\n",
      "\tAssociated value: 0.36000752200682956\n",
      "Best epoch in each run:\n",
      "\tRun 1, epoch 5:  0.393\n",
      "\tRun 2, epoch 4:  0.371\n",
      "\tRun 3, epoch 2:  0.393\n",
      "\tRun 4, epoch 3:  0.373\n",
      "\tRun 5, epoch 3:  0.405\n",
      "\tRun 6, epoch 4:  0.360\n",
      "\tRun 7, epoch 4:  0.363\n",
      "\tRun 8, epoch 3:  0.364\n",
      "\tRun 9, epoch 4:  0.366\n",
      "\tRun 10, epoch 6:  0.403\n",
      "All validation profile and prior losses:\n",
      "1\n",
      "\t 0.501  0.386  0.337  0.307  0.266  0.228  0.192  0.172  0.144  0.130\n",
      "\t 0.439  0.400  0.400  0.396  0.393  0.426  0.463  0.509  0.506  0.530\n",
      "\t 0.000  0.000  0.000  0.000  0.000  0.000  0.000  0.000  0.000  0.000\n",
      "2\n",
      "\t 0.481  0.390  0.341  0.304  0.260  0.225  0.196  0.172  0.152  0.137\n",
      "\t 0.423  0.383  0.389  0.371  0.393  0.417  0.452  0.459  0.449  0.516\n",
      "\t 0.000  0.000  0.000  0.000  0.000  0.000  0.000  0.000  0.000  0.000\n",
      "3\n",
      "\t 0.483  0.381  0.338  0.290  0.249  0.210  0.190  0.163  0.142  0.125\n",
      "\t 0.448  0.393  0.409  0.402  0.424  0.447  0.478  0.496  0.501  0.542\n",
      "\t 0.000  0.000  0.000  0.000  0.000  0.000  0.000  0.000  0.000  0.000\n",
      "4\n",
      "\t 0.500  0.397  0.339  0.297  0.260  0.225  0.199  0.171  0.150  0.140\n",
      "\t 0.458  0.416  0.373  0.376  0.408  0.397  0.430  0.458  0.475  0.505\n",
      "\t 0.000  0.000  0.000  0.000  0.000  0.000  0.000  0.000  0.000  0.000\n",
      "5\n",
      "\t 0.496  0.390  0.341  0.300  0.267  0.224  0.193  0.167  0.147  0.129\n",
      "\t 0.479  0.457  0.405  0.408  0.412  0.465  0.470  0.483  0.493  0.527\n",
      "\t 0.000  0.000  0.000  0.000  0.000  0.000  0.000  0.000  0.000  0.000\n",
      "6\n",
      "\t 0.482  0.389  0.329  0.291  0.248  0.211  0.179  0.154  0.139  0.125\n",
      "\t 0.440  0.384  0.382  0.360  0.374  0.404  0.427  0.452  0.466  0.509\n",
      "\t 0.000  0.000  0.000  0.000  0.000  0.000  0.000  0.000  0.000  0.000\n",
      "7\n",
      "\t 0.484  0.384  0.335  0.298  0.257  0.228  0.190  0.173  0.150  0.134\n",
      "\t 0.438  0.403  0.384  0.363  0.394  0.407  0.427  0.441  0.481  0.522\n",
      "\t 0.000  0.000  0.000  0.000  0.000  0.000  0.000  0.000  0.000  0.000\n",
      "8\n",
      "\t 0.467  0.379  0.337  0.296  0.260  0.222  0.188  0.167  0.144  0.134\n",
      "\t 0.420  0.376  0.364  0.364  0.401  0.426  0.427  0.472  0.477  0.517\n",
      "\t 0.000  0.000  0.000  0.000  0.000  0.000  0.000  0.000  0.000  0.000\n",
      "9\n",
      "\t 0.489  0.384  0.342  0.296  0.257  0.218  0.184  0.172  0.150  0.130\n",
      "\t 0.435  0.403  0.376  0.366  0.386  0.395  0.426  0.459  0.484  0.492\n",
      "\t 0.000  0.000  0.000  0.000  0.000  0.000  0.000  0.000  0.000  0.000\n",
      "10\n",
      "\t 0.505  0.406  0.352  0.320  0.282  0.242  0.203  0.178  0.160  0.141\n",
      "\t 0.469  0.420  0.422  0.408  0.421  0.403  0.439  0.462  0.487  0.494\n",
      "\t 0.000  0.000  0.000  0.000  0.000  0.000  0.000  0.000  0.000  0.000\n"
     ]
    }
   ],
   "source": [
    "noprior_vals = print_validation_and_prior_losses(\"HepG2_keep1\")"
   ]
  },
  {
   "cell_type": "code",
   "execution_count": 34,
   "metadata": {
    "scrolled": true
   },
   "outputs": [
    {
     "name": "stdout",
     "output_type": "stream",
     "text": [
      "Best validation loss overall:\n",
      "\tBest run: 9\n",
      "\tBest epoch in run: 8\n",
      "\tAssociated value: 0.35352155566215515\n",
      "Best epoch in each run:\n",
      "\tRun 1, epoch 10:  0.371\n",
      "\tRun 2, epoch 10:  0.368\n",
      "\tRun 3, epoch 6:  0.384\n",
      "\tRun 4, epoch 8:  0.371\n",
      "\tRun 5, epoch 4:  0.369\n",
      "\tRun 6, epoch 10:  0.379\n",
      "\tRun 7, epoch 9:  0.374\n",
      "\tRun 8, epoch 7:  0.384\n",
      "\tRun 9, epoch 8:  0.354\n",
      "\tRun 10, epoch 5:  0.388\n",
      "All validation profile and prior losses:\n",
      "1\n",
      "\t 0.515  0.434  0.392  0.365  0.346  0.324  0.305  0.368  0.342  0.314\n",
      "\t 0.498  0.429  0.427  0.387  0.390  0.391  0.382  0.402  0.391  0.371\n",
      "\t 0.111  0.064  0.093  0.076  0.090  0.089  0.096  0.132  0.104  0.106\n",
      "2\n",
      "\t 0.493  0.435  0.387  0.365  0.353  0.331  0.318  0.312  0.307  0.298\n",
      "\t 0.486  0.429  0.402  0.416  0.388  0.386  0.374  0.377  0.394  0.368\n",
      "\t 0.111  0.080  0.064  0.132  0.099  0.070  0.092  0.099  0.106  0.134\n",
      "3\n",
      "\t 0.517  0.432  0.388  0.365  0.342  0.323  0.300  0.346  0.352  0.327\n",
      "\t 0.472  0.439  0.392  0.399  0.386  0.384  0.400  0.408  0.401  0.415\n",
      "\t 0.103  0.100  0.072  0.071  0.091  0.075  0.080  0.093  0.091  0.112\n",
      "4\n",
      "\t 0.501  0.436  0.410  0.383  0.363  0.359  0.356  0.332  0.323  0.313\n",
      "\t 0.450  0.482  0.424  0.424  0.399  0.394  0.388  0.371  0.405  0.393\n",
      "\t 0.134  0.110  0.087  0.073  0.072  0.109  0.078  0.078  0.093  0.088\n",
      "5\n",
      "\t 0.521  0.427  0.374  0.343  0.323  0.332  0.397  0.402  0.446  0.417\n",
      "\t 0.478  0.423  0.400  0.369  0.373  0.499  0.449  0.488  0.466  0.436\n",
      "\t 0.110  0.088  0.081  0.068  0.095  0.161  0.131  0.144  0.143  0.104\n",
      "6\n",
      "\t 0.531  0.433  0.387  0.362  0.351  0.337  0.367  0.368  0.356  0.332\n",
      "\t 0.471  0.426  0.397  0.397  0.421  0.413  0.424  0.430  0.407  0.379\n",
      "\t 0.094  0.069  0.197  0.136  0.091  0.137  0.120  0.103  0.108  0.092\n",
      "7\n",
      "\t 0.500  0.419  0.378  0.356  0.359  0.330  0.314  0.308  0.292  0.285\n",
      "\t 0.500  0.439  0.425  0.387  0.406  0.389  0.393  0.391  0.374  0.391\n",
      "\t 0.114  0.080  0.070  0.093  0.114  0.106  0.094  0.099  0.100  0.103\n",
      "8\n",
      "\t 0.531  0.433  0.382  0.393  0.381  0.357  0.338  0.317  0.299  0.286\n",
      "\t 0.494  0.445  0.422  0.414  0.433  0.407  0.384  0.390  0.386  0.391\n",
      "\t 0.125  0.102  0.084  0.087  0.071  0.068  0.096  0.062  0.068  0.061\n",
      "9\n",
      "\t 0.542  0.465  0.410  0.383  0.364  0.346  0.329  0.313  0.295  0.285\n",
      "\t 0.515  0.444  0.408  0.390  0.383  0.383  0.361  0.354  0.365  0.385\n",
      "\t 0.129  0.106  0.076  0.077  0.071  0.078  0.068  0.070  0.077  0.086\n",
      "10\n",
      "\t 0.528  0.433  0.392  0.376  0.347  0.336  0.326  0.320  0.369  0.420\n",
      "\t 0.481  0.439  0.415  0.405  0.388  0.388  0.394  0.436  0.500  0.430\n",
      "\t 0.100  0.097  0.144  0.097  0.090  0.102  0.090  0.097  0.114  0.113\n"
     ]
    }
   ],
   "source": [
    "prior_vals = print_validation_and_prior_losses(\"HepG2_prior_keep1\")"
   ]
  },
  {
   "cell_type": "code",
   "execution_count": 35,
   "metadata": {
    "scrolled": true
   },
   "outputs": [
    {
     "data": {
      "text/plain": [
       "<matplotlib.legend.Legend at 0x7f4e75aa9750>"
      ]
     },
     "execution_count": 35,
     "metadata": {},
     "output_type": "execute_result"
    },
    {
     "data": {
      "image/png": "[encoded data removed]",
      "text/plain": [
       "<Figure size 432x288 with 1 Axes>"
      ]
     },
     "metadata": {
      "needs_background": "light"
     },
     "output_type": "display_data"
    }
   ],
   "source": [
    "bin_num = 20\n",
    "plt.figure()\n",
    "plt.hist(\n",
    "    [np.array(list(noprior_vals.values())), np.array(list(prior_vals.values()))],\n",
    "    bin_num, histtype=\"bar\",\n",
    "    label=[\"No prior\", \"With prior\"], color=[\"red\", \"blue\"])\n",
    "title = \"Histogram of validation loss\"\n",
    "title += \"\\nTraining on only 1% of positive bins\"\n",
    "plt.title(title)\n",
    "plt.xlabel(\"Validation profile loss\")\n",
    "plt.legend()"
   ]
  },
  {
   "cell_type": "code",
   "execution_count": 36,
   "metadata": {},
   "outputs": [
    {
     "name": "stdout",
     "output_type": "stream",
     "text": [
      "0.7637576384837572\n",
      "0.2274535370283432\n"
     ]
    }
   ],
   "source": [
    "np_vals, p_vals = np.array(list(noprior_vals.values())), np.array(list(prior_vals.values()))\n",
    "t, p = scipy.stats.ttest_ind(np_vals, p_vals)\n",
    "print(t)\n",
    "print(p / 2)"
   ]
  }
 ],
 "metadata": {
  "kernelspec": {
   "display_name": "Python 3",
   "language": "python",
   "name": "python3"
  },
  "language_info": {
   "codemirror_mode": {
    "name": "ipython",
    "version": 3
   },
   "file_extension": ".py",
   "mimetype": "text/x-python",
   "name": "python",
   "nbconvert_exporter": "python",
   "pygments_lexer": "ipython3",
   "version": "3.7.4"
  }
 },
 "nbformat": 4,
 "nbformat_minor": 2
}

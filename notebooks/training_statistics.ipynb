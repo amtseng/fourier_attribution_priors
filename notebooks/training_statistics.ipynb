{
 "cells": [
  {
   "cell_type": "code",
   "execution_count": 1,
   "metadata": {},
   "outputs": [],
   "source": [
    "import json\n",
    "import os\n",
    "import numpy as np\n",
    "import matplotlib.pyplot as plt\n",
    "import scipy.stats"
   ]
  },
  {
   "cell_type": "code",
   "execution_count": 2,
   "metadata": {},
   "outputs": [],
   "source": [
    "def import_metrics_json(models_path, run_num):\n",
    "    \"\"\"\n",
    "    Looks in {models_path}/{run_num}/metrics.json and returns the contents as a\n",
    "    Python dictionary. Returns None if the path does not exist.\n",
    "    \"\"\"\n",
    "    path = os.path.join(models_path, str(run_num), \"metrics.json\")\n",
    "    if not os.path.exists(path):\n",
    "        return None\n",
    "    try:\n",
    "        with open(path, \"r\") as f:\n",
    "            return json.load(f)\n",
    "    except json.JSONDecodeError:\n",
    "        print(\"Metrics JSON at %s is not well-formed\" % path)"
   ]
  },
  {
   "cell_type": "code",
   "execution_count": 3,
   "metadata": {},
   "outputs": [],
   "source": [
    "def get_best_metric(models_path, metric_name, reduce_func, compare_func):\n",
    "    \"\"\"\n",
    "    Given the path to a set of runs, determines the run with the best metric value,\n",
    "    for the given `metric_name`. For each run, the function `reduce_func` must take\n",
    "    the array of all values for that metric and return a (scalar) value to use for\n",
    "    comparison. The best metric value is determined by `metric_compare_func`, which\n",
    "    must take in two arguments, and return whether or not the _first_ one is better.\n",
    "    Returns the number of the run, the value associated with that run, and a dict of\n",
    "    all the values used for comparison.\n",
    "    \"\"\"\n",
    "    # Get the metrics, ignoring empty or nonexistent metrics.json files\n",
    "    metrics = {run_num : import_metrics_json(models_path, run_num) for run_num in os.listdir(models_path)}\n",
    "    metrics = {key : val for key, val in metrics.items() if val}  # Remove empties\n",
    "    \n",
    "    # Get the best value\n",
    "    best_run, best_val, all_vals = None, None, {}\n",
    "    for run_num in metrics.keys():\n",
    "        try:\n",
    "            val = reduce_func(metrics[run_num][metric_name][\"values\"])\n",
    "            all_vals[run_num] = val\n",
    "            if best_val is None or compare_func(val, best_val):\n",
    "                best_val, best_run = val, run_num\n",
    "        except Exception:\n",
    "            print(\"Warning: Was not able to compute values for run %s\" % run_num)\n",
    "            continue\n",
    "    return best_run, best_val, all_vals"
   ]
  },
  {
   "cell_type": "code",
   "execution_count": 4,
   "metadata": {},
   "outputs": [],
   "source": [
    "def get_best_metric_at_best_epoch(models_path, metric_name, reduce_func, compare_func, max_epoch=None):\n",
    "    \"\"\"\n",
    "    Given the path to a set of runs, determines the run with the best metric value,\n",
    "    for the given `metric_name`. For each run, the function `reduce_func` must take\n",
    "    the array of all values for that metric and return a (scalar) value FOR EACH\n",
    "    SUBARRAY/VALUE in the value array to use for comparison. The best metric value\n",
    "    is determined by `metric_compare_func`, which must take in two arguments, and\n",
    "    return whether or not the _first_ one is better. If `max_epoch` is provided, will\n",
    "    only report everything up to this epoch (1-indexed).\n",
    "    Returns the number of the run, the (one-indexed) number of the epoch, the value\n",
    "    associated with that run and epoch, and a dict of all the values used for\n",
    "    comparison (mapping pair of run number and epoch number to value).\n",
    "    \"\"\"\n",
    "    # Get the metrics, ignoring empty or nonexistent metrics.json files\n",
    "    metrics = {run_num : import_metrics_json(models_path, run_num) for run_num in os.listdir(models_path)}\n",
    "    metrics = {key : val for key, val in metrics.items() if val}  # Remove empties\n",
    "    \n",
    "    # Get the best value\n",
    "    best_run, best_epoch, best_val, all_vals = None, None, None, {}\n",
    "    for run_num in metrics.keys():\n",
    "        try:\n",
    "            # Find the best epoch within that run\n",
    "            best_epoch_in_run, best_val_in_run = None, None\n",
    "            for i, subarr in enumerate(metrics[run_num][metric_name][\"values\"]):\n",
    "                if i == max_epoch:\n",
    "                    break\n",
    "                val = reduce_func(subarr)\n",
    "                if best_val_in_run is None or compare_func(val, best_val_in_run):\n",
    "                    best_epoch_in_run, best_val_in_run = i + 1, val\n",
    "            all_vals[(run_num, best_epoch_in_run)] = best_val_in_run\n",
    "            \n",
    "            # If the best value in the best epoch of the run is best so far, update\n",
    "            if best_val is None or compare_func(best_val_in_run, best_val):\n",
    "                best_run, best_epoch, best_val = run_num, best_epoch_in_run, best_val_in_run\n",
    "        except Exception as e:\n",
    "            print(e)\n",
    "            print(\"Warning: Was not able to compute values for run %s\" % run_num)\n",
    "            continue\n",
    "    return best_run, best_epoch, best_val, all_vals"
   ]
  },
  {
   "cell_type": "code",
   "execution_count": 16,
   "metadata": {
    "scrolled": true
   },
   "outputs": [],
   "source": [
    "def print_profile_losses(condition, max_epoch=None):\n",
    "    models_path = \"/users/amtseng/att_priors/models/trained_models/profile/%s/\" % condition\n",
    "    \n",
    "    print(\"Best profile loss overall:\")\n",
    "    best_run, best_epoch, best_val, all_vals = get_best_metric_at_best_epoch(\n",
    "        models_path,\n",
    "        \"val_prof_corr_losses\",\n",
    "        lambda values: np.mean(values),\n",
    "        lambda x, y: x < y,\n",
    "        max_epoch\n",
    "    )\n",
    "    print(\"\\tBest run: %s\" % best_run)\n",
    "    print(\"\\tBest epoch in run: %d\" % best_epoch)\n",
    "    print(\"\\tAssociated value: %s\" % best_val)\n",
    "    \n",
    "    print(\"Best epoch in each run:\")\n",
    "    for key in sorted(all_vals.keys(), key=lambda p: int(p[0])):\n",
    "        print(\"\\tRun %s, epoch %d: %6.2f\" % (key[0], key[1], all_vals[key]))\n",
    "        \n",
    "    print(\"All validation profile and prior losses:\")\n",
    "    for key in sorted(all_vals.keys(), key=lambda p: int(p[0])):\n",
    "        print(key[0])\n",
    "        metrics = import_metrics_json(models_path, key[0])\n",
    "        print(\"\\t\" + \" \".join([\"%6.2f\" % i for i in np.mean(metrics[\"val_batch_losses\"][\"values\"], axis=1)[:max_epoch]]))\n",
    "        print(\"\\t\" + \" \".join([\"%6.2f\" % i for i in np.mean(metrics[\"val_prof_corr_losses\"][\"values\"], axis=1)[:max_epoch]]))\n",
    "        print(\"\\t\" + \" \".join([\"%6.4f\" % i for i in np.mean(metrics[\"val_att_losses\"][\"values\"], axis=1)[:max_epoch]]))\n",
    "    return all_vals"
   ]
  },
  {
   "cell_type": "code",
   "execution_count": 20,
   "metadata": {
    "scrolled": true
   },
   "outputs": [
    {
     "name": "stdout",
     "output_type": "stream",
     "text": [
      "Best profile loss overall:\n",
      "\tBest run: 4\n",
      "\tBest epoch in run: 19\n",
      "\tAssociated value: 85.27962607630977\n",
      "Best epoch in each run:\n",
      "\tRun 1, epoch 16:  86.15\n",
      "\tRun 2, epoch 12:  85.34\n",
      "\tRun 3, epoch 20:  85.61\n",
      "\tRun 4, epoch 19:  85.28\n",
      "\tRun 5, epoch 3:  86.20\n",
      "All validation profile and prior losses:\n",
      "1\n",
      "\t108.80 105.72 103.69 103.35 102.36 102.39 102.88 101.81 102.20 101.55 101.48 101.57 101.37 101.70 101.91 101.70 101.30 101.42 101.30 101.21\n",
      "\t 88.49  87.43  86.98  86.68  86.50  86.43  86.45  86.40  86.41  86.28  86.26  86.21  86.20  86.16  86.26  86.15  86.24  86.26  86.16  86.19\n",
      "\t0.0000 0.0000 0.0000 0.0000 0.0000 0.0000 0.0000 0.0000 0.0000 0.0000 0.0000 0.0000 0.0000 0.0000 0.0000 0.0000 0.0000 0.0000 0.0000 0.0000\n",
      "2\n",
      "\t107.21 104.37 102.30 102.02 100.84 100.78 100.52 100.13 100.46 100.15 100.39  99.76 100.11 100.13 100.31\n",
      "\t 87.42  86.45  86.00  85.79  85.70  85.66  85.50  85.44  85.43  85.39  85.61  85.34  85.39  85.36  85.36\n",
      "\t0.0000 0.0000 0.0000 0.0000 0.0000 0.0000 0.0000 0.0000 0.0000 0.0000 0.0000 0.0000 0.0000 0.0000 0.0000\n",
      "3\n",
      "\t107.60 104.26 102.85 102.70 102.52 102.01 101.88 100.83 101.08 100.95 101.10 100.82 101.66 100.79 101.72 101.09 100.90 100.93 101.68 101.10\n",
      "\t 87.78  86.89  86.30  86.11  86.10  85.85  85.84  85.88  85.84  85.80  85.63  85.68  85.87  85.73  85.72  85.79  85.68  85.71  85.84  85.61\n",
      "\t0.0000 0.0000 0.0000 0.0000 0.0000 0.0000 0.0000 0.0000 0.0000 0.0000 0.0000 0.0000 0.0000 0.0000 0.0000 0.0000 0.0000 0.0000 0.0000 0.0000\n",
      "4\n",
      "\t110.36 106.37 103.37 101.88 101.80 101.17 101.58 101.28 100.45 100.86 101.19 100.40 100.45 100.02 100.64 101.42 100.87 100.39  99.69  99.82\n",
      "\t 88.43  86.65  86.06  85.82  85.67  85.52  85.51  85.46  85.39  85.36  85.45  85.32  85.34  85.30  85.31  85.40  85.42  85.45  85.28  85.32\n",
      "\t0.0000 0.0000 0.0000 0.0000 0.0000 0.0000 0.0000 0.0000 0.0000 0.0000 0.0000 0.0000 0.0000 0.0000 0.0000 0.0000 0.0000 0.0000 0.0000 0.0000\n",
      "5\n",
      "\t109.20 104.54 103.05\n",
      "\t 87.93  86.60  86.20\n",
      "\t0.0000 0.0000 0.0000\n"
     ]
    }
   ],
   "source": [
    "noprior_vals = print_profile_losses(\"SPI1\")"
   ]
  },
  {
   "cell_type": "code",
   "execution_count": 18,
   "metadata": {
    "scrolled": true
   },
   "outputs": [
    {
     "name": "stdout",
     "output_type": "stream",
     "text": [
      "Best profile loss overall:\n",
      "Metrics JSON at /users/amtseng/att_priors/models/trained_models/profile/SPI1_prior/2/metrics.json is not well-formed\n",
      "\tBest run: 1\n",
      "\tBest epoch in run: 12\n",
      "\tAssociated value: 85.86045782301161\n",
      "Best epoch in each run:\n",
      "\tRun 1, epoch 12:  85.86\n",
      "All validation profile and prior losses:\n",
      "1\n",
      "\t111.81 108.96 105.71 104.74 103.84 104.37 104.07 103.10 103.85 102.44 102.18 101.74 102.64 102.27 102.83 102.13 102.13 101.68 101.88 102.39\n",
      "\t 88.90  87.60  86.72  86.53  86.38  86.15  86.30  86.07  86.07  85.94  85.94  85.86  85.97  85.94  86.02  85.91  86.02  85.91  85.97  86.20\n",
      "\t0.0518 0.0436 0.0397 0.0372 0.0358 0.0350 0.0339 0.0339 0.0332 0.0328 0.0324 0.0319 0.0316 0.0320 0.0316 0.0311 0.0309 0.0309 0.0303 0.0302\n"
     ]
    }
   ],
   "source": [
    "prior_vals = print_profile_losses(\"SPI1_prior\")"
   ]
  },
  {
   "cell_type": "code",
   "execution_count": 21,
   "metadata": {},
   "outputs": [
    {
     "name": "stdout",
     "output_type": "stream",
     "text": [
      "Mean without priors: 85.717049\n",
      "Mean with priors: 85.860458\n",
      "nan\n",
      "nan\n"
     ]
    },
    {
     "data": {
      "image/png": "[encoded data removed]",
      "text/plain": [
       "<Figure size 432x288 with 1 Axes>"
      ]
     },
     "metadata": {
      "needs_background": "light"
     },
     "output_type": "display_data"
    }
   ],
   "source": [
    "bin_num = 20\n",
    "plt.figure()\n",
    "plt.hist(\n",
    "    [np.array(list(noprior_vals.values())), np.array(list(prior_vals.values()))],\n",
    "    bin_num, histtype=\"bar\",\n",
    "    label=[\"No prior\", \"With prior\"], color=[\"red\", \"blue\"])\n",
    "title = \"Histogram of validation profile loss without/with priors\"\n",
    "title += \"\\nGATA2, %d/%d models without/with priors\" % (len(noprior_vals), len(prior_vals))\n",
    "title += \"\\nTraining on all peaks\"\n",
    "plt.title(title)\n",
    "plt.xlabel(\"Validation profile loss\")\n",
    "plt.legend()\n",
    "\n",
    "np_vals, p_vals = np.array(list(noprior_vals.values())), np.array(list(prior_vals.values()))\n",
    "t, p = scipy.stats.ttest_ind(np_vals, p_vals)\n",
    "print(\"Mean without priors: %f\" % np.mean(np_vals))\n",
    "print(\"Mean with priors: %f\" % np.mean(p_vals))\n",
    "print(t)\n",
    "print(p / 2)"
   ]
  },
  {
   "cell_type": "code",
   "execution_count": 5,
   "metadata": {},
   "outputs": [],
   "source": [
    "def print_binary_losses(condition, max_epoch=None):\n",
    "    models_path = \"/users/amtseng/att_priors/models/trained_models/binary/%s/\" % condition\n",
    "    \n",
    "    print(\"Best validation loss overall:\")\n",
    "    best_run, best_epoch, best_val, all_vals = get_best_metric_at_best_epoch(\n",
    "        models_path,\n",
    "        \"val_corr_losses\",\n",
    "        lambda values: np.mean(values),\n",
    "        lambda x, y: x < y,\n",
    "        max_epoch\n",
    "    )\n",
    "    print(\"\\tBest run: %s\" % best_run)\n",
    "    print(\"\\tBest epoch in run: %d\" % best_epoch)\n",
    "    print(\"\\tAssociated value: %s\" % best_val)\n",
    "    \n",
    "    print(\"Best epoch in each run:\")\n",
    "    for key in sorted(all_vals.keys(), key=lambda p: int(p[0])):\n",
    "        print(\"\\tRun %s, epoch %d: %6.3f\" % (key[0], key[1], all_vals[key]))\n",
    "        \n",
    "    print(\"All validation profile and prior losses:\")\n",
    "    for key in sorted(all_vals.keys(), key=lambda p: int(p[0])):\n",
    "        print(key[0])\n",
    "        metrics = import_metrics_json(models_path, key[0])\n",
    "        print(\"\\t\" + \" \".join([\"%6.3f\" % i for i in np.mean(metrics[\"val_batch_losses\"][\"values\"], axis=1)[:max_epoch]]))\n",
    "        print(\"\\t\" + \" \".join([\"%6.3f\" % i for i in np.mean(metrics[\"val_corr_losses\"][\"values\"], axis=1)[:max_epoch]]))\n",
    "        print(\"\\t\" + \" \".join([\"%6.3f\" % i for i in np.mean(metrics[\"val_att_losses\"][\"values\"], axis=1)[:max_epoch]]))\n",
    "    return all_vals"
   ]
  },
  {
   "cell_type": "code",
   "execution_count": 12,
   "metadata": {
    "scrolled": true
   },
   "outputs": [
    {
     "name": "stdout",
     "output_type": "stream",
     "text": [
      "Best validation loss overall:\n",
      "\tBest run: 2\n",
      "\tBest epoch in run: 2\n",
      "\tAssociated value: 0.2685592677134968\n",
      "Best epoch in each run:\n",
      "\tRun 1, epoch 2:  0.272\n",
      "\tRun 2, epoch 2:  0.269\n",
      "\tRun 3, epoch 2:  0.271\n",
      "\tRun 4, epoch 2:  0.269\n",
      "\tRun 5, epoch 2:  0.275\n",
      "\tRun 6, epoch 2:  0.274\n",
      "\tRun 7, epoch 2:  0.270\n",
      "\tRun 8, epoch 2:  0.272\n",
      "\tRun 9, epoch 1:  0.282\n",
      "\tRun 10, epoch 2:  0.279\n",
      "\tRun 11, epoch 2:  0.277\n",
      "All validation profile and prior losses:\n",
      "1\n",
      "\t 0.272  0.272  0.277  0.290  0.304\n",
      "\t 0.272  0.272  0.277  0.290  0.304\n",
      "\t 0.000  0.000  0.000  0.000  0.000\n",
      "2\n",
      "\t 0.274  0.269  0.279  0.290  0.308\n",
      "\t 0.274  0.269  0.279  0.290  0.308\n",
      "\t 0.000  0.000  0.000  0.000  0.000\n",
      "3\n",
      "\t 0.276  0.271  0.278  0.290  0.307\n",
      "\t 0.276  0.271  0.278  0.290  0.307\n",
      "\t 0.000  0.000  0.000  0.000  0.000\n",
      "4\n",
      "\t 0.271  0.269  0.278  0.293  0.303\n",
      "\t 0.271  0.269  0.278  0.293  0.303\n",
      "\t 0.000  0.000  0.000  0.000  0.000\n",
      "5\n",
      "\t 0.282  0.275  0.279  0.291  0.307\n",
      "\t 0.282  0.275  0.279  0.291  0.307\n",
      "\t 0.000  0.000  0.000  0.000  0.000\n",
      "6\n",
      "\t 0.278  0.274  0.277  0.295  0.306\n",
      "\t 0.278  0.274  0.277  0.295  0.306\n",
      "\t 0.000  0.000  0.000  0.000  0.000\n",
      "7\n",
      "\t 0.274  0.270  0.282  0.292  0.311\n",
      "\t 0.274  0.270  0.282  0.292  0.311\n",
      "\t 0.000  0.000  0.000  0.000  0.000\n",
      "8\n",
      "\t 0.274  0.272  0.276  0.290  0.300\n",
      "\t 0.274  0.272  0.276  0.290  0.300\n",
      "\t 0.000  0.000  0.000  0.000  0.000\n",
      "9\n",
      "\t 0.282  0.282  0.290  0.305  0.325\n",
      "\t 0.282  0.282  0.290  0.305  0.325\n",
      "\t 0.000  0.000  0.000  0.000  0.000\n",
      "10\n",
      "\t 0.281  0.279  0.287  0.296  0.309\n",
      "\t 0.281  0.279  0.287  0.296  0.309\n",
      "\t 0.000  0.000  0.000  0.000  0.000\n",
      "11\n",
      "\t 0.277  0.277\n",
      "\t 0.277  0.277\n",
      "\t 0.000  0.000\n"
     ]
    }
   ],
   "source": [
    "noprior_vals = print_binary_losses(\"SPI1\")"
   ]
  },
  {
   "cell_type": "code",
   "execution_count": 13,
   "metadata": {
    "scrolled": true
   },
   "outputs": [
    {
     "name": "stdout",
     "output_type": "stream",
     "text": [
      "Best validation loss overall:\n",
      "\tBest run: 3\n",
      "\tBest epoch in run: 7\n",
      "\tAssociated value: 0.2633235939465568\n",
      "Best epoch in each run:\n",
      "\tRun 1, epoch 7:  0.267\n",
      "\tRun 2, epoch 5:  0.271\n",
      "\tRun 3, epoch 7:  0.263\n",
      "All validation profile and prior losses:\n",
      "1\n",
      "\t 0.348  0.331  0.309  0.303  0.301  0.296  0.297  0.299  0.297  0.310  0.306  0.309  0.312  0.321\n",
      "\t 0.309  0.298  0.280  0.275  0.268  0.268  0.267  0.268  0.268  0.279  0.278  0.281  0.285  0.291\n",
      "\t 0.039  0.034  0.029  0.027  0.033  0.028  0.030  0.031  0.029  0.031  0.028  0.028  0.027  0.030\n",
      "2\n",
      "\t 0.333  0.311  0.313  0.316  0.301  0.303  0.305  0.316\n",
      "\t 0.299  0.280  0.282  0.278  0.271  0.272  0.277  0.283\n",
      "\t 0.035  0.031  0.031  0.038  0.030  0.031  0.028  0.033\n",
      "3\n",
      "\t 0.353  0.351  0.310  0.313  0.318  0.297  0.292  0.313  0.299  0.306  0.314  0.332\n",
      "\t 0.315  0.318  0.280  0.278  0.282  0.266  0.263  0.282  0.272  0.279  0.288  0.300\n",
      "\t 0.038  0.033  0.030  0.036  0.036  0.031  0.029  0.031  0.027  0.027  0.026  0.031\n"
     ]
    }
   ],
   "source": [
    "prior_vals = print_binary_losses(\"SPI1_prior\")"
   ]
  },
  {
   "cell_type": "code",
   "execution_count": 14,
   "metadata": {
    "scrolled": true
   },
   "outputs": [
    {
     "name": "stdout",
     "output_type": "stream",
     "text": [
      "2.390896686142628\n",
      "0.017039769454629528\n"
     ]
    },
    {
     "data": {
      "image/png": "[encoded data removed]",
      "text/plain": [
       "<Figure size 432x288 with 1 Axes>"
      ]
     },
     "metadata": {
      "needs_background": "light"
     },
     "output_type": "display_data"
    }
   ],
   "source": [
    "bin_num = 20\n",
    "plt.figure()\n",
    "plt.hist(\n",
    "    [np.array(list(noprior_vals.values())), np.array(list(prior_vals.values()))],\n",
    "    bin_num, histtype=\"bar\",\n",
    "    label=[\"No prior\", \"With prior\"], color=[\"red\", \"blue\"])\n",
    "title = \"Histogram of validation loss without/with priors\"\n",
    "title += \"\\nBPNet, %d/%d models without/with priors\" % (len(noprior_vals), len(prior_vals))\n",
    "title += \"\\nTraining on all peaks\"\n",
    "plt.title(title)\n",
    "plt.xlabel(\"Validation loss\")\n",
    "plt.legend()\n",
    "\n",
    "np_vals, p_vals = np.array(list(noprior_vals.values())), np.array(list(prior_vals.values()))\n",
    "t, p = scipy.stats.ttest_ind(np_vals, p_vals)\n",
    "print(t)\n",
    "print(p / 2)"
   ]
  }
 ],
 "metadata": {
  "kernelspec": {
   "display_name": "Python 3",
   "language": "python",
   "name": "python3"
  },
  "language_info": {
   "codemirror_mode": {
    "name": "ipython",
    "version": 3
   },
   "file_extension": ".py",
   "mimetype": "text/x-python",
   "name": "python",
   "nbconvert_exporter": "python",
   "pygments_lexer": "ipython3",
   "version": "3.7.4"
  }
 },
 "nbformat": 4,
 "nbformat_minor": 2
}

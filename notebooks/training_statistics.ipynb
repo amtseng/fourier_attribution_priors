{
 "cells": [
  {
   "cell_type": "code",
   "execution_count": 1,
   "metadata": {},
   "outputs": [],
   "source": [
    "import json\n",
    "import os\n",
    "import numpy as np\n",
    "import matplotlib.pyplot as plt\n",
    "import scipy.stats"
   ]
  },
  {
   "cell_type": "code",
   "execution_count": 2,
   "metadata": {},
   "outputs": [],
   "source": [
    "def import_metrics_json(models_path, run_num):\n",
    "    \"\"\"\n",
    "    Looks in {models_path}/{run_num}/metrics.json and returns the contents as a\n",
    "    Python dictionary. Returns None if the path does not exist.\n",
    "    \"\"\"\n",
    "    path = os.path.join(models_path, str(run_num), \"metrics.json\")\n",
    "    if not os.path.exists(path):\n",
    "        return None\n",
    "    with open(path, \"r\") as f:\n",
    "        return json.load(f)"
   ]
  },
  {
   "cell_type": "code",
   "execution_count": 3,
   "metadata": {},
   "outputs": [],
   "source": [
    "def get_best_metric(models_path, metric_name, reduce_func, compare_func):\n",
    "    \"\"\"\n",
    "    Given the path to a set of runs, determines the run with the best metric value,\n",
    "    for the given `metric_name`. For each run, the function `reduce_func` must take\n",
    "    the array of all values for that metric and return a (scalar) value to use for\n",
    "    comparison. The best metric value is determined by `metric_compare_func`, which\n",
    "    must take in two arguments, and return whether or not the _first_ one is better.\n",
    "    Returns the number of the run, the value associated with that run, and a dict of\n",
    "    all the values used for comparison.\n",
    "    \"\"\"\n",
    "    # Get the metrics, ignoring empty or nonexistent metrics.json files\n",
    "    metrics = {run_num : import_metrics_json(models_path, run_num) for run_num in os.listdir(models_path)}\n",
    "    metrics = {key : val for key, val in metrics.items() if val}  # Remove empties\n",
    "    \n",
    "    # Get the best value\n",
    "    best_run, best_val, all_vals = None, None, {}\n",
    "    for run_num in metrics.keys():\n",
    "        try:\n",
    "            val = reduce_func(metrics[run_num][metric_name][\"values\"])\n",
    "            all_vals[run_num] = val\n",
    "            if best_val is None or compare_func(val, best_val):\n",
    "                best_val, best_run = val, run_num\n",
    "        except Exception:\n",
    "            print(\"Warning: Was not able to compute values for run %s\" % run_num)\n",
    "            continue\n",
    "    return best_run, best_val, all_vals"
   ]
  },
  {
   "cell_type": "code",
   "execution_count": 4,
   "metadata": {},
   "outputs": [],
   "source": [
    "def get_best_metric_at_best_epoch(models_path, metric_name, reduce_func, compare_func):\n",
    "    \"\"\"\n",
    "    Given the path to a set of runs, determines the run with the best metric value,\n",
    "    for the given `metric_name`. For each run, the function `reduce_func` must take\n",
    "    the array of all values for that metric and return a (scalar) value FOR EACH\n",
    "    SUBARRAY/VALUE in the value array to use for comparison. The best metric value\n",
    "    is determined by `metric_compare_func`, which must take in two arguments, and\n",
    "    return whether or not the _first_ one is better.\n",
    "    Returns the number of the run, the (one-indexed) number of the epch, the value\n",
    "    associated with that run and epoch, and a dict of all the values used for\n",
    "    comparison (mapping pair of run number and epoch number to value).\n",
    "    \"\"\"\n",
    "    # Get the metrics, ignoring empty or nonexistent metrics.json files\n",
    "    metrics = {run_num : import_metrics_json(models_path, run_num) for run_num in os.listdir(models_path)}\n",
    "    metrics = {key : val for key, val in metrics.items() if val}  # Remove empties\n",
    "    \n",
    "    # Get the best value\n",
    "    best_run, best_epoch, best_val, all_vals = None, None, None, {}\n",
    "    for run_num in metrics.keys():\n",
    "        try:\n",
    "            # Find the best epoch within that run\n",
    "            best_epoch_in_run, best_val_in_run = None, None\n",
    "            for i, subarr in enumerate(metrics[run_num][metric_name][\"values\"]):\n",
    "                val = reduce_func(subarr)\n",
    "                if best_val_in_run is None or compare_func(val, best_val_in_run):\n",
    "                    best_epoch_in_run, best_val_in_run = i + 1, val\n",
    "            all_vals[(run_num, best_epoch_in_run)] = best_val_in_run\n",
    "            \n",
    "            # If the best value in the best epoch of the run is best so far, update\n",
    "            if best_val is None or compare_func(best_val_in_run, best_val):\n",
    "                best_run, best_epoch, best_val = run_num, best_epoch_in_run, best_val_in_run\n",
    "        except Exception:\n",
    "            print(\"Warning: Was not able to compute values for run %s\" % run_num)\n",
    "            continue\n",
    "    return best_run, best_epoch, best_val, all_vals"
   ]
  },
  {
   "cell_type": "code",
   "execution_count": 7,
   "metadata": {
    "scrolled": true
   },
   "outputs": [],
   "source": [
    "def print_validation_profile_and_prior_losses(condition):\n",
    "    models_path = \"/users/amtseng/att_priors/models/trained_models/profile/%s/\" % condition\n",
    "    \n",
    "    print(\"Best profile loss overall:\")\n",
    "    best_run, best_epoch, best_val, all_vals = get_best_metric_at_best_epoch(\n",
    "        models_path,\n",
    "        \"val_prof_corr_losses\",\n",
    "        lambda values: np.mean(values),\n",
    "        lambda x, y: x < y\n",
    "    )\n",
    "    print(\"\\tBest run: %s\" % best_run)\n",
    "    print(\"\\tBest epoch in run: %d\" % best_epoch)\n",
    "    print(\"\\tAssociated value: %s\" % best_val)\n",
    "    \n",
    "    print(\"Best epoch in each run:\")\n",
    "    for key in sorted(all_vals.keys(), key=lambda p: int(p[0])):\n",
    "        print(\"\\tRun %s, epoch %d: %6.2f\" % (key[0], key[1], all_vals[key]))\n",
    "        \n",
    "    print(\"All validation profile and prior losses:\")\n",
    "    for key in sorted(all_vals.keys(), key=lambda p: int(p[0])):\n",
    "        print(key[0])\n",
    "        metrics = import_metrics_json(models_path, key[0])\n",
    "        print(\"\\t\" + \" \".join([\"%6.2f\" % i for i in np.mean(metrics[\"train_prof_corr_losses\"][\"values\"], axis=1)]))\n",
    "        print(\"\\t\" + \" \".join([\"%6.2f\" % i for i in np.mean(metrics[\"val_prof_corr_losses\"][\"values\"], axis=1)]))\n",
    "        print(\"\\t\" + \" \".join([\"%6.4f\" % i for i in np.mean(metrics[\"val_att_losses\"][\"values\"], axis=1)]))\n",
    "    return all_vals"
   ]
  },
  {
   "cell_type": "code",
   "execution_count": 8,
   "metadata": {
    "scrolled": true
   },
   "outputs": [
    {
     "name": "stdout",
     "output_type": "stream",
     "text": [
      "Best profile loss overall:\n",
      "\tBest run: 8\n",
      "\tBest epoch in run: 10\n",
      "\tAssociated value: 85.18974167152687\n",
      "Best epoch in each run:\n",
      "\tRun 1, epoch 9:  85.39\n",
      "\tRun 2, epoch 7:  85.24\n",
      "\tRun 3, epoch 8:  85.57\n",
      "\tRun 4, epoch 7:  85.59\n",
      "\tRun 5, epoch 10:  85.96\n",
      "\tRun 6, epoch 9:  85.64\n",
      "\tRun 7, epoch 9:  85.54\n",
      "\tRun 8, epoch 10:  85.19\n",
      "\tRun 9, epoch 10:  85.37\n",
      "\tRun 10, epoch 9:  85.65\n",
      "\tRun 11, epoch 9:  85.39\n",
      "\tRun 12, epoch 9:  85.40\n",
      "\tRun 13, epoch 10:  85.97\n",
      "\tRun 14, epoch 10:  85.29\n",
      "\tRun 15, epoch 10:  85.42\n",
      "All validation profile and prior losses:\n",
      "1\n",
      "\t 95.14  88.02  86.81  86.35  86.12  85.97  85.87  85.81  85.74  85.68\n",
      "\t 88.08  86.73  86.07  85.85  85.62  85.52  85.54  85.48  85.39  85.43\n",
      "\t0.0000 0.0000 0.0000 0.0000 0.0000 0.0000 0.0000 0.0000 0.0000 0.0000\n",
      "2\n",
      "\t 91.23  86.87  86.23  85.94  85.74  85.64  85.57  85.49  85.43  85.40\n",
      "\t 87.47  86.15  85.79  85.47  85.41  85.29  85.24  85.30  85.28  85.33\n",
      "\t0.0000 0.0000 0.0000 0.0000 0.0000 0.0000 0.0000 0.0000 0.0000 0.0000\n",
      "3\n",
      "\t 93.98  87.21  86.39  86.06  85.84  85.67  85.59  85.48  85.46  85.39\n",
      "\t 87.83  86.53  86.19  85.85  85.75  85.71  85.64  85.57  85.59  85.69\n",
      "\t0.0000 0.0000 0.0000 0.0000 0.0000 0.0000 0.0000 0.0000 0.0000 0.0000\n",
      "4\n",
      "\t 92.61  87.37  86.63  86.29  86.08  85.94  85.85  85.78  85.71  85.66\n",
      "\t 87.69  86.54  86.15  85.89  85.73  85.76  85.59  85.71  85.69  85.61\n",
      "\t0.0000 0.0000 0.0000 0.0000 0.0000 0.0000 0.0000 0.0000 0.0000 0.0000\n",
      "5\n",
      "\t 93.05  87.05  86.41  86.10  85.91  85.78  85.66  85.60  85.51  85.48\n",
      "\t 88.06  86.97  86.74  86.40  86.44  86.22  86.14  86.19  85.98  85.96\n",
      "\t0.0000 0.0000 0.0000 0.0000 0.0000 0.0000 0.0000 0.0000 0.0000 0.0000\n",
      "6\n",
      "\t 93.84  87.39  86.70  86.31  86.06  85.93  85.81  85.72  85.68  85.64\n",
      "\t 88.45  86.76  86.67  86.10  85.92  85.94  85.85  85.96  85.64  85.69\n",
      "\t0.0000 0.0000 0.0000 0.0000 0.0000 0.0000 0.0000 0.0000 0.0000 0.0000\n",
      "7\n",
      "\t 96.97  87.50  86.55  86.18  85.98  85.85  85.76  85.67  85.64  85.58\n",
      "\t 88.09  86.98  86.20  85.82  85.79  85.79  85.67  85.57  85.54  85.64\n",
      "\t0.0000 0.0000 0.0000 0.0000 0.0000 0.0000 0.0000 0.0000 0.0000 0.0000\n",
      "8\n",
      "\t 94.24  87.35  86.50  86.17  85.94  85.81  85.71  85.64  85.58  85.54\n",
      "\t 87.36  86.37  85.82  85.69  85.50  85.34  85.39  85.31  85.25  85.19\n",
      "\t0.0000 0.0000 0.0000 0.0000 0.0000 0.0000 0.0000 0.0000 0.0000 0.0000\n",
      "9\n",
      "\t 90.33  86.77  86.25  85.98  85.80  85.68  85.60  85.52  85.49  85.45\n",
      "\t 87.12  86.37  86.01  85.90  85.75  85.54  85.70  85.53  85.49  85.37\n",
      "\t0.0000 0.0000 0.0000 0.0000 0.0000 0.0000 0.0000 0.0000 0.0000 0.0000\n",
      "10\n",
      "\t 93.47  87.20  86.42  86.08  85.90  85.78  85.68  85.63  85.56  85.51\n",
      "\t 87.68  86.92  86.21  86.04  85.98  85.89  85.73  85.82  85.65  85.69\n",
      "\t0.0000 0.0000 0.0000 0.0000 0.0000 0.0000 0.0000 0.0000 0.0000 0.0000\n",
      "11\n",
      "\t 93.22  87.34  86.56  86.22  85.97  85.86  85.76  85.68  85.60  85.56\n",
      "\t 87.88  86.51  86.08  85.74  85.75  85.65  85.47  85.45  85.39  85.47\n",
      "\t0.0000 0.0000 0.0000 0.0000 0.0000 0.0000 0.0000 0.0000 0.0000 0.0000\n",
      "12\n",
      "\t 91.98  87.04  86.31  86.00  85.83  85.69  85.60  85.54  85.48  85.42\n",
      "\t 87.40  86.15  85.84  85.63  85.55  85.57  85.43  85.42  85.40  85.41\n",
      "\t0.0000 0.0000 0.0000 0.0000 0.0000 0.0000 0.0000 0.0000 0.0000 0.0000\n",
      "13\n",
      "\t 94.06  88.68  87.38  86.74  86.39  86.19  86.06  85.95  85.86  85.80\n",
      "\t 89.49  87.87  87.04  86.58  86.36  86.28  86.14  86.08  86.05  85.97\n",
      "\t0.0000 0.0000 0.0000 0.0000 0.0000 0.0000 0.0000 0.0000 0.0000 0.0000\n",
      "14\n",
      "\t 91.62  87.43  86.71  86.45  86.23  86.13  86.02  85.95  85.90  85.84\n",
      "\t 87.21  86.17  86.00  85.72  85.51  85.51  85.42  85.43  85.44  85.29\n",
      "\t0.0000 0.0000 0.0000 0.0000 0.0000 0.0000 0.0000 0.0000 0.0000 0.0000\n",
      "15\n",
      "\t 91.96  87.05  86.37  86.05  85.85  85.72  85.63  85.58  85.53  85.47\n",
      "\t 87.47  86.29  86.12  85.90  85.68  85.61  85.69  85.59  85.50  85.42\n",
      "\t0.0000 0.0000 0.0000 0.0000 0.0000 0.0000 0.0000 0.0000 0.0000 0.0000\n"
     ]
    }
   ],
   "source": [
    "noprior_vals = print_validation_profile_and_prior_losses(\"SPI1\")"
   ]
  },
  {
   "cell_type": "code",
   "execution_count": 9,
   "metadata": {
    "scrolled": true
   },
   "outputs": [
    {
     "name": "stdout",
     "output_type": "stream",
     "text": [
      "Best profile loss overall:\n",
      "\tBest run: 3\n",
      "\tBest epoch in run: 10\n",
      "\tAssociated value: 85.32390595895272\n",
      "Best epoch in each run:\n",
      "\tRun 1, epoch 10:  85.80\n",
      "\tRun 2, epoch 9:  85.98\n",
      "\tRun 3, epoch 10:  85.32\n",
      "\tRun 4, epoch 10:  85.70\n",
      "\tRun 5, epoch 10:  86.33\n",
      "\tRun 6, epoch 9:  85.95\n",
      "\tRun 7, epoch 4:  86.53\n",
      "All validation profile and prior losses:\n",
      "1\n",
      "\t 92.91  87.50  86.82  86.52  86.33  86.19  86.09  86.04  85.97  85.90\n",
      "\t 87.73  86.90  86.60  86.21  86.21  86.05  86.06  85.83  85.96  85.80\n",
      "\t0.0481 0.0408 0.0387 0.0365 0.0360 0.0349 0.0332 0.0342 0.0329 0.0317\n",
      "2\n",
      "\t 95.55  87.99  87.04  86.63  86.42  86.28  86.17  86.09  86.06  85.99\n",
      "\t 88.50  87.27  86.65  86.42  86.41  86.08  86.05  86.12  85.98  86.00\n",
      "\t0.0464 0.0417 0.0395 0.0367 0.0369 0.0348 0.0347 0.0336 0.0333 0.0330\n",
      "3\n",
      "\t 98.92  88.31  87.13  86.66  86.41  86.29  86.19  86.12  86.07  86.02\n",
      "\t 88.38  86.86  86.03  86.08  85.63  85.60  85.55  85.51  85.34  85.32\n",
      "\t0.0477 0.0425 0.0391 0.0368 0.0361 0.0348 0.0339 0.0335 0.0335 0.0331\n",
      "4\n",
      "\t 97.02  88.45  87.19  86.67  86.42  86.28  86.17  86.09  85.98  85.93\n",
      "\t 88.88  87.37  86.64  86.34  86.08  85.95  85.86  85.79  85.78  85.70\n",
      "\t0.0507 0.0434 0.0391 0.0365 0.0357 0.0347 0.0336 0.0331 0.0333 0.0326\n",
      "5\n",
      "\t 92.92  87.44  86.73  86.44  86.22  86.11  85.99  85.97  85.89  85.82\n",
      "\t 88.43  87.46  86.96  86.76  86.66  86.52  86.55  86.54  86.47  86.33\n",
      "\t0.0478 0.0411 0.0383 0.0351 0.0357 0.0338 0.0337 0.0332 0.0325 0.0319\n",
      "6\n",
      "\t 95.97  87.91  86.87  86.45  86.24  86.12  86.02  85.93  85.88  85.84\n",
      "\t 89.05  87.19  86.52  86.56  86.24  86.10  86.11  85.96  85.95  85.99\n",
      "\t0.0491 0.0429 0.0401 0.0381 0.0362 0.0358 0.0342 0.0337 0.0333 0.0323\n",
      "7\n",
      "\t 98.49  88.09  87.19  86.72\n",
      "\t 88.63  87.35  86.76  86.53\n",
      "\t0.0472 0.0413 0.0384 0.0375\n"
     ]
    }
   ],
   "source": [
    "prior_vals = print_validation_profile_and_prior_losses(\"SPI1_prior\")"
   ]
  },
  {
   "cell_type": "code",
   "execution_count": 12,
   "metadata": {},
   "outputs": [],
   "source": [
    "def print_validation_and_prior_losses(condition):\n",
    "    models_path = \"/users/amtseng/att_priors/models/trained_models/binary/%s/\" % condition\n",
    "    \n",
    "    print(\"Best validation loss overall:\")\n",
    "    best_run, best_epoch, best_val, all_vals = get_best_metric_at_best_epoch(\n",
    "        models_path,\n",
    "        \"val_corr_losses\",\n",
    "        lambda values: np.mean(values),\n",
    "        lambda x, y: x < y\n",
    "    )\n",
    "    print(\"\\tBest run: %s\" % best_run)\n",
    "    print(\"\\tBest epoch in run: %d\" % best_epoch)\n",
    "    print(\"\\tAssociated value: %s\" % best_val)\n",
    "    \n",
    "    print(\"Best epoch in each run:\")\n",
    "    for key in sorted(all_vals.keys(), key=lambda p: int(p[0])):\n",
    "        print(\"\\tRun %s, epoch %d: %6.3f\" % (key[0], key[1], all_vals[key]))\n",
    "        \n",
    "    print(\"All validation profile and prior losses:\")\n",
    "    for key in sorted(all_vals.keys(), key=lambda p: int(p[0])):\n",
    "        print(key[0])\n",
    "        metrics = import_metrics_json(models_path, key[0])\n",
    "        print(\"\\t\" + \" \".join([\"%6.3f\" % i for i in np.mean(metrics[\"train_corr_losses\"][\"values\"], axis=1)]))\n",
    "        print(\"\\t\" + \" \".join([\"%6.3f\" % i for i in np.mean(metrics[\"val_corr_losses\"][\"values\"], axis=1)]))\n",
    "        print(\"\\t\" + \" \".join([\"%6.3f\" % i for i in np.mean(metrics[\"val_att_losses\"][\"values\"], axis=1)]))\n",
    "    return all_vals"
   ]
  },
  {
   "cell_type": "code",
   "execution_count": 14,
   "metadata": {
    "scrolled": true
   },
   "outputs": [
    {
     "name": "stdout",
     "output_type": "stream",
     "text": [
      "Best validation loss overall:\n",
      "\tBest run: 12\n",
      "\tBest epoch in run: 2\n",
      "\tAssociated value: 0.26864333367058446\n",
      "Best epoch in each run:\n",
      "\tRun 1, epoch 2:  0.270\n",
      "\tRun 2, epoch 2:  0.277\n",
      "\tRun 3, epoch 2:  0.274\n",
      "\tRun 4, epoch 2:  0.279\n",
      "\tRun 5, epoch 1:  0.281\n",
      "\tRun 6, epoch 2:  0.273\n",
      "\tRun 7, epoch 1:  0.281\n",
      "\tRun 8, epoch 2:  0.278\n",
      "\tRun 9, epoch 2:  0.275\n",
      "\tRun 10, epoch 2:  0.280\n",
      "\tRun 11, epoch 2:  0.270\n",
      "\tRun 12, epoch 2:  0.269\n",
      "\tRun 13, epoch 2:  0.270\n",
      "\tRun 14, epoch 2:  0.275\n",
      "All validation profile and prior losses:\n",
      "1\n",
      "\t 0.285  0.236  0.216  0.201  0.190  0.180  0.172  0.167  0.161  0.157\n",
      "\t 0.273  0.270  0.277  0.291  0.305  0.326  0.335  0.355  0.362  0.381\n",
      "\t 0.000  0.000  0.000  0.000  0.000  0.000  0.000  0.000  0.000  0.000\n",
      "2\n",
      "\t 0.289  0.240  0.220  0.205  0.194  0.185  0.177  0.171  0.166  0.161\n",
      "\t 0.282  0.277  0.286  0.299  0.316  0.320  0.337  0.348  0.361  0.378\n",
      "\t 0.000  0.000  0.000  0.000  0.000  0.000  0.000  0.000  0.000  0.000\n",
      "3\n",
      "\t 0.288  0.240  0.221  0.206  0.196  0.187  0.180  0.174  0.169  0.164\n",
      "\t 0.279  0.274  0.284  0.297  0.311  0.327  0.340  0.348  0.361  0.387\n",
      "\t 0.000  0.000  0.000  0.000  0.000  0.000  0.000  0.000  0.000  0.000\n",
      "4\n",
      "\t 0.288  0.243  0.223  0.209  0.197  0.188  0.180  0.173  0.168  0.163\n",
      "\t 0.279  0.279  0.292  0.296  0.310  0.327  0.340  0.356  0.372  0.374\n",
      "\t 0.000  0.000  0.000  0.000  0.000  0.000  0.000  0.000  0.000  0.000\n",
      "5\n",
      "\t 0.293  0.243  0.222  0.205  0.192  0.182  0.174  0.168  0.163  0.158\n",
      "\t 0.281  0.283  0.284  0.292  0.312  0.327  0.347  0.360  0.379  0.389\n",
      "\t 0.000  0.000  0.000  0.000  0.000  0.000  0.000  0.000  0.000  0.000\n",
      "6\n",
      "\t 0.287  0.237  0.218  0.204  0.193  0.183  0.176  0.170  0.164  0.160\n",
      "\t 0.277  0.273  0.285  0.294  0.309  0.322  0.340  0.351  0.375  0.383\n",
      "\t 0.000  0.000  0.000  0.000  0.000  0.000  0.000  0.000  0.000  0.000\n",
      "7\n",
      "\t 0.290  0.243  0.226  0.212  0.202  0.194  0.186  0.177  0.171  0.166\n",
      "\t 0.281  0.281  0.288  0.305  0.317  0.334  0.339  0.354  0.372  0.388\n",
      "\t 0.000  0.000  0.000  0.000  0.000  0.000  0.000  0.000  0.000  0.000\n",
      "8\n",
      "\t 0.287  0.242  0.223  0.208  0.197  0.187  0.179  0.172  0.167  0.162\n",
      "\t 0.280  0.278  0.284  0.298  0.312  0.324  0.350  0.357  0.375  0.385\n",
      "\t 0.000  0.000  0.000  0.000  0.000  0.000  0.000  0.000  0.000  0.000\n",
      "9\n",
      "\t 0.287  0.239  0.220  0.205  0.194  0.185  0.180  0.172  0.167  0.162\n",
      "\t 0.278  0.275  0.286  0.301  0.305  0.327  0.330  0.349  0.352  0.375\n",
      "\t 0.000  0.000  0.000  0.000  0.000  0.000  0.000  0.000  0.000  0.000\n",
      "10\n",
      "\t 0.291  0.243  0.226  0.213  0.201  0.191  0.184  0.177  0.171  0.166\n",
      "\t 0.282  0.280  0.294  0.302  0.316  0.334  0.349  0.362  0.373  0.382\n",
      "\t 0.000  0.000  0.000  0.000  0.000  0.000  0.000  0.000  0.000  0.000\n",
      "11\n",
      "\t 0.285  0.233  0.214  0.200  0.189  0.180  0.173  0.167  0.162  0.157\n",
      "\t 0.271  0.270  0.279  0.287  0.302  0.325  0.330  0.347  0.359  0.373\n",
      "\t 0.000  0.000  0.000  0.000  0.000  0.000  0.000  0.000  0.000  0.000\n",
      "12\n",
      "\t 0.286  0.236  0.217  0.202  0.191  0.182  0.174  0.168  0.162  0.158\n",
      "\t 0.276  0.269  0.278  0.294  0.307  0.324  0.336  0.353  0.367  0.384\n",
      "\t 0.000  0.000  0.000  0.000  0.000  0.000  0.000  0.000  0.000  0.000\n",
      "13\n",
      "\t 0.288  0.237  0.216  0.202  0.190  0.181  0.173  0.167  0.161  0.157\n",
      "\t 0.276  0.270  0.278  0.292  0.304  0.328  0.336  0.346  0.362  0.384\n",
      "\t 0.000  0.000  0.000  0.000  0.000  0.000  0.000  0.000  0.000  0.000\n",
      "14\n",
      "\t 0.284  0.236  0.215  0.200\n",
      "\t 0.277  0.275  0.279  0.289\n",
      "\t 0.000  0.000  0.000  0.000\n"
     ]
    }
   ],
   "source": [
    "noprior_vals = print_validation_and_prior_losses(\"SPI1\")"
   ]
  },
  {
   "cell_type": "code",
   "execution_count": 16,
   "metadata": {
    "scrolled": true
   },
   "outputs": [
    {
     "name": "stdout",
     "output_type": "stream",
     "text": [
      "Best validation loss overall:\n",
      "\tBest run: 1\n",
      "\tBest epoch in run: 6\n",
      "\tAssociated value: 0.26952209825107726\n",
      "Best epoch in each run:\n",
      "\tRun 1, epoch 6:  0.270\n",
      "\tRun 2, epoch 3:  0.280\n",
      "All validation profile and prior losses:\n",
      "1\n",
      "\t 0.312  0.256  0.253  0.241  0.230  0.221  0.213  0.211  0.205  0.200\n",
      "\t 0.287  0.317  0.279  0.274  0.274  0.270  0.274  0.270  0.278  0.284\n",
      "\t 0.029  0.052  0.036  0.040  0.031  0.030  0.033  0.034  0.032  0.032\n",
      "2\n",
      "\t 0.330  0.278  0.261\n",
      "\t 0.304  0.287  0.280\n",
      "\t 0.033  0.030  0.028\n"
     ]
    }
   ],
   "source": [
    "prior_vals = print_validation_and_prior_losses(\"SPI1_prior\")"
   ]
  },
  {
   "cell_type": "code",
   "execution_count": 17,
   "metadata": {
    "scrolled": true
   },
   "outputs": [
    {
     "data": {
      "text/plain": [
       "<matplotlib.legend.Legend at 0x7f7ec8bd5fd0>"
      ]
     },
     "execution_count": 17,
     "metadata": {},
     "output_type": "execute_result"
    },
    {
     "data": {
      "image/png": "[encoded data removed]",
      "text/plain": [
       "<Figure size 432x288 with 1 Axes>"
      ]
     },
     "metadata": {
      "needs_background": "light"
     },
     "output_type": "display_data"
    }
   ],
   "source": [
    "bin_num = 20\n",
    "plt.figure()\n",
    "plt.hist(\n",
    "    [np.array(list(noprior_vals.values())), np.array(list(prior_vals.values()))],\n",
    "    bin_num, histtype=\"bar\",\n",
    "    label=[\"No prior\", \"With prior\"], color=[\"red\", \"blue\"])\n",
    "title = \"Histogram of validation loss\"\n",
    "title += \"\\nTraining on only 1% of peaks\"\n",
    "plt.title(title)\n",
    "plt.xlabel(\"Validation profile loss\")\n",
    "plt.legend()"
   ]
  },
  {
   "cell_type": "code",
   "execution_count": 18,
   "metadata": {},
   "outputs": [
    {
     "name": "stdout",
     "output_type": "stream",
     "text": [
      "0.11280479867322166\n",
      "0.45589343351802236\n"
     ]
    }
   ],
   "source": [
    "np_vals, p_vals = np.array(list(noprior_vals.values())), np.array(list(prior_vals.values()))\n",
    "t, p = scipy.stats.ttest_ind(np_vals, p_vals)\n",
    "print(t)\n",
    "print(p / 2)"
   ]
  }
 ],
 "metadata": {
  "kernelspec": {
   "display_name": "Python 3",
   "language": "python",
   "name": "python3"
  },
  "language_info": {
   "codemirror_mode": {
    "name": "ipython",
    "version": 3
   },
   "file_extension": ".py",
   "mimetype": "text/x-python",
   "name": "python",
   "nbconvert_exporter": "python",
   "pygments_lexer": "ipython3",
   "version": "3.7.4"
  }
 },
 "nbformat": 4,
 "nbformat_minor": 2
}

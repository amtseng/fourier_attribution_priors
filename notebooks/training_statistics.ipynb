{
 "cells": [
  {
   "cell_type": "code",
   "execution_count": 1,
   "metadata": {},
   "outputs": [],
   "source": [
    "import json\n",
    "import os\n",
    "import numpy as np"
   ]
  },
  {
   "cell_type": "code",
   "execution_count": 2,
   "metadata": {},
   "outputs": [],
   "source": [
    "def import_metrics_json(models_path, run_num):\n",
    "    \"\"\"\n",
    "    Looks in {models_path}/{run_num}/metrics.json and returns the contents as a\n",
    "    Python dictionary. Returns None if the path does not exist.\n",
    "    \"\"\"\n",
    "    path = os.path.join(models_path, str(run_num), \"metrics.json\")\n",
    "    if not os.path.exists(path):\n",
    "        return None\n",
    "    with open(path, \"r\") as f:\n",
    "        return json.load(f)"
   ]
  },
  {
   "cell_type": "code",
   "execution_count": 3,
   "metadata": {},
   "outputs": [],
   "source": [
    "def get_best_metric(models_path, metric_name, reduce_func, compare_func):\n",
    "    \"\"\"\n",
    "    Given the path to a set of runs, determines the run with the best metric value,\n",
    "    for the given `metric_name`. For each run, the function `reduce_func` must take\n",
    "    the array of all values for that metric and return a (scalar) value to use for\n",
    "    comparison. The best metric value is determined by `metric_compare_func`, which\n",
    "    must take in two arguments, and return whether or not the _first_ one is better.\n",
    "    Returns the number of the run, the value associated with that run, and a dict of\n",
    "    all the values used for comparison.\n",
    "    \"\"\"\n",
    "    # Get the metrics, ignoring empty or nonexistent metrics.json files\n",
    "    metrics = {run_num : import_metrics_json(models_path, run_num) for run_num in os.listdir(models_path)}\n",
    "    metrics = {key : val for key, val in metrics.items() if val}  # Remove empties\n",
    "    \n",
    "    # Get the best value\n",
    "    best_run, best_val, all_vals = None, None, {}\n",
    "    for run_num in metrics.keys():\n",
    "        try:\n",
    "            val = reduce_func(metrics[run_num][metric_name][\"values\"])\n",
    "            all_vals[run_num] = val\n",
    "            if best_val is None or compare_func(val, best_val):\n",
    "                best_val, best_run = val, run_num\n",
    "        except Exception:\n",
    "            print(\"Warning: Was not able to compute values for run %s\" % run_num)\n",
    "            continue\n",
    "    return best_run, best_val, all_vals"
   ]
  },
  {
   "cell_type": "code",
   "execution_count": 4,
   "metadata": {},
   "outputs": [],
   "source": [
    "def get_best_metric_at_best_epoch(models_path, metric_name, reduce_func, compare_func):\n",
    "    \"\"\"\n",
    "    Given the path to a set of runs, determines the run with the best metric value,\n",
    "    for the given `metric_name`. For each run, the function `reduce_func` must take\n",
    "    the array of all values for that metric and return a (scalar) value FOR EACH\n",
    "    SUBARRAY/VALUE in the value array to use for comparison. The best metric value\n",
    "    is determined by `metric_compare_func`, which must take in two arguments, and\n",
    "    return whether or not the _first_ one is better.\n",
    "    Returns the number of the run, the (one-indexed) number of the epch, the value\n",
    "    associated with that run and epoch, and a dict of all the values used for\n",
    "    comparison (mapping pair of run number and epoch number to value).\n",
    "    \"\"\"\n",
    "    # Get the metrics, ignoring empty or nonexistent metrics.json files\n",
    "    metrics = {run_num : import_metrics_json(models_path, run_num) for run_num in os.listdir(models_path)}\n",
    "    metrics = {key : val for key, val in metrics.items() if val}  # Remove empties\n",
    "    \n",
    "    # Get the best value\n",
    "    best_run, best_epoch, best_val, all_vals = None, None, None, {}\n",
    "    for run_num in metrics.keys():\n",
    "        try:\n",
    "            # Find the best epoch within that run\n",
    "            best_epoch_in_run, best_val_in_run = None, None\n",
    "            for i, subarr in enumerate(metrics[run_num][metric_name][\"values\"]):\n",
    "                val = reduce_func(subarr)\n",
    "                if best_val_in_run is None or compare_func(val, best_val_in_run):\n",
    "                    best_epoch_in_run, best_val_in_run = i + 1, val\n",
    "            all_vals[(run_num, best_epoch_in_run)] = best_val_in_run\n",
    "            \n",
    "            # If the best value in the best epoch of the run is best so far, update\n",
    "            if best_val is None or compare_func(best_val_in_run, best_val):\n",
    "                best_run, best_epoch, best_val = run_num, best_epoch_in_run, best_val_in_run\n",
    "        except Exception:\n",
    "            print(\"Warning: Was not able to compute values for run %s\" % run_num)\n",
    "            continue\n",
    "    return best_run, best_epoch, best_val, all_vals"
   ]
  },
  {
   "cell_type": "code",
   "execution_count": 5,
   "metadata": {
    "scrolled": true
   },
   "outputs": [],
   "source": [
    "def print_validation_profile_and_prior_losses(condition):\n",
    "    models_path = \"/users/amtseng/att_priors/models/trained_models/profile_models/%s/\" % condition\n",
    "    \n",
    "    print(\"Best profile loss overall:\")\n",
    "    best_run, best_epoch, best_val, all_vals = get_best_metric_at_best_epoch(\n",
    "        models_path,\n",
    "        \"val_prof_corr_losses\",\n",
    "        lambda values: np.mean(values),\n",
    "        lambda x, y: x < y\n",
    "    )\n",
    "    print(\"\\tBest run: %s\" % best_run)\n",
    "    print(\"\\tBest epoch in run: %d\" % best_epoch)\n",
    "    print(\"\\tAssociated value: %s\" % best_val)\n",
    "    \n",
    "    print(\"Best epoch in each run:\")\n",
    "    for key in sorted(all_vals.keys(), key=lambda p: int(p[0])):\n",
    "        print(\"\\tRun %s, epoch %d: %6.2f\" % (key[0], key[1], all_vals[key]))\n",
    "        \n",
    "    print(\"All validation profile and prior losses:\")\n",
    "    for key in sorted(all_vals.keys(), key=lambda p: int(p[0])):\n",
    "        print(key[0])\n",
    "        metrics = import_metrics_json(models_path, key[0])\n",
    "        print(\"\\t\" + \" \".join([\"%6.2f\" % i for i in np.mean(metrics[\"train_prof_corr_losses\"][\"values\"], axis=1)]))\n",
    "        print(\"\\t\" + \" \".join([\"%6.2f\" % i for i in np.mean(metrics[\"val_prof_corr_losses\"][\"values\"], axis=1)]))\n",
    "        print(\"\\t\" + \" \".join([\"%6.4f\" % i for i in np.mean(metrics[\"val_pos_att_losses\"][\"values\"], axis=1)]))\n",
    "    return all_vals"
   ]
  },
  {
   "cell_type": "code",
   "execution_count": 9,
   "metadata": {
    "scrolled": true
   },
   "outputs": [
    {
     "name": "stdout",
     "output_type": "stream",
     "text": [
      "Best profile loss overall:\n",
      "\tBest run: 3\n",
      "\tBest epoch in run: 9\n",
      "\tAssociated value: 143.4285297817654\n",
      "Best epoch in each run:\n",
      "\tRun 1, epoch 10: 143.46\n",
      "\tRun 2, epoch 8: 143.46\n",
      "\tRun 3, epoch 9: 143.43\n",
      "\tRun 4, epoch 10: 143.47\n",
      "\tRun 5, epoch 10: 143.44\n",
      "\tRun 6, epoch 10: 143.84\n",
      "\tRun 7, epoch 10: 143.70\n",
      "\tRun 8, epoch 10: 143.53\n",
      "\tRun 9, epoch 8: 143.57\n",
      "\tRun 10, epoch 10: 143.55\n",
      "\tRun 11, epoch 10: 144.05\n",
      "\tRun 12, epoch 10: 143.55\n",
      "\tRun 13, epoch 2: 147.85\n",
      "All validation profile and prior losses:\n",
      "1\n",
      "\t164.24 150.25 147.88 146.85 146.22 145.87 145.54 145.37 145.21 145.05\n",
      "\t149.78 147.24 145.72 144.75 144.37 144.17 143.81 143.66 143.59 143.46\n",
      "\t0.0000 0.0000 0.0000 0.0000 0.0000 0.0000 0.0000 0.0000 0.0000 0.0000\n",
      "2\n",
      "\t161.94 150.33 148.17 146.87 146.19 145.79 145.44 145.24 145.06 144.89\n",
      "\t150.56 146.90 145.74 144.60 144.20 144.10 143.85 143.46 143.56 143.82\n",
      "\t0.0000 0.0000 0.0000 0.0000 0.0000 0.0000 0.0000 0.0000 0.0000 0.0000\n",
      "3\n",
      "\t158.91 149.29 147.89 146.80 146.28 145.89 145.56 145.29 145.12 145.00\n",
      "\t149.17 147.04 146.51 144.97 144.30 144.06 143.95 143.71 143.43 143.72\n",
      "\t0.0000 0.0000 0.0000 0.0000 0.0000 0.0000 0.0000 0.0000 0.0000 0.0000\n",
      "4\n",
      "\t162.38 150.74 148.39 146.95 146.15 145.71 145.42 145.18 144.99 144.87\n",
      "\t151.36 147.83 145.73 144.84 144.31 143.95 143.86 143.63 143.49 143.47\n",
      "\t0.0000 0.0000 0.0000 0.0000 0.0000 0.0000 0.0000 0.0000 0.0000 0.0000\n",
      "5\n",
      "\t161.45 149.22 147.27 146.44 145.88 145.59 145.34 145.16 145.00 144.87\n",
      "\t149.33 146.03 145.24 144.28 144.01 143.83 143.62 143.62 143.57 143.44\n",
      "\t0.0000 0.0000 0.0000 0.0000 0.0000 0.0000 0.0000 0.0000 0.0000 0.0000\n",
      "6\n",
      "\t159.79 150.30 148.13 147.04 146.59 146.14 145.82 145.57 145.43 145.28\n",
      "\t150.76 147.14 145.68 145.02 144.71 144.22 144.15 143.89 143.90 143.84\n",
      "\t0.0000 0.0000 0.0000 0.0000 0.0000 0.0000 0.0000 0.0000 0.0000 0.0000\n",
      "7\n",
      "\t160.72 150.67 148.45 147.11 146.59 146.10 145.79 145.56 145.34 145.25\n",
      "\t151.18 148.45 146.01 145.22 144.66 144.56 144.10 143.98 143.82 143.70\n",
      "\t0.0000 0.0000 0.0000 0.0000 0.0000 0.0000 0.0000 0.0000 0.0000 0.0000\n",
      "8\n",
      "\t162.78 150.04 148.17 146.94 146.43 145.92 145.65 145.41 145.23 145.10\n",
      "\t150.13 146.85 145.57 145.31 145.59 144.24 143.89 144.09 143.71 143.53\n",
      "\t0.0000 0.0000 0.0000 0.0000 0.0000 0.0000 0.0000 0.0000 0.0000 0.0000\n",
      "9\n",
      "\t160.23 149.31 147.46 146.65 146.07 145.68 145.44 145.24 145.07 144.97\n",
      "\t149.80 146.08 145.19 144.61 144.14 143.89 143.78 143.57 143.75 143.59\n",
      "\t0.0000 0.0000 0.0000 0.0000 0.0000 0.0000 0.0000 0.0000 0.0000 0.0000\n",
      "10\n",
      "\t164.60 150.07 148.17 146.95 146.29 145.83 145.56 145.32 145.18 145.05\n",
      "\t150.44 148.32 145.35 145.06 144.48 143.95 143.80 143.71 143.61 143.55\n",
      "\t0.0000 0.0000 0.0000 0.0000 0.0000 0.0000 0.0000 0.0000 0.0000 0.0000\n",
      "11\n",
      "\t166.32 153.06 151.23 149.45 148.12 147.04 146.57 146.16 145.83 145.65\n",
      "\t152.91 150.90 149.28 147.25 145.91 145.25 145.10 144.49 144.18 144.05\n",
      "\t0.0000 0.0000 0.0000 0.0000 0.0000 0.0000 0.0000 0.0000 0.0000 0.0000\n",
      "12\n",
      "\t166.24 150.10 147.94 146.94 146.22 145.83 145.59 145.37 145.17 145.07\n",
      "\t151.66 146.60 145.67 144.81 144.37 144.08 143.91 143.72 143.55 143.55\n",
      "\t0.0000 0.0000 0.0000 0.0000 0.0000 0.0000 0.0000 0.0000 0.0000 0.0000\n",
      "13\n",
      "\t161.46 150.83 148.59\n",
      "\t151.26 147.85\n",
      "\t0.0000 0.0000\n"
     ]
    }
   ],
   "source": [
    "noprior_vals = print_validation_profile_and_prior_losses(\"SPI1_noneg\")"
   ]
  },
  {
   "cell_type": "code",
   "execution_count": 10,
   "metadata": {
    "scrolled": true
   },
   "outputs": [
    {
     "name": "stdout",
     "output_type": "stream",
     "text": [
      "Best profile loss overall:\n",
      "\tBest run: 1\n",
      "\tBest epoch in run: 10\n",
      "\tAssociated value: 144.08977644178603\n",
      "Best epoch in each run:\n",
      "\tRun 1, epoch 10: 144.09\n",
      "\tRun 2, epoch 10: 144.21\n",
      "\tRun 3, epoch 10: 144.23\n",
      "\tRun 4, epoch 10: 144.20\n",
      "\tRun 5, epoch 10: 144.30\n",
      "\tRun 6, epoch 10: 144.18\n",
      "\tRun 7, epoch 1: 149.97\n",
      "All validation profile and prior losses:\n",
      "1\n",
      "\t162.14 150.00 148.07 147.25 146.74 146.45 146.20 145.95 145.81 145.65\n",
      "\t149.11 146.98 146.24 145.27 144.83 144.48 144.34 144.52 144.29 144.09\n",
      "\t0.1960 0.0952 0.0818 0.0718 0.0661 0.0618 0.0597 0.0542 0.0557 0.0532\n",
      "2\n",
      "\t163.46 151.41 148.93 147.69 147.13 146.75 146.49 146.24 146.11 145.97\n",
      "\t151.43 148.30 146.03 145.95 145.02 144.84 144.89 144.34 144.31 144.21\n",
      "\t0.2752 0.0934 0.0818 0.0716 0.0683 0.0647 0.0602 0.0613 0.0570 0.0541\n",
      "3\n",
      "\t165.22 150.74 148.80 147.80 147.20 146.76 146.53 146.28 146.10 145.95\n",
      "\t150.62 148.20 146.32 145.98 145.23 145.31 144.73 144.74 144.29 144.23\n",
      "\t0.1707 0.1024 0.0766 0.0736 0.0663 0.0590 0.0585 0.0565 0.0571 0.0546\n",
      "4\n",
      "\t164.41 151.74 149.65 148.16 147.27 146.76 146.42 146.12 145.94 145.84\n",
      "\t151.23 148.83 147.37 146.05 145.40 145.02 144.80 144.47 144.38 144.20\n",
      "\t0.3842 0.1027 0.0847 0.0762 0.0655 0.0636 0.0606 0.0598 0.0581 0.0590\n",
      "5\n",
      "\t159.21 149.41 147.84 147.21 146.85 146.53 146.30 146.11 146.04 145.89\n",
      "\t149.30 146.54 145.85 145.32 145.19 144.85 144.70 144.52 144.49 144.30\n",
      "\t0.1685 0.0961 0.0786 0.0732 0.0673 0.0625 0.0591 0.0562 0.0556 0.0563\n",
      "6\n",
      "\t160.94 150.02 148.18 147.46 146.94 146.57 146.30 146.15 146.02 145.86\n",
      "\t149.88 146.68 145.91 145.38 144.91 144.93 144.89 144.34 144.41 144.18\n",
      "\t0.1501 0.0973 0.0834 0.0722 0.0671 0.0593 0.0583 0.0556 0.0552 0.0532\n",
      "7\n",
      "\t165.19\n",
      "\t149.97\n",
      "\t0.1657\n"
     ]
    }
   ],
   "source": [
    "prior_vals = print_validation_profile_and_prior_losses(\"SPI1_prior_noneg\")"
   ]
  },
  {
   "cell_type": "code",
   "execution_count": 6,
   "metadata": {},
   "outputs": [],
   "source": [
    "import matplotlib.pyplot as plt"
   ]
  },
  {
   "cell_type": "code",
   "execution_count": 72,
   "metadata": {},
   "outputs": [
    {
     "data": {
      "text/plain": [
       "<matplotlib.legend.Legend at 0x7fd4f82e0c90>"
      ]
     },
     "execution_count": 72,
     "metadata": {},
     "output_type": "execute_result"
    },
    {
     "data": {
      "image/png": "[encoded data removed]",
      "text/plain": [
       "<Figure size 432x288 with 1 Axes>"
      ]
     },
     "metadata": {
      "needs_background": "light"
     },
     "output_type": "display_data"
    }
   ],
   "source": [
    "bin_num = 20\n",
    "plt.figure()\n",
    "plt.hist(\n",
    "    [np.array(list(noprior_vals.values())), np.array(list(prior_vals.values()))],\n",
    "    bin_num, histtype=\"bar\",\n",
    "    label=[\"No prior\", \"With prior\"], color=[\"red\", \"blue\"])\n",
    "title = \"Histogram of validation profile loss\"\n",
    "title += \"\\nTraining on only top 1% of peaks\"\n",
    "title += \"\\nPriors has positive limit of 160, no limit softness\"\n",
    "plt.title(title)\n",
    "plt.xlabel(\"Validation profile loss\")\n",
    "plt.legend()"
   ]
  },
  {
   "cell_type": "code",
   "execution_count": 53,
   "metadata": {},
   "outputs": [],
   "source": [
    "np_vals, p_vals = np.array(list(noprior_vals.values())), np.array(list(prior_vals.values()))"
   ]
  },
  {
   "cell_type": "code",
   "execution_count": null,
   "metadata": {},
   "outputs": [],
   "source": []
  },
  {
   "cell_type": "code",
   "execution_count": 43,
   "metadata": {},
   "outputs": [],
   "source": [
    "import scipy.stats"
   ]
  },
  {
   "cell_type": "code",
   "execution_count": 58,
   "metadata": {},
   "outputs": [
    {
     "name": "stdout",
     "output_type": "stream",
     "text": [
      "2.299804987643595\n",
      "0.012201333463147754\n"
     ]
    }
   ],
   "source": [
    "t, p = scipy.stats.ttest_ind(np_vals, p_vals)\n",
    "print(t)\n",
    "print(p / 2)"
   ]
  }
 ],
 "metadata": {
  "kernelspec": {
   "display_name": "Python 3",
   "language": "python",
   "name": "python3"
  },
  "language_info": {
   "codemirror_mode": {
    "name": "ipython",
    "version": 3
   },
   "file_extension": ".py",
   "mimetype": "text/x-python",
   "name": "python",
   "nbconvert_exporter": "python",
   "pygments_lexer": "ipython3",
   "version": "3.7.4"
  }
 },
 "nbformat": 4,
 "nbformat_minor": 2
}

{
 "cells": [
  {
   "cell_type": "code",
   "execution_count": 3,
   "metadata": {},
   "outputs": [],
   "source": [
    "import json\n",
    "import os"
   ]
  },
  {
   "cell_type": "code",
   "execution_count": 4,
   "metadata": {},
   "outputs": [],
   "source": [
    "def import_metrics_json(models_path, run_num):\n",
    "    \"\"\"\n",
    "    Looks in {models_path}/{run_num}/metrics.json and returns the contents as a\n",
    "    Python dictionary. Returns None if the path does not exist.\n",
    "    \"\"\"\n",
    "    path = os.path.join(models_path, str(run_num), \"metrics.json\")\n",
    "    if not os.path.exists(path):\n",
    "        return None\n",
    "    with open(path, \"r\") as f:\n",
    "        return json.load(f)"
   ]
  },
  {
   "cell_type": "code",
   "execution_count": 5,
   "metadata": {},
   "outputs": [],
   "source": [
    "def get_best_validation_auprc(models_path):\n",
    "    \"\"\"\n",
    "    Given the path to a set of runs, determines the run and epoch with the\n",
    "    best validation auPRC for the first task.\n",
    "    \"\"\"\n",
    "    # Get the metrics, ignoring empty or nonexistent metrics.json files\n",
    "    metrics = {run_num : import_metrics_json(models_path, run_num) for run_num in os.listdir(models_path)}\n",
    "    metrics = {key : val for key, val in metrics.items() if val}\n",
    "    \n",
    "    # Get the best auPRC\n",
    "    best_auprc, best_run, best_epoch = 0, None, None\n",
    "    for run_num in metrics.keys():\n",
    "        val_auprcs = metrics[run_num][\"val_corr_auprc\"][\"values\"]\n",
    "        for epoch_num, auprc_list in enumerate(val_auprcs):\n",
    "            auprc = auprc_list[0]  # First one, arbitrarily\n",
    "            if auprc > best_auprc:\n",
    "                best_auprc, best_run, best_epoch = auprc, run_num, epoch_num + 1\n",
    "    print(\"Best auPRC: %f\" % best_auprc)\n",
    "    print(\"Epoch %d in run %s\" % (best_epoch, best_run))"
   ]
  },
  {
   "cell_type": "code",
   "execution_count": 8,
   "metadata": {},
   "outputs": [],
   "source": [
    "def get_validation_auprcs(models_path):\n",
    "    \"\"\"\n",
    "    Given the path to a set of runs, determines the run and epoch with the\n",
    "    best validation auPRC for the first task.\n",
    "    \"\"\"\n",
    "    # Get the metrics, ignoring empty or nonexistent metrics.json files\n",
    "    metrics = {run_num : import_metrics_json(models_path, run_num) for run_num in os.listdir(models_path)}\n",
    "    metrics = {key : val for key, val in metrics.items() if val}\n",
    "    \n",
    "    # Get the auPRCs\n",
    "    auprcs = []\n",
    "    for run_num in metrics.keys():\n",
    "        val_auprcs = metrics[run_num][\"val_corr_auprc\"][\"values\"]\n",
    "        best_auprc = 0\n",
    "        for epoch_num, auprc_list in enumerate(val_auprcs):\n",
    "            auprc = auprc_list[0]  # First one, arbitrarily\n",
    "            best_auprc = max(best_auprc, auprc)\n",
    "        auprcs.append(best_auprc)\n",
    "    return auprcs"
   ]
  },
  {
   "cell_type": "code",
   "execution_count": 9,
   "metadata": {},
   "outputs": [
    {
     "data": {
      "text/plain": [
       "[0.4899827897390704,\n",
       " 0.476423933405104,\n",
       " 0.4117989016584284,\n",
       " 0.44645366982840595,\n",
       " 0.49426116776511,\n",
       " 0.45269926960865114,\n",
       " 0.4614295314275299,\n",
       " 0.41885080434858957,\n",
       " 0.24951437545808186,\n",
       " 0.4681138533039676,\n",
       " 0.4827680207554059,\n",
       " 0.41223663315775627,\n",
       " 0.42430851940263514,\n",
       " 0.24539632087738744,\n",
       " 0.2942776378493398,\n",
       " 0.47574228240336014]"
      ]
     },
     "execution_count": 9,
     "metadata": {},
     "output_type": "execute_result"
    }
   ],
   "source": [
    "models_path = \"/users/amtseng/att_priors/models/trained_models/SPI1_DREAM_priors/\"\n",
    "get_validation_auprcs(models_path)"
   ]
  },
  {
   "cell_type": "code",
   "execution_count": 10,
   "metadata": {},
   "outputs": [
    {
     "data": {
      "text/plain": [
       "[0.45219411889582534,\n",
       " 0.46867854452851176,\n",
       " 0.48039406056216316,\n",
       " 0.48818340797364046,\n",
       " 0.46070010727862243,\n",
       " 0.4722176473315698,\n",
       " 0.47995833825539963,\n",
       " 0.4906607825076228,\n",
       " 0.28592367196768825,\n",
       " 0.4297766459964562,\n",
       " 0.14994105008975595,\n",
       " 0.46720758081444236,\n",
       " 0.485427000019288,\n",
       " 0.3266425474706105,\n",
       " 0.47822219365714114,\n",
       " 0.46526922276761107,\n",
       " 0.4706664455964428,\n",
       " 0.3526800168884162,\n",
       " 0.3277461884033924,\n",
       " 0.25045605686992184,\n",
       " 0.47485940493217044,\n",
       " 0.24791173792766985,\n",
       " 0.43398303552647155,\n",
       " 0.27285234637202693,\n",
       " 0.4606782407423804,\n",
       " 0.4793324035337665,\n",
       " 0.301559999917848,\n",
       " 0.46960798407766297,\n",
       " 0.3517970108129185,\n",
       " 0.4790455076721283,\n",
       " 0.5046512905226174,\n",
       " 0.4698410142258431,\n",
       " 0.3503207088739436,\n",
       " 0.4728151452278137,\n",
       " 0.28233543453850535,\n",
       " 0.47469914493456566,\n",
       " 0.3483141562667044,\n",
       " 0.471394776704998,\n",
       " 0.5003524258810679,\n",
       " 0.461808791786084,\n",
       " 0.4794750628863745,\n",
       " 0.4491154586039238,\n",
       " 0.20515875906776684,\n",
       " 0.4623344360344787,\n",
       " 0.4789475390644602,\n",
       " 0.4941814103732509,\n",
       " 0.381162586939537,\n",
       " 0.4786710571864483,\n",
       " 0.47133540258236506,\n",
       " 0.41339988061280286]"
      ]
     },
     "execution_count": 10,
     "metadata": {},
     "output_type": "execute_result"
    }
   ],
   "source": [
    "models_path = \"/users/amtseng/att_priors/models/trained_models/SPI1_DREAM/\"\n",
    "get_validation_auprcs(models_path)"
   ]
  }
 ],
 "metadata": {
  "kernelspec": {
   "display_name": "Python 3",
   "language": "python",
   "name": "python3"
  },
  "language_info": {
   "codemirror_mode": {
    "name": "ipython",
    "version": 3
   },
   "file_extension": ".py",
   "mimetype": "text/x-python",
   "name": "python",
   "nbconvert_exporter": "python",
   "pygments_lexer": "ipython3",
   "version": "3.7.4"
  }
 },
 "nbformat": 4,
 "nbformat_minor": 2
}

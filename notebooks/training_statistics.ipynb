{
 "cells": [
  {
   "cell_type": "code",
   "execution_count": 1,
   "metadata": {},
   "outputs": [],
   "source": [
    "import json\n",
    "import os\n",
    "import numpy as np"
   ]
  },
  {
   "cell_type": "code",
   "execution_count": 2,
   "metadata": {},
   "outputs": [],
   "source": [
    "def import_metrics_json(models_path, run_num):\n",
    "    \"\"\"\n",
    "    Looks in {models_path}/{run_num}/metrics.json and returns the contents as a\n",
    "    Python dictionary. Returns None if the path does not exist.\n",
    "    \"\"\"\n",
    "    path = os.path.join(models_path, str(run_num), \"metrics.json\")\n",
    "    if not os.path.exists(path):\n",
    "        return None\n",
    "    with open(path, \"r\") as f:\n",
    "        return json.load(f)"
   ]
  },
  {
   "cell_type": "code",
   "execution_count": 3,
   "metadata": {},
   "outputs": [],
   "source": [
    "def get_best_metric(models_path, metric_name, reduce_func, compare_func):\n",
    "    \"\"\"\n",
    "    Given the path to a set of runs, determines the run with the best metric value,\n",
    "    for the given `metric_name`. For each run, the function `reduce_func` must take\n",
    "    the array of all values for that metric and return a (scalar) value to use for\n",
    "    comparison. The best metric value is determined by `metric_compare_func`, which\n",
    "    must take in two arguments, and return whether or not the _first_ one is better.\n",
    "    Returns the number of the run, the value associated with that run, and a dict of\n",
    "    all the values used for comparison.\n",
    "    \"\"\"\n",
    "    # Get the metrics, ignoring empty or nonexistent metrics.json files\n",
    "    metrics = {run_num : import_metrics_json(models_path, run_num) for run_num in os.listdir(models_path)}\n",
    "    metrics = {key : val for key, val in metrics.items() if val}  # Remove empties\n",
    "    \n",
    "    # Get the best value\n",
    "    best_run, best_val, all_vals = None, None, {}\n",
    "    for run_num in metrics.keys():\n",
    "        try:\n",
    "            val = reduce_func(metrics[run_num][metric_name][\"values\"])\n",
    "            all_vals[run_num] = val\n",
    "            if best_val is None or compare_func(val, best_val):\n",
    "                best_val, best_run = val, run_num\n",
    "        except Exception:\n",
    "            print(\"Warning: Was not able to compute values for run %s\" % run_num)\n",
    "            continue\n",
    "    return best_run, best_val, all_vals"
   ]
  },
  {
   "cell_type": "code",
   "execution_count": 4,
   "metadata": {},
   "outputs": [],
   "source": [
    "def get_best_metric_at_best_epoch(models_path, metric_name, reduce_func, compare_func):\n",
    "    \"\"\"\n",
    "    Given the path to a set of runs, determines the run with the best metric value,\n",
    "    for the given `metric_name`. For each run, the function `reduce_func` must take\n",
    "    the array of all values for that metric and return a (scalar) value FOR EACH\n",
    "    SUBARRAY/VALUE in the value array to use for comparison. The best metric value\n",
    "    is determined by `metric_compare_func`, which must take in two arguments, and\n",
    "    return whether or not the _first_ one is better.\n",
    "    Returns the number of the run, the (one-indexed) number of the epch, the value\n",
    "    associated with that run and epoch, and a dict of all the values used for\n",
    "    comparison (mapping pair of run number and epoch number to value).\n",
    "    \"\"\"\n",
    "    # Get the metrics, ignoring empty or nonexistent metrics.json files\n",
    "    metrics = {run_num : import_metrics_json(models_path, run_num) for run_num in os.listdir(models_path)}\n",
    "    metrics = {key : val for key, val in metrics.items() if val}  # Remove empties\n",
    "    \n",
    "    # Get the best value\n",
    "    best_run, best_epoch, best_val, all_vals = None, None, None, {}\n",
    "    for run_num in metrics.keys():\n",
    "        try:\n",
    "            # Find the best epoch within that run\n",
    "            best_epoch_in_run, best_val_in_run = None, None\n",
    "            for i, subarr in enumerate(metrics[run_num][metric_name][\"values\"]):\n",
    "                val = reduce_func(subarr)\n",
    "                if best_val_in_run is None or compare_func(val, best_val_in_run):\n",
    "                    best_epoch_in_run, best_val_in_run = i + 1, val\n",
    "            all_vals[(run_num, best_epoch_in_run)] = best_val_in_run\n",
    "            \n",
    "            # If the best value in the best epoch of the run is best so far, update\n",
    "            if best_val is None or compare_func(best_val_in_run, best_val):\n",
    "                best_run, best_epoch, best_val = run_num, best_epoch_in_run, best_val_in_run\n",
    "        except Exception:\n",
    "            print(\"Warning: Was not able to compute values for run %s\" % run_num)\n",
    "            continue\n",
    "    return best_run, best_epoch, best_val, all_vals"
   ]
  },
  {
   "cell_type": "code",
   "execution_count": 5,
   "metadata": {
    "scrolled": true
   },
   "outputs": [],
   "source": [
    "def print_validation_profile_and_prior_losses(condition):\n",
    "    models_path = \"/users/amtseng/att_priors/models/trained_models/profile_models/%s/\" % condition\n",
    "    \n",
    "    print(\"Best profile loss overall:\")\n",
    "    best_run, best_epoch, best_val, all_vals = get_best_metric_at_best_epoch(\n",
    "        models_path,\n",
    "        \"val_prof_corr_losses\",\n",
    "        lambda values: np.mean(values),\n",
    "        lambda x, y: x < y\n",
    "    )\n",
    "    print(\"\\tBest run: %s\" % best_run)\n",
    "    print(\"\\tBest epoch in run: %d\" % best_epoch)\n",
    "    print(\"\\tAssociated value: %s\" % best_val)\n",
    "    \n",
    "    print(\"Best epoch in each run:\")\n",
    "    for key in sorted(all_vals.keys(), key=lambda p: int(p[0])):\n",
    "        print(\"\\tRun %s, epoch %d: %6.2f\" % (key[0], key[1], all_vals[key]))\n",
    "        \n",
    "    print(\"All validation profile and prior losses:\")\n",
    "    for key in sorted(all_vals.keys(), key=lambda p: int(p[0])):\n",
    "        print(key[0])\n",
    "        metrics = import_metrics_json(models_path, key[0])\n",
    "        print(\"\\t\" + \" \".join([\"%6.2f\" % i for i in np.mean(metrics[\"train_prof_corr_losses\"][\"values\"], axis=1)]))\n",
    "        print(\"\\t\" + \" \".join([\"%6.2f\" % i for i in np.mean(metrics[\"val_prof_corr_losses\"][\"values\"], axis=1)]))\n",
    "        print(\"\\t\" + \" \".join([\"%6.4f\" % i for i in np.mean(metrics[\"val_pos_att_losses\"][\"values\"], axis=1)]))\n",
    "    return all_vals"
   ]
  },
  {
   "cell_type": "code",
   "execution_count": 33,
   "metadata": {
    "scrolled": true
   },
   "outputs": [
    {
     "name": "stdout",
     "output_type": "stream",
     "text": [
      "Best profile loss overall:\n",
      "\tBest run: 5\n",
      "\tBest epoch in run: 10\n",
      "\tAssociated value: 87.82174829553675\n",
      "Best epoch in each run:\n",
      "\tRun 1, epoch 9:  89.65\n",
      "\tRun 2, epoch 10:  90.14\n",
      "\tRun 3, epoch 10:  89.98\n",
      "\tRun 4, epoch 10:  88.26\n",
      "\tRun 5, epoch 10:  87.82\n",
      "\tRun 6, epoch 10:  88.60\n",
      "\tRun 7, epoch 9:  92.54\n",
      "\tRun 8, epoch 10:  92.34\n",
      "\tRun 9, epoch 10:  89.64\n",
      "\tRun 10, epoch 10:  88.97\n",
      "\tRun 11, epoch 10:  88.46\n",
      "\tRun 12, epoch 10:  88.96\n",
      "\tRun 13, epoch 10:  89.30\n",
      "\tRun 14, epoch 10:  88.93\n",
      "\tRun 15, epoch 9:  88.99\n",
      "\tRun 16, epoch 10:  88.51\n",
      "\tRun 17, epoch 10:  88.10\n",
      "\tRun 18, epoch 10:  88.94\n",
      "\tRun 19, epoch 10:  88.30\n",
      "\tRun 20, epoch 10:  88.35\n",
      "\tRun 21, epoch 10:  92.86\n",
      "\tRun 22, epoch 9:  88.46\n",
      "\tRun 23, epoch 10:  90.75\n",
      "\tRun 24, epoch 9:  89.25\n",
      "\tRun 25, epoch 10:  90.65\n",
      "\tRun 26, epoch 9:  90.25\n",
      "\tRun 27, epoch 10:  90.51\n",
      "\tRun 28, epoch 8:  89.11\n",
      "\tRun 29, epoch 9:  89.06\n",
      "\tRun 30, epoch 9:  88.44\n",
      "\tRun 31, epoch 10:  90.10\n",
      "\tRun 32, epoch 10:  88.40\n",
      "\tRun 33, epoch 9:  88.54\n",
      "All validation profile and prior losses:\n",
      "1\n",
      "\t386.16 274.90 219.30 206.08 201.38 198.80 197.78 196.40 194.98 193.82\n",
      "\t112.82  97.37  93.24  91.87  90.84  90.60  90.31  90.53  89.65  90.01\n",
      "\t0.0000 0.0000 0.0000 0.0000 0.0000 0.0000 0.0000 0.0000 0.0000 0.0000\n",
      "2\n",
      "\t339.64 260.42 221.90 210.98 205.83 203.15 200.83 199.35 197.38 196.32\n",
      "\t108.43  98.16  93.77  92.43  91.74  91.34  91.06  90.67  90.29  90.14\n",
      "\t0.0000 0.0000 0.0000 0.0000 0.0000 0.0000 0.0000 0.0000 0.0000 0.0000\n",
      "3\n",
      "\t339.87 281.35 249.22 223.77 211.40 204.81 200.64 197.68 196.06 194.28\n",
      "\t112.06 103.85 101.89  95.54  93.22  91.98  91.24  90.79  90.29  89.98\n",
      "\t0.0000 0.0000 0.0000 0.0000 0.0000 0.0000 0.0000 0.0000 0.0000 0.0000\n",
      "4\n",
      "\t324.37 216.66 201.74 196.84 194.44 192.89 193.04 191.52 190.46 189.89\n",
      "\t 97.65  91.33  90.76  89.53  89.36  88.99  89.20  88.41  88.39  88.26\n",
      "\t0.0000 0.0000 0.0000 0.0000 0.0000 0.0000 0.0000 0.0000 0.0000 0.0000\n",
      "5\n",
      "\t324.27 227.03 208.41 202.23 198.52 195.83 194.28 192.84 191.69 190.60\n",
      "\t100.87  92.43  90.69  89.71  89.19  88.72  88.51  88.11  88.04  87.82\n",
      "\t0.0000 0.0000 0.0000 0.0000 0.0000 0.0000 0.0000 0.0000 0.0000 0.0000\n",
      "6\n",
      "\t323.04 224.77 209.29 203.66 200.49 197.89 196.09 194.45 193.02 191.96\n",
      "\t100.34  92.61  91.20  90.24  89.95  89.51  89.28  88.90  88.64  88.60\n",
      "\t0.0000 0.0000 0.0000 0.0000 0.0000 0.0000 0.0000 0.0000 0.0000 0.0000\n",
      "7\n",
      "\t341.27 292.04 260.30 246.09 232.62 220.81 215.11 210.81 207.66 204.93\n",
      "\t110.51 105.14 102.72 101.46  97.37  95.10  94.41  93.22  92.54  92.74\n",
      "\t0.0000 0.0000 0.0000 0.0000 0.0000 0.0000 0.0000 0.0000 0.0000 0.0000\n",
      "8\n",
      "\t328.45 272.81 249.73 237.81 228.06 219.19 212.76 208.62 204.92 202.41\n",
      "\t108.42 103.55 101.85  99.84  99.11  96.22  94.82  93.99  93.29  92.34\n",
      "\t0.0000 0.0000 0.0000 0.0000 0.0000 0.0000 0.0000 0.0000 0.0000 0.0000\n",
      "9\n",
      "\t329.04 253.49 212.76 205.65 201.87 200.02 198.07 196.57 195.54 194.51\n",
      "\t107.54  94.30  91.66  91.22  90.61  90.48  89.99  90.15  89.80  89.64\n",
      "\t0.0000 0.0000 0.0000 0.0000 0.0000 0.0000 0.0000 0.0000 0.0000 0.0000\n",
      "10\n",
      "\t309.33 217.13 205.21 200.37 197.43 195.05 193.71 192.55 191.66 191.45\n",
      "\t 97.50  92.84  91.02  90.31  89.87  89.67  89.40  89.39  89.19  88.97\n",
      "\t0.0000 0.0000 0.0000 0.0000 0.0000 0.0000 0.0000 0.0000 0.0000 0.0000\n",
      "11\n",
      "\t344.91 259.11 216.96 205.42 201.06 197.72 195.54 193.91 192.78 191.98\n",
      "\t108.67  96.12  92.03  90.73  89.85  89.39  89.00  88.65  88.73  88.46\n",
      "\t0.0000 0.0000 0.0000 0.0000 0.0000 0.0000 0.0000 0.0000 0.0000 0.0000\n",
      "12\n",
      "\t340.59 262.03 220.82 209.69 204.26 200.71 198.22 196.49 194.84 194.01\n",
      "\t110.44  97.43  94.37  92.13  91.03  90.29  90.31  89.25  89.09  88.96\n",
      "\t0.0000 0.0000 0.0000 0.0000 0.0000 0.0000 0.0000 0.0000 0.0000 0.0000\n",
      "13\n",
      "\t365.98 245.19 211.52 205.03 201.35 199.09 197.42 196.08 195.00 193.78\n",
      "\t110.97  93.70  91.80  91.02  90.55  90.14  89.98  89.86  89.37  89.30\n",
      "\t0.0000 0.0000 0.0000 0.0000 0.0000 0.0000 0.0000 0.0000 0.0000 0.0000\n",
      "14\n",
      "\t374.78 240.47 208.44 201.82 198.28 196.22 194.80 194.15 193.85 192.40\n",
      "\t109.03  93.21  91.42  90.45  89.73  89.62  89.44  89.68  90.58  88.93\n",
      "\t0.0000 0.0000 0.0000 0.0000 0.0000 0.0000 0.0000 0.0000 0.0000 0.0000\n",
      "15\n",
      "\t326.05 226.92 210.43 205.00 201.32 198.78 196.84 195.39 193.83 192.81\n",
      "\t101.19  93.02  92.03  90.79  90.41  89.85  89.69  89.24  88.99  88.99\n",
      "\t0.0000 0.0000 0.0000 0.0000 0.0000 0.0000 0.0000 0.0000 0.0000 0.0000\n",
      "16\n",
      "\t367.17 246.58 214.59 205.25 200.28 197.42 196.22 195.57 193.74 192.78\n",
      "\t108.42  94.53  92.08  90.73  89.80  89.37  89.37  89.35  88.74  88.51\n",
      "\t0.0000 0.0000 0.0000 0.0000 0.0000 0.0000 0.0000 0.0000 0.0000 0.0000\n",
      "17\n",
      "\t327.10 217.97 204.04 199.48 196.40 195.29 194.00 192.39 191.28 190.46\n",
      "\t 97.84  91.48  90.14  89.57  89.87  89.09  89.13  88.60  88.42  88.10\n",
      "\t0.0000 0.0000 0.0000 0.0000 0.0000 0.0000 0.0000 0.0000 0.0000 0.0000\n",
      "18\n",
      "\t316.82 216.12 203.85 199.57 196.80 194.87 193.60 192.19 191.11 190.05\n",
      "\t 97.65  92.45  90.82  90.22  90.09  89.82  89.31  89.28  89.29  88.94\n",
      "\t0.0000 0.0000 0.0000 0.0000 0.0000 0.0000 0.0000 0.0000 0.0000 0.0000\n",
      "19\n",
      "\t336.51 238.77 209.95 202.80 198.69 196.43 194.40 193.13 192.36 191.79\n",
      "\t106.09  92.85  91.15  89.70  89.33  88.77  88.60  88.31  88.57  88.30\n",
      "\t0.0000 0.0000 0.0000 0.0000 0.0000 0.0000 0.0000 0.0000 0.0000 0.0000\n",
      "20\n",
      "\t318.64 217.08 202.86 197.56 194.88 194.10 193.73 191.72 191.18 190.42\n",
      "\t 97.43  92.34  90.20  89.94  89.13  89.16  89.75  88.96  88.56  88.35\n",
      "\t0.0000 0.0000 0.0000 0.0000 0.0000 0.0000 0.0000 0.0000 0.0000 0.0000\n",
      "21\n",
      "\t336.97 286.53 253.70 239.47 230.29 220.67 215.34 211.14 207.70 205.18\n",
      "\t108.93 104.46 102.08 100.88  98.74  96.83  94.99  93.88  93.17  92.86\n",
      "\t0.0000 0.0000 0.0000 0.0000 0.0000 0.0000 0.0000 0.0000 0.0000 0.0000\n",
      "22\n",
      "\t316.36 216.66 203.27 198.22 195.24 193.37 191.97 190.97 191.24 191.68\n",
      "\t 97.49  91.68  90.53  89.49  89.52  88.90  88.76  88.53  88.46  88.46\n",
      "\t0.0000 0.0000 0.0000 0.0000 0.0000 0.0000 0.0000 0.0000 0.0000 0.0000\n",
      "23\n",
      "\t329.53 253.33 212.98 206.74 203.71 201.82 200.66 199.38 198.29 197.36\n",
      "\t108.46  95.80  92.64  91.87  91.70  91.27  91.40  91.01  91.51  90.75\n",
      "\t0.0000 0.0000 0.0000 0.0000 0.0000 0.0000 0.0000 0.0000 0.0000 0.0000\n",
      "24\n",
      "\t331.30 256.92 225.16 210.17 204.31 200.54 198.12 196.42 195.08 193.96\n",
      "\t105.64  99.16  93.41  91.45  90.79  90.24  89.85  89.48  89.25  89.33\n",
      "\t0.0000 0.0000 0.0000 0.0000 0.0000 0.0000 0.0000 0.0000 0.0000 0.0000\n",
      "25\n",
      "\t346.08 286.49 246.20 229.90 218.86 211.54 207.25 203.58 200.80 199.07\n",
      "\t110.40 103.06  99.34  97.39  94.48  93.24  92.87  91.87  90.99  90.65\n",
      "\t0.0000 0.0000 0.0000 0.0000 0.0000 0.0000 0.0000 0.0000 0.0000 0.0000\n",
      "26\n",
      "\t329.47 264.38 221.90 208.45 204.33 202.10 200.52 198.98 198.18 197.25\n",
      "\t107.68 100.49  92.82  91.85  91.56  91.02  90.83  90.56  90.25  90.46\n",
      "\t0.0000 0.0000 0.0000 0.0000 0.0000 0.0000 0.0000 0.0000 0.0000 0.0000\n",
      "27\n",
      "\t332.50 275.68 240.15 222.13 213.55 208.82 204.50 201.13 198.88 197.04\n",
      "\t109.37 103.06  97.51  94.93  93.79  92.74  92.18  91.70  90.95  90.51\n",
      "\t0.0000 0.0000 0.0000 0.0000 0.0000 0.0000 0.0000 0.0000 0.0000 0.0000\n",
      "28\n",
      "\t348.19 225.14 206.98 200.85 196.80 194.40 192.98 193.24 192.34 190.74\n",
      "\t102.64  93.55  91.60  90.88  90.05  89.59  89.11  89.11  89.56  89.27\n",
      "\t0.0000 0.0000 0.0000 0.0000 0.0000 0.0000 0.0000 0.0000 0.0000 0.0000\n",
      "29\n",
      "\t306.08 215.12 205.13 200.03 197.08 194.87 193.30 191.67 191.20 191.55\n",
      "\t 96.01  92.29  91.27  90.59  90.12  89.93  89.50  89.17  89.06  89.77\n",
      "\t0.0000 0.0000 0.0000 0.0000 0.0000 0.0000 0.0000 0.0000 0.0000 0.0000\n",
      "30\n",
      "\t290.32 212.20 202.54 198.53 195.96 194.29 193.10 192.32 191.55 193.18\n",
      "\t 94.83  91.06  90.37  89.50  89.46  88.92  88.69  89.05  88.44  88.59\n",
      "\t0.0000 0.0000 0.0000 0.0000 0.0000 0.0000 0.0000 0.0000 0.0000 0.0000\n",
      "31\n",
      "\t336.70 267.46 229.15 209.88 204.33 201.66 199.81 198.45 197.33 196.39\n",
      "\t108.04 100.70  94.42  91.40  90.96  90.77  90.50  90.40  90.14  90.10\n",
      "\t0.0000 0.0000 0.0000 0.0000 0.0000 0.0000 0.0000 0.0000 0.0000 0.0000\n",
      "32\n",
      "\t321.64 223.73 207.79 201.98 198.45 196.15 194.41 193.35 192.19 191.31\n",
      "\t100.11  92.55  90.78  90.50  89.52  89.55  88.90  88.67  88.78  88.40\n",
      "\t0.0000 0.0000 0.0000 0.0000 0.0000 0.0000 0.0000 0.0000 0.0000 0.0000\n",
      "33\n",
      "\t321.36 223.52 207.77 202.30 199.14 197.10 194.95 193.79 192.67 192.19\n",
      "\t 99.18  92.65  90.82  90.05  89.55  89.22  88.84  88.77  88.54  88.64\n",
      "\t0.0000 0.0000 0.0000 0.0000 0.0000 0.0000 0.0000 0.0000 0.0000 0.0000\n"
     ]
    }
   ],
   "source": [
    "noprior_vals = print_validation_profile_and_prior_losses(\"SPI1\")"
   ]
  },
  {
   "cell_type": "code",
   "execution_count": 42,
   "metadata": {
    "scrolled": true
   },
   "outputs": [
    {
     "name": "stdout",
     "output_type": "stream",
     "text": [
      "Best profile loss overall:\n",
      "\tBest run: 1\n",
      "\tBest epoch in run: 10\n",
      "\tAssociated value: 85.51023435239439\n",
      "Best epoch in each run:\n",
      "\tRun 1, epoch 10:  85.51\n",
      "\tRun 2, epoch 10:  86.55\n",
      "\tRun 3, epoch 4:  86.64\n",
      "All validation profile and prior losses:\n",
      "1\n",
      "\t 91.58  88.26  87.59  87.05  86.61  86.34  86.14  86.00  85.87  85.77\n",
      "\t 88.29  87.35  87.01  86.56  86.17  86.09  85.96  85.72  85.63  85.51\n",
      "\t0.8354 0.8356 0.8464 0.8633 0.8729 0.8860 0.8891 0.9019 0.9053 0.9175\n",
      "2\n",
      "\t 95.44  89.32  88.11  87.26  86.80  86.48  86.26  86.10  85.97  85.86\n",
      "\t 90.58  89.18  88.17  87.43  87.32  86.91  86.80  86.63  86.56  86.55\n",
      "\t0.8381 0.8535 0.8693 0.8713 0.8770 0.8872 0.8941 0.9026 0.9072 0.9157\n",
      "3\n",
      "\t 93.40  89.25  88.08  87.38\n",
      "\t 89.37  87.95  87.03  86.64\n",
      "\t0.8348 0.8523 0.8541 0.8663\n"
     ]
    }
   ],
   "source": [
    "prior_vals = print_validation_profile_and_prior_losses(\"SPI1_motifpredprior_attdecay\")"
   ]
  },
  {
   "cell_type": "code",
   "execution_count": 13,
   "metadata": {},
   "outputs": [],
   "source": [
    "import matplotlib.pyplot as plt"
   ]
  },
  {
   "cell_type": "code",
   "execution_count": 44,
   "metadata": {},
   "outputs": [
    {
     "data": {
      "text/plain": [
       "<matplotlib.legend.Legend at 0x7f4f70f465d0>"
      ]
     },
     "execution_count": 44,
     "metadata": {},
     "output_type": "execute_result"
    },
    {
     "data": {
      "image/png": "[encoded data removed]",
      "text/plain": [
       "<Figure size 432x288 with 1 Axes>"
      ]
     },
     "metadata": {
      "needs_background": "light"
     },
     "output_type": "display_data"
    }
   ],
   "source": [
    "bin_num = 20\n",
    "plt.figure()\n",
    "plt.hist(\n",
    "    [np.array(list(noprior_vals.values())), np.array(list(prior_vals.values()))],\n",
    "    bin_num, histtype=\"bar\",\n",
    "    label=[\"No prior\", \"With prior\"], color=[\"red\", \"blue\"])\n",
    "title = \"Histogram of validation profile loss\"\n",
    "title += \"\\nTraining on all of peaks\"\n",
    "title += \"\\nMotif prediction prior, decaying prior weight\"\n",
    "plt.title(title)\n",
    "plt.xlabel(\"Validation profile loss\")\n",
    "plt.legend()"
   ]
  },
  {
   "cell_type": "code",
   "execution_count": 36,
   "metadata": {},
   "outputs": [],
   "source": [
    "np_vals, p_vals = np.array(list(noprior_vals.values())), np.array(list(prior_vals.values()))"
   ]
  },
  {
   "cell_type": "code",
   "execution_count": null,
   "metadata": {},
   "outputs": [],
   "source": []
  },
  {
   "cell_type": "code",
   "execution_count": 23,
   "metadata": {},
   "outputs": [],
   "source": [
    "import scipy.stats"
   ]
  },
  {
   "cell_type": "code",
   "execution_count": 37,
   "metadata": {},
   "outputs": [
    {
     "name": "stdout",
     "output_type": "stream",
     "text": [
      "0.48643477861338436\n",
      "0.3142620175292996\n"
     ]
    }
   ],
   "source": [
    "t, p = scipy.stats.ttest_ind(np_vals, p_vals)\n",
    "print(t)\n",
    "print(p / 2)"
   ]
  }
 ],
 "metadata": {
  "kernelspec": {
   "display_name": "Python 3",
   "language": "python",
   "name": "python3"
  },
  "language_info": {
   "codemirror_mode": {
    "name": "ipython",
    "version": 3
   },
   "file_extension": ".py",
   "mimetype": "text/x-python",
   "name": "python",
   "nbconvert_exporter": "python",
   "pygments_lexer": "ipython3",
   "version": "3.7.4"
  }
 },
 "nbformat": 4,
 "nbformat_minor": 2
}

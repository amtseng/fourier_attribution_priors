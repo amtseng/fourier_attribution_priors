{
 "cells": [
  {
   "cell_type": "code",
   "execution_count": 1,
   "metadata": {},
   "outputs": [],
   "source": [
    "import json\n",
    "import os\n",
    "import numpy as np\n",
    "import matplotlib.pyplot as plt\n",
    "import scipy.stats"
   ]
  },
  {
   "cell_type": "code",
   "execution_count": 2,
   "metadata": {},
   "outputs": [],
   "source": [
    "def import_metrics_json(models_path, run_num):\n",
    "    \"\"\"\n",
    "    Looks in {models_path}/{run_num}/metrics.json and returns the contents as a\n",
    "    Python dictionary. Returns None if the path does not exist.\n",
    "    \"\"\"\n",
    "    path = os.path.join(models_path, str(run_num), \"metrics.json\")\n",
    "    if not os.path.exists(path):\n",
    "        return None\n",
    "    try:\n",
    "        with open(path, \"r\") as f:\n",
    "            return json.load(f)\n",
    "    except json.JSONDecodeError:\n",
    "        print(\"Metrics JSON at %s is not well-formed\" % path)"
   ]
  },
  {
   "cell_type": "code",
   "execution_count": 3,
   "metadata": {},
   "outputs": [],
   "source": [
    "def get_best_metric(models_path, metric_name, reduce_func, compare_func):\n",
    "    \"\"\"\n",
    "    Given the path to a set of runs, determines the run with the best metric value,\n",
    "    for the given `metric_name`. For each run, the function `reduce_func` must take\n",
    "    the array of all values for that metric and return a (scalar) value to use for\n",
    "    comparison. The best metric value is determined by `metric_compare_func`, which\n",
    "    must take in two arguments, and return whether or not the _first_ one is better.\n",
    "    Returns the number of the run, the value associated with that run, and a dict of\n",
    "    all the values used for comparison.\n",
    "    \"\"\"\n",
    "    # Get the metrics, ignoring empty or nonexistent metrics.json files\n",
    "    metrics = {run_num : import_metrics_json(models_path, run_num) for run_num in os.listdir(models_path)}\n",
    "    metrics = {key : val for key, val in metrics.items() if val}  # Remove empties\n",
    "    \n",
    "    # Get the best value\n",
    "    best_run, best_val, all_vals = None, None, {}\n",
    "    for run_num in metrics.keys():\n",
    "        try:\n",
    "            val = reduce_func(metrics[run_num][metric_name][\"values\"])\n",
    "            all_vals[run_num] = val\n",
    "            if best_val is None or compare_func(val, best_val):\n",
    "                best_val, best_run = val, run_num\n",
    "        except Exception:\n",
    "            print(\"Warning: Was not able to compute values for run %s\" % run_num)\n",
    "            continue\n",
    "    return best_run, best_val, all_vals"
   ]
  },
  {
   "cell_type": "code",
   "execution_count": 4,
   "metadata": {},
   "outputs": [],
   "source": [
    "def get_best_metric_at_best_epoch(models_path, metric_name, reduce_func, compare_func, max_epoch=None):\n",
    "    \"\"\"\n",
    "    Given the path to a set of runs, determines the run with the best metric value,\n",
    "    for the given `metric_name`. For each run, the function `reduce_func` must take\n",
    "    the array of all values for that metric and return a (scalar) value FOR EACH\n",
    "    SUBARRAY/VALUE in the value array to use for comparison. The best metric value\n",
    "    is determined by `metric_compare_func`, which must take in two arguments, and\n",
    "    return whether or not the _first_ one is better. If `max_epoch` is provided, will\n",
    "    only report everything up to this epoch (1-indexed).\n",
    "    Returns the number of the run, the (one-indexed) number of the epoch, the value\n",
    "    associated with that run and epoch, and a dict of all the values used for\n",
    "    comparison (mapping pair of run number and epoch number to value).\n",
    "    \"\"\"\n",
    "    # Get the metrics, ignoring empty or nonexistent metrics.json files\n",
    "    metrics = {run_num : import_metrics_json(models_path, run_num) for run_num in os.listdir(models_path)}\n",
    "    metrics = {key : val for key, val in metrics.items() if val}  # Remove empties\n",
    "    \n",
    "    # Get the best value\n",
    "    best_run, best_epoch, best_val, all_vals = None, None, None, {}\n",
    "    for run_num in metrics.keys():\n",
    "        try:\n",
    "            # Find the best epoch within that run\n",
    "            best_epoch_in_run, best_val_in_run = None, None\n",
    "            for i, subarr in enumerate(metrics[run_num][metric_name][\"values\"]):\n",
    "                if i == max_epoch:\n",
    "                    break\n",
    "                val = reduce_func(subarr)\n",
    "                if best_val_in_run is None or compare_func(val, best_val_in_run):\n",
    "                    best_epoch_in_run, best_val_in_run = i + 1, val\n",
    "            all_vals[(run_num, best_epoch_in_run)] = best_val_in_run\n",
    "            \n",
    "            # If the best value in the best epoch of the run is best so far, update\n",
    "            if best_val is None or compare_func(best_val_in_run, best_val):\n",
    "                best_run, best_epoch, best_val = run_num, best_epoch_in_run, best_val_in_run\n",
    "        except Exception:\n",
    "            print(\"Warning: Was not able to compute values for run %s\" % run_num)\n",
    "            continue\n",
    "    return best_run, best_epoch, best_val, all_vals"
   ]
  },
  {
   "cell_type": "code",
   "execution_count": 5,
   "metadata": {
    "scrolled": true
   },
   "outputs": [],
   "source": [
    "def print_profile_losses(condition, max_epoch=None):\n",
    "    models_path = \"/users/amtseng/att_priors/models/trained_models/profile/%s/\" % condition\n",
    "    \n",
    "    print(\"Best profile loss overall:\")\n",
    "    best_run, best_epoch, best_val, all_vals = get_best_metric_at_best_epoch(\n",
    "        models_path,\n",
    "        \"val_prof_corr_losses\",\n",
    "        lambda values: np.mean(values),\n",
    "        lambda x, y: x < y,\n",
    "        max_epoch\n",
    "    )\n",
    "    print(\"\\tBest run: %s\" % best_run)\n",
    "    print(\"\\tBest epoch in run: %d\" % best_epoch)\n",
    "    print(\"\\tAssociated value: %s\" % best_val)\n",
    "    \n",
    "    print(\"Best epoch in each run:\")\n",
    "    for key in sorted(all_vals.keys(), key=lambda p: int(p[0])):\n",
    "        print(\"\\tRun %s, epoch %d: %6.2f\" % (key[0], key[1], all_vals[key]))\n",
    "        \n",
    "    print(\"All validation profile and prior losses:\")\n",
    "    for key in sorted(all_vals.keys(), key=lambda p: int(p[0])):\n",
    "        print(key[0])\n",
    "        metrics = import_metrics_json(models_path, key[0])\n",
    "        print(\"\\t\" + \" \".join([\"%6.2f\" % i for i in np.mean(metrics[\"val_batch_losses\"][\"values\"], axis=1)[:max_epoch]]))\n",
    "        print(\"\\t\" + \" \".join([\"%6.2f\" % i for i in np.mean(metrics[\"val_prof_corr_losses\"][\"values\"], axis=1)[:max_epoch]]))\n",
    "        print(\"\\t\" + \" \".join([\"%6.4f\" % i for i in np.mean(metrics[\"val_att_losses\"][\"values\"], axis=1)[:max_epoch]]))\n",
    "    return all_vals"
   ]
  },
  {
   "cell_type": "code",
   "execution_count": 6,
   "metadata": {
    "scrolled": true
   },
   "outputs": [
    {
     "name": "stdout",
     "output_type": "stream",
     "text": [
      "Best profile loss overall:\n",
      "Metrics JSON at /users/amtseng/att_priors/models/trained_models/profile/BPNet/3/metrics.json is not well-formed\n",
      "\tBest run: 2\n",
      "\tBest epoch in run: 18\n",
      "\tAssociated value: 143.75121804942256\n",
      "Best epoch in each run:\n",
      "\tRun 1, epoch 16: 143.78\n",
      "\tRun 2, epoch 18: 143.75\n",
      "All validation profile and prior losses:\n",
      "1\n",
      "\t165.28 160.38 158.04 154.88 154.76 153.43 152.73 152.30 151.98 152.09 151.79 153.06 152.37 151.59 151.60 151.46 153.55 151.48 152.65 151.70\n",
      "\t150.14 147.67 146.36 145.37 145.03 144.62 144.45 144.22 144.07 144.04 144.06 144.15 143.96 143.83 143.91 143.78 143.87 143.86 143.87 143.83\n",
      "\t0.0000 0.0000 0.0000 0.0000 0.0000 0.0000 0.0000 0.0000 0.0000 0.0000 0.0000 0.0000 0.0000 0.0000 0.0000 0.0000 0.0000 0.0000 0.0000 0.0000\n",
      "2\n",
      "\t167.89 161.89 158.16 155.06 154.04 154.18 152.73 151.84 151.91 151.24 151.88 151.08 151.03 150.90 150.70 150.68 151.29 151.76 151.28 151.19\n",
      "\t152.20 147.85 146.59 145.98 145.24 144.85 144.97 144.30 144.14 144.03 144.01 143.99 143.85 143.97 143.79 143.80 143.80 143.75 143.80 143.77\n",
      "\t0.0000 0.0000 0.0000 0.0000 0.0000 0.0000 0.0000 0.0000 0.0000 0.0000 0.0000 0.0000 0.0000 0.0000 0.0000 0.0000 0.0000 0.0000 0.0000 0.0000\n"
     ]
    }
   ],
   "source": [
    "noprior_vals = print_profile_losses(\"BPNet\")"
   ]
  },
  {
   "cell_type": "code",
   "execution_count": 7,
   "metadata": {},
   "outputs": [
    {
     "name": "stdout",
     "output_type": "stream",
     "text": [
      "Best profile loss overall:\n",
      "\tBest run: 2\n",
      "\tBest epoch in run: 16\n",
      "\tAssociated value: 145.2516603432154\n",
      "Best epoch in each run:\n",
      "\tRun 1, epoch 7: 153.37\n",
      "\tRun 2, epoch 16: 145.25\n",
      "\tRun 3, epoch 2: 154.42\n",
      "All validation profile and prior losses:\n",
      "1\n",
      "\t179.21 172.13 169.91 169.58 170.29 171.39 171.51\n",
      "\t154.52 154.58 154.42 154.20 153.97 153.71 153.37\n",
      "\t0.0730 0.0513 0.0345 0.0433 0.0572 0.0774 0.0919\n",
      "2\n",
      "\t173.80 169.33 173.29 167.93 163.15 161.01 161.30 159.33 160.01 163.36 160.15 160.53 159.00 158.43 158.52 160.79 160.82\n",
      "\t155.17 155.10 153.42 149.85 147.48 146.54 146.71 146.47 146.19 146.29 146.10 146.78 145.89 145.52 145.36 145.25 146.13\n",
      "\t0.0363 0.0288 0.1057 0.0899 0.0631 0.0581 0.0575 0.0555 0.0609 0.1094 0.0746 0.0702 0.0648 0.0626 0.0642 0.0661 0.0826\n",
      "3\n",
      "\t176.11 171.53\n",
      "\t154.51 154.42\n",
      "\t0.0462 0.0549\n"
     ]
    }
   ],
   "source": [
    "prior_vals = print_profile_losses(\"BPNet_prior\")"
   ]
  },
  {
   "cell_type": "code",
   "execution_count": 9,
   "metadata": {},
   "outputs": [
    {
     "name": "stdout",
     "output_type": "stream",
     "text": [
      "Mean without priors: 143.766453\n",
      "Mean with priors: 151.013279\n",
      "-1.9377310623017954\n",
      "0.07402015371238477\n"
     ]
    },
    {
     "data": {
      "image/png": "[encoded data removed]",
      "text/plain": [
       "<Figure size 432x288 with 1 Axes>"
      ]
     },
     "metadata": {
      "needs_background": "light"
     },
     "output_type": "display_data"
    }
   ],
   "source": [
    "bin_num = 20\n",
    "plt.figure()\n",
    "plt.hist(\n",
    "    [np.array(list(noprior_vals.values())), np.array(list(prior_vals.values()))],\n",
    "    bin_num, histtype=\"bar\",\n",
    "    label=[\"No prior\", \"With prior\"], color=[\"red\", \"blue\"])\n",
    "title = \"Histogram of validation profile loss without/with priors\"\n",
    "title += \"\\nE2F6, %d/%d models without/with priors\" % (len(noprior_vals), len(prior_vals))\n",
    "title += \"\\nTraining on top 1% of peaks\"\n",
    "plt.title(title)\n",
    "plt.xlabel(\"Validation profile loss\")\n",
    "plt.legend()\n",
    "\n",
    "np_vals, p_vals = np.array(list(noprior_vals.values())), np.array(list(prior_vals.values()))\n",
    "t, p = scipy.stats.ttest_ind(np_vals, p_vals)\n",
    "print(\"Mean without priors: %f\" % np.mean(np_vals))\n",
    "print(\"Mean with priors: %f\" % np.mean(p_vals))\n",
    "print(t)\n",
    "print(p / 2)"
   ]
  },
  {
   "cell_type": "code",
   "execution_count": 11,
   "metadata": {},
   "outputs": [],
   "source": [
    "def print_binary_losses(condition, max_epoch=None):\n",
    "    models_path = \"/users/amtseng/att_priors/models/trained_models/binary/%s/\" % condition\n",
    "    \n",
    "    print(\"Best validation loss overall:\")\n",
    "    best_run, best_epoch, best_val, all_vals = get_best_metric_at_best_epoch(\n",
    "        models_path,\n",
    "        \"val_corr_losses\",\n",
    "        lambda values: np.mean(values),\n",
    "        lambda x, y: x < y,\n",
    "        max_epoch\n",
    "    )\n",
    "    print(\"\\tBest run: %s\" % best_run)\n",
    "    print(\"\\tBest epoch in run: %d\" % best_epoch)\n",
    "    print(\"\\tAssociated value: %s\" % best_val)\n",
    "    \n",
    "    print(\"Best epoch in each run:\")\n",
    "    for key in sorted(all_vals.keys(), key=lambda p: int(p[0])):\n",
    "        print(\"\\tRun %s, epoch %d: %6.3f\" % (key[0], key[1], all_vals[key]))\n",
    "        \n",
    "    print(\"All validation profile and prior losses:\")\n",
    "    for key in sorted(all_vals.keys(), key=lambda p: int(p[0])):\n",
    "        print(key[0])\n",
    "        metrics = import_metrics_json(models_path, key[0])\n",
    "        print(\"\\t\" + \" \".join([\"%6.3f\" % i for i in np.mean(metrics[\"val_batch_losses\"][\"values\"], axis=1)[:max_epoch]]))\n",
    "        print(\"\\t\" + \" \".join([\"%6.3f\" % i for i in np.mean(metrics[\"val_corr_losses\"][\"values\"], axis=1)[:max_epoch]]))\n",
    "        print(\"\\t\" + \" \".join([\"%6.3f\" % i for i in np.mean(metrics[\"val_att_losses\"][\"values\"], axis=1)[:max_epoch]]))\n",
    "    return all_vals"
   ]
  },
  {
   "cell_type": "code",
   "execution_count": 12,
   "metadata": {
    "scrolled": true
   },
   "outputs": [
    {
     "name": "stdout",
     "output_type": "stream",
     "text": [
      "Best validation loss overall:\n",
      "\tBest run: 17\n",
      "\tBest epoch in run: 1\n",
      "\tAssociated value: 0.3528940501443127\n",
      "Best epoch in each run:\n",
      "\tRun 1, epoch 1:  0.357\n",
      "\tRun 2, epoch 1:  0.361\n",
      "\tRun 3, epoch 1:  0.364\n",
      "\tRun 4, epoch 1:  0.365\n",
      "\tRun 5, epoch 1:  0.360\n",
      "\tRun 6, epoch 1:  0.353\n",
      "\tRun 7, epoch 1:  0.356\n",
      "\tRun 8, epoch 1:  0.354\n",
      "\tRun 9, epoch 1:  0.355\n",
      "\tRun 10, epoch 1:  0.353\n",
      "\tRun 11, epoch 1:  0.365\n",
      "\tRun 12, epoch 1:  0.358\n",
      "\tRun 13, epoch 1:  0.355\n",
      "\tRun 14, epoch 1:  0.365\n",
      "\tRun 15, epoch 1:  0.355\n",
      "\tRun 16, epoch 2:  0.364\n",
      "\tRun 17, epoch 1:  0.353\n",
      "\tRun 18, epoch 1:  0.354\n",
      "\tRun 19, epoch 1:  0.355\n",
      "\tRun 20, epoch 1:  0.363\n",
      "All validation profile and prior losses:\n",
      "1\n",
      "\t 0.357  0.365  0.389  0.425  0.464\n",
      "\t 0.357  0.365  0.389  0.425  0.464\n",
      "\t 0.000  0.000  0.000  0.000  0.000\n",
      "2\n",
      "\t 0.361  0.363  0.403  0.441  0.477\n",
      "\t 0.361  0.363  0.403  0.441  0.477\n",
      "\t 0.000  0.000  0.000  0.000  0.000\n",
      "3\n",
      "\t 0.364  0.368  0.393  0.420  0.464\n",
      "\t 0.364  0.368  0.393  0.420  0.464\n",
      "\t 0.000  0.000  0.000  0.000  0.000\n",
      "4\n",
      "\t 0.365  0.375  0.403  0.435  0.463\n",
      "\t 0.365  0.375  0.403  0.435  0.463\n",
      "\t 0.000  0.000  0.000  0.000  0.000\n",
      "5\n",
      "\t 0.360  0.364  0.394  0.429  0.450\n",
      "\t 0.360  0.364  0.394  0.429  0.450\n",
      "\t 0.000  0.000  0.000  0.000  0.000\n",
      "6\n",
      "\t 0.353  0.364  0.384  0.416  0.457\n",
      "\t 0.353  0.364  0.384  0.416  0.457\n",
      "\t 0.000  0.000  0.000  0.000  0.000\n",
      "7\n",
      "\t 0.356  0.367  0.389  0.419  0.458\n",
      "\t 0.356  0.367  0.389  0.419  0.458\n",
      "\t 0.000  0.000  0.000  0.000  0.000\n",
      "8\n",
      "\t 0.354  0.361  0.385  0.426  0.470\n",
      "\t 0.354  0.361  0.385  0.426  0.470\n",
      "\t 0.000  0.000  0.000  0.000  0.000\n",
      "9\n",
      "\t 0.355  0.362  0.382  0.416  0.453\n",
      "\t 0.355  0.362  0.382  0.416  0.453\n",
      "\t 0.000  0.000  0.000  0.000  0.000\n",
      "10\n",
      "\t 0.353  0.360  0.398  0.426  0.468\n",
      "\t 0.353  0.360  0.398  0.426  0.468\n",
      "\t 0.000  0.000  0.000  0.000  0.000\n",
      "11\n",
      "\t 0.365  0.369  0.404  0.438  0.472\n",
      "\t 0.365  0.369  0.404  0.438  0.472\n",
      "\t 0.000  0.000  0.000  0.000  0.000\n",
      "12\n",
      "\t 0.358  0.362  0.392  0.432  0.458\n",
      "\t 0.358  0.362  0.392  0.432  0.458\n",
      "\t 0.000  0.000  0.000  0.000  0.000\n",
      "13\n",
      "\t 0.355  0.365  0.399  0.419  0.467\n",
      "\t 0.355  0.365  0.399  0.419  0.467\n",
      "\t 0.000  0.000  0.000  0.000  0.000\n",
      "14\n",
      "\t 0.365  0.374  0.388  0.432  0.475\n",
      "\t 0.365  0.374  0.388  0.432  0.475\n",
      "\t 0.000  0.000  0.000  0.000  0.000\n",
      "15\n",
      "\t 0.355  0.362  0.393  0.420  0.472\n",
      "\t 0.355  0.362  0.393  0.420  0.472\n",
      "\t 0.000  0.000  0.000  0.000  0.000\n",
      "16\n",
      "\t 0.365  0.364  0.388  0.423  0.457\n",
      "\t 0.365  0.364  0.388  0.423  0.457\n",
      "\t 0.000  0.000  0.000  0.000  0.000\n",
      "17\n",
      "\t 0.353  0.359  0.391  0.415  0.458\n",
      "\t 0.353  0.359  0.391  0.415  0.458\n",
      "\t 0.000  0.000  0.000  0.000  0.000\n",
      "18\n",
      "\t 0.354  0.362  0.381  0.421  0.438\n",
      "\t 0.354  0.362  0.381  0.421  0.438\n",
      "\t 0.000  0.000  0.000  0.000  0.000\n",
      "19\n",
      "\t 0.355  0.360  0.383  0.407  0.458\n",
      "\t 0.355  0.360  0.383  0.407  0.458\n",
      "\t 0.000  0.000  0.000  0.000  0.000\n",
      "20\n",
      "\t 0.363\n",
      "\t 0.363\n",
      "\t 0.000\n"
     ]
    }
   ],
   "source": [
    "noprior_vals = print_binary_losses(\"BPNet\")"
   ]
  },
  {
   "cell_type": "code",
   "execution_count": 13,
   "metadata": {
    "scrolled": true
   },
   "outputs": [
    {
     "name": "stdout",
     "output_type": "stream",
     "text": [
      "Best validation loss overall:\n",
      "\tBest run: 2\n",
      "\tBest epoch in run: 10\n",
      "\tAssociated value: 0.34942482992222434\n",
      "Best epoch in each run:\n",
      "\tRun 1, epoch 20:  0.355\n",
      "\tRun 2, epoch 10:  0.349\n",
      "\tRun 3, epoch 1:  0.400\n",
      "All validation profile and prior losses:\n",
      "1\n",
      "\t 0.606  0.462  0.571  0.469  0.432  0.423  0.423  0.463  0.446  0.427  0.424  0.476  0.428  0.419  0.434  0.416  0.414  0.437  0.427  0.396\n",
      "\t 0.526  0.409  0.493  0.413  0.386  0.373  0.370  0.389  0.382  0.369  0.368  0.394  0.372  0.364  0.369  0.363  0.359  0.370  0.373  0.355\n",
      "\t 0.080  0.053  0.079  0.057  0.046  0.050  0.053  0.074  0.064  0.058  0.056  0.083  0.056  0.056  0.065  0.053  0.054  0.067  0.055  0.040\n",
      "2\n",
      "\t 0.511  0.468  0.489  0.540  0.472  0.420  0.435  0.405  0.399  0.393  0.388  0.411  0.386  0.393  0.396  0.404\n",
      "\t 0.430  0.404  0.428  0.445  0.406  0.375  0.378  0.362  0.352  0.349  0.350  0.368  0.351  0.359  0.363  0.362\n",
      "\t 0.081  0.064  0.061  0.095  0.066  0.045  0.056  0.043  0.047  0.044  0.038  0.043  0.035  0.034  0.034  0.042\n",
      "3\n",
      "\t 0.452\n",
      "\t 0.400\n",
      "\t 0.053\n"
     ]
    }
   ],
   "source": [
    "prior_vals = print_binary_losses(\"BPNet_prior\")"
   ]
  },
  {
   "cell_type": "code",
   "execution_count": 14,
   "metadata": {
    "scrolled": true
   },
   "outputs": [
    {
     "name": "stdout",
     "output_type": "stream",
     "text": [
      "-1.6554346899670815\n",
      "0.056352635574368405\n"
     ]
    },
    {
     "data": {
      "image/png": "[encoded data removed]",
      "text/plain": [
       "<Figure size 432x288 with 1 Axes>"
      ]
     },
     "metadata": {
      "needs_background": "light"
     },
     "output_type": "display_data"
    }
   ],
   "source": [
    "bin_num = 20\n",
    "plt.figure()\n",
    "plt.hist(\n",
    "    [np.array(list(noprior_vals.values())), np.array(list(prior_vals.values()))],\n",
    "    bin_num, histtype=\"bar\",\n",
    "    label=[\"No prior\", \"With prior\"], color=[\"red\", \"blue\"])\n",
    "title = \"Histogram of validation loss without/with priors\"\n",
    "title += \"\\nE2F6, %d/%d models without/with priors\" % (len(noprior_vals), len(prior_vals))\n",
    "title += \"\\nTraining on top 1% of peaks\"\n",
    "plt.title(title)\n",
    "plt.xlabel(\"Validation loss\")\n",
    "plt.legend()\n",
    "\n",
    "np_vals, p_vals = np.array(list(noprior_vals.values())), np.array(list(prior_vals.values()))\n",
    "t, p = scipy.stats.ttest_ind(np_vals, p_vals)\n",
    "print(t)\n",
    "print(p / 2)"
   ]
  }
 ],
 "metadata": {
  "kernelspec": {
   "display_name": "Python 3",
   "language": "python",
   "name": "python3"
  },
  "language_info": {
   "codemirror_mode": {
    "name": "ipython",
    "version": 3
   },
   "file_extension": ".py",
   "mimetype": "text/x-python",
   "name": "python",
   "nbconvert_exporter": "python",
   "pygments_lexer": "ipython3",
   "version": "3.7.4"
  }
 },
 "nbformat": 4,
 "nbformat_minor": 2
}

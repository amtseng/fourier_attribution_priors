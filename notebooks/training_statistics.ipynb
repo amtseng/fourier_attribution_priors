{
 "cells": [
  {
   "cell_type": "code",
   "execution_count": 1,
   "metadata": {},
   "outputs": [],
   "source": [
    "import json\n",
    "import os"
   ]
  },
  {
   "cell_type": "code",
   "execution_count": 2,
   "metadata": {},
   "outputs": [],
   "source": [
    "def import_metrics_json(models_path, run_num):\n",
    "    \"\"\"\n",
    "    Looks in {models_path}/{run_num}/metrics.json and returns the contents as a\n",
    "    Python dictionary. Returns None if the path does not exist.\n",
    "    \"\"\"\n",
    "    path = os.path.join(models_path, str(run_num), \"metrics.json\")\n",
    "    if not os.path.exists(path):\n",
    "        return None\n",
    "    with open(path, \"r\") as f:\n",
    "        return json.load(f)"
   ]
  },
  {
   "cell_type": "code",
   "execution_count": 14,
   "metadata": {},
   "outputs": [],
   "source": [
    "def get_best_validation_auprc(models_path):\n",
    "    \"\"\"\n",
    "    Given the path to a set of runs, determines the run and epoch with the\n",
    "    best validation auPRC for the first task.\n",
    "    \"\"\"\n",
    "    # Get the metrics, ignoring empty or nonexistent metrics.json files\n",
    "    metrics = {run_num : import_metrics_json(models_path, run_num) for run_num in os.listdir(models_path)}\n",
    "    metrics = {key : val for key, val in metrics.items() if val}\n",
    "    \n",
    "    # Get the best loss\n",
    "    best_auprc, best_run, best_epoch = 0, None, None\n",
    "    for run_num in metrics.keys():\n",
    "        val_auprcs = metrics[run_num][\"val_corr_auprc\"][\"values\"]\n",
    "        for epoch_num, auprc_list in enumerate(val_auprcs):\n",
    "            auprc = auprc_list[0]  # First one, arbitrarily\n",
    "            if auprc > best_auprc:\n",
    "                best_auprc, best_run, best_epoch = auprc, run_num, epoch_num + 1\n",
    "    print(\"Best auPRC: %f\" % best_auprc)\n",
    "    print(\"Epoch %d in run %s\" % (best_epoch, best_run))"
   ]
  },
  {
   "cell_type": "code",
   "execution_count": 15,
   "metadata": {},
   "outputs": [
    {
     "name": "stdout",
     "output_type": "stream",
     "text": [
      "Best auPRC: 0.504651\n",
      "Epoch 3 in run 23\n"
     ]
    }
   ],
   "source": [
    "models_path = \"/users/amtseng/att_priors/models/trained_models/SPI1_DREAM/\"\n",
    "get_best_validation_auprc(models_path)"
   ]
  }
 ],
 "metadata": {
  "kernelspec": {
   "display_name": "Python 3",
   "language": "python",
   "name": "python3"
  },
  "language_info": {
   "codemirror_mode": {
    "name": "ipython",
    "version": 3
   },
   "file_extension": ".py",
   "mimetype": "text/x-python",
   "name": "python",
   "nbconvert_exporter": "python",
   "pygments_lexer": "ipython3",
   "version": "3.7.4"
  }
 },
 "nbformat": 4,
 "nbformat_minor": 2
}

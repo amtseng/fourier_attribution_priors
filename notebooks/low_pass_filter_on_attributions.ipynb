{
 "cells": [
  {
   "cell_type": "code",
   "execution_count": null,
   "metadata": {},
   "outputs": [],
   "source": [
    "import sys\n",
    "import os\n",
    "sys.path.append(os.path.abspath(\"../src/\"))\n",
    "import extract.data_loading as data_loading\n",
    "import extract.compute_predictions as compute_predictions\n",
    "import model.util as model_util\n",
    "import model.binary_models as binary_models\n",
    "import plot.viz_sequence as viz_sequence\n",
    "import torch\n",
    "import numpy as np\n",
    "import matplotlib.pyplot as plt\n",
    "import matplotlib.font_manager as font_manager\n",
    "import matplotlib.animation as animation\n",
    "from IPython.display import HTML"
   ]
  },
  {
   "cell_type": "code",
   "execution_count": null,
   "metadata": {},
   "outputs": [],
   "source": [
    "# Plotting defaults\n",
    "font_manager.fontManager.ttflist.extend(\n",
    "    font_manager.createFontList(\n",
    "        font_manager.findSystemFonts(fontpaths=\"/users/amtseng/modules/fonts\")\n",
    "    )\n",
    ")\n",
    "plot_params = {\n",
    "    \"figure.titlesize\": 22,\n",
    "    \"axes.titlesize\": 22,\n",
    "    \"axes.labelsize\": 20,\n",
    "    \"axes.labelweight\": \"bold\",\n",
    "    \"legend.fontsize\": 18,\n",
    "    \"xtick.labelsize\": 16,\n",
    "    \"ytick.labelsize\": 16,\n",
    "    \"font.family\": \"Roboto\",\n",
    "    \"font.weight\": \"bold\"\n",
    "}\n",
    "plt.rcParams.update(plot_params)\n",
    "plt.rcParams[\"animation.ffmpeg_path\"] = \"/users/amtseng/lib/ffmpeg/ffmpeg-git-20200504-amd64-static/ffmpeg\""
   ]
  },
  {
   "cell_type": "markdown",
   "metadata": {},
   "source": [
    "### Define paths for the model and data of interest"
   ]
  },
  {
   "cell_type": "code",
   "execution_count": null,
   "metadata": {},
   "outputs": [],
   "source": [
    "# Shared paths/constants\n",
    "reference_fasta = \"/users/amtseng/genomes/hg38.fasta\"\n",
    "chrom_sizes = \"/users/amtseng/genomes/hg38.canon.chrom.sizes\"\n",
    "data_base_path = \"/users/amtseng/att_priors/data/processed/\"\n",
    "model_base_path = \"/users/amtseng/att_priors/models/trained_models/binary/\"\n",
    "chrom_set = [\"chr1\"]\n",
    "input_length = 1000\n",
    "fourier_att_prior_freq_limit = 150"
   ]
  },
  {
   "cell_type": "code",
   "execution_count": null,
   "metadata": {},
   "outputs": [],
   "source": [
    "# SPI1\n",
    "condition_name = \"SPI1\"\n",
    "files_spec_path = os.path.join(data_base_path, \"ENCODE_TFChIP/binary/config/SPI1/SPI1_training_paths.json\")\n",
    "num_tasks = 4\n",
    "task_index = None\n",
    "model_class = binary_models.BinaryPredictor\n",
    "noprior_model_path = os.path.join(model_base_path, \"SPI1/4/model_ckpt_epoch_2.pt\")\n",
    "prior_model_path = os.path.join(model_base_path, \"SPI1_prior/16/model_ckpt_epoch_6.pt\")"
   ]
  },
  {
   "cell_type": "markdown",
   "metadata": {},
   "source": [
    "### Import models"
   ]
  },
  {
   "cell_type": "code",
   "execution_count": null,
   "metadata": {},
   "outputs": [],
   "source": [
    "torch.set_grad_enabled(True)\n",
    "device = torch.device(\"cuda\") if torch.cuda.is_available() else torch.device(\"cpu\")\n",
    "def restore_model(model_path):\n",
    "    model = model_util.restore_model(model_class, model_path)\n",
    "    model.eval()\n",
    "    model = model.to(device)\n",
    "    return model"
   ]
  },
  {
   "cell_type": "code",
   "execution_count": null,
   "metadata": {},
   "outputs": [],
   "source": [
    "# Import the model without priors\n",
    "noprior_model = restore_model(noprior_model_path)"
   ]
  },
  {
   "cell_type": "code",
   "execution_count": null,
   "metadata": {},
   "outputs": [],
   "source": [
    "# Import the model with priors\n",
    "prior_model = restore_model(prior_model_path)"
   ]
  },
  {
   "cell_type": "markdown",
   "metadata": {},
   "source": [
    "### Data preparation\n",
    "Create an input data loader, that maps coordinates to data needed for the model"
   ]
  },
  {
   "cell_type": "code",
   "execution_count": null,
   "metadata": {},
   "outputs": [],
   "source": [
    "input_func = data_loading.get_binary_input_func(\n",
    "    files_spec_path, input_length, reference_fasta\n",
    ")\n",
    "pos_bins = data_loading.get_positive_binary_bins(\n",
    "    files_spec_path, task_ind=task_index, chrom_set=chrom_set\n",
    ")"
   ]
  },
  {
   "cell_type": "code",
   "execution_count": null,
   "metadata": {},
   "outputs": [],
   "source": [
    "def get_grad_signal(model, bin_index):\n",
    "    results = compute_predictions.get_binary_model_predictions(                                              \n",
    "        model, np.array([bin_index]), input_func,                      \n",
    "        return_losses=False, return_gradients=True, show_progress=False                                         \n",
    "    )\n",
    "    coords = results[\"coords\"]\n",
    "    input_seqs = results[\"input_seqs\"]\n",
    "    input_grads = results[\"input_grads\"]\n",
    "    return np.sum(input_grads[0] * input_seqs[0], axis=1)"
   ]
  },
  {
   "cell_type": "markdown",
   "metadata": {},
   "source": [
    "### Plotting functions"
   ]
  },
  {
   "cell_type": "code",
   "execution_count": null,
   "metadata": {},
   "outputs": [],
   "source": [
    "def dft(signal):\n",
    "    fourier_coeffs = np.fft.fft(signal)\n",
    "    fourier_freqs = 2 * np.pi * np.fft.fftfreq(signal.size)\n",
    "    fourier_freqs = fourier_freqs[:int(len(fourier_freqs) / 2)]  # Only the positive frequencies\n",
    "    mags = np.abs(fourier_coeffs)[:int(len(fourier_coeffs) / 2)]  # Frequency magnitudes are symmetric\n",
    "    return fourier_freqs, mags"
   ]
  },
  {
   "cell_type": "code",
   "execution_count": null,
   "metadata": {},
   "outputs": [],
   "source": [
    "def apply_lpf(signal, frequency_limit=fourier_att_prior_freq_limit):\n",
    "    coeffs = np.fft.rfft(signal)\n",
    "    cutoff = frequency_limit // 2\n",
    "    coeffs[cutoff:] = 0\n",
    "    return np.fft.irfft(coeffs)    "
   ]
  },
  {
   "cell_type": "code",
   "execution_count": null,
   "metadata": {},
   "outputs": [],
   "source": [
    "def plot_fft(signal, include_dc=False, pos_limit=None, title=None, color=\"red\"):\n",
    "    abs_signal = np.abs(signal)\n",
    "    \n",
    "    freqs, mags = dft(abs_signal)\n",
    "    if not include_dc:\n",
    "        freqs, mags = freqs[1:], mags[1:]\n",
    "        \n",
    "    plt.figure(figsize=(20, 2))\n",
    "    plt.plot(freqs, mags, color=color)\n",
    "    plt.xlabel(\"Frequency (radians)\")\n",
    "    plt.ylabel(\"|Frequency component|\")\n",
    "    if pos_limit is not None:\n",
    "        pos_limit_radians = pos_limit * 2 * np.pi / len(signal)\n",
    "        plt.axvline(x=pos_limit_radians, color=\"black\")\n",
    "    if title:\n",
    "        plt.title(title)\n",
    "    plt.show()"
   ]
  },
  {
   "cell_type": "code",
   "execution_count": null,
   "metadata": {},
   "outputs": [],
   "source": [
    "def plot_signal(signal, title=None, color=None):\n",
    "    plt.figure(figsize=(20, 2))\n",
    "    plt.plot(signal, color=color)\n",
    "    if title:\n",
    "        plt.title(title)\n",
    "    plt.show()"
   ]
  },
  {
   "cell_type": "markdown",
   "metadata": {},
   "source": [
    "### View tracks"
   ]
  },
  {
   "cell_type": "code",
   "execution_count": null,
   "metadata": {},
   "outputs": [],
   "source": [
    "bin_index = 5734\n",
    "noprior_imp = get_grad_signal(noprior_model, bin_index)\n",
    "prior_imp = get_grad_signal(prior_model, bin_index)\n",
    "plot_signal(noprior_imp, color=\"coral\")\n",
    "plot_signal(prior_imp, color=\"royalblue\")"
   ]
  },
  {
   "cell_type": "code",
   "execution_count": null,
   "metadata": {},
   "outputs": [],
   "source": [
    "plot_signal(noprior_imp, color=\"coral\")\n",
    "plot_fft(noprior_imp, color=\"darkmagenta\")\n",
    "cutoff_imp = apply_lpf(noprior_imp, 150)\n",
    "plot_signal(cutoff_imp, color=\"coral\")\n",
    "plot_fft(cutoff_imp, color=\"darkmagenta\")"
   ]
  },
  {
   "cell_type": "code",
   "execution_count": null,
   "metadata": {},
   "outputs": [],
   "source": [
    "plot_signal(prior_imp, color=\"royalblue\")\n",
    "plot_fft(prior_imp, color=\"darkmagenta\")"
   ]
  },
  {
   "cell_type": "code",
   "execution_count": null,
   "metadata": {},
   "outputs": [],
   "source": [
    "def make_fft_cutoff_animation(signal, max_frequency_limit):\n",
    "    fig, ax = plt.subplots(2, 1, figsize=(20, 8))\n",
    "    \n",
    "    # Set limits of axes based on original signal\n",
    "    ax[0].set_xlim((0, len(signal)))\n",
    "    max_val = np.max(np.abs(signal)) * 1.05\n",
    "    ax[0].set_ylim(-max_val, max_val)\n",
    "    max_mag = np.max(dft(signal)[1][1:])\n",
    "    ax[1].set_xlim((0, np.pi))\n",
    "    ax[1].set_ylim((0, max_mag * 1.05))\n",
    "    \n",
    "    signal_line, = ax[0].plot([], [], color=\"coral\")\n",
    "    fft_line, = ax[1].plot([], [], color=\"darkmagenta\")\n",
    "    \n",
    "    ax[0].set_ylabel(\"Attribution/importance\")\n",
    "    ax[1].set_xlabel(\"Frequency (radians)\")\n",
    "    ax[1].set_ylabel(\"Fourier magnitude\")\n",
    "\n",
    "    def init():\n",
    "        signal_line.set_data(np.arange(len(signal)), signal)\n",
    "        \n",
    "        freqs, mags = dft(signal)\n",
    "        freqs, mags = freqs[1:], mags[1:]\n",
    "        fft_line.set_data(freqs, mags)\n",
    "        return signal_line, fft_line\n",
    "\n",
    "    def animate(frame_index):\n",
    "        cutoff_signal = apply_lpf(signal, frame_index)\n",
    "        signal_line.set_data(np.arange(len(cutoff_signal)), cutoff_signal)\n",
    "        \n",
    "        freqs, mags = dft(cutoff_signal)\n",
    "        freqs, mags = freqs[1:], mags[1:]\n",
    "        fft_line.set_data(freqs, mags)\n",
    "        \n",
    "        cutoff_radians = frame_index * 2 * np.pi / len(signal)\n",
    "        return signal_line, fft_line\n",
    "\n",
    "    frame_range = np.concatenate([\n",
    "        np.ones(10, dtype=int) * len(signal),\n",
    "        np.arange(len(signal), max_frequency_limit, -5),\n",
    "        np.ones(10, dtype=int) * max_frequency_limit\n",
    "    ])\n",
    "    return animation.FuncAnimation(\n",
    "        fig, animate, init_func=init, frames=frame_range, interval=50, blit=True\n",
    "    )"
   ]
  },
  {
   "cell_type": "code",
   "execution_count": null,
   "metadata": {},
   "outputs": [],
   "source": [
    "anim = make_fft_cutoff_animation(noprior_imp, 150)\n",
    "HTML(anim.to_html5_video())"
   ]
  },
  {
   "cell_type": "code",
   "execution_count": null,
   "metadata": {},
   "outputs": [],
   "source": [
    "anim.save(\"animation.gif\", writer=\"pillow\")"
   ]
  },
  {
   "cell_type": "code",
   "execution_count": null,
   "metadata": {},
   "outputs": [],
   "source": [
    "fig, ax = plt.subplots(figsize=(20, 4))\n",
    "ax.plot(prior_imp, color=\"royalblue\")\n",
    "ax.set_xlim((0, len(prior_imp)))"
   ]
  }
 ],
 "metadata": {
  "kernelspec": {
   "display_name": "Python 3",
   "language": "python",
   "name": "python3"
  },
  "language_info": {
   "codemirror_mode": {
    "name": "ipython",
    "version": 3
   },
   "file_extension": ".py",
   "mimetype": "text/x-python",
   "name": "python",
   "nbconvert_exporter": "python",
   "pygments_lexer": "ipython3",
   "version": "3.7.4"
  }
 },
 "nbformat": 4,
 "nbformat_minor": 2
}
